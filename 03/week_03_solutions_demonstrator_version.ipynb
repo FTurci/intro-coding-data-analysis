{
 "cells": [
  {
   "cell_type": "markdown",
   "id": "3dfca52b",
   "metadata": {},
   "source": [
    "# Loops - Solutions"
   ]
  },
  {
   "cell_type": "markdown",
   "id": "1c925617",
   "metadata": {},
   "source": [
    "This notebook contains the solutions to the week 3 `Beginner`, `Intermediate` and `Advanced` exercises."
   ]
  },
  {
   "cell_type": "markdown",
   "id": "13de49ce",
   "metadata": {},
   "source": [
    "### Table of Contents\n",
    "\n",
    " - [Welcome Page](./week_03_home.ipynb)\n",
    "\n",
    " - [Beginner: For and While Loops](./week_03_loops_beginner.ipynb)\n",
    " - [Intermediate: Advanced Iteration](./week_03_loops_intermediate.ipynb)\n",
    " - [Advanced: Comprehensions](./week_03_loops_advanced.ipynb)\n",
    "\n",
    " - [**Solutions**](./week_03_solutions_demonstrator_version.ipynb)\n",
    "     - [Beginner: For and While Loops](#Beginner:-For-and-While-Loops)\n",
    "     - [Intermediate: Advanced Iteration](#Intermediate:-Advanced-Iteration)\n",
    "     - [Advanced: Comprehensions](#Advanced:-Comprehensions)\n",
    " - [Slides](./week_03_slides.ipynb) ([Powerpoint](./Lecture3_Loops.pptx))"
   ]
  },
  {
   "cell_type": "markdown",
   "id": "1e18ba60",
   "metadata": {},
   "source": [
    "## Beginner: For and While Loops"
   ]
  },
  {
   "cell_type": "markdown",
   "id": "7f00dcaf",
   "metadata": {},
   "source": [
    "**Question 1:** The below code box contains an answer to this question."
   ]
  },
  {
   "cell_type": "code",
   "execution_count": null,
   "id": "786e3455",
   "metadata": {},
   "outputs": [],
   "source": [
    "first_string = 'This seems have broken two strings. thats'\n",
    "second_string = 'sentence to been into seperate Well, annoying.'\n",
    "\n",
    "words_first_string = first_string.split()\n",
    "words_second_string = second_string.split()\n",
    "new_string = ''\n",
    "\n",
    "i = 0\n",
    "while i < len(words_first_string):\n",
    "    \n",
    "    new_string = new_string + words_first_string[i] + ' ' + words_second_string[i] + ' '\n",
    "    i = i + 1\n",
    "    \n",
    "print(new_string)"
   ]
  },
  {
   "cell_type": "markdown",
   "id": "2419116e",
   "metadata": {},
   "source": [
    " > **Demonstrator Notes:** The aim of this question is to give students some practice thinking about `while` loops, and in particular, when they should terminate. If students are struggling, emphasize the fact that, if we were doing this task by hand, we would look at the words one by one, and that we only stop writing when there are no more words left. Try to get the students to translate this natural language into code."
   ]
  },
  {
   "cell_type": "markdown",
   "id": "8ee76dbc",
   "metadata": {},
   "source": [
    "**Question 2:** A solution is given below."
   ]
  },
  {
   "cell_type": "code",
   "execution_count": null,
   "id": "688ed0b1",
   "metadata": {},
   "outputs": [],
   "source": [
    "for i in range(100, 0, -1):\n",
    "    print(i)"
   ]
  },
  {
   "cell_type": "markdown",
   "id": "c53dd28a",
   "metadata": {},
   "source": [
    " > **Demonstrator Notes:** The aim of this question is to encourage students to form a habit of looking up documentation for themselves. Please do not give them the answer straight away, but instead encourage them to look up online resources."
   ]
  },
  {
   "cell_type": "markdown",
   "id": "6eca3eeb",
   "metadata": {},
   "source": [
    "**Question 3:** The below code computes the factorial with a `while` loop."
   ]
  },
  {
   "cell_type": "code",
   "execution_count": null,
   "id": "61422058",
   "metadata": {},
   "outputs": [],
   "source": [
    "n = 6\n",
    "\n",
    "factorial = 1\n",
    "i = n\n",
    "\n",
    "while i > 0:\n",
    "    factorial = factorial * i\n",
    "    i = i - 1\n",
    "\n",
    "print(factorial)"
   ]
  },
  {
   "cell_type": "markdown",
   "id": "5b331184",
   "metadata": {},
   "source": [
    " > **Demonstrator Notes:** Like Question 1, this question aims to get students thinking about `while` loops and when they should terminate. If the students are struggling, have them perform the computation by hand on paper. They will likely compute $6 \\times 5$ first, then multiply that by $4$ and so on, stopping only when they hit $1$. Try to relate the steps they perform to the process of coding the `while` loop."
   ]
  },
  {
   "cell_type": "markdown",
   "id": "45befd69",
   "metadata": {},
   "source": [
    "**Question 4:** An answer to this question is given below:"
   ]
  },
  {
   "cell_type": "code",
   "execution_count": null,
   "id": "9e39851d",
   "metadata": {},
   "outputs": [],
   "source": [
    "example_list = [1,-2.8,-2.1,-0.03,0.04,-1.9,1.0,20.8,1, -3,3.2]\n",
    "\n",
    "# First part\n",
    "output_list = []\n",
    "for i in example_list:\n",
    "    if i>2 or i <-2.5:\n",
    "        print(i**2)\n",
    "        \n",
    "# Second part\n",
    "output_list = []\n",
    "for i in example_list:\n",
    "    if i>2 or i <-2.5:\n",
    "        output_list.append(i**2)"
   ]
  },
  {
   "cell_type": "markdown",
   "id": "d51f0b55",
   "metadata": {},
   "source": [
    " > **Demonstrator Notes:** This question aims to give students practice combining conditional logic with loops. For many students, this may also be the first time they are encountering the idea of appending value to a list inside each iteration of a `for` loop. A common error in this question is `AttributeError: 'NoneType' object has no attribute 'append'`. If you see this error, the chances are the student has written `output_list = output_list.append(i**2)` when they should just have `output_list.append(i**2)`. The `append` function does not return anything, it just adds the element to the list, so writing `output_list = ...` just sets `output_list` to `None`."
   ]
  },
  {
   "cell_type": "markdown",
   "id": "e2db078a",
   "metadata": {},
   "source": [
    "**Question 5:** The code will print `\"Python\"` four times, one for each power of two."
   ]
  },
  {
   "cell_type": "markdown",
   "id": "eb67f8fb",
   "metadata": {},
   "source": [
    " > **Demonstrator Notes:** Encourage students to write this one out on paper if they are stuck. Again, this question is mainly for practice so try to avoid giving them the answer directly where possible."
   ]
  },
  {
   "cell_type": "markdown",
   "id": "c20f5a79",
   "metadata": {},
   "source": [
    "**Question 6:** The problem here is that the `position = position + 1` is incorrectly indented and thus the `position` only changes when we encounter vowels. Once we encounter a consonant, we get stuck at that position indefinitely, never updating. The solution is as follows:"
   ]
  },
  {
   "cell_type": "code",
   "execution_count": null,
   "id": "c04e1b15",
   "metadata": {},
   "outputs": [],
   "source": [
    "# Word to count vowels in\n",
    "word = \"education\"\n",
    "\n",
    "# String of vowels\n",
    "vowels = \"aeiou\"\n",
    "\n",
    "# Variable to count the number of vowels we've seen so far\n",
    "vowel_count = 0\n",
    "\n",
    "# Variable to keep track of where we are looking in the code.\n",
    "position = 0\n",
    "\n",
    "# While the position is still within the word\n",
    "while position < len(word):\n",
    "    \n",
    "    # Get the letter at the position\n",
    "    letter = word[position]\n",
    "    \n",
    "    # Check if letter is a vowel\n",
    "    if letter.lower() in vowels:\n",
    "        vowel_count = vowel_count + 1\n",
    "\n",
    "    # Move the position one along                   #  <--------------------------- Unindented lines\n",
    "    position = position + 1                         #  <--------------------------- Unindented lines\n",
    "\n",
    "# print result\n",
    "print(\"Vowel count:\", vowel_count)"
   ]
  },
  {
   "cell_type": "markdown",
   "id": "e4d02db3",
   "metadata": {},
   "source": [
    " > **Demonstrator Notes:** The aim of this question is to give students practice debugging code. Encourage them to use the `print` function to help them understand what is happening on each iteration of the `while` loop."
   ]
  },
  {
   "cell_type": "markdown",
   "id": "da870e4d",
   "metadata": {},
   "source": [
    "**Question 7:** An example answer is given below."
   ]
  },
  {
   "cell_type": "code",
   "execution_count": null,
   "id": "3418f32a",
   "metadata": {},
   "outputs": [],
   "source": [
    "# Dictionary of exam scores\n",
    "exam_results = {\n",
    "    'Liam Turner': 54,\n",
    "    'Sophie Grant': 91,\n",
    "    'Ethan Walsh': 62,\n",
    "    'Isabella Patel': 77,\n",
    "    'Noah Murphy': 38,\n",
    "    'Mia Douglas': 85,\n",
    "    'Lucas Reed': 43,\n",
    "    'Ava Brooks': 99,\n",
    "    'Mason Clarke': 71,\n",
    "    'Olivia Hayes': 58\n",
    "}\n",
    "\n",
    "# Initialize variables to track highest and lowest scores\n",
    "highest_score = -1  # Start with a very low value\n",
    "lowest_score = 101  # Start with a value higher than any possible score\n",
    "\n",
    "# Loop through the dictionary\n",
    "for student in exam_results.keys():\n",
    "    score = exam_results[student]\n",
    "    \n",
    "    # Check if this is the highest score so far\n",
    "    if score > highest_score:\n",
    "        highest_score = score\n",
    "        highest_student = student\n",
    "    \n",
    "    # Check if this is the lowest score so far\n",
    "    if score < lowest_score:\n",
    "        lowest_score = score\n",
    "        lowest_student = student\n",
    "\n",
    "# Calculate and print the difference\n",
    "difference = highest_score - lowest_score\n",
    "print(\"Difference between highest and lowest scores: \" + str(difference))\n",
    "print(\"Highest score: \" + str(highest_student) + \" with \" + str(highest_score))\n",
    "print(\"Lowest score: \" + str(lowest_student) + \" with \" + str(lowest_score))"
   ]
  },
  {
   "cell_type": "markdown",
   "id": "23561d08",
   "metadata": {},
   "source": [
    " > **Demonstrator Notes:** The correct output for this question is:\n",
    " >  ```\n",
    " > Difference between highest and lowest scores: 61\n",
    " > Highest score: Ava Brooks with 99\n",
    " > Lowest score: Noah Murphy with 38\n",
    " >  ```\n",
    " > This is the first time students have been asked to compute a maximum/minimum using loops. If students are struggling with this, simplify the problem and ask them to work out only the maximum of a single `list` using a `for` loop, working through the solution with them on paper first if you need to."
   ]
  },
  {
   "cell_type": "markdown",
   "id": "4ccc31a8",
   "metadata": {},
   "source": [
    "**Question 8:** A solution to this question is given below:"
   ]
  },
  {
   "cell_type": "code",
   "execution_count": null,
   "id": "6d13e96d",
   "metadata": {},
   "outputs": [],
   "source": [
    "# Set the value of n\n",
    "n = 5\n",
    "\n",
    "# Loop through each row (from 0 to n)\n",
    "for row in range(n + 1):\n",
    "    \n",
    "    # First number in the row is always 1\n",
    "    value = 1       \n",
    "    \n",
    "    # Start with an empty string for this row\n",
    "    line = \"\"       \n",
    "\n",
    "    # Loop through each entry in the row\n",
    "    for col in range(row + 1):\n",
    "        \n",
    "        if col != row:\n",
    "            # Add the current number directly (no spaces this time)\n",
    "            line = line + str(value) + \" \"\n",
    "        else:\n",
    "            line = line + str(value) + \" \"\n",
    "\n",
    "        # Update 'value' for the next column using binomial relation\n",
    "        value = value * (row - col) // (col + 1)\n",
    "\n",
    "    # Print the row\n",
    "    print(line)"
   ]
  },
  {
   "cell_type": "markdown",
   "id": "f769045e",
   "metadata": {},
   "source": [
    " > **Demonstrator Notes:** This question is tough, so reassure students if they are struggling with it. Also, be aware that many students may not have studied Pascal's triangl and be unaware of it's construction. Make sure the student understands the context of the question (i.e. what Pascal's triangle actually is), before offering to help them solve it."
   ]
  },
  {
   "cell_type": "markdown",
   "id": "31582702",
   "metadata": {},
   "source": [
    "**Question 9:** One possible solution is provided below:"
   ]
  },
  {
   "cell_type": "code",
   "execution_count": null,
   "id": "ea8fc9a1",
   "metadata": {},
   "outputs": [],
   "source": [
    "# Compute all palindromic numbers between 0 and 1000 \n",
    "palindromes = []\n",
    "for n in range(1001):\n",
    "    string_n = str(n)\n",
    "    if string_n == string_n[::-1]:\n",
    "        palindromes.append(n)\n",
    "\n",
    "# Output the list\n",
    "print(palindromes)"
   ]
  },
  {
   "cell_type": "markdown",
   "id": "47d46b6b",
   "metadata": {},
   "source": [
    " > **Demonstrator Notes:** A common stumbling point is that students don't realize they must convert the integer to a string to reverse its digits. To help them see this, suggest working through a simple example like `n=102` (ignoring the loop for now): guide them step-by-step on converting to a string, reversing it, and checking if it's a palindrome."
   ]
  },
  {
   "cell_type": "markdown",
   "id": "33ca27b7",
   "metadata": {},
   "source": [
    "**Question 10:** Here is an example solution."
   ]
  },
  {
   "cell_type": "code",
   "execution_count": null,
   "id": "1470b291",
   "metadata": {},
   "outputs": [],
   "source": [
    "# Initialize the candidate number to start checking from 1\n",
    "candidate = 1\n",
    "\n",
    "# Initialize a flag to track if we've found the number (start as False)\n",
    "found = False\n",
    "\n",
    "# Continue looping while we haven't found the number yet\n",
    "while not found:\n",
    "    \n",
    "    # Assume it is divisible until proven otherwise\n",
    "    is_divisible = True\n",
    "    \n",
    "    # Check divisibility by each number from 1 to 8\n",
    "    for i in range(1, 9):\n",
    "        # If not divisible by i, mark as not divisible\n",
    "        if candidate % i != 0:\n",
    "            is_divisible = False\n",
    "    \n",
    "    # If it is divisible by all, we've found it\n",
    "    if is_divisible:\n",
    "        \n",
    "        # Set the flag to stop the loop\n",
    "        found = True\n",
    "        \n",
    "        # Output the result\n",
    "        print(candidate)\n",
    "        \n",
    "    else:\n",
    "        # Otherwise, try the next candidate\n",
    "        candidate += 1"
   ]
  },
  {
   "cell_type": "markdown",
   "id": "46526861",
   "metadata": {},
   "source": [
    " > **Demonstrator Notes:** The expected solution is $840$. If a student is struggling, provide them with a candidate number (e.g. `candidate=480`) and have them write some code to check whether this `candidate` is divisibly by $1,...,8$. Then ask them how they might expand on this code by looping over all possible candidates."
   ]
  },
  {
   "cell_type": "markdown",
   "id": "25cdd519",
   "metadata": {},
   "source": [
    "## Intermediate: Advanced Iteration"
   ]
  },
  {
   "cell_type": "markdown",
   "id": "1c8e6094",
   "metadata": {},
   "source": [
    "**Question 1:** Here is the solution:"
   ]
  },
  {
   "cell_type": "code",
   "execution_count": null,
   "id": "ea83122e",
   "metadata": {},
   "outputs": [],
   "source": [
    "names = [\"Alice\", \"Bob\", \"Charlie\"]\n",
    "scores = [85, 92, 78]\n",
    "\n",
    "for name, score in zip(names, scores):\n",
    "    print(name + \" scored \" + str(score))"
   ]
  },
  {
   "cell_type": "markdown",
   "id": "6081a62b",
   "metadata": {},
   "source": [
    " > **Demonstrator Notes:** This question is fairly straightforward and just involves using the `zip` function. If students need help on this question, advise them to read over the section on `enumerate` and `zip`. If they are still struggling, advise them to drop a level and attempt the beginner notebook."
   ]
  },
  {
   "cell_type": "markdown",
   "id": "bfda26b5",
   "metadata": {},
   "source": [
    "**Question 2:** Below is a solution for this question."
   ]
  },
  {
   "cell_type": "code",
   "execution_count": null,
   "id": "7c865ab5",
   "metadata": {},
   "outputs": [],
   "source": [
    "my_list = [\"tent\", \"moon\", \"star\", \"guitar\", \"lamp\", \"tree\", \"ocean\", \"kite\", \"hat\", \n",
    "           \"rain\", \"butter\", \"frog\", \"nest\", \"tiger\", \"apple\", \"water\", \"sun\", \"toast\", \n",
    "           \"cloud\", \"ant\"]\n",
    "\n",
    "indices = []\n",
    "for i, word in enumerate(my_list):\n",
    "    if \"t\" in word:\n",
    "        indices.append(i)\n",
    "\n",
    "print(indices)  "
   ]
  },
  {
   "cell_type": "markdown",
   "id": "4620e582",
   "metadata": {},
   "source": [
    " > **Demonstrator Notes:** Many students may still be fairly new to the idea of an `index`, so it is worth checking they understand the question correctly before helping with the code on this question. It is also expected that many will forget that Python is zero-indexed, but will not voice their confusion. Make sure they understand which index corresponds to which element in the list. The expected output for this question is:\n",
    " >\n",
    " > `[0, 2, 3, 5, 7, 8, 10, 12, 13, 15, 17, 19]`"
   ]
  },
  {
   "cell_type": "markdown",
   "id": "c25c76b4",
   "metadata": {},
   "source": [
    "**Question 3:** The answer to this question is to change the `break` to a `continue`. This is as the `break` ends the loop prematurely, whilst `continue` just skips to the next iteration. The current code gets to `num=1` and then executes the `break` statement, thus terminating the loop early."
   ]
  },
  {
   "cell_type": "code",
   "execution_count": null,
   "id": "d5608f96",
   "metadata": {},
   "outputs": [],
   "source": [
    "numbers = [1, 2, 3, 4, 5, 6]\n",
    "\n",
    "for num in numbers:\n",
    "    if num % 2 == 0:\n",
    "        continue # <----- Fix implemented here.\n",
    "    print(num)"
   ]
  },
  {
   "cell_type": "markdown",
   "id": "8bef2fd3",
   "metadata": {},
   "source": [
    " > **Demonstrator Notes:** Encourage students who are struggling to consider what the `break` statement is doing in this code. If necessary, advise them to revisit the `break`, `continue` and `pass` section. The hope is that this will prompt them to consider the differences between these keywords."
   ]
  },
  {
   "cell_type": "markdown",
   "id": "20fa37e0",
   "metadata": {},
   "source": [
    "**Question 4:** Solution code is provided below:"
   ]
  },
  {
   "cell_type": "code",
   "execution_count": null,
   "id": "7b62bf18",
   "metadata": {},
   "outputs": [],
   "source": [
    "original_dict = {\n",
    "    'a': 1,\n",
    "    'b': 2,\n",
    "    'c': 1,\n",
    "    'd': 3,\n",
    "    'e': 2\n",
    "}\n",
    "\n",
    "inverted_dict = {}\n",
    "\n",
    "# Loop through the original dictionary\n",
    "for key, value in original_dict.items():   # sequence unpacking here\n",
    "    \n",
    "    # Check if we've seen this value before\n",
    "    if value not in inverted_dict:\n",
    "        \n",
    "        # If we haven't add it as a new key\n",
    "        inverted_dict[value] = []\n",
    "        \n",
    "    # Save the old key under value\n",
    "    inverted_dict[value].append(key)\n",
    "\n",
    "# Print result\n",
    "print(inverted_dict)"
   ]
  },
  {
   "cell_type": "markdown",
   "id": "fcc9cb9e",
   "metadata": {},
   "source": [
    " > **Demonstrator Notes:** This question is drawing on several concepts and is technically challenging. It is expected that some students will have forgotten how to `append` to a list. If a student is struggling with this, prompt them to attempt question 4 from the beginner notebook as a warmup for this question. This should hopefully encourage them to think about building collections one item at a time using `append`."
   ]
  },
  {
   "cell_type": "markdown",
   "id": "c5895aad",
   "metadata": {},
   "source": [
    "**Question 5:** The error in this code is the indentation of the `else` block. Here `else` should be at the same level as the `if` to make an `if... else`. However, it is at the level of the `for` creating a `for...else`. This means that it will always be executed for the last `day` so long as a `break` is not encountered in the loop. To rectify this, we just indent like so:"
   ]
  },
  {
   "cell_type": "code",
   "execution_count": null,
   "id": "d97b7e21",
   "metadata": {},
   "outputs": [],
   "source": [
    "days = [\"Monday\", \"Saturday\", \"Tuesday\"]\n",
    "\n",
    "for day in days:\n",
    "    if day in [\"Saturday\", \"Sunday\"]:\n",
    "        print(day, \"is at the weekend\")\n",
    "    else:                                            # <----- Line has been indented\n",
    "        print(day, \"is a weekday\")                   # <----- Line has been indented"
   ]
  },
  {
   "cell_type": "markdown",
   "id": "e97ad189",
   "metadata": {},
   "source": [
    " > **Demonstrator Notes:** Encourage students who are struggling with this to revisit the `for` and `else` section."
   ]
  },
  {
   "cell_type": "markdown",
   "id": "209f9360",
   "metadata": {},
   "source": [
    "## Advanced: Comprehensions"
   ]
  },
  {
   "cell_type": "markdown",
   "id": "8c52a811",
   "metadata": {},
   "source": [
    "**Question 1:** The solution is below:"
   ]
  },
  {
   "cell_type": "code",
   "execution_count": null,
   "id": "54e74ab2",
   "metadata": {},
   "outputs": [],
   "source": [
    "my_comprehension = [x**2 for x in range(1, 21) if x % 2 ==0]\n",
    "print(my_comprehension)"
   ]
  },
  {
   "cell_type": "markdown",
   "id": "2b238b32",
   "metadata": {},
   "source": [
    " > **Demonstrator Notes:** This question is reasonably straightforward and designed to give students practice with the syntax of comprehensions. If, even with help, a student is really struggling with this, suggest that they drop a difficulty level and look at the intermediate material."
   ]
  },
  {
   "cell_type": "markdown",
   "id": "5f56431a",
   "metadata": {},
   "source": [
    "**Question 2:** The answer to this question is as follows:"
   ]
  },
  {
   "cell_type": "code",
   "execution_count": null,
   "id": "0ddb7835",
   "metadata": {},
   "outputs": [],
   "source": [
    "my_integer = 347892472349234\n",
    "\n",
    "# List comprehension for digit sum\n",
    "sum_of_digits = sum([int(digit) for digit in str(my_integer)])\n",
    "print(sum_of_digits)"
   ]
  },
  {
   "cell_type": "markdown",
   "id": "e018bd04",
   "metadata": {},
   "source": [
    " > **Demonstrator Notes:** The \"trick\" to this question is to convert the integer to a string and loop over the characters of the string. A student who doesn't spot this immediately is unlikely to realise this is how to solve the problem later. So, for this question, it is fine to give them a guided solution rather than trying to give prompts."
   ]
  },
  {
   "cell_type": "markdown",
   "id": "bddaada5",
   "metadata": {},
   "source": [
    "**Question 3:** Below is list comprehension for this question."
   ]
  },
  {
   "cell_type": "code",
   "execution_count": null,
   "id": "9d948656",
   "metadata": {},
   "outputs": [],
   "source": [
    "# Compute all \"pluriperfect\" numbers between 0 and 999 using a list comprehension.\n",
    "\n",
    "pluriperfect_numbers = [\n",
    "    n\n",
    "    for n in range(0, 1000)  # Iterate through all 3-digit numbers\n",
    "    # Check if the number equals the sum of the cubes of its digits\n",
    "    if n == sum([int(str(n)[k])**3 for k in range(len(str(n)))])\n",
    "]\n",
    "\n",
    "print(pluriperfect_numbers)  "
   ]
  },
  {
   "cell_type": "markdown",
   "id": "dff5e5da",
   "metadata": {},
   "source": [
    "> **Demonstrator Notes:** This question is challenging and it is expected that many students will struggle with the inner list comprehension. If a student is struggling, focus on a single value of `n` and talk them through how you might check that `n` is pluriperfect."
   ]
  },
  {
   "cell_type": "markdown",
   "id": "7fb13b19",
   "metadata": {},
   "source": [
    "**Question 4:** The solution is given below:"
   ]
  },
  {
   "cell_type": "code",
   "execution_count": null,
   "id": "b920bf02",
   "metadata": {},
   "outputs": [],
   "source": [
    "my_string = \"This is a lengthy string. It has many sentences. \" + \\\n",
    "            \"MaNY LetteRs aRe UpPer caSe. It might \" + \\\n",
    "            \"have these characters as well ?!,:-'... and numbers like \" + \\\n",
    "            \"123456789\"\n",
    "\n",
    "# Compute unique vowels using a set comprehension\n",
    "unique_vowels = {char for char in my_string.lower() if char in \"aeiou\"}\n",
    "print(unique_vowels)"
   ]
  },
  {
   "cell_type": "markdown",
   "id": "c752c89c",
   "metadata": {},
   "source": [
    " > **Demonstrator Notes:** The main objective of this question is for students to recognise that the set comprehension is the most appropriate choice when you need to list *unique* values. If they are using some other form of comprehension, please prompt them to reconsider this decision."
   ]
  },
  {
   "cell_type": "markdown",
   "id": "f2b8ea70",
   "metadata": {},
   "source": [
    "**Question 5:** The correct answer to this question is to use a generator comprehension, so that the values inside the comprehension are computed lazily (only when needed). If we use a list comprehension for this task, we will end up trying to compute `10000000000` values instantly and crash the memory."
   ]
  },
  {
   "cell_type": "markdown",
   "id": "b1587c59",
   "metadata": {},
   "source": [
    " > **Demonstrator Notes:** The actual code for this answer would be very slow, as it is performing a very large computation. This is why the students have been told not to implement any code. However, the equivalent computation, when performed with a list comprehension, would consume too much memory and could crash the notebook entirely, so the generator comprehension is still preferable. If the students ask, tell them that we will cover more efficient tools for this task later in the course when we look at `numpy`."
   ]
  }
 ],
 "metadata": {
  "kernelspec": {
   "display_name": "Python 3 (ipykernel)",
   "language": "python",
   "name": "python3"
  },
  "language_info": {
   "codemirror_mode": {
    "name": "ipython",
    "version": 3
   },
   "file_extension": ".py",
   "mimetype": "text/x-python",
   "name": "python",
   "nbconvert_exporter": "python",
   "pygments_lexer": "ipython3",
   "version": "3.9.13"
  }
 },
 "nbformat": 4,
 "nbformat_minor": 5
}
