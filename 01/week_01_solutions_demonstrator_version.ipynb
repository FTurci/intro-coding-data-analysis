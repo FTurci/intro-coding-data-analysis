{
 "cells": [
  {
   "cell_type": "markdown",
   "id": "35f3504d",
   "metadata": {},
   "source": [
    "# Week 1: Solutions"
   ]
  },
  {
   "cell_type": "markdown",
   "id": "b273a99b",
   "metadata": {},
   "source": [
    "This notebook contains the solutions to the week 1 `Beginner`, `Intermediate` and `Advanced` exercises."
   ]
  },
  {
   "cell_type": "markdown",
   "id": "7a3e8380",
   "metadata": {},
   "source": [
    "### Table of Contents\n",
    "\n",
    " - [Welcome Page](./week_01_home.ipynb)\n",
    " - [Beginner: Basic Data Types](./week_01_intro_to_data_types_beginner.ipynb)\n",
    " - [Intermediate: Collections](./week_01_intro_to_data_types_intermediate.ipynb)\n",
    " - [Advanced: Copying and References](./week_01_intro_to_data_types_advanced.ipynb)\n",
    "\n",
    " - [**Solutions**](./week_01_solutions.ipynb)\n",
    "   - [Beginner: Basic Data Types](#Beginner:-Basic-Data-Types)\n",
    "   - [Intermediate: Collections](#Intermediate:-Collections)\n",
    "   - [Advanced: Copying and References](#Advanced:-Copying-and-References)"
   ]
  },
  {
   "cell_type": "markdown",
   "id": "467bbff4",
   "metadata": {},
   "source": [
    "## Beginner: Basic Data Types"
   ]
  },
  {
   "cell_type": "markdown",
   "id": "a1faf2a6",
   "metadata": {},
   "source": [
    "**Question 1:** The solution to the question is given below:"
   ]
  },
  {
   "cell_type": "code",
   "execution_count": null,
   "id": "85233765",
   "metadata": {},
   "outputs": [],
   "source": [
    "# Variables x, y and z\n",
    "x = 1\n",
    "y = 2\n",
    "z = 1.26\n",
    "\n",
    "my_boolean = ((x**2 < y) and (y < z**3)) or ((z**3 < y) and (y < x**2))"
   ]
  },
  {
   "cell_type": "markdown",
   "id": "bcb943b7",
   "metadata": {},
   "source": [
    "> **Demonstrator Notes:** The purpose of this question is to prompt students to think about the use of the `and` and `or` boolean operators, as well as the syntax for `<`. When advising students on this question, make sure to help them break the inequalities $x^2<y<z^3$ and $z^3<y<x^2$ down using the `and` statement."
   ]
  },
  {
   "cell_type": "markdown",
   "id": "3b8e98f1",
   "metadata": {},
   "source": [
    "**Question 2:** The solution to the question is given below:"
   ]
  },
  {
   "cell_type": "code",
   "execution_count": null,
   "id": "e57417ea",
   "metadata": {},
   "outputs": [],
   "source": [
    "# Boolean variables\n",
    "is_raining = True\n",
    "have_umbrella = False\n",
    "\n",
    "# Boolean telling you if you are going to get rained on\n",
    "got_soaked = is_raining and (not have_umbrella)\n",
    "\n",
    "print('Question: Will I get rained on?')\n",
    "print('Answer: ' + str(got_soaked))"
   ]
  },
  {
   "cell_type": "markdown",
   "id": "70ae6db9",
   "metadata": {},
   "source": [
    "> **Demonstrator Notes:** Last year, many of the students struggled with Boolean logic. This question aims to get them thinking about how to combine logical connectives like `and` and `not`. If students are struggling with this, please try and prompt them to convert the natural language sentence `it's raining and I don't have my umbrella` to logical syntax by breaking it down into smaller sentences. Highlight that `I don't have my umbrella` is the logical opposite (negation) of `I have my umbrella`."
   ]
  },
  {
   "cell_type": "markdown",
   "id": "51d0c404",
   "metadata": {},
   "source": [
    "**Question 3:** The completed truth table for this question is:\n",
    "\n",
    "\n",
    "| `A`     | `B`     | `C`     | `A and B` | `not C` | `(A and B) or (not C)` |\n",
    "|---------|---------|---------|-----------|---------|------------------------|\n",
    "| `True`  | `True`  | `True`  | `True`    | `False` | `True`                 | \n",
    "| `True`  | `True`  | `False` | `True`    | `True`  | `True`                 | \n",
    "| `True`  | `False` | `True`  | `False`   | `False` | `False`                | \n",
    "| `True`  | `False` | `False` | `False`   | `True`  | `True`                 | \n",
    "| `False` | `True`  | `True`  | `False`   | `False` | `False`                | \n",
    "| `False` | `True`  | `False` | `False`   | `True`  | `True`                 | \n",
    "| `False` | `False` | `True`  | `False`   | `False` | `False`                | \n",
    "| `False` | `False` | `False` | `False`   | `True`  | `True`                 | \n",
    "\n",
    "And the code for this question is:"
   ]
  },
  {
   "cell_type": "code",
   "execution_count": null,
   "id": "45a7fccd",
   "metadata": {},
   "outputs": [],
   "source": [
    "# Boolean variables\n",
    "A = True\n",
    "B = False\n",
    "C = True\n",
    "\n",
    "# Compute new boolean\n",
    "my_boolean = (A and B) or (not C)\n",
    "print(my_boolean)"
   ]
  },
  {
   "cell_type": "markdown",
   "id": "224449a7",
   "metadata": {},
   "source": [
    "> **Demonstrator Notes:** This question is again designed to get students thinking about Boolean logic. It is expected that, for many students, this will be their first encounter with truth tables and first-order logical operators. \n",
    ">\n",
    "> If a student is struggling with the abstraction, try to relate `A`, `B` and `C` to the example given in the slides. In the slides, `A` represents the statement `The cat is black` and `B` represents the statement `The cat has four legs`. To extend the example, you could define `C` to be, for instance, `The cat has blue eyes`. Once this is understood, try building the truth table column by column, starting with the `A and B` column, then the `not C` column and then finally the `(A and B) or (not C)` column.\n",
    "> \n",
    "> When giving examples, try to avoid statements with vague/ambiguous truth values. For instance, `The cat is tall` has an ambiguous truth value as there is not a clear distinction between `tall` and `not tall`."
   ]
  },
  {
   "cell_type": "markdown",
   "id": "7a799451",
   "metadata": {},
   "source": [
    "**Question 4:** The solution to this question is given below:"
   ]
  },
  {
   "cell_type": "code",
   "execution_count": null,
   "id": "1d5b78a4",
   "metadata": {},
   "outputs": [],
   "source": [
    "# Height and width variables\n",
    "height = 10\n",
    "width = 3\n",
    "\n",
    "# Perimeter\n",
    "perimeter = 2*(height+width)\n",
    "\n",
    "# Area\n",
    "area = height*width\n",
    "\n",
    "# Diagonal\n",
    "diag = (height**2 + width**2)**(1/2)\n",
    "\n",
    "# Print results\n",
    "print(perimeter, area, diag)"
   ]
  },
  {
   "cell_type": "markdown",
   "id": "069b89de",
   "metadata": {},
   "source": [
    "> **Demonstrator Notes:** At this stage, students will not know any `numpy`, so please make sure to use `x**(1/2)` instead of functions such as `np.sqrt(x)`. These functions will be taught at a later stage. It is expected that many students here will mistakenly write `^` for exponentiation instead of `**`, so please look out for this mistake. Some students may also need reminding that Pythagoras' theorem can be used to compute the length of the diagonal."
   ]
  },
  {
   "cell_type": "markdown",
   "id": "76b6b20c",
   "metadata": {},
   "source": [
    "**Question 5:** The solution to this question is given by:"
   ]
  },
  {
   "cell_type": "code",
   "execution_count": null,
   "id": "6eadc2d1",
   "metadata": {},
   "outputs": [],
   "source": [
    "# Known variables\n",
    "v = 10\n",
    "u = 0\n",
    "a = 9.81\n",
    "\n",
    "# Compute s\n",
    "s = (v**2-u**2)/(2*a)\n",
    "print(s)"
   ]
  },
  {
   "cell_type": "markdown",
   "id": "31c3aefe",
   "metadata": {},
   "source": [
    " > **Demonstrator Notes:** Whilst the SUVAT equations are part of the UK A-level Physics syllabus, please be aware that many students may not know them. For instance, data science or chemistry students may not have taken Physics A-level (or potentially even GCSE) and overseas students may have been taught the subject using different notations. For this reason, be aware students may be non-responsive to this question because they do not understand that, e.g., `a` should be set to `9.81`. Try to assess whether the student is comfortable with the subject material before giving advice on how to solve the problem here."
   ]
  },
  {
   "cell_type": "markdown",
   "id": "bbb4aa09",
   "metadata": {},
   "source": [
    "**Question 6:** The solution to this question is given by:"
   ]
  },
  {
   "cell_type": "code",
   "execution_count": null,
   "id": "8834ae54",
   "metadata": {},
   "outputs": [],
   "source": [
    "# Compute time using variables from Question 5\n",
    "t = 2*s/(u+v)\n",
    "print(t)"
   ]
  },
  {
   "cell_type": "markdown",
   "id": "796adc3c",
   "metadata": {},
   "source": [
    " > **Demonstrator Notes:** See comments on previous question. Also be aware that there are multiple solutions to this question, as any of the equations $v=u+at$, $s=ut+\\frac{1}{2}at^2$ or $s=\\frac{(u+v)t}{2}$ can be used. Students who are unsure what to do should be encouraged to look at the linked document for question 5."
   ]
  },
  {
   "cell_type": "markdown",
   "id": "2712f278",
   "metadata": {},
   "source": [
    "**Question 7:** A code block containing the examples from the question is given below:"
   ]
  },
  {
   "cell_type": "code",
   "execution_count": null,
   "id": "fbf624f0",
   "metadata": {},
   "outputs": [],
   "source": [
    "print((True and False) or True)\n",
    "print(not (False or False))\n",
    "print(True or False and False)\n",
    "print(False ^ True)\n",
    "print((True and not True) and (False or not False))"
   ]
  },
  {
   "cell_type": "markdown",
   "id": "489c26d5",
   "metadata": {},
   "source": [
    "The answers follow by standard boolean logic. The only difficult parts are determining the order of operations for the third example (python will interpret this as `True or (False and False)` rather than `(True or False) and False`) and the xor (`^`) on the fourth line.\n",
    "\n",
    "> **Demonstrator Notes:** Some students may find this question confusing because we are using the Boolean values `True` and `False` directly, rather than naming them as variables (e.g. `A` and `B`). Emphasize that there is no difference between the below code:  \n",
    "> ```\n",
    "> A = True\n",
    "> B = False\n",
    "> print(A and B)\n",
    "> ```  \n",
    "> and this code: \n",
    "> ```\n",
    "> print(True and False)\n",
    "> ```  \n",
    "> The logic is identical - the only change is whether we use named variables or literal values. Point this out clearly so students see that the rules of Boolean logic still apply in exactly the same way.  \n"
   ]
  },
  {
   "cell_type": "markdown",
   "id": "874ceee2",
   "metadata": {},
   "source": [
    "**Question 8:** The error in the code occurs when `float(x + y)` is run. \n",
    "\n",
    "When `x` and `y` are numeric, the `+` symbol is interpreted as addition and the result is cast to a float (e.g. if `x=1` and `y=5` as in the first example then `x+y` yeilds `6`). However, if they are instead strings (as in the second example), then the `+` symbol is interpreted as concatenation rather than addition. Therefore, when `x='2'` and `y='5'`, we get that `2+5` yeilds `25`, not `7`.\n",
    "\n",
    "There are two approaches to resolving the issue. The first is to replace `x='2'` and `y='5'` with  `x=2` and `y=5`. The second, and preferred option, is to replace `float(x + y)` with `float(x)+float(y)` so there is no possibility that the `+` symbol is interpreted as concatenation here."
   ]
  },
  {
   "cell_type": "markdown",
   "id": "020d3c61",
   "metadata": {},
   "source": [
    "> **Demonstrator Notes:** If students are struggling with this question, suggest that they search the document for the `+` symbol and make sure they understand how it is being used. Hint that the symbol might not be interpreted in the way they first expect, but avoid giving away the full answer unless they are really stuck. The aim is to guide them toward discovering the behaviour themselves.  \n"
   ]
  },
  {
   "cell_type": "markdown",
   "id": "f5179033",
   "metadata": {},
   "source": [
    "**Question 9:** The first box is an assignment of the value `2 + 1` to a variable named `three`, so does not print anything. The second box prints `true` as the variable `z = (1 + 2 == 3)` is interpreted as a Boolean variable, and in Jupyter notebooks, if the last line of a box is simply a variable, with no assignment, then that variable is printed out. `z` is evaluated as `True` (as `1 + 2` does equal `3` in Python), so `True` is printed.\n",
    "\n",
    "For the third box, `False` is printed as due to rounding errors `0.1 + 0.2` is evaluated to `0.30000000000000004` rather than `0.3`. This is a cautionary note that floating point math is not perfect."
   ]
  },
  {
   "cell_type": "markdown",
   "id": "9474199e",
   "metadata": {},
   "source": [
    "> **Demonstrator Notes:** First, it aims to get students to think about the difference between the assignment operator `=` and the equality operator `==`. Second, it serves as a cautionary note about floating point arithmetic in Python.\n",
    "> \n",
    "> After seeing the result, many students may ask how to properly check whether `0.1 + 0.2` equals `0.3`. For now, explain that we will cover this in more detail when we look at `numpy`. If they push further, encourage them to think about constructing a Boolean expression (similar to Question 1) that checks whether two numbers differ by only a very small amount. The aim here is to prepare them for the `np.allclose` function later on, while prompting them to reason about the problem themselves rather than being given the solution straight away.  "
   ]
  },
  {
   "cell_type": "markdown",
   "id": "605f604e",
   "metadata": {},
   "source": [
    "**Question 10:** The final solution is given below:"
   ]
  },
  {
   "cell_type": "code",
   "execution_count": null,
   "id": "61a598f6",
   "metadata": {},
   "outputs": [],
   "source": [
    "# The string we want to transform\n",
    "start_string = 'Thas as te arang we want!'\n",
    "print('Start:  ', start_string)\n",
    "\n",
    "# Helper strings you can use for replacements\n",
    "string1 = 'a'\n",
    "string2 = 'st'\n",
    "string3 = 'he a'\n",
    "string4 = ' ge'\n",
    "string5 = 'stri'\n",
    "string6 = 'sts'\n",
    "string7 = 'is'\n",
    "string8 = 'ara'\n",
    "string9 = 'gen'\n",
    "string10 = 'e a'\n",
    "\n",
    "# Step 1\n",
    "step1 = start_string.replace(string1,string2)\n",
    "print('Step 1: ', step1)\n",
    "\n",
    "# Step 2\n",
    "step2 = step1.replace(string6,string7)\n",
    "print('Step 2: ', step2)\n",
    "\n",
    "# Step 3\n",
    "step3 = step2.replace(string2, string1)\n",
    "print('Step 3: ', step3)\n",
    "\n",
    "# Step 4\n",
    "step4 = step3.replace(string10, string3)\n",
    "print('Step 4: ', step4)\n",
    "\n",
    "# Step 5\n",
    "step5 = step4.replace(string8, string5)\n",
    "print('Step 5: ', step5)"
   ]
  },
  {
   "cell_type": "markdown",
   "id": "d8714025",
   "metadata": {},
   "source": [
    "> **Demonstrator Notes:**  This question is designed to give students practice with the string `replace` function. Encourage them to experiment and work through the task step by step, even if their first attempt doesn’t work. The key learning outcome is to get comfortable with testing, adjusting, and trying again - it aims to enforce good programming habits.  "
   ]
  },
  {
   "cell_type": "markdown",
   "id": "c5be08f6",
   "metadata": {},
   "source": [
    "## Intermediate: Collections"
   ]
  },
  {
   "cell_type": "markdown",
   "id": "c38c1744",
   "metadata": {},
   "source": [
    "> **Broad Notes for Demonstrators:** If you see a student attempting the intermediate questions who does not seem at the level of the material, please do encourage them to first try the beginner notebook. "
   ]
  },
  {
   "cell_type": "markdown",
   "id": "fcff5efc",
   "metadata": {},
   "source": [
    "**Question 1:** The code for this question is given below:"
   ]
  },
  {
   "cell_type": "code",
   "execution_count": null,
   "id": "7b286ce6",
   "metadata": {},
   "outputs": [],
   "source": [
    "# Original list\n",
    "nums = [5, 2, 8, 2, 9]\n",
    "print(\"Original list:\", nums)\n",
    "\n",
    "# 1. Retrieve the third element (index 2 because indexing starts at 0)\n",
    "third_element = nums[2]\n",
    "print(\"Third element:\", third_element)\n",
    "\n",
    "# 2. Slice the first three elements\n",
    "first_three = nums[:3]\n",
    "print(\"First three elements:\", first_three)\n",
    "\n",
    "# 3. Replace the last element with 10\n",
    "nums[-1] = 10\n",
    "print(\"After replacing last element with 10:\", nums)\n",
    "\n",
    "# 4. Append 7 to the end of the list\n",
    "nums.append(7)\n",
    "print(\"After appending 7:\", nums)\n",
    "\n",
    "# 5. Remove the first occurrence of 2\n",
    "nums.remove(2)\n",
    "print(\"After removing first occurrence of 2:\", nums)\n"
   ]
  },
  {
   "cell_type": "markdown",
   "id": "c69487a9",
   "metadata": {},
   "source": [
    " > **Demonstrator Notes:** This question aims to give students some initial practice with lists. Common errors to look out for include failing to account for the fact Python uses zero indexing, or that slicing syntax such as `nums[:3]` doesn't include `nums[3]` in the output, only `nums[0]`,`nums[1]` and `nums[2]`."
   ]
  },
  {
   "cell_type": "markdown",
   "id": "8adf4f02",
   "metadata": {},
   "source": [
    "**Question 2:** The key to this question is that a list is *ordered* whilst a set is *unordered*. When the list is converted to a set, it's ordering is lost, and when converted back to a list it is now given in increasing (numerical) order by default.\n",
    "\n",
    "> **Demonstrator Notes:** Hopefully, this should not be a difficult question. Encourage students who are struggling to print out `my_set` and `my_list` and describe what is different between them."
   ]
  },
  {
   "cell_type": "markdown",
   "id": "17947c95",
   "metadata": {},
   "source": [
    "**Question 3:** The answer to this question is the letter `k`. To see this, the below code can be used:"
   ]
  },
  {
   "cell_type": "code",
   "execution_count": null,
   "id": "22a0b2d6",
   "metadata": {},
   "outputs": [],
   "source": [
    "# Here are two strings\n",
    "string1 = \"This is a long random sentence - I wonder which letters it contains and which letters it doesn't.\"\n",
    "string2 = \"This task makes a clear and coherent string with words taken inside a small set\"\n",
    "\n",
    "# Make strings lowercase\n",
    "string1 = string1.lower()\n",
    "string2 = string2.lower()\n",
    "\n",
    "# Convert strings to sets\n",
    "string1 = set(string1)\n",
    "string2 = set(string2)\n",
    "\n",
    "# Compute the set difference\n",
    "print(string2.difference(string1))"
   ]
  },
  {
   "cell_type": "markdown",
   "id": "42ccd9e2",
   "metadata": {},
   "source": [
    "> **Demonstrator Notes:** This question brings together concepts from both the `Beginner` and `Intermediate` notebooks, making it a good checkpoint to assess whether students are ready to move into the `Intermediate` material. \n",
    ">\n",
    "> If students are struggling, suggest that they try the task on paper first. They will probably start by writing out the letters from each sentence and then comparing the two sets of letters. From there, you can show how Python supports the same process by turning a string into a list of characters and then using the `set` constructor to remove duplicates. This should hopefully help them connect the manual approach with the Python solution.  \n",
    ">\n",
    "> Once they have these concepts down, encourage students to think about why the `lower()` function (as suggested in the hint) is useful here. It ensures that comparisons between characters are case-insensitive.  \n"
   ]
  },
  {
   "cell_type": "markdown",
   "id": "ba057730",
   "metadata": {},
   "source": [
    "**Question 4:** The code for this question is provided below."
   ]
  },
  {
   "cell_type": "code",
   "execution_count": null,
   "id": "4244d7e3",
   "metadata": {},
   "outputs": [],
   "source": [
    "# given tuple\n",
    "t = ('a', 'b', 'c', 'd', 'e')\n",
    "\n",
    "# 1. access the first and last elements of t\n",
    "first = t[0]\n",
    "last = t[-1]\n",
    "print(\"First element:\", first)\n",
    "print(\"Last element:\", last)\n",
    "\n",
    "# 2. slice out ('b', 'c', 'd')\n",
    "slice_part = t[1:4]\n",
    "print(\"Slice ('b', 'c', 'd'):\", slice_part)\n",
    "\n",
    "# 3. check whether 'c' is in t\n",
    "is_c_present = 'c' in t\n",
    "print(\"'c' in t?\", is_c_present)\n",
    "\n",
    "# 4. find the index of 'd' in t\n",
    "index_d = t.index('d')\n",
    "print(\"Index of 'd':\", index_d)\n",
    "\n",
    "# 5. count how many times 'a' appears in t\n",
    "count_a = t.count('a')\n",
    "print(\"Count of 'a':\", count_a)"
   ]
  },
  {
   "cell_type": "markdown",
   "id": "6aaa23a7",
   "metadata": {},
   "source": [
    "> **Demonstrator Notes:** See notes on Question 1."
   ]
  },
  {
   "cell_type": "markdown",
   "id": "00047da8",
   "metadata": {},
   "source": [
    "**Question 5:** There are many ways to approach this question. Two examples are given below:"
   ]
  },
  {
   "cell_type": "code",
   "execution_count": null,
   "id": "79d69f57",
   "metadata": {},
   "outputs": [],
   "source": [
    "# ----------------------------------------------------------------\n",
    "# Option 1:\n",
    "# ----------------------------------------------------------------\n",
    "# clinical trial dataset represented as a dictionary of lists\n",
    "clinical_data = {\n",
    "    \"Name\": [\"John\", \"Alice\", \"Maria\", \"David\", \"Sarah\"],\n",
    "    \"Weight (kg)\": [82, 68, 74, 90, 60],\n",
    "    \"Height (cm)\": [178, 165, 170, 185, 160]\n",
    "}\n",
    "\n",
    "print(clinical_data)\n",
    "\n",
    "# ----------------------------------------------------------------\n",
    "# Option 2:\n",
    "# ----------------------------------------------------------------\n",
    "# clinical trial dataset represented as a dictionary of dictionaries\n",
    "clinical_data = {\n",
    "    \"John\": {\"Weight (kg)\": 82, \"Height (cm)\": 178},\n",
    "    \"Alice\": {\"Weight (kg)\": 68, \"Height (cm)\": 165},\n",
    "    \"Maria\": {\"Weight (kg)\": 74, \"Height (cm)\": 170},\n",
    "    \"David\": {\"Weight (kg)\": 90, \"Height (cm)\": 185},\n",
    "    \"Sarah\": {\"Weight (kg)\": 60, \"Height (cm)\": 160}\n",
    "}"
   ]
  },
  {
   "cell_type": "markdown",
   "id": "49110832",
   "metadata": {},
   "source": [
    "> **Demonstrator Notes:** The aim of this question is to help students recognise that there are multiple valid ways to represent the same dataset in Python. The important part is thinking about how the data will be used. For example, if we need to look up information by subject name, a dictionary of dictionaries might be best; if we want to work with all weights at once (e.g. to build a histogram), a dictionary of lists is more convenient. Emphasise that the choice of data structure depends on the task - there isn’t one 'right' answer."
   ]
  },
  {
   "cell_type": "markdown",
   "id": "8befd949",
   "metadata": {},
   "source": [
    "## Advanced: Copying and References"
   ]
  },
  {
   "cell_type": "markdown",
   "id": "cbfd098b",
   "metadata": {},
   "source": [
    "> **Broad Notes for Demonstrators:** If you see a student attempting the intermediate or advanced questions who does not seem at the level of the material, please do encourage them to first try the earlier notebooks. "
   ]
  },
  {
   "cell_type": "markdown",
   "id": "666013ca",
   "metadata": {},
   "source": [
    "**Question 1:** The expected output is `[1,2,3,4]`. This is because `list_a` and `list_b` reference the same location in memory."
   ]
  },
  {
   "cell_type": "code",
   "execution_count": null,
   "id": "18a67a17",
   "metadata": {},
   "outputs": [],
   "source": [
    "list_a = [1, 2, 3]\n",
    "list_b = list_a\n",
    "list_a.append(4)\n",
    "print(list_b)"
   ]
  },
  {
   "cell_type": "markdown",
   "id": "f635a8dd",
   "metadata": {},
   "source": [
    "> **Demonstrator Notes:** The aim of this question is to get students to recognise that lists are mutable. As a list is mutable, both `list_a` and `list_b` refer to the same underlying object in memory. When we do `list_b = list_a`, we are not creating a copy of the list, but simply creating a new reference to the same list object. Therefore, when we perform `list_a.append(4)`, the change is reflected in both `list_a` and `list_b`. Encourage students to think about how they could gain the desired behaviour using the `.copy()` function (e.g. `list_b = list_a.copy()`)."
   ]
  },
  {
   "cell_type": "markdown",
   "id": "8450949f",
   "metadata": {},
   "source": [
    "**Question 2:** Code A will print `[1,2,3]` whilst Code B will print `[4,5,6]`. This is because, when we replace `a` with `[4,5,6]` we change the reference to point to a new location in memory, breaking the connection between `a` and `b`. However, when we change the elements in `a` individually, both `a` and `b` remain pointing to the same location in memory. Thus, when we print `b`, we get `[4,5,6]`."
   ]
  },
  {
   "cell_type": "code",
   "execution_count": null,
   "id": "e4f14efc",
   "metadata": {},
   "outputs": [],
   "source": [
    "a = [1, 2, 3]\n",
    "b = a\n",
    "a = [4, 5, 6]\n",
    "print(b)\n",
    "\n",
    "a = [1, 2, 3]\n",
    "b = a\n",
    "a[0] = 4\n",
    "a[1] = 5\n",
    "a[2] = 6\n",
    "print(b)"
   ]
  },
  {
   "cell_type": "markdown",
   "id": "1ba00595",
   "metadata": {},
   "source": [
    "> **Demonstrator Notes:** See notes for Question 1."
   ]
  },
  {
   "cell_type": "markdown",
   "id": "3edbb465",
   "metadata": {},
   "source": [
    "**Question 3:** The variable names `xyz` and `xyzsquared` are pointing to the same array. When we squared `xyzsquared` we also squared `xyz`. We could have avoided this by making `xyzsquared` a seperate copy of `xyz` using the `list` constructor like so:"
   ]
  },
  {
   "cell_type": "code",
   "execution_count": null,
   "id": "76dba29f",
   "metadata": {},
   "outputs": [],
   "source": [
    "xyz = [1,2,3]\n",
    "\n",
    "# Make a list of x squared, y squared, z squared\n",
    "xyzsquared = list(xyz) # The change was implemented here!\n",
    "xyzsquared[0] = xyzsquared[0]**2\n",
    "xyzsquared[1] = xyzsquared[1]**2\n",
    "xyzsquared[2] = xyzsquared[2]**2\n",
    "\n",
    "# Get x, y and z from xyz list\n",
    "x = xyz[0]\n",
    "y = xyz[1]\n",
    "z = xyz[2]\n",
    "\n",
    "# Get x squared, y squared and z squared from\n",
    "# xyzsquared list\n",
    "xsquared = xyzsquared[0]\n",
    "ysquared = xyzsquared[1]\n",
    "zsquared = xyzsquared[2]\n",
    "\n",
    "print(x + y + z + xsquared + ysquared + zsquared)"
   ]
  },
  {
   "cell_type": "markdown",
   "id": "00e3fa4a",
   "metadata": {},
   "source": [
    "> **Demonstrator Notes:** This question is designed to give students practice debugging code. Try to guide them to the solution where possible, rather than providing the full solution straight away."
   ]
  },
  {
   "cell_type": "markdown",
   "id": "5e880fe8",
   "metadata": {},
   "source": [
    "**Question 4:** When you do `backup = list(grid)`, Python only makes a new outer list. The smaller lists inside `([1, 2], [3, 4], [5, 6])` are still the exact same objects that grid is using. Because of that, if you change one of the inner lists, the same change shows up `backup`."
   ]
  },
  {
   "cell_type": "markdown",
   "id": "5ca3528a",
   "metadata": {},
   "source": [
    " > **Demonstrator Notes:** The aim of this question is to understand why the unexpected behaviour occured. If students ask how to fix this, that’s a natural question, but at this stage they don’t yet have the tools to do so. For now, keep the focus on helping them understand why the behaviour occurs, instead of talking about fixes at this stage."
   ]
  },
  {
   "cell_type": "markdown",
   "id": "46ec02b4",
   "metadata": {},
   "source": [
    "**Question 5:** The reasoning for this question is similar to that of Question 4, but noting that the three inner lists are all pointing to the same place in memory."
   ]
  },
  {
   "cell_type": "markdown",
   "id": "4d5e7a79",
   "metadata": {},
   "source": [
    " > **Demonstrator Notes:** See the notes for Question 4."
   ]
  }
 ],
 "metadata": {
  "kernelspec": {
   "display_name": "Python 3 (ipykernel)",
   "language": "python",
   "name": "python3"
  },
  "language_info": {
   "codemirror_mode": {
    "name": "ipython",
    "version": 3
   },
   "file_extension": ".py",
   "mimetype": "text/x-python",
   "name": "python",
   "nbconvert_exporter": "python",
   "pygments_lexer": "ipython3",
   "version": "3.9.13"
  }
 },
 "nbformat": 4,
 "nbformat_minor": 5
}
