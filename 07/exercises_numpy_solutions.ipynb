{
 "cells": [
  {
   "cell_type": "markdown",
   "metadata": {},
   "source": [
    "# `numpy` Exercises\n",
    "\n",
    "These exercises test your understanding of the NumPy concepts covered in the introduction notebook."
   ]
  },
  {
   "cell_type": "markdown",
   "metadata": {},
   "source": [
    "## Exercise 1: Import and Basic Array Creation\n",
    "\n",
    "**Task:** Import NumPy with the standard `import` command and create a NumPy array from the list `[2, 4, 6, 8, 10, 12]`. Print the array, its data type, and its shape."
   ]
  },
  {
   "cell_type": "code",
   "execution_count": 1,
   "metadata": {},
   "outputs": [
    {
     "name": "stdout",
     "output_type": "stream",
     "text": [
      "Array: [ 2  4  6  8 10 12]\n",
      "Data type: int64\n",
      "Shape: (6,)\n"
     ]
    }
   ],
   "source": [
    "import numpy as np\n",
    "\n",
    "arr = np.array([2, 4, 6, 8, 10, 12])\n",
    "print(\"Array:\", arr)\n",
    "print(\"Data type:\", arr.dtype)\n",
    "print(\"Shape:\", arr.shape)"
   ]
  },
  {
   "cell_type": "markdown",
   "metadata": {},
   "source": [
    "## Exercise 2: Array Indexing and Slicing\n",
    "\n",
    "**Task:** Using the array you created in Exercise 1:\n",
    "\n",
    "- Print the first element\n",
    "- Print the last element\n",
    "- Print elements from index 2 to 4 (inclusive of 2, exclusive of 5)\n",
    "- Print every second element"
   ]
  },
  {
   "cell_type": "code",
   "execution_count": 2,
   "metadata": {},
   "outputs": [
    {
     "name": "stdout",
     "output_type": "stream",
     "text": [
      "First element: 2\n",
      "Last element: 12\n",
      "Elements from index 2 to 4: [ 6  8 10]\n",
      "Every second element: [ 2  6 10]\n"
     ]
    }
   ],
   "source": [
    "print(\"First element:\", arr[0])\n",
    "print(\"Last element:\", arr[-1])\n",
    "print(\"Elements from index 2 to 4:\", arr[2:5])\n",
    "print(\"Every second element:\", arr[::2])"
   ]
  },
  {
   "cell_type": "markdown",
   "metadata": {},
   "source": [
    "## Exercise 3: Element-wise Operations\n",
    "\n",
    "**Task:** Create a NumPy array `arr = np.array([1, 4, 9, 16, 25])`. Perform the following operations and print the results:\n",
    "\n",
    "- Multiply each element by 3\n",
    "- Add 10 to each element\n",
    "- Calculate the square root of each element\n",
    "- Apply the sine function to each element"
   ]
  },
  {
   "cell_type": "code",
   "execution_count": 3,
   "metadata": {},
   "outputs": [
    {
     "name": "stdout",
     "output_type": "stream",
     "text": [
      "Original array: [ 1  4  9 16 25]\n",
      "Multiply by 3: [ 3 12 27 48 75]\n",
      "Add 10: [11 14 19 26 35]\n",
      "Square root: [1. 2. 3. 4. 5.]\n",
      "Sine function: [ 0.84147098 -0.7568025   0.41211849 -0.28790332 -0.13235175]\n"
     ]
    }
   ],
   "source": [
    "arr = np.array([1, 4, 9, 16, 25])\n",
    "print(\"Original array:\", arr)\n",
    "print(\"Multiply by 3:\", arr * 3)\n",
    "print(\"Add 10:\", arr + 10)\n",
    "print(\"Square root:\", np.sqrt(arr))\n",
    "print(\"Sine function:\", np.sin(arr))"
   ]
  },
  {
   "cell_type": "markdown",
   "metadata": {},
   "source": [
    "## Exercise 4: Array Operations with Two Arrays\n",
    "\n",
    "**Task:** Create two NumPy arrays:\n",
    "\n",
    "- `arr1 = np.array([1, 2, 3, 4, 5])`\n",
    "- `arr2 = np.array([10, 20, 30, 40, 50])`\n",
    "\n",
    "Perform element-wise operations and print the results:\n",
    "\n",
    "- Add the two arrays\n",
    "- Subtract arr1 from arr2\n",
    "- Multiply the two arrays\n",
    "- Divide arr2 by arr1"
   ]
  },
  {
   "cell_type": "code",
   "execution_count": 4,
   "metadata": {},
   "outputs": [
    {
     "name": "stdout",
     "output_type": "stream",
     "text": [
      "arr1: [1 2 3 4 5]\n",
      "arr2: [10 20 30 40 50]\n",
      "Addition: [11 22 33 44 55]\n",
      "Subtraction (arr2 - arr1): [ 9 18 27 36 45]\n",
      "Multiplication: [ 10  40  90 160 250]\n",
      "Division (arr2 / arr1): [10. 10. 10. 10. 10.]\n"
     ]
    }
   ],
   "source": [
    "arr1 = np.array([1, 2, 3, 4, 5])\n",
    "arr2 = np.array([10, 20, 30, 40, 50])\n",
    "\n",
    "print(\"arr1:\", arr1)\n",
    "print(\"arr2:\", arr2)\n",
    "print(\"Addition:\", arr1 + arr2)\n",
    "print(\"Subtraction (arr2 - arr1):\", arr2 - arr1)\n",
    "print(\"Multiplication:\", arr1 * arr2)\n",
    "print(\"Division (arr2 / arr1):\", arr2 / arr1)"
   ]
  },
  {
   "cell_type": "markdown",
   "metadata": {},
   "source": [
    "## Exercise 5: Shape Mismatch Error\n",
    "\n",
    "**Task:** Create two arrays with different lengths:\n",
    "\n",
    "- `arr_a = np.array([1, 2, 3, 4])`\n",
    "- `arr_b = np.array([10, 20])`\n",
    "\n",
    "Try to add these arrays together. What happens? Write the code and explain the error in a comment."
   ]
  },
  {
   "cell_type": "code",
   "execution_count": 5,
   "metadata": {},
   "outputs": [
    {
     "name": "stdout",
     "output_type": "stream",
     "text": [
      "arr_a: [1 2 3 4]\n",
      "arr_b: [10 20]\n",
      "Error occurred: operands could not be broadcast together with shapes (4,) (2,) \n"
     ]
    }
   ],
   "source": [
    "arr_a = np.array([1, 2, 3, 4])\n",
    "arr_b = np.array([10, 20])\n",
    "\n",
    "print(\"arr_a:\", arr_a)\n",
    "print(\"arr_b:\", arr_b)\n",
    "\n",
    "try:\n",
    "    result = arr_a + arr_b\n",
    "    print(\"Result:\", result)\n",
    "except ValueError as e:\n",
    "    print(\"Error occurred:\", e)\n",
    "    \n",
    "# This happens because the arrays have different shapes: (4,) and (2,)\n",
    "# NumPy cannot broadcast these shapes together for element-wise operations\n",
    "# The arrays must have compatible shapes for element-wise operations"
   ]
  },
  {
   "cell_type": "markdown",
   "metadata": {},
   "source": [
    "## Exercise 6: Reductive Operations\n",
    "\n",
    "**Task:** Create a NumPy array `data = np.array([12, 8, 15, 3, 7, 20, 11, 9])`. Calculate and print:\n",
    "\n",
    "- The sum of all elements\n",
    "- The mean (average) of all elements\n",
    "- The maximum value\n",
    "- The minimum value\n",
    "- The standard deviation"
   ]
  },
  {
   "cell_type": "code",
   "execution_count": 6,
   "metadata": {},
   "outputs": [
    {
     "name": "stdout",
     "output_type": "stream",
     "text": [
      "Data: [12  8 15  3  7 20 11  9]\n",
      "Sum: 85\n",
      "Mean: 10.625\n",
      "Maximum: 20\n",
      "Minimum: 3\n",
      "Standard deviation: 4.871793817476269\n"
     ]
    }
   ],
   "source": [
    "data = np.array([12, 8, 15, 3, 7, 20, 11, 9])\n",
    "\n",
    "print(\"Data:\", data)\n",
    "print(\"Sum:\", np.sum(data))\n",
    "print(\"Mean:\", np.mean(data))\n",
    "print(\"Maximum:\", np.max(data))\n",
    "print(\"Minimum:\", np.min(data))\n",
    "print(\"Standard deviation:\", np.std(data))"
   ]
  },
  {
   "cell_type": "markdown",
   "metadata": {},
   "source": [
    "## Exercise 7: Array Manipulation\n",
    "\n",
    "**Task:** Create a NumPy array `numbers = np.array([5, 2, 8, 1, 9, 3])`. Perform the following operations:\n",
    "\n",
    "- Sort the array and print the result\n",
    "- Calculate the cumulative sum and print the result\n",
    "- Create a new array with duplicates: `with_duplicates = np.array([5, 2, 8, 1, 9, 3, 5, 2, 1])` and find the unique elements"
   ]
  },
  {
   "cell_type": "code",
   "execution_count": 7,
   "metadata": {},
   "outputs": [
    {
     "name": "stdout",
     "output_type": "stream",
     "text": [
      "Original numbers: [5 2 8 1 9 3]\n",
      "Sorted array: [1 2 3 5 8 9]\n",
      "Cumulative sum: [ 5  7 15 16 25 28]\n",
      "Array with duplicates: [5 2 8 1 9 3 5 2 1]\n",
      "Unique elements: [1 2 3 5 8 9]\n"
     ]
    }
   ],
   "source": [
    "numbers = np.array([5, 2, 8, 1, 9, 3])\n",
    "print(\"Original numbers:\", numbers)\n",
    "print(\"Sorted array:\", np.sort(numbers))\n",
    "print(\"Cumulative sum:\", np.cumsum(numbers))\n",
    "\n",
    "with_duplicates = np.array([5, 2, 8, 1, 9, 3, 5, 2, 1])\n",
    "print(\"Array with duplicates:\", with_duplicates)\n",
    "print(\"Unique elements:\", np.unique(with_duplicates))"
   ]
  },
  {
   "cell_type": "markdown",
   "metadata": {},
   "source": [
    "## Exercise 8: List vs NumPy Comparison\n",
    "\n",
    "**Task:** Compare the flexibility of lists vs NumPy arrays:\n",
    "\n",
    "1. Create a Python list containing mixed data types: `mixed_list = [1, 'hello', 3.14, True]`\n",
    "2. Try to create a NumPy array from this list. What happens to the data types?\n",
    "3. Create a list of numbers: `num_list = [1, 2, 3, 4, 5]`\n",
    "4. Try to multiply the entire list by 2 using `num_list * 2`. What happens?\n",
    "5. Create a NumPy array from the same numbers and multiply by 2. Compare the results."
   ]
  },
  {
   "cell_type": "code",
   "execution_count": 8,
   "metadata": {},
   "outputs": [
    {
     "name": "stdout",
     "output_type": "stream",
     "text": [
      "Mixed list: [1, 'hello', 3.14, True]\n",
      "NumPy array from mixed list: ['1' 'hello' '3.14' 'True']\n",
      "Array dtype: <U32\n",
      "# NumPy converted everything to strings (the most general type)\n",
      "\n",
      "Numeric list: [1, 2, 3, 4, 5]\n",
      "List * 2: [1, 2, 3, 4, 5, 1, 2, 3, 4, 5]\n",
      "# List multiplication repeats the entire list\n",
      "NumPy array: [1 2 3 4 5]\n",
      "Array * 2: [ 2  4  6  8 10]\n",
      "# NumPy multiplication is element-wise\n"
     ]
    }
   ],
   "source": [
    "# Mixed data types\n",
    "mixed_list = [1, 'hello', 3.14, True]\n",
    "print(\"Mixed list:\", mixed_list)\n",
    "\n",
    "mixed_array = np.array(mixed_list)\n",
    "print(\"NumPy array from mixed list:\", mixed_array)\n",
    "print(\"Array dtype:\", mixed_array.dtype)\n",
    "print(\"# NumPy converted everything to strings (the most general type)\")\n",
    "\n",
    "# List multiplication vs NumPy\n",
    "num_list = [1, 2, 3, 4, 5]\n",
    "print(\"\\nNumeric list:\", num_list)\n",
    "print(\"List * 2:\", num_list * 2)\n",
    "print(\"# List multiplication repeats the entire list\")\n",
    "\n",
    "num_array = np.array([1, 2, 3, 4, 5])\n",
    "print(\"NumPy array:\", num_array)\n",
    "print(\"Array * 2:\", num_array * 2)\n",
    "print(\"# NumPy multiplication is element-wise\")"
   ]
  },
  {
   "cell_type": "markdown",
   "metadata": {},
   "source": [
    "## Exercise 9: Performance Comparison\n",
    "\n",
    "**Task:** Compare the performance of list comprehension vs NumPy operations:\n",
    "\n",
    "1. Import the `time` module\n",
    "2. Create a range of 50,000 numbers using numpy `np.arange()`\n",
    "3. Time how long it takes to square each number using a **list comprehension**, i.e. the syntax `[x**2 for x in myarray]`\n",
    "4. Time how long it takes to square each number using NumPy operations\n",
    "5. Calculate and print how many times faster the NumPy operation is"
   ]
  },
  {
   "cell_type": "code",
   "execution_count": 9,
   "metadata": {},
   "outputs": [
    {
     "name": "stdout",
     "output_type": "stream",
     "text": [
      "List comprehension time: 0.002385 seconds\n",
      "NumPy operation time: 0.000106 seconds\n",
      "NumPy is 22.5 times faster\n"
     ]
    }
   ],
   "source": [
    "import time\n",
    "\n",
    "num_range = 50000\n",
    "test_array = np.arange(num_range)\n",
    "\n",
    "# List comprehension timing\n",
    "time1 = time.time()\n",
    "list_squared = [x**2 for x in test_array]\n",
    "time2 = time.time()\n",
    "list_time = time2 - time1\n",
    "\n",
    "# NumPy operation timing\n",
    "time1 = time.time()\n",
    "arr_squared = test_array**2\n",
    "time2 = time.time()\n",
    "arr_time = time2 - time1\n",
    "\n",
    "print(f\"List comprehension time: {list_time:.6f} seconds\")\n",
    "print(f\"NumPy operation time: {arr_time:.6f} seconds\")\n",
    "\n",
    "if arr_time > 0:\n",
    "    print(f\"NumPy is {list_time/arr_time:.1f} times faster\")\n",
    "else:\n",
    "    print(\"NumPy operation was too fast to measure accurately\")"
   ]
  },
  {
   "cell_type": "markdown",
   "metadata": {},
   "source": [
    "## Exercise 10: Complex Operations\n",
    "\n",
    "**Task:** Create a NumPy array representing angles in degrees: `angles_deg = np.array([0, 30, 45, 60, 90, 120, 180])`\n",
    "\n",
    "1. Convert these angles to radians (hint: multiply by π/180, use `np.pi`)\n",
    "2. Calculate the sine and cosine of each angle\n",
    "3. Verify that sin²(x) + cos²(x) = 1 for each angle (use `np.sin()` and `np.cos()`)\n",
    "4. Print all results"
   ]
  },
  {
   "cell_type": "code",
   "execution_count": 10,
   "metadata": {},
   "outputs": [
    {
     "name": "stdout",
     "output_type": "stream",
     "text": [
      "Angles in degrees: [  0  30  45  60  90 120 180]\n",
      "Angles in radians: [0.         0.52359878 0.78539816 1.04719755 1.57079633 2.0943951\n",
      " 3.14159265]\n",
      "Sine values: [0.00000000e+00 5.00000000e-01 7.07106781e-01 8.66025404e-01\n",
      " 1.00000000e+00 8.66025404e-01 1.22464680e-16]\n",
      "Cosine values: [ 1.00000000e+00  8.66025404e-01  7.07106781e-01  5.00000000e-01\n",
      "  6.12323400e-17 -5.00000000e-01 -1.00000000e+00]\n",
      "sin²(x) + cos²(x): [1. 1. 1. 1. 1. 1. 1.]\n",
      "All close to 1? True\n"
     ]
    }
   ],
   "source": [
    "angles_deg = np.array([0, 30, 45, 60, 90, 120, 180])\n",
    "print(\"Angles in degrees:\", angles_deg)\n",
    "\n",
    "# Convert to radians\n",
    "angles_rad = angles_deg * np.pi / 180\n",
    "print(\"Angles in radians:\", angles_rad)\n",
    "\n",
    "# Calculate sine and cosine\n",
    "sin_values = np.sin(angles_rad)\n",
    "cos_values = np.cos(angles_rad)\n",
    "print(\"Sine values:\", sin_values)\n",
    "print(\"Cosine values:\", cos_values)\n",
    "\n",
    "# Verify sin²(x) + cos²(x) = 1\n",
    "verification = sin_values**2 + cos_values**2\n",
    "print(\"sin²(x) + cos²(x):\", verification)\n",
    "print(\"All close to 1?\", np.allclose(verification, 1))"
   ]
  },
  {
   "cell_type": "code",
   "execution_count": 11,
   "metadata": {},
   "outputs": [
    {
     "name": "stdout",
     "output_type": "stream",
     "text": [
      "0°: sin²(0) + cos²(0) = 1.0000000000\n",
      "30°: sin²(30) + cos²(30) = 1.0000000000\n",
      "45°: sin²(45) + cos²(45) = 1.0000000000\n",
      "60°: sin²(60) + cos²(60) = 1.0000000000\n",
      "90°: sin²(90) + cos²(90) = 1.0000000000\n",
      "120°: sin²(120) + cos²(120) = 1.0000000000\n",
      "180°: sin²(180) + cos²(180) = 1.0000000000\n"
     ]
    }
   ],
   "source": [
    "# Additional verification - showing the identity holds for each angle\n",
    "for i, angle in enumerate(angles_deg):\n",
    "    identity_value = sin_values[i]**2 + cos_values[i]**2\n",
    "    print(f\"{angle}°: sin²({angle}) + cos²({angle}) = {identity_value:.10f}\")"
   ]
  },
  {
   "cell_type": "markdown",
   "metadata": {},
   "source": [
    "## Challenge Exercise: Temperature Conversion\n",
    "\n",
    "**Task:** You have temperature readings in Celsius: `celsius_temps = np.array([0, 10, 20, 25, 30, 35, 40])`\n",
    "\n",
    "1. Convert all temperatures to Fahrenheit using the formula: F = (C × 9/5) + 32\n",
    "2. Convert all temperatures to Kelvin using the formula: K = C + 273.15\n",
    "3. Calculate the temperature range (max - min) for each scale"
   ]
  },
  {
   "cell_type": "code",
   "execution_count": null,
   "metadata": {},
   "outputs": [
    {
     "name": "stdout",
     "output_type": "stream",
     "text": [
      "Celsius temperatures: [ 0 10 20 25 30 35 40]\n",
      "Fahrenheit temperatures: [ 32.  50.  68.  77.  86.  95. 104.]\n",
      "Kelvin temperatures: [273.15 283.15 293.15 298.15 303.15 308.15 313.15]\n",
      "\n",
      "Temperature ranges:\n",
      "Celsius: 40°C\n",
      "Fahrenheit: 72.0°F\n",
      "Kelvin: 40.0K\n"
     ]
    }
   ],
   "source": [
    "celsius_temps = np.array([0, 10, 20, 25, 30, 35, 40])\n",
    "print(\"Celsius temperatures:\", celsius_temps)\n",
    "\n",
    "# Convert to Fahrenheit\n",
    "fahrenheit_temps = (celsius_temps * 9/5) + 32\n",
    "print(\"Fahrenheit temperatures:\", fahrenheit_temps)\n",
    "\n",
    "# Convert to Kelvin\n",
    "kelvin_temps = celsius_temps + 273.15\n",
    "print(\"Kelvin temperatures:\", kelvin_temps)\n",
    "\n",
    "# Calculate temperature ranges\n",
    "celsius_range = np.max(celsius_temps) - np.min(celsius_temps)\n",
    "fahrenheit_range = np.max(fahrenheit_temps) - np.min(fahrenheit_temps)\n",
    "kelvin_range = np.max(kelvin_temps) - np.min(kelvin_temps)\n",
    "\n",
    "print(f\"\\nTemperature ranges:\")\n",
    "print(f\"Celsius: {celsius_range}°C\")\n",
    "print(f\"Fahrenheit: {fahrenheit_range}°F\") \n",
    "print(f\"Kelvin: {kelvin_range}K\")\n",
    "\n",
    "# Note: The range in Celsius and Kelvin is the same because it's just a shift\n",
    "# The range in Fahrenheit is larger due to the scaling factor (9/5)"
   ]
  },
  {
   "cell_type": "markdown",
   "metadata": {},
   "source": [
    "    ## Challenge 2: Kinetic energy\n",
    "\n",
    "    **Task** Given arrays of mass (kg) and velocity (m/s) for several objects:\n",
    "    ```python\n",
    "    # copy and paste this code below\n",
    "    masses = np.array([2.0, 1.5, 3.0, 0.5])      # in kilograms\n",
    "    velocities = np.array([10.0, 20.0, 15.0, 5.0]) # in meters per second\n",
    "    ```\n",
    "\n",
    "    1. Calculate the kinetic energy $K$ for each object using the formula: \n",
    "\n",
    "    $$K =  \\dfrac{1}{2}m v^2$$\n",
    "\n",
    "    2. Calculate the total kinetic energy of the system (sum of all objects)\n",
    "\n"
   ]
  },
  {
   "cell_type": "code",
   "execution_count": null,
   "metadata": {},
   "outputs": [],
   "source": [
    "import numpy as np\n",
    "\n",
    "masses = np.array([2.0, 1.5, 3.0, 0.5])       # kg\n",
    "velocities = np.array([10.0, 20.0, 15.0, 5.0]) # m/s\n",
    "\n",
    "# 1. Kinetic energy for each object\n",
    "kinetic_energy = 0.5 * masses * velocities**2\n",
    "print(\"Kinetic energy of each object:\", kinetic_energy)\n",
    "\n",
    "# 2. Total kinetic energy of the system\n",
    "total_ke = np.sum(kinetic_energy)\n",
    "print(\"Total kinetic energy:\", total_ke)\n"
   ]
  },
  {
   "cell_type": "markdown",
   "metadata": {},
   "source": [
    "## Challenge 3: Temperature Analysis\n",
    "\n",
    "**Task:**\n",
    "Given a NumPy array of daily temperatures for 30 days:\n",
    "\n",
    "```python\n",
    "temperatures = np.array([23.5, 24.0, 21.2, 25.6, 22.8, 23.9, 26.1, 27.3, 21.7, 22.5,\n",
    "                         24.6, 25.8, 20.9, 22.3, 24.7, 26.0, 27.5, 21.0, 22.9, 24.8,\n",
    "                         25.9, 27.6, 20.8, 22.7, 24.5, 26.2, 27.7, 20.5, 22.6, 24.9])\n",
    "```\n",
    "\n",
    "Perform the following tasks:\n",
    "\n",
    "1. Find the top 3 hottest days and their temperatures.\n",
    "2. Calculate the day-to-day percentage change in temperature.\n"
   ]
  },
  {
   "cell_type": "code",
   "execution_count": null,
   "metadata": {},
   "outputs": [],
   "source": [
    "import numpy as np\n",
    "\n",
    "temperatures = np.array([23.5, 24.0, 21.2, 25.6, 22.8, 23.9, 26.1, 27.3, 21.7, 22.5,\n",
    "                         24.6, 25.8, 20.9, 22.3, 24.7, 26.0, 27.5, 21.0, 22.9, 24.8,\n",
    "                         25.9, 27.6, 20.8, 22.7, 24.5, 26.2, 27.7, 20.5, 22.6, 24.9])\n",
    "\n",
    "# 1. Top 3 hottest days\n",
    "top3_indices = np.argsort(temperatures)[-3:][::-1]\n",
    "top3_temps = temperatures[top3_indices]\n",
    "print(\"Top 3 hottest days (indices and temperatures):\", list(zip(top3_indices, top3_temps)))\n",
    "\n",
    "# 2. Day-to-day percentage change\n",
    "pct_change = (temperatures[1:] - temperatures[:-1]) / temperatures[:-1] * 100\n",
    "print(\"Day-to-day percentage change:\", pct_change)"
   ]
  }
 ],
 "metadata": {
  "kernelspec": {
   "display_name": "3.12.7",
   "language": "python",
   "name": "python3"
  },
  "language_info": {
   "codemirror_mode": {
    "name": "ipython",
    "version": 3
   },
   "file_extension": ".py",
   "mimetype": "text/x-python",
   "name": "python",
   "nbconvert_exporter": "python",
   "pygments_lexer": "ipython3",
   "version": "3.12.7"
  }
 },
 "nbformat": 4,
 "nbformat_minor": 4
}
