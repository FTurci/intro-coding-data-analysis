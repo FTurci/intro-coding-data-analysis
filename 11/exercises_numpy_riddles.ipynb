{
 "cells": [
  {
   "cell_type": "markdown",
   "metadata": {},
   "source": [
    "# Consolidation - `numpy` riddles"
   ]
  },
  {
   "cell_type": "markdown",
   "metadata": {},
   "source": [
    "Solve the following `numpy` riddles using `numpy` and its documentation. \n",
    "\n",
    "\n",
    "If possible, work in the **pair programming** paradigm: work in pairs, with one person taking the role of the **driver** (writing the code) and one taking the role of the **navigator** (reading and understanding the documentation). Alternate the roles. Try to find solutions that are **short** (i.e. few line sof code) but **easy to understand**.\n"
   ]
  },
  {
   "cell_type": "code",
   "execution_count": null,
   "metadata": {},
   "outputs": [],
   "source": [
    "import numpy as np"
   ]
  },
  {
   "cell_type": "markdown",
   "metadata": {},
   "source": [
    "\n",
    "**Diagonal Sum**:\n",
    "   - Riddle: Write a function that takes a square 2D NumPy array as input and returns the sum of the elements along the main diagonal.\n",
    "   - Example: `diagonal_sum([[1, 2, 3], [4, 5, 6], [7, 8, 9]]) -> 15`\n"
   ]
  },
  {
   "cell_type": "code",
   "execution_count": null,
   "metadata": {},
   "outputs": [],
   "source": [
    "## YOUR CODE HERE\n"
   ]
  },
  {
   "cell_type": "markdown",
   "metadata": {},
   "source": [
    "\n",
    "**Unique Elements Count**:\n",
    "   - Riddle: Write a function that takes a 1D NumPy array as input and returns the count of unique elements in the array.\n",
    "   - Example: `unique_count([1, 2, 3, 2, 4, 1, 5]) -> 5`\n"
   ]
  },
  {
   "cell_type": "code",
   "execution_count": null,
   "metadata": {},
   "outputs": [],
   "source": [
    "## YOUR CODE HERE\n"
   ]
  },
  {
   "cell_type": "markdown",
   "metadata": {},
   "source": [
    "\n",
    "**Random sample ands cumulative sum**:\n",
    "   - Riddle: A fair coin is tossed 20 times, and we win 1£ for every head and lose 1£ for every tail. Assuming that we start with no money at the beginning, and that the seed of teh default random number generator is `seed=1234`, how much money do we have at every succesive step?\n"
   ]
  },
  {
   "cell_type": "code",
   "execution_count": null,
   "metadata": {},
   "outputs": [],
   "source": [
    "## YOUR CODE HERE\n"
   ]
  },
  {
   "cell_type": "markdown",
   "metadata": {},
   "source": [
    "\n",
    "**Rolling Window**:\n",
    "   - Riddle: Write a function that takes a 1D NumPy array and a window size as input, and returns a 2D array where each row is a sliding window of the input array of a given size.\n",
    "   - For example, a 1d array with a rolling window of size 3: `rolling_window([1, 2, 3, 4, 5], 3) -> [[1, 2, 3], [2, 3, 4], [3, 4, 5]]`\n",
    "\n",
    "\n",
    "Hint: you can use **list comprehension** and convert the final list to an array."
   ]
  },
  {
   "cell_type": "code",
   "execution_count": null,
   "metadata": {},
   "outputs": [],
   "source": [
    "## YOUR CODE HERE\n"
   ]
  },
  {
   "cell_type": "markdown",
   "metadata": {},
   "source": [
    "**Product of elements**:\n",
    "    - Riddle: The geometric mean of a number of observations $x_1, x_2,\\dots, x_n$ is defined as  $M = \\sqrt{x_1\\times x_2\\times \\dots x_n }$. Define a custom function to calculate the geometric mean.\n",
    "    - Example: `geometric_mean([1, 2, 3, 4, 5]) -> 10.954451150103322`\n"
   ]
  },
  {
   "cell_type": "code",
   "execution_count": null,
   "metadata": {},
   "outputs": [],
   "source": [
    "## YOUR CODE HERE\n",
    "\n"
   ]
  },
  {
   "cell_type": "markdown",
   "metadata": {},
   "source": [
    "**Vectorised calculations and visualisation**:\n",
    "   - Riddle: Draw 100 thousand points uniformly distributed inside a circle of radius 1 centered at (0,0). Plot them using `scatter()` from `matplotlib` according to their radial coordinate:\n",
    "        - use the hexadecimal colour `\"#76d6ff\"` for points at a distance below 0.5 from the origin$.\n",
    "        - use the hexadecimal colour `\"ffe701\"` for points furtehr away.\n",
    "   \n",
    "\n",
    "Hint1: disk point picking is not  trivial: https://mathworld.wolfram.com/DiskPointPicking.html\n",
    "\n",
    "Hint2: For matplotlib's `plot`, use the pixel style `','`, and remmber to set the axis to be in the same units (`\"equal\"`)\n",
    "\n"
   ]
  },
  {
   "cell_type": "code",
   "execution_count": null,
   "metadata": {},
   "outputs": [],
   "source": [
    "## YOUR CODE HERE\n"
   ]
  },
  {
   "cell_type": "markdown",
   "metadata": {},
   "source": []
  }
 ],
 "metadata": {
  "kernelspec": {
   "display_name": "Python 3",
   "language": "python",
   "name": "python3"
  },
  "language_info": {
   "codemirror_mode": {
    "name": "ipython",
    "version": 3
   },
   "file_extension": ".py",
   "mimetype": "text/x-python",
   "name": "python",
   "nbconvert_exporter": "python",
   "pygments_lexer": "ipython3",
   "version": "3.11.1"
  }
 },
 "nbformat": 4,
 "nbformat_minor": 2
}
