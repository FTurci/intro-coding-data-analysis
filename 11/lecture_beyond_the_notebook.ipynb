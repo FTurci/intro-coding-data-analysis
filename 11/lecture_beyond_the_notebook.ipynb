{
 "cells": [
  {
   "cell_type": "markdown",
   "metadata": {
    "slideshow": {
     "slide_type": "slide"
    },
    "tags": []
   },
   "source": [
    "# Beyond the notebook"
   ]
  },
  {
   "cell_type": "markdown",
   "metadata": {
    "slideshow": {
     "slide_type": "slide"
    }
   },
   "source": [
    "## Our file system\n",
    "\n",
    "Our notebooks in `jupyter` do not exist in the void. They are stored in a directory on an online account on the *Noteable* server. These directories have a **structure**, the *file system*, and we can navigate this structure using dedicated commands.\n",
    "\n",
    "These are not python commands, but are in fact specific to the file system itself, and follow different logic and conventions. For this reason, we prepend them with the `!` character. At the moment, we will use one command per cell.\n"
   ]
  },
  {
   "cell_type": "markdown",
   "metadata": {
    "slideshow": {
     "slide_type": "slide"
    }
   },
   "source": [
    "## Pathway to the current directory\n",
    "\n",
    "First, let's check where we are right now in the file system. To do so, we query the **p**athway to the **w**orking ***d***irectory with the `pwd` command."
   ]
  },
  {
   "cell_type": "code",
   "execution_count": null,
   "metadata": {},
   "outputs": [],
   "source": [
    "! pwd"
   ]
  },
  {
   "cell_type": "markdown",
   "metadata": {},
   "source": [
    "This shows where we currently are, and each of you should have a different path, with a different username."
   ]
  },
  {
   "cell_type": "markdown",
   "metadata": {
    "slideshow": {
     "slide_type": "slide"
    }
   },
   "source": [
    "## Listing the content of the current directory"
   ]
  },
  {
   "cell_type": "markdown",
   "metadata": {},
   "source": [
    "The `ls` command lists the files and directories in the current directory. The current directory is represented by a `.` (dot)."
   ]
  },
  {
   "cell_type": "code",
   "execution_count": null,
   "metadata": {},
   "outputs": [],
   "source": [
    "! ls "
   ]
  },
  {
   "cell_type": "markdown",
   "metadata": {
    "slideshow": {
     "slide_type": "slide"
    }
   },
   "source": [
    "## Creating a new directory\n",
    "\n",
    "The `mkdir` command creates a new directory in the specified path. For example, to create a new directory in the current directory we can write"
   ]
  },
  {
   "cell_type": "code",
   "execution_count": null,
   "metadata": {},
   "outputs": [],
   "source": [
    "! mkdir new_directory "
   ]
  },
  {
   "cell_type": "markdown",
   "metadata": {},
   "source": [
    "We can check its existence with `ls`."
   ]
  },
  {
   "cell_type": "code",
   "execution_count": null,
   "metadata": {},
   "outputs": [],
   "source": [
    "! ls"
   ]
  },
  {
   "cell_type": "markdown",
   "metadata": {},
   "source": [
    "Equally, we can go back to the `jupyter` interface and see the new directory in the graphical user interface."
   ]
  },
  {
   "cell_type": "markdown",
   "metadata": {
    "slideshow": {
     "slide_type": "slide"
    }
   },
   "source": [
    "## Changing directory\n",
    "\n",
    "It is easy to change the current directory with the `cd` command. For example, to go to the `new_directory` with"
   ]
  },
  {
   "cell_type": "code",
   "execution_count": null,
   "metadata": {},
   "outputs": [],
   "source": [
    "! cd new_directory"
   ]
  },
  {
   "cell_type": "markdown",
   "metadata": {},
   "source": [
    "And we we can go back to the previous directory with the `cd` command again using `..`"
   ]
  },
  {
   "cell_type": "code",
   "execution_count": null,
   "metadata": {},
   "outputs": [],
   "source": [
    "! cd .."
   ]
  },
  {
   "cell_type": "markdown",
   "metadata": {
    "slideshow": {
     "slide_type": "slide"
    }
   },
   "source": [
    "## Creating an empty file\n",
    "\n",
    "The `touch` command creates a new file in the specified path. For example, to create a new file in the current directory we can write"
   ]
  },
  {
   "cell_type": "code",
   "execution_count": null,
   "metadata": {},
   "outputs": [],
   "source": [
    "! touch new_directory/new_file.txt"
   ]
  },
  {
   "cell_type": "markdown",
   "metadata": {},
   "source": [
    "\n",
    "We can check its existence with `ls`.\n"
   ]
  },
  {
   "cell_type": "code",
   "execution_count": null,
   "metadata": {},
   "outputs": [],
   "source": [
    "! ls new_directory"
   ]
  },
  {
   "cell_type": "markdown",
   "metadata": {},
   "source": [
    "We can open this file in the graphical user interface and edit the contents\n",
    "\n",
    "\n",
    "[follows demonstration in *Noteable* with dummy text in the file `new_file.txt`]"
   ]
  },
  {
   "cell_type": "markdown",
   "metadata": {
    "slideshow": {
     "slide_type": "slide"
    }
   },
   "source": [
    "## Viewing file content\n",
    "\n",
    "The `cat` command prints the content of a file. For example, to view the content of `new_file.txt` we can write\n"
   ]
  },
  {
   "cell_type": "code",
   "execution_count": null,
   "metadata": {},
   "outputs": [],
   "source": [
    "! cat new_directory/new_file.txt "
   ]
  },
  {
   "cell_type": "markdown",
   "metadata": {},
   "source": [
    "Several other commands exist to display parts of files, such as `head`, `tail` etc. Try them if you like!"
   ]
  },
  {
   "cell_type": "markdown",
   "metadata": {
    "slideshow": {
     "slide_type": "slide"
    }
   },
   "source": [
    "## Exercise\n",
    "\n",
    "- Create a new jupyter notebook using the graphical user interface.\n",
    "- From the **notebook**, use the commands above to create:\n",
    "    - a new directory called `src`\n",
    "    - a new file inside the directory called `naive_script.py`\n",
    "    - open it with double click for the files tab in `jupyter` and write a minimal code\n",
    "\n",
    "    ```python\n",
    "    print(\"Hello, World!\")\n",
    "\n",
    "    ```\n",
    "\n",
    "\n",
    "\n",
    "    - save the file\n",
    "    - use the `cat` command from the notebook to view the content of `naive_script.py`\n",
    "\n"
   ]
  },
  {
   "cell_type": "markdown",
   "metadata": {
    "slideshow": {
     "slide_type": "slide"
    }
   },
   "source": [
    "## Running scripts: from the notebook\n",
    "\n",
    "For the entire duration of this course, you have been running `python` codes by typing them inside the notebook cells and executing the code cells.\n",
    "\n",
    "The notebooks are complex files, that contain a lot of information beyond your code: the markdown, images, and a lot of extra data (called metadata).\n",
    "\n",
    "A much more essential way to store `python` code is to use **scripts**. These are files with the `.py` extension, like your `naive_script.py` file. Inside a script you can only have\n",
    "\n",
    "- `python` code\n",
    "- `python` comments to the code (i.e. lines prepended by the `#`)\n",
    "\n",
    "This means that the scripts are simple, portable pure text files containing **instructions** in the `python` language.\n",
    "\n",
    "Can we execute such instructions? Yes, we **run** a script in various way. A simple way is to do it directly from a code  cell in the notebook. For this we use a special `jupyter` command called `run` followed by the path to the script.\n",
    "\n",
    "[check that you are in the correct path and the script exist]"
   ]
  },
  {
   "cell_type": "code",
   "execution_count": null,
   "metadata": {},
   "outputs": [],
   "source": [
    "run src/naive_script.py"
   ]
  },
  {
   "cell_type": "markdown",
   "metadata": {},
   "source": [
    "As you can see, we have executed the instructions of the script and its textual output has been printed in the notebook. No variables are created during the process."
   ]
  },
  {
   "cell_type": "markdown",
   "metadata": {
    "slideshow": {
     "slide_type": "slide"
    }
   },
   "source": [
    "## The Terminal\n",
    "\n",
    "\n",
    "All the commands that we have seen above can be used in a pure-text environment called **the terminal**. The terminal is a text-based interface to an operating system (local or remote).\n",
    "\n",
    "\n",
    "You do not use the mouse to perform actions. Instead, you **write** commands. These commands belong to the scripting language called `bash` (see [here](https://www.gnu.org/software/bash/manual/html_node/index.html) for more information). It is different from `python`, they can interact together in the notebook.\n",
    "\n",
    "\n",
    "You can launch a terminal directly from `Noteable` by clicking on the `New` button, then selecting `Terminal`."
   ]
  },
  {
   "attachments": {
    "image.png": {
     "image/png": "[encoded data removed]"
    }
   },
   "cell_type": "markdown",
   "metadata": {
    "slideshow": {
     "slide_type": "slide"
    }
   },
   "source": [
    "\n",
    "![image.png](attachment:image.png)"
   ]
  },
  {
   "cell_type": "markdown",
   "metadata": {
    "slideshow": {
     "slide_type": "slide"
    }
   },
   "source": [
    "## Exercise\n",
    "\n",
    "- We try to navigate folders from the terminal and create a file\n",
    "- Open the terminal and\n",
    "    - change the directory to `src` (using `cd`)\n",
    "    - create a new file inside the directory called `parabola.py` (use `touch`)\n",
    "    - go back to the `Noteable` file tab, refresh the web-page and open the `parabola.py`  file\n",
    "    - open it and write a minimal code to plot a parabola. For example:\n",
    "\n",
    "    ```python\n",
    "    import numpy as np\n",
    "    import matplotlib.pyplot as plt\n",
    "    a = 1.\n",
    "    b =1.\n",
    "    c = 2\n",
    "    xlo = 0\n",
    "    xhi = 10\n",
    "    npoints = 100\n",
    "    x = np.linspace(xlo, xhi, npoints)\n",
    "    y = a*x**2 + b*x + c\n",
    "    plt.plot(x,y)\n",
    "    plt.savefig(\"parabola.png\")\n",
    "\n",
    "\n",
    "    ```\n",
    "\n",
    "    - save the file and go back to the Terminal tab\n",
    "    - use the `cat` command to check the content \n",
    "\n"
   ]
  },
  {
   "cell_type": "markdown",
   "metadata": {
    "slideshow": {
     "slide_type": "slide"
    }
   },
   "source": [
    "##  Exercise: Running scripts from the Terminal\n",
    "\n",
    "We have seen that we can run the scripts from the notebook using the `run` command. In a very similar way, we can run scripts from the terminal, just by using the `python` command followed by the path to the script.\n",
    "\n",
    "\n",
    "Do the following:\n",
    "\n",
    "- first run the `parabola` script from the notebook using `run`: you should see the plot appear in the notebook.\n",
    "- then go back to the Terminal and run the `parabola.py` script using the `python` command followed by the path to the script: e.g.  `python src/parabola.py`. Where is the output?\n"
   ]
  },
  {
   "cell_type": "code",
   "execution_count": null,
   "metadata": {},
   "outputs": [],
   "source": [
    "run src/parabola.py"
   ]
  },
  {
   "cell_type": "markdown",
   "metadata": {
    "slideshow": {
     "slide_type": "slide"
    }
   },
   "source": [
    "## Reusing code\n",
    "\n",
    "\n",
    "The most useful feature of the scripts is that they can store code for future usage in an organized manner. We do not need to have all of our code in a single notebook: we can split the relvant bits, put them into scripts and use them again and again in different projects.\n",
    "\n",
    "What allows us to do this is the  special `python` keywork `import`, that we have already used many times. \n",
    "\n",
    "\n",
    "Let's move our working directory to `src` and try importing our `parabola.py` script"
   ]
  },
  {
   "cell_type": "code",
   "execution_count": null,
   "metadata": {},
   "outputs": [],
   "source": [
    "cd src"
   ]
  },
  {
   "cell_type": "markdown",
   "metadata": {
    "slideshow": {
     "slide_type": "slide"
    }
   },
   "source": [
    "In `python` we can only import `.py` files, so we drop the `.py` extension when importing."
   ]
  },
  {
   "cell_type": "code",
   "execution_count": null,
   "metadata": {},
   "outputs": [],
   "source": [
    "import parabola"
   ]
  },
  {
   "cell_type": "markdown",
   "metadata": {
    "slideshow": {
     "slide_type": "slide"
    }
   },
   "source": [
    "Now the variables defined in `parabola.py` are available in our current notebook."
   ]
  },
  {
   "cell_type": "code",
   "execution_count": null,
   "metadata": {},
   "outputs": [],
   "source": [
    "print(parabola.xhi)"
   ]
  },
  {
   "cell_type": "markdown",
   "metadata": {},
   "source": [
    "Congratulations! You have written your first `python` **module**!"
   ]
  },
  {
   "cell_type": "markdown",
   "metadata": {
    "slideshow": {
     "slide_type": "slide"
    }
   },
   "source": [
    "## Exercise\n"
   ]
  },
  {
   "cell_type": "markdown",
   "metadata": {},
   "source": [
    "The module above is not very useful. A better way to reuse code is to encapsulate it in a **custom .\n",
    "\n",
    "\n",
    "- Modify your `parabola.py` script to create a function `plot_parabola` that takes `a`, `b`, `c`, `xlo`, `xhi` as parameters.\n",
    "\n",
    "- Then, import your parabola module in the present notebook using the following line:\n",
    "\n",
    "    ```python\n",
    "    import parabola as pb\n",
    "    ```\n",
    "\n",
    "-  Can you find a way to access your function `plot_parabola` from `pb` ?\n",
    "- Improve your function to customize the appearence of the plot (adding custom labels, colors, linestyles) and use the function with such changes. **Important** you will need to restart the notebook for these to take effect, because a module is loaded only once.\n",
    "\n"
   ]
  },
  {
   "cell_type": "markdown",
   "metadata": {},
   "source": [
    "## More exercises on the terminal\n",
    "\n",
    "\n",
    "1.  Most commands in `bash` allow you to acces their documentation with `<name_of_the_command> --help `. Can you find out what the command `mv` does?\n",
    "\n"
   ]
  },
  {
   "cell_type": "code",
   "execution_count": null,
   "metadata": {},
   "outputs": [],
   "source": [
    "##YOUR CODE HERE"
   ]
  },
  {
   "cell_type": "markdown",
   "metadata": {},
   "source": [
    "\n",
    "2. Find a way to rename your `parabola.py` script to `geometry.py`"
   ]
  },
  {
   "cell_type": "code",
   "execution_count": null,
   "metadata": {},
   "outputs": [],
   "source": [
    "##YOUR CODE HERE"
   ]
  },
  {
   "cell_type": "markdown",
   "metadata": {},
   "source": [
    "Most commands in `bash` support options, using the dash `-` sytax. For example, `ls -l` will list the files in a long format. Can you use  `ls --help` to find out what the `-l` option does\n"
   ]
  },
  {
   "cell_type": "code",
   "execution_count": null,
   "metadata": {},
   "outputs": [],
   "source": [
    "ls --help"
   ]
  },
  {
   "cell_type": "markdown",
   "metadata": {},
   "source": [
    "\n",
    "- Can you find an additional option for `ls -l` to fils files in reverse time order?"
   ]
  },
  {
   "cell_type": "code",
   "execution_count": null,
   "metadata": {},
   "outputs": [],
   "source": [
    "##YOUR CODE HERE\n"
   ]
  },
  {
   "cell_type": "markdown",
   "metadata": {},
   "source": [
    "## Riddles\n",
    "\n",
    "To revise the material from the previous lectures, we can try to solve some riddles.\n",
    "\n",
    "You can find the exercises here below\n",
    "\n",
    "- [Python Riddles](exercises_python_riddles.ipynb)\n",
    "- [Numpy Riddles](exercises_numpy_riddles.ipynb)"
   ]
  },
  {
   "cell_type": "markdown",
   "metadata": {},
   "source": []
  }
 ],
 "metadata": {
  "celltoolbar": "Slideshow",
  "kernelspec": {
   "display_name": "Python 3 (ipykernel)",
   "language": "python",
   "name": "python3"
  },
  "language_info": {
   "codemirror_mode": {
    "name": "ipython",
    "version": 3
   },
   "file_extension": ".py",
   "mimetype": "text/x-python",
   "name": "python",
   "nbconvert_exporter": "python",
   "pygments_lexer": "ipython3",
   "version": "3.11.1"
  }
 },
 "nbformat": 4,
 "nbformat_minor": 4
}
