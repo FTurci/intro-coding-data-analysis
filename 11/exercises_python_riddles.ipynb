{
 "cells": [
  {
   "cell_type": "markdown",
   "metadata": {},
   "source": [
    "# Consolidation - `Python` riddles"
   ]
  },
  {
   "cell_type": "markdown",
   "metadata": {},
   "source": [
    "Solve the following using standard Python features and built-in functions.\n",
    "\n",
    "If possible, work in the **pair programming** paradigm: work in pairs, with one person taking the role of the **driver** (writing the code) and one taking the role of the **navigator** (reading and understanding the documentation). Alternate the roles. Try to find solutions that are **short** (i.e. few line sof code) but **easy to understand**.\n"
   ]
  },
  {
   "cell_type": "markdown",
   "metadata": {},
   "source": [
    "**Sum of Digits**\n",
    "- Riddle: Write a function `sum_digits(n)` that takes an integer `n` and returns the sum of its digits.\n",
    "- Test it with the following test cases: `sum_digits(145)-->10` and `sum_digits(102)-->3`\n",
    "\n",
    "Hint: remember that you can convert an integer to a string with `str(n)` and a character `c` to integer with `int(c)`."
   ]
  },
  {
   "cell_type": "code",
   "execution_count": null,
   "metadata": {},
   "outputs": [],
   "source": [
    "# YOUR CODE HERE"
   ]
  },
  {
   "cell_type": "markdown",
   "metadata": {},
   "source": [
    "**Palyndrome checker**\n",
    "\n",
    "- Riddle: A word is a palyndrome if it reads the same forwards and backwards. Write a function `is_palindrome(s)` that takes an object `s`, checks that it is a string and returns `True` if `s` is a palindrome and `False` otherwise. \n",
    "- Test it with the following test cases: `is_palindrome(\"racecar\")-->True` , `is_palindrome(\"hello\")-->False` and  `is_palindrome(3)-->error`\n",
    "\n",
    "\n",
    "Hint: an object is a string if `typ(s)` returns `str`."
   ]
  },
  {
   "cell_type": "code",
   "execution_count": null,
   "metadata": {},
   "outputs": [],
   "source": [
    "#YOUR CODE HERE"
   ]
  },
  {
   "cell_type": "markdown",
   "metadata": {},
   "source": []
  }
 ],
 "metadata": {
  "kernelspec": {
   "display_name": "Python 3",
   "language": "python",
   "name": "python3"
  },
  "language_info": {
   "codemirror_mode": {
    "name": "ipython",
    "version": 3
   },
   "file_extension": ".py",
   "mimetype": "text/x-python",
   "name": "python",
   "nbconvert_exporter": "python",
   "pygments_lexer": "ipython3",
   "version": "3.11.1"
  }
 },
 "nbformat": 4,
 "nbformat_minor": 2
}
