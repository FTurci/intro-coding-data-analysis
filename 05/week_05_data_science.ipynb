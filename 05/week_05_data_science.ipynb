{
 "cells": [
  {
   "cell_type": "markdown",
   "id": "7f421db5",
   "metadata": {},
   "source": [
    "# Week 5 Consolidation"
   ]
  },
  {
   "cell_type": "markdown",
   "id": "7dd7a037",
   "metadata": {},
   "source": [
    "## Data Science Challenge"
   ]
  },
  {
   "cell_type": "markdown",
   "id": "8472d114",
   "metadata": {},
   "source": [
    "This week we are consolidating the skills we have learned over the past four weeks in order to tackle a practical challenge. In this notebook, you will find the data science challenge, in which you will have to write code that will navigate a small virtual robot around a maze."
   ]
  },
  {
   "cell_type": "markdown",
   "id": "422a5e06",
   "metadata": {},
   "source": [
    " > **Please Note:** These challenges are designed to difficult! Do not worry if you are unable to complete a challenge in the time given. The important thing is that you are building resilience and practicing problem-solving skills - everything else is secondary!"
   ]
  },
  {
   "cell_type": "markdown",
   "id": "1d679a83",
   "metadata": {},
   "source": [
    "### Table of Contents\n",
    "\n",
    " - [Welcome Page](./week_05_home.ipynb)\n",
    " - [**Challenge 1: Data Science**](./week_05_data_science.ipynb)\n",
    "  - [Preliminaries](#Preliminaries)\n",
    "  - [Tutorial: The Robot Maze](#Tutorial:-The-Robot-Maze)\n",
    "    - [Creating a Robot Maze](#Creating-a-Robot-Maze)\n",
    "    - [Moving the Robot](#Moving-the-Robot)\n",
    "    - [Resetting and Saving the Maze](#Resetting-and-Saving-the-Maze)\n",
    "    - [Aims and Limits](#Aims-and-Limits)\n",
    "  - [Challenges](#Warm-up-Challenges)\n",
    "    - [Task 1: Getting Started](#Task-1:-Getting-Started)\n",
    "    - [Task 2: Sensing Danger](#Task-2:-Sensing-Danger)\n",
    "    - [Task 3: End of the Road](#Task-3:-End-of-the-Road)\n",
    "    - [Task 4: Turning Back](#Task-4:-Turning-Back)\n",
    "    - [Task 5: Final Challenge](#Task-5:-Final-Challenge)\n",
    " - [Challenge 2: Physics](./week_05_physics.ipynb)\n",
    " - [Challenge 3: Chemistry](./week_05_chemistry.ipynb)\n",
    " - [Slides](./week_05_slides.ipynb) ([Powerpoint](./Lecture5_Consolidation.pptx))"
   ]
  },
  {
   "cell_type": "markdown",
   "id": "f1efe3a2",
   "metadata": {},
   "source": [
    "## Preliminaries"
   ]
  },
  {
   "cell_type": "markdown",
   "id": "21463170",
   "metadata": {},
   "source": [
    "This notebook draws on the knowledge you've built over the last four weeks. This challenge assumes knowledge of only the material from the `beginner` notebooks - however, you are welcome to draw upon material from the `intermediate` and `advanced` notebooks as well! The tasks are designed to be accessible to everyone.\n",
    "\n",
    "Before getting started, you'll need to know how to generate random numbers. Here's a quick primer.\n",
    "\n",
    "To load in a package (collection of functions) that will let you generate random numbers, you must run the below code:"
   ]
  },
  {
   "cell_type": "code",
   "execution_count": null,
   "id": "3e99c013",
   "metadata": {},
   "outputs": [],
   "source": [
    "import random"
   ]
  },
  {
   "cell_type": "markdown",
   "id": "b8b7cbd7",
   "metadata": {},
   "source": [
    "You only need to run the above line of code once (unless you restart the notebook, in which case you will have to run it again after restarting). Once you have run the `import` code you will be able to generate random numbers using the `random.random()` and `random.randint()` functions like so:"
   ]
  },
  {
   "cell_type": "code",
   "execution_count": null,
   "id": "b8ba8dd9",
   "metadata": {},
   "outputs": [],
   "source": [
    "# Generate a (uniformly) random float between 0 and 1 \n",
    "x = random.random()\n",
    "\n",
    "# Print the random float\n",
    "print(x)\n",
    "\n",
    "# Generate a random integer between 1 and 10 (inclusive)\n",
    "y = random.randint(1, 10)\n",
    "\n",
    "# Print the random integer\n",
    "print(y)"
   ]
  },
  {
   "cell_type": "markdown",
   "id": "1f70778f",
   "metadata": {},
   "source": [
    "Try running the above box a few times and observe how a new value is produced each time you call `random` or `randint`. For today's class, this is all the knowledge we will need concerning random numbers in Python. We'll explore random number generation in greater depth later on in the course."
   ]
  },
  {
   "cell_type": "markdown",
   "id": "e68577c0",
   "metadata": {},
   "source": [
    "## Tutorial: The Robot Maze"
   ]
  },
  {
   "cell_type": "markdown",
   "id": "0b73c094",
   "metadata": {},
   "source": [
    "Today, you will be programming a robot to navigate a small maze. To get started, run the code box below. This will load in the `RobotMaze` function which we will be working with today."
   ]
  },
  {
   "cell_type": "code",
   "execution_count": null,
   "id": "3e51f831",
   "metadata": {},
   "outputs": [],
   "source": [
    "from src.robot_maze import RobotMaze"
   ]
  },
  {
   "cell_type": "markdown",
   "id": "30ede544",
   "metadata": {},
   "source": [
    "### Creating a Robot Maze"
   ]
  },
  {
   "cell_type": "markdown",
   "id": "08cc551a",
   "metadata": {},
   "source": [
    "The `RobotMaze` function will create a new randomly generated maze with a robot inside it. Try running the below code to see what this looks like:"
   ]
  },
  {
   "cell_type": "code",
   "execution_count": null,
   "id": "e160cd27",
   "metadata": {},
   "outputs": [],
   "source": [
    "# Create a robot in a maze\n",
    "robot = RobotMaze()"
   ]
  },
  {
   "cell_type": "markdown",
   "id": "3eb7cd52",
   "metadata": {},
   "source": [
    "Let's break down what we can see here. The maze contains:\n",
    "\n",
    " - *White Squares:* Open spaces, which the robot has not yet visited.\n",
    " - *Black squares:* Walls. The robot cannot walk into these.\n",
    " - *Grey squares:* These are open spaces that the robot has visited previously.\n",
    " - *A red circle with a white arrow:* This is the robot. The arrow tells us which way it is facing.\n",
    " - *A green circle with a T:* This is the target. This is where the robot must move to.\n",
    " \n",
    "At the top of the maze, we see the title `Robot Maze - Run #1`. Here, the number `#1` refers to the number of times we have attempted to solve the maze.\n",
    "\n",
    "At the bottom of the maze, we see the `Robot Console`. This is a handy message box, which we shall use to display messages from the robot throughout this task."
   ]
  },
  {
   "cell_type": "markdown",
   "id": "5fe04aef",
   "metadata": {},
   "source": [
    "### Moving the Robot"
   ]
  },
  {
   "cell_type": "markdown",
   "id": "631ee10d",
   "metadata": {},
   "source": [
    "Here are some instructions you can give the robot:\n",
    "\n",
    " - `robot.move()`: Running this will cause the robot to take one step forward in the direction it is currently facing.\n",
    " - `robot.turn()`: This function takes a string as input. It will turn the robot to the left if the string is `\"LEFT\"`, right if the string is `\"RIGHT\"`, behind if the string is `\"BEHIND\"` and ahead if the string is `\"AHEAD\"`. The robot always turns relative to the direction it is currently facing (that is, where the white arrow is pointing).\n",
    " \n",
    "Run the below code to see how this works."
   ]
  },
  {
   "cell_type": "code",
   "execution_count": null,
   "id": "9aacee0e",
   "metadata": {
    "scrolled": false
   },
   "outputs": [],
   "source": [
    "robot.move()\n",
    "robot.turn(\"RIGHT\")\n",
    "robot.move()\n",
    "robot.move()\n",
    "robot.move()\n",
    "robot.turn(\"RIGHT\")\n",
    "robot.move()\n",
    "robot.turn(\"BEHIND\")\n",
    "robot.move()\n",
    "robot.move()\n",
    "robot.turn(\"LEFT\")\n",
    "robot.move()"
   ]
  },
  {
   "cell_type": "markdown",
   "id": "d0e44efa",
   "metadata": {},
   "source": [
    " > **Note:** If the robot bumps into a wall, it will not move forward. Instead, it will print a message to the `Robot Console` telling you it has bumped into a wall."
   ]
  },
  {
   "cell_type": "markdown",
   "id": "0feccaef",
   "metadata": {},
   "source": [
    "If the robot is moving too fast or slow, you can change the speed at which it moves using the `robot.delay` parameter. For instance:"
   ]
  },
  {
   "cell_type": "code",
   "execution_count": null,
   "id": "940b9f58",
   "metadata": {},
   "outputs": [],
   "source": [
    "robot.delay = 2 # The robot will now take 2 seconds to perform each action (try changing this to 0.2!)\n",
    "\n",
    "robot.move()\n",
    "robot.turn(\"RIGHT\")\n",
    "robot.move()\n",
    "robot.move()\n",
    "robot.move()\n",
    "robot.turn(\"RIGHT\")\n",
    "robot.move()\n",
    "robot.turn(\"BEHIND\")\n",
    "robot.move()\n",
    "robot.move()\n",
    "robot.turn(\"LEFT\")\n",
    "robot.move()"
   ]
  },
  {
   "cell_type": "markdown",
   "id": "4442b38e",
   "metadata": {},
   "source": [
    " > **Note:** Due to limitations on how Jupyter notebooks are rendered, there is a limit to how fast the robot can move. That is, setting `robot.delay` to less than around `0.1` might not result in much of a speedup."
   ]
  },
  {
   "cell_type": "markdown",
   "id": "7f78ab22",
   "metadata": {},
   "source": [
    "### Resetting and Saving the Maze"
   ]
  },
  {
   "cell_type": "markdown",
   "id": "ff946716",
   "metadata": {},
   "source": [
    "If you want to reset the maze, and send the robot back to the start, you can use the `robot.reset()` command like so. Notice that the title will now say `Robot Maze - Run #2`, but the `Robot Console` will keep the robot's message history."
   ]
  },
  {
   "cell_type": "code",
   "execution_count": null,
   "id": "2fd0b913",
   "metadata": {},
   "outputs": [],
   "source": [
    "robot.reset()"
   ]
  },
  {
   "cell_type": "markdown",
   "id": "1f22356f",
   "metadata": {},
   "source": [
    "Every time you run the `robot = RobotMaze()`, a new random maze is generated. Sometimes you might want to save a particular maze to come back to later. You can do this by running `robot.get_maze_id()`. For instance, to save the maze you have above, you can run the following:"
   ]
  },
  {
   "cell_type": "code",
   "execution_count": null,
   "id": "38945793",
   "metadata": {},
   "outputs": [],
   "source": [
    "# Save the maze id\n",
    "my_maze_id = robot.get_maze_id()\n",
    "\n",
    "# This is a string ID representing the maze you randomly generated\n",
    "print(my_maze_id)"
   ]
  },
  {
   "cell_type": "markdown",
   "id": "9518a006",
   "metadata": {},
   "source": [
    "You can then load the same maze again later on using `my_maze_id`. Try commenting out and uncommenting the below lines of code to test your understanding."
   ]
  },
  {
   "cell_type": "code",
   "execution_count": null,
   "id": "bfa8b038",
   "metadata": {
    "scrolled": false
   },
   "outputs": [],
   "source": [
    "# This will generate a new random maze\n",
    "robot = RobotMaze()\n",
    "\n",
    "# This will recall the maze you had above\n",
    "#robot = RobotMaze(maze_id=my_maze_id)      # <----- Try uncommenting this line and commenting out the above one."
   ]
  },
  {
   "cell_type": "markdown",
   "id": "6bcbec3b",
   "metadata": {},
   "source": [
    " > **Recall:** You can clear the output of a cell in a Jupyter notebook by going to `Cell` on the toolbar, then `Current Outputs` and `Clear`.\n",
    " \n",
    "  > **Recall:** You can interrupt a cell that is running in Jupyter by pressing the stop button on the toolbar (which looks like a square) or by clicking `Kernel` and then `Interrupt`."
   ]
  },
  {
   "cell_type": "markdown",
   "id": "1cecc52c",
   "metadata": {},
   "source": [
    "### Aims and Limits"
   ]
  },
  {
   "cell_type": "markdown",
   "id": "10785b37",
   "metadata": {},
   "source": [
    "Your aim in this challenge to write code that moves the robot to the target. However, there is a catch - the robot only has a finite amount of fuel!\n",
    "\n",
    "The robot begins with `1000` units of fuel. Each call to `robot.move()` and `robot.turn()` costs one unit of fuel. Once the robot has no fuel left, it will not be able to move.\n",
    "\n",
    "Here are some functions you can use to check on the robot's status:\n",
    "\n",
    " - `robot.at_target()`: This will return `True` if the robot is on the target square and `False` otherwise.\n",
    " - `robot.check_fuel()`: This will tell you how much fuel the robot has left. The amount will be returned as an integer between `0` and `1000`.\n",
    " - `robot.print()`: This will print a message to the robot console."
   ]
  },
  {
   "cell_type": "markdown",
   "id": "405aae52",
   "metadata": {},
   "source": [
    "The below code uses the above commands. See if you can understand what it is doing."
   ]
  },
  {
   "cell_type": "code",
   "execution_count": null,
   "id": "80ce2ee9",
   "metadata": {},
   "outputs": [],
   "source": [
    "# Load in a pre-computed maze\n",
    "robot = RobotMaze(maze_id='10-20-93037')\n",
    "\n",
    "# Slow the robot speed for visualisation\n",
    "robot.delay = 0.5\n",
    "\n",
    "# Check the remaining fuel of the robot\n",
    "robot.print('My remaining fuel is ' + str(robot.check_fuel()))\n",
    "\n",
    "# Make 9 steps forward\n",
    "for i in range(9):\n",
    "    robot.move()\n",
    "    \n",
    "# Check the remaining fuel of the robot\n",
    "robot.print('My remaining fuel is ' + str(robot.check_fuel()))\n",
    "    \n",
    "# Turn to the left\n",
    "robot.turn(\"LEFT\")\n",
    "\n",
    "# Make 9 steps forward\n",
    "for i in range(9):              # <---------- Try changing this to range(8) - what happens to the console output\n",
    "    robot.move()\n",
    "\n",
    "# This code will check if the robot is at the target\n",
    "if robot.at_target():\n",
    "    \n",
    "    # Print to the robot console\n",
    "    robot.print(\"I made it!\")\n",
    "    \n",
    "else:\n",
    "    \n",
    "    # Print to the robot console\n",
    "    robot.print(\"Gosh, darn. I wish I was at the target right now.\")\n",
    "    \n",
    "# Check the remaining fuel of the robot\n",
    "robot.print('My remaining fuel is ' + str(robot.check_fuel()))"
   ]
  },
  {
   "cell_type": "markdown",
   "id": "8e442210",
   "metadata": {},
   "source": [
    "Finally, the robot is equipped with a sensor that can detect what type of square is in a given direction.\n",
    "\n",
    "To use the sensor, call the `robot.sense()` function with one of the following inputs: `\"AHEAD\"`, `\"LEFT\"`, `\"RIGHT\"`, or `\"BEHIND\"`. The function returns a string describing the square in that direction, returning either `\"WALL\"`, `\"EMPTY\"`, or `\"BEEN_THERE\"` if the robot has already visited it.\n",
    "\n",
    "Have a look at the below code for an example:"
   ]
  },
  {
   "cell_type": "code",
   "execution_count": null,
   "id": "6a5ff1a9",
   "metadata": {},
   "outputs": [],
   "source": [
    "# Load in a pre-computed maze\n",
    "robot = RobotMaze(maze_id='10-20-93037')\n",
    "\n",
    "# Slow the robot speed for visualisation\n",
    "robot.delay = 0.5\n",
    "\n",
    "# Sense the squares around the starting position\n",
    "robot.print('The square in front of me is ' + str(robot.sense(\"AHEAD\")))\n",
    "robot.print('The square to my left is ' + str(robot.sense(\"LEFT\")))\n",
    "robot.print('The square to my right is ' + str(robot.sense(\"RIGHT\")))\n",
    "robot.print('The square behind me is ' + str(robot.sense(\"BEHIND\")))\n",
    "\n",
    "\n",
    "# Move forward\n",
    "robot.print(\"-----------------------------------\")\n",
    "robot.print(\"I'm now taking a step forward.\")\n",
    "robot.move()\n",
    "robot.print(\"-----------------------------------\")\n",
    "\n",
    "# Sense the squares around the new position\n",
    "robot.print('The square in front of me is ' + str(robot.sense(\"AHEAD\")))\n",
    "robot.print('The square to my left is ' + str(robot.sense(\"LEFT\")))\n",
    "robot.print('The square to my right is ' + str(robot.sense(\"RIGHT\")))\n",
    "robot.print('The square behind me is ' + str(robot.sense(\"BEHIND\")))"
   ]
  },
  {
   "cell_type": "markdown",
   "id": "73c574f7",
   "metadata": {},
   "source": [
    " > **Note:** Using the sensor does not require fuel! That is, it may be better to sense before you move..."
   ]
  },
  {
   "cell_type": "markdown",
   "id": "75b0dfd4",
   "metadata": {},
   "source": [
    "## Challenges"
   ]
  },
  {
   "cell_type": "markdown",
   "id": "458443c5",
   "metadata": {},
   "source": [
    "We're now ready to get to grips with the robot environment!"
   ]
  },
  {
   "cell_type": "markdown",
   "id": "c7a18c97",
   "metadata": {},
   "source": [
    "### Task 1: Getting Started\n",
    "\n",
    "The below code will load a simple four by four `RobotMaze`. "
   ]
  },
  {
   "cell_type": "code",
   "execution_count": null,
   "id": "0d08ca33",
   "metadata": {},
   "outputs": [],
   "source": [
    "# Create a robot in a maze\n",
    "robot = RobotMaze(maze_id='4-60-15973')"
   ]
  },
  {
   "cell_type": "markdown",
   "id": "7b7423c8",
   "metadata": {},
   "source": [
    "In the below box, use the `robot.move()` and `robot.turn()` functions to navigate the robot to the target."
   ]
  },
  {
   "cell_type": "code",
   "execution_count": null,
   "id": "00e16e34",
   "metadata": {},
   "outputs": [],
   "source": [
    "# Write your code here..."
   ]
  },
  {
   "cell_type": "markdown",
   "id": "2ccf6b66",
   "metadata": {},
   "source": [
    "Try to write your code as concisely as possible. \n",
    "\n",
    "*Hint: You may want to use for loops like we did in the example in the [Aims and Limits](#Aims-and-Limits) section.*"
   ]
  },
  {
   "cell_type": "markdown",
   "id": "355b0612",
   "metadata": {},
   "source": [
    "### Task 2: Sensing Danger"
   ]
  },
  {
   "cell_type": "markdown",
   "id": "ed977c2c",
   "metadata": {},
   "source": [
    "We're now going to look at a pre-written robot maze program. In the below code box, you will see there is a function named `my_controller`. See if you can determine what this controller does before reading ahead."
   ]
  },
  {
   "cell_type": "code",
   "execution_count": null,
   "id": "5d0cd6ca",
   "metadata": {},
   "outputs": [],
   "source": [
    "# Write your own controller\n",
    "def my_controller(robot):\n",
    "    \n",
    "    # While the robot is not at the target\n",
    "    while not robot.at_target() and robot.check_fuel() > 0:\n",
    "        \n",
    "        # Generate a random number between 0 and 1. \n",
    "        my_random_number = random.random()\n",
    "        \n",
    "        # If the random number was less than 0.5\n",
    "        if my_random_number < 0.5:\n",
    "            \n",
    "            # Turn right\n",
    "            robot.turn(\"RIGHT\")\n",
    "            \n",
    "        # Otherwise\n",
    "        else:\n",
    "            \n",
    "            # Turn left\n",
    "            robot.turn(\"LEFT\")\n",
    "            \n",
    "        # Move in the given direction\n",
    "        robot.move()\n",
    "        \n",
    "        # Check the remaining fuel of the robot\n",
    "        robot.print('My remaining fuel is ' + str(robot.check_fuel()))"
   ]
  },
  {
   "cell_type": "markdown",
   "id": "97cfb3de",
   "metadata": {},
   "source": [
    "The nice thing about writing our commands for the robot inside a function is that we can now run the entire set of instructions simply by calling the function, like so:"
   ]
  },
  {
   "cell_type": "code",
   "execution_count": null,
   "id": "5306c293",
   "metadata": {
    "scrolled": false
   },
   "outputs": [],
   "source": [
    "# Create a maze\n",
    "robot = RobotMaze()\n",
    "\n",
    "# Setting speed\n",
    "robot.delay = 0.02\n",
    "\n",
    "# Run the controller\n",
    "my_controller(robot)"
   ]
  },
  {
   "cell_type": "markdown",
   "id": "b2a212f5",
   "metadata": {},
   "source": [
    "Try updating the `my_controller` function so that the robot first checks for a wall in front of it before attempting to move forward. If a wall is detected, the robot should stay in place and not move."
   ]
  },
  {
   "cell_type": "code",
   "execution_count": null,
   "id": "cd97831c",
   "metadata": {},
   "outputs": [],
   "source": [
    "# Write your code here..."
   ]
  },
  {
   "cell_type": "markdown",
   "id": "defb4696",
   "metadata": {},
   "source": [
    "### Task 3: End of the Road"
   ]
  },
  {
   "cell_type": "markdown",
   "id": "6d4345ea",
   "metadata": {},
   "source": [
    "Continuing with the `my_controller` function, modify your code to identify if the robot is:\n",
    "\n",
    " - At a dead-end (a square surrounded by three walls), \n",
    " - At a corner (a square bordering two walls whose corners touch), \n",
    " - In a corridor (a square with two walls bordering it on opposing sides), \n",
    " - Next to a single wall (a square with only one wall bordering it),\n",
    " - On an unbordered square (a square sharing no edges with a wall). \n",
    " \n",
    "Use the `robot.print()` function to print a message to the console stating which type of square the robot is on."
   ]
  },
  {
   "cell_type": "code",
   "execution_count": null,
   "id": "48a5b3a4",
   "metadata": {},
   "outputs": [],
   "source": [
    "# Write your code here..."
   ]
  },
  {
   "cell_type": "markdown",
   "id": "36fd9f40",
   "metadata": {},
   "source": [
    "### Task 4: Turning Back"
   ]
  },
  {
   "cell_type": "markdown",
   "id": "6ee139f0",
   "metadata": {},
   "source": [
    "Write your own controller function which does the following:\n",
    " - Senses the squares around the robot.\n",
    " - If there at least one of the surrounding squares is `\"EMPTY\"`, the robot should choose an `\"EMPTY\"` square at random and move to it.\n",
    " - If there are no `\"EMPTY\"` squares, the robot should choose at random from the `\"BEEN_THERE\"` squares surrounding it and move to the chosen square."
   ]
  },
  {
   "cell_type": "code",
   "execution_count": null,
   "id": "ccb14d97",
   "metadata": {},
   "outputs": [],
   "source": [
    "# Write your code here..."
   ]
  },
  {
   "cell_type": "markdown",
   "id": "b3a9c907",
   "metadata": {},
   "source": [
    "### Task 5: Final Challenge"
   ]
  },
  {
   "cell_type": "markdown",
   "id": "29f04706",
   "metadata": {},
   "source": [
    "It is now up to you! \n",
    "\n",
    "By doing your own research on [maze solving algorithms](https://en.wikipedia.org/wiki/Maze-solving_algorithm), choose a method to solve the maze and try writing it up as a controller function. Can you solve the maze faster than the `my_controller` robot, or your solution to `Task 4`? \n",
    "\n",
    "Good luck!"
   ]
  },
  {
   "cell_type": "code",
   "execution_count": null,
   "id": "a69e0e37",
   "metadata": {},
   "outputs": [],
   "source": [
    "# Write your code here..."
   ]
  }
 ],
 "metadata": {
  "kernelspec": {
   "display_name": "Python 3 (ipykernel)",
   "language": "python",
   "name": "python3"
  },
  "language_info": {
   "codemirror_mode": {
    "name": "ipython",
    "version": 3
   },
   "file_extension": ".py",
   "mimetype": "text/x-python",
   "name": "python",
   "nbconvert_exporter": "python",
   "pygments_lexer": "ipython3",
   "version": "3.9.13"
  }
 },
 "nbformat": 4,
 "nbformat_minor": 5
}
