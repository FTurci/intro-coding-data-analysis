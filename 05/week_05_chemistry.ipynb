{
 "cells": [
  {
   "cell_type": "markdown",
   "id": "24f3816f",
   "metadata": {},
   "source": [
    "# Week 5: Consolidation"
   ]
  },
  {
   "cell_type": "markdown",
   "id": "6d316403",
   "metadata": {},
   "source": [
    "## Chemistry Challenge"
   ]
  },
  {
   "cell_type": "markdown",
   "id": "59fd7849",
   "metadata": {},
   "source": [
    "This week, we'll bring together the skills you've developed over the past four weeks to tackle a practical challenge. Specifically, for the Chemistry challenge in this notebook, you will use data from the periodic table to determine various properties of isotopes. This task is designed to give you practice working with strings, conditional logic, and dictionaries in a familiar Chemistry setting. \n",
    "\n",
    " > **Please Note:** This week's challenges are designed to difficult! Do not worry if you are unable to complete a challenge in the time given. The important thing is that you are building resilience and practicing problem-solving skills - everything else is secondary!"
   ]
  },
  {
   "cell_type": "markdown",
   "id": "af263545",
   "metadata": {},
   "source": [
    "### Table of Contents\n",
    "\n",
    " - [Welcome Page](./week_05_home.ipynb)\n",
    " - [Challenge 1: Data Science](./week_05_data_science.ipynb)\n",
    " - [Challenge 2: Physics](./week_05_physics.ipynb)\n",
    " - [**Challenge 3: Chemistry**](./week_05_chemistry.ipynb)\n",
    "   - [Background](#Background)\n",
    "     - [The Periodic Table](#The-Periodic-Table)\n",
    "     - [Isotopes](#Isotopes)\n",
    "   - [The Challenge](#The-Challenge)\n",
    "     - [Task 1: Verifying Elements](#Task-1:-Verifying-Elements)\n",
    "     - [Task 2: Verifying the Atomic Number](#Task-2:-Verifying-the-Atomic-Number)\n",
    "     - [Task 3: Counting Electrons, Protons and Neutrons](#Task-3:-Counting-Electrons,-Protons-and-Neutrons)\n",
    "     - [Task 4: Group and Period](#Task-4:-Group-and-Period)\n",
    "     - [Task 5: Isotope Names](#Task-5:-Isotope-Names)\n",
    "     - [Task 6: Categorizing Isotopes](#Task-6:-Categorizing-Isotopes)\n",
    " - [Slides](./week_05_slides.ipynb) ([Powerpoint](./Lecture5_Consolidation.pptx))"
   ]
  },
  {
   "cell_type": "markdown",
   "id": "cfb7f1ec",
   "metadata": {},
   "source": [
    "## Background\n",
    "\n",
    "### The Periodic Table"
   ]
  },
  {
   "cell_type": "markdown",
   "id": "42c28dc9",
   "metadata": {},
   "source": [
    "In your previous studies, you have likely encountered the [periodic table of elements](https://en.wikipedia.org/wiki/Periodic_table). In this challenge, you will use the periodic table to explore and derive various properties of isotopes.\n",
    "\n",
    "\n",
    "\n",
    "<img src=\"./images/Periodic_Table_of_Elements.png\" alt=\"\" style=\"display:block;margin-left:auto;margin-right:auto;width:100%\"/>"
   ]
  },
  {
   "cell_type": "markdown",
   "id": "0948885a",
   "metadata": {},
   "source": [
    "The periodic table organizes *chemical elements* (substances whose atoms contain a fixed number of protons) into rows (*periods*) and columns (*groups*). In addition to ordering the elements, the periodic table is also a powerful tool for categorization. It groups together elements that share similar properties.\n",
    "\n",
    "For instance, in the image above, the colors highlight the following categories of elements:\n",
    "\n",
    "\n",
    "<ul>\n",
    "  <li><span style=\"display:inline-block;width:15px;height:15px;background-color:#ffc4c4;margin-right:8px;\"></span><em>Alkali metals:</em> very reactive metals that readily form compounds with nonmetals.</li>\n",
    "  <li><span style=\"display:inline-block;width:15px;height:15px;background-color:#d4d4ff;margin-right:8px;\"></span><em>Alkaline earth metals:</em> reactive metals that form basic solutions when they react with water.</li>\n",
    "  <li><span style=\"display:inline-block;width:15px;height:15px;background-color:#acffff;margin-right:8px;\"></span><em>Lanthanides:</em> rare earth elements often used in magnets and electronics.</li>\n",
    "  <li><span style=\"display:inline-block;width:15px;height:15px;background-color:#c1ffea;margin-right:8px;\"></span><em>Actinides:</em> heavy elements, many of which are radioactive.</li>\n",
    "  <li><span style=\"display:inline-block;width:15px;height:15px;background-color:#c5e2ff;margin-right:8px;\"></span><em>Transition metals:</em> versatile metals widely used in alloys and catalysts.</li>\n",
    "  <li><span style=\"display:inline-block;width:15px;height:15px;background-color:#c4ffc4;margin-right:8px;\"></span><em>Post-transition metals:</em> softer metals with lower melting points than transition metals.</li>\n",
    "  <li><span style=\"display:inline-block;width:15px;height:15px;background-color:#dfedb9;margin-right:8px;\"></span><em>Metalloids:</em> elements with properties of both metals and nonmetals.</li>\n",
    "  <li><span style=\"display:inline-block;width:15px;height:15px;background-color:#ffffb9;margin-right:8px;\"></span><em>Halogens and other nonmetals:</em> generally poor conductors; many are gases or brittle solids, and halogens in particular are very reactive.</li>\n",
    "  <li><span style=\"display:inline-block;width:15px;height:15px;background-color:#ffe3ba;margin-right:8px;\"></span><em>Noble gases:</em> very stable gases that rarely react with other elements.</li>\n",
    "</ul>\n",
    "\n",
    "By convention, we assume that all lathanides have period 6 and group 3, and all actinides have period 7 and group 3 (see periodic table above)."
   ]
  },
  {
   "cell_type": "markdown",
   "id": "6879cf69",
   "metadata": {},
   "source": [
    "In each box of the periodic table, you can see the *name*, *chemical symbol*, and *category* of the element. The *atomic number* is shown in the top left. This tells you how many protons are in the nucleus of the atom, and it also determines the element’s position in the table. An atom has the same number of protons and electrons, so the atomic number also represents the number of electrons in the atom. The *relative atomic mass* is shown in the top right. This value represents the average mass of all the naturally occurring isotopes of that element, taking into account how common each isotope is.\n",
    "\n",
    "For example, the box for `carbon` (`C`) shows the atomic number `6` in the top left, which means every carbon atom has `6` protons. In the top right, the relative atomic mass is shown as about `12.01`, reflecting the natural mixture of mostly `carbon-12` and a small amount of `carbon-13`."
   ]
  },
  {
   "cell_type": "markdown",
   "id": "01005c87",
   "metadata": {},
   "source": [
    "### Isotopes\n",
    "\n",
    "As noted above, not all of the atoms of the same element have the same mass. This is because, although atoms of the same element must have, by definition, the same number of protons, they can have different numbers of neutrons. An atom with a fixed number of neutrons is known as an *isotope* and we usually denote isotopes by the element name followed by the *mass number*: that is, the total number of protons and neutrons in the atom. For instance, `carbon-12` is an isotope of carbon with a mass number of `12`. You might also see this written as $^{12}C$ or $^{12}_6C$, if we want to highlight that the atom possesses $6$ protons."
   ]
  },
  {
   "cell_type": "markdown",
   "id": "3ab0bfce",
   "metadata": {},
   "source": [
    "## The Challenge"
   ]
  },
  {
   "cell_type": "markdown",
   "id": "55939e43",
   "metadata": {},
   "source": [
    "You are given a string of one of the following forms: `N_P_E` or `N_E`, where: \n",
    " - $N$ is an integer representing the number of mass number of the isotope,\n",
    " - $P$ is an integer representing the number of protons in an isotope,\n",
    " - $E$ is the chemical symbol of the element. \n",
    " \n",
    "For instance, `12_6_C` represents $^{12}_6C$ and `12_C` represents $^{12}C$."
   ]
  },
  {
   "cell_type": "code",
   "execution_count": null,
   "id": "2f4e6d5e",
   "metadata": {},
   "outputs": [],
   "source": [
    "# A string representing the isotope of Neon with 12 neutrons and 10 protons.\n",
    "example_isotope = \"22_10_Ne\""
   ]
  },
  {
   "cell_type": "markdown",
   "id": "83e18e90",
   "metadata": {},
   "source": [
    "You are also given the variable named `periodic_table`, loaded in by the below code. This includes *some of* the data displayed in the periodic table, saved as a dictionary of dictionaries."
   ]
  },
  {
   "cell_type": "code",
   "execution_count": null,
   "id": "de585c8e",
   "metadata": {},
   "outputs": [],
   "source": [
    "import os\n",
    "os.chdir('/home/jovyan/SCIF10002-2025.git/05/src')\n",
    "\n",
    "from get_periodic_table import *\n",
    "\n",
    "periodic_table = get_periodic_table()"
   ]
  },
  {
   "cell_type": "markdown",
   "id": "c980dbe6",
   "metadata": {},
   "source": [
    "> **Note:** Don't worry if you are unsure what the `import` and `from` keywords are doing in the above code. For now, you can think of these as a way of loading in pre-written functions such as the `get_periodic_table` function. You'll have plenty of opportunities to practice and understand these features of Python as the course goes on."
   ]
  },
  {
   "cell_type": "markdown",
   "id": "1544e9b5",
   "metadata": {},
   "source": [
    "Try running the following commands to see if you can understand how to use this variable:"
   ]
  },
  {
   "cell_type": "code",
   "execution_count": null,
   "id": "ad7acc2b",
   "metadata": {},
   "outputs": [],
   "source": [
    "print(periodic_table[\"H\"])\n",
    "print(periodic_table[\"H\"][\"relative_atomic_mass\"])\n",
    "print(periodic_table[\"Fe\"][\"atomic_number\"])\n",
    "print(periodic_table[\"C\"][\"name\"])"
   ]
  },
  {
   "cell_type": "markdown",
   "id": "f560ae08",
   "metadata": {},
   "source": [
    " > **Note:** Before proceeding, if you are unsure about dictionaries please see the [week 1 intermediate notebook](../01/week_01_intro_to_data_types_intermediate.ipynb) for further detail."
   ]
  },
  {
   "cell_type": "markdown",
   "id": "364d4ccf",
   "metadata": {},
   "source": [
    "For an arbitrary isotope represented as described above, the challenge is to solve the following tasks.\n",
    "\n",
    "*Note: If you are not sure how to get started, have a look at the guidance section on [this week's home page](./week_05_home.ipynb).*\n",
    "\n",
    "\n",
    " > **Important:** For this task, you may only use material covered in the previous 4 week's classes. To solve the challenge problems, you may use any content from the `beginner`, `intermediate`, or `advanced notebooks`. However, every challenge can be completed using only the material in the `beginner` notebooks, so don't worry if you haven't looked at the others. The tasks are designed to be accessible to everyone!\n"
   ]
  },
  {
   "cell_type": "markdown",
   "id": "e6a37756",
   "metadata": {},
   "source": [
    "### Task 1: Verifying Elements\n",
    "\n",
    "Write a function that takes two inputs; a string representing an isotope and the `periodic_table` dictionary. The function should verify whether the chemical symbol in the isotope string corresponds to a valid element in the periodic table and print a message indicating the result."
   ]
  },
  {
   "cell_type": "code",
   "execution_count": null,
   "id": "8583876f",
   "metadata": {},
   "outputs": [],
   "source": [
    "# Write your code here..."
   ]
  },
  {
   "cell_type": "markdown",
   "id": "ec873e32",
   "metadata": {},
   "source": [
    "*Hint: You can convert the keys in dictionary to a list using `list(dict_name.keys())`.*"
   ]
  },
  {
   "cell_type": "markdown",
   "id": "0e4fc9b8",
   "metadata": {},
   "source": [
    "### Task 2: Verifying the Atomic Number\n",
    "\n",
    "Write a function that takes two inputs; a string representing an isotope and the `periodic_table` dictionary. The function must check whether the number of protons, if provided, matches that in the periodic table."
   ]
  },
  {
   "cell_type": "code",
   "execution_count": null,
   "id": "05672ec5",
   "metadata": {},
   "outputs": [],
   "source": [
    "# Write your code here..."
   ]
  },
  {
   "cell_type": "markdown",
   "id": "a56a8911",
   "metadata": {},
   "source": [
    "### Task 3: Counting Electrons, Protons and Neutrons\n",
    "\n",
    "Update your code from Task 2 so that, unless an incorrect number of protons is provided, it prints the number of protons, neutrons, and electrons in the isotope. Make sure your code outputs these values even if the number of protons is not explicitly included in the isotope string."
   ]
  },
  {
   "cell_type": "code",
   "execution_count": null,
   "id": "45794085",
   "metadata": {},
   "outputs": [],
   "source": [
    "# Write your code here..."
   ]
  },
  {
   "cell_type": "markdown",
   "id": "66704232",
   "metadata": {},
   "source": [
    "### Task 4: Group and Period\n",
    "\n",
    "Write a function that takes two inputs; a string representing an isotope and the `periodic_table` dictionary. The function must print the group and period of the element in the periodic table."
   ]
  },
  {
   "cell_type": "code",
   "execution_count": null,
   "id": "90efa8ae",
   "metadata": {},
   "outputs": [],
   "source": [
    "# Write your code here..."
   ]
  },
  {
   "cell_type": "markdown",
   "id": "c16d8a04",
   "metadata": {},
   "source": [
    "### Task 5: Isotope Names\n",
    "\n",
    "Write a function which return a string representing the name of the isotope. For instance, `12_C` should return `\"Carbon-12\"`. Note that $^1H$,$^2H$ and $^3H$ do not follow the standard convention and are usually referred to as `\"Hydrogen\"`, `\"Deuterium\"` and `\"Tritium\"` rather than `\"Hydrogen-1\"`, `\"Hydrogen-2\"` and `\"Hydrogen-3\"`, respectively."
   ]
  },
  {
   "cell_type": "code",
   "execution_count": null,
   "id": "2757266d",
   "metadata": {},
   "outputs": [],
   "source": [
    "# Write your code here..."
   ]
  },
  {
   "cell_type": "markdown",
   "id": "c67c9389",
   "metadata": {},
   "source": [
    "### Task 6: Categorizing Isotopes\n",
    "\n",
    "Write a function which returns a string representing the category the isotope belongs to (e.g. `\"Alkali Metals\"`, `\"Actinides\"`,..., etc)."
   ]
  },
  {
   "cell_type": "code",
   "execution_count": null,
   "id": "c8dd5075",
   "metadata": {},
   "outputs": [],
   "source": [
    "# Write your code here..."
   ]
  }
 ],
 "metadata": {
  "kernelspec": {
   "display_name": "Python 3 (ipykernel)",
   "language": "python",
   "name": "python3"
  },
  "language_info": {
   "codemirror_mode": {
    "name": "ipython",
    "version": 3
   },
   "file_extension": ".py",
   "mimetype": "text/x-python",
   "name": "python",
   "nbconvert_exporter": "python",
   "pygments_lexer": "ipython3",
   "version": "3.9.13"
  }
 },
 "nbformat": 4,
 "nbformat_minor": 5
}
