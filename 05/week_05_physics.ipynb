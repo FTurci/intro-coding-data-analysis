{
 "cells": [
  {
   "cell_type": "markdown",
   "id": "3a462e00",
   "metadata": {},
   "source": [
    "# Week 5: Consolidation"
   ]
  },
  {
   "cell_type": "markdown",
   "id": "95123f9a",
   "metadata": {},
   "source": [
    "## Physics Challenge"
   ]
  },
  {
   "cell_type": "markdown",
   "id": "9e12ba7c",
   "metadata": {},
   "source": [
    "This week, we'll bring together the skills you've developed over the past four weeks to tackle a practical challenge. In this notebook, you'll find a Physics coding challenge. This challenge is designed to consolidate your recent Python learning and give you practice working with strings, loops, and dictionaries. \n",
    "\n",
    " > **Please Note:** These challenges are designed to difficult! Do not worry if you are unable to complete a challenge in the time given. The important thing is that you are building resilience and practicing problem-solving skills - everything else is secondary!"
   ]
  },
  {
   "cell_type": "markdown",
   "id": "0611dc18",
   "metadata": {},
   "source": [
    "### Table of Contents\n",
    "\n",
    " - [Welcome Page](./week_05_home.ipynb)\n",
    " - [Challenge 1: Data Science](./week_05_data_science.ipynb)\n",
    " - [**Challenge 2: Physics**](./week_05_physics.ipynb)\n",
    "   - [Background](#Background)\n",
    "     - [Measuring Gravity with a Picket Fence and Photogate](#Measuring-Gravity-with-a-Picket-Fence-and-Photogate)\n",
    "     - [The Data](#The-Data)\n",
    "   - [The Challenge](#The-Challenge)\n",
    "     - [Task 1: Clean the Data](#Task-1:-Clean-the-Data)\n",
    "     - [Task 2: Detect When Each Bar Begins to Block the Beam](#Task-2:-Detect-When-Each-Bar-Begins-to-Block-the-Beam)\n",
    "     - [Task 3: Estimate Average Velocities](#Task-3:-Estimate-Average-Velocities)\n",
    "     - [Task 4: Estimate Accelerations](#Task-4:-Estimate-Accelerations)\n",
    "     - [Task 5: Estimate $g$](#Task-5:-Estimate-$g$)\n",
    " - [Challenge 3: Chemistry](./week_05_chemistry.ipynb)\n",
    " - [Slides](./week_05_slides.ipynb) ([Powerpoint](./Lecture5_Consolidation.pptx))"
   ]
  },
  {
   "cell_type": "markdown",
   "id": "aa4f1085",
   "metadata": {},
   "source": [
    "## Background\n",
    "\n",
    "### Measuring Gravity with a Picket Fence and Photogate\n",
    "\n",
    "A classic experiment in introductory physics is the *photogate picket fence* experiment. In this setup, a *picket fence* (a clear plastic strip with evenly spaced opaque bars) is dropped vertically through a *photogate sensor*.\n",
    "\n",
    "\n",
    "<img src=\"./images/picketfence3.png\" alt=\"\" style=\"display:block;margin-left:auto;margin-right:auto;width:60%\"/>\n",
    "\n",
    "The photogate shines an infrared beam across a small gap. A sensor on the other side detects whether the beam makes it through or not. If the beam is *blocked* (by one of the bars), the sensor records `'x'`. If the beam is *not blocked*, the sensor records `'o'`. Every $\\Delta t = 0.5$ milliseconds ($=0.0005s$) the photogate logs whether the beam is blocked or not.\n",
    "\n",
    "Because the bars on the picket fence are evenly spaced, the vertical distance between the start of one bar and the start of the next is always the same:\n",
    "\n",
    "$$\n",
    "\\Delta d = 5 \\text{cm (constant distance between bars).} \n",
    "$$\n",
    "\n",
    "As the picket fence falls through the photogate, each bar successively blocks the beam. By measuring the time between when one bar starts blocking the beam and when the next bar does, we can estimate the *velocity* of the falling object. From changes in velocity, we can then estimate the *acceleration due to gravity*.\n"
   ]
  },
  {
   "cell_type": "markdown",
   "id": "49bed08e",
   "metadata": {},
   "source": [
    "\n",
    "### The Data\n",
    "\n",
    " > **Note:** Before starting this challenge, if you haven't already, you may wish to read the sections on dictionaries in the [week 1 intermediate notebook](../01/week_01_intro_to_data_types_intermediate.ipynb). This will be helpful in what follows.\n",
    "\n",
    "You are given a Python dictionary that encodes $100$ trials of the photogate picket fence experiment. Each entry:\n",
    "\n",
    "- Has a key like `\"Trial 1\"`, `\"Trial 2\"`, ...\n",
    "- Has a value that is a long string of `'o'`, `'x'`, and `'e'` characters, representing the sensor state at regular time intervals (recordings are taken $\\Delta t$ seconds apart). We can interpret these as follows:\n",
    "  - `'x'` = beam blocked (bar in photogate)\n",
    "  - `'o'` = beam unblocked (gap)\n",
    "  - `'e'` = error (the sensor glitched)\n",
    "  \n",
    "For example, suppose the dictionary contains the entry:\n",
    "\n",
    "```python\n",
    "data_dict[\"Trial 1\"] = \"oooxxxoooxexo\"\n",
    "```\n",
    "  \n",
    "This string represents the sensor readings for the first trial. Each character corresponds to a single timepoint, spaced by $\\Delta t = 0.0005$ s. We can interpret this as follows:\n",
    "\n",
    "- The first three characters (`\"ooo\"`) mean the beam was unblocked at times $t = 0 \\text{ms}$, $5 \\text{ms}$, and $10 \\text{ms}$,\n",
    "- The next three characters (`\"xxx\"`) indicate the beam was blocked at $t = 15 \\text{ms}$, $20 \\text{ms}$, and $25 \\text{ms}$,\n",
    "- The next three (`\"ooo\"`) show the beam was unblocked again,\n",
    "- At $t = 50 \\text{ms}$, the character is `'e'`, indicating that the sensor glitched,\n",
    "- This is followed by `'x'` and `'o'` at the final two timepoints.\n",
    "\n",
    "**Note:** Across the $100$ trials, several different picket fences were used. Some had the same number of bars, while others did not. Consequently, the number of black and white bars varied between trials."
   ]
  },
  {
   "cell_type": "code",
   "execution_count": null,
   "id": "cc579aaf",
   "metadata": {},
   "outputs": [],
   "source": [
    "# This code will load the data for you\n",
    "from src.photogate_data import read_photogate_data\n",
    "\n",
    "# read_photogate_data reads the data from a file\n",
    "data_dict = read_photogate_data()\n",
    "\n",
    "# Let's look at the data for a single trial\n",
    "data_dict[\"Trial 1\"]"
   ]
  },
  {
   "cell_type": "markdown",
   "id": "3fa3bf1c",
   "metadata": {},
   "source": [
    "## The Challenge"
   ]
  },
  {
   "cell_type": "markdown",
   "id": "7eaae8b8",
   "metadata": {},
   "source": [
    "Your challenge is to perform the following tasks:"
   ]
  },
  {
   "cell_type": "markdown",
   "id": "417b156d",
   "metadata": {},
   "source": [
    "### Task 1: Clean the Data\n",
    "\n",
    "Many trials contain one or more `'e'` (error) characters due to sensor glitches. Apply the following rules to *clean* each string:\n",
    "\n",
    "- If an `'e'` (or group of `'e'`s) is adjacent to at least one `'x'`, replace all `'e'`s in that group with `'x'`,\n",
    "- Otherwise, replace them with `'o'`.\n",
    "\n",
    "For example, `'ooxexoeoxeeo'` would become `'ooxxxoooxxxo'`."
   ]
  },
  {
   "cell_type": "code",
   "execution_count": null,
   "id": "37cf0de9",
   "metadata": {},
   "outputs": [],
   "source": [
    "# Write your code here..."
   ]
  },
  {
   "cell_type": "markdown",
   "id": "4208e6c2",
   "metadata": {},
   "source": [
    "### Task 2: Detect When Each Bar Begins to Block the Beam\n",
    "\n",
    "Once the data is cleaned, your next task is to *identify the exact times at which each bar starts to block the photogate beam*.\n",
    "\n",
    "This occurs every time the sensor reading transitions from `'o'` (unblocked) to `'x'` (blocked). Each from `'o'` to `'x'` transition corresponds to the *leading edge* of a bar entering the photogate.\n",
    "\n",
    "To detect these moments:\n",
    "\n",
    "- Loop through the cleaned string from left to right.\n",
    "- Look for every index `i` where the character is `'x'`, and the character just before it (at index `i-1`) is `'o'`.\n",
    "- For each such index, compute the time $t = i × Δt$, where $\\Delta t =$ *5 milliseconds*.\n",
    "\n",
    "For each trial, you must save a list of timestamps (in seconds) showing when each bar *starts to block the beam*. For instance, given this cleaned string:\n",
    "\n",
    "```python\n",
    "\"oooxxxoooxxxooooxxx\"\n",
    "```\n",
    "\n",
    "You should detect transitions at indices: `3`, `9`, and `16` (remember, Python starts counting at `0`!). In this case, the corresponding times would be:\n",
    "\n",
    "```python\n",
    "[0.0015, 0.0045, 0.0080] # Computed by doing [3*0.0005,9*0.0005,16*0.0005]\n",
    "```"
   ]
  },
  {
   "cell_type": "code",
   "execution_count": null,
   "id": "86fab485",
   "metadata": {},
   "outputs": [],
   "source": [
    "# Write your code here..."
   ]
  },
  {
   "cell_type": "markdown",
   "id": "dbdf631f",
   "metadata": {},
   "source": [
    "### Task 3: Estimate Average Velocities\n",
    "\n",
    "Once you've computed the times when each bar starts to block the beam, you can use those times to estimate the velocity of the falling picket fence.\n",
    "\n",
    "From the previous, we have;\n",
    "\n",
    "- $\\Delta d = 0.05$ meters is the *constant distance* between the leading edges of two consecutive bars.\n",
    "- $t_k$ and $t_{k+1}$ are the times at which two consecutive bars *start to block the beam*.\n",
    "\n",
    "We can now estimate the *average velocity* of the picket fence *between two successive bar detections* using:\n",
    "\n",
    "$$\n",
    "v_k = \\frac{\\Delta d}{t_{k+1} - t_k}\n",
    "$$\n",
    "\n",
    "This gives the average velocity of the picket fence between the times $t_k$ (when the $k^{th}$ bar first blocks the sensor) and $t_{k+1}$ (when the $(k+1)^{th}$ bar does the same).\n",
    "\n",
    "\n",
    "For each trial, you must now use your list of bar-blocking times to compute a list of velocities between each pair of consecutive bars. For instance, if the bar-blocking times for a single trial are:\n",
    "\n",
    "```python\n",
    "[0.0015, 0.0045, 0.0080]\n",
    "```\n",
    "\n",
    "Then you must compute the velocities:\n",
    "\n",
    "$$v_0= \\frac{0.05}{0.0045-0.0015} = 16.66...\\quad\\text{and}\\quad v_1= \\frac{0.05}{0.0080-0.0045} = 14.28...$$\n"
   ]
  },
  {
   "cell_type": "code",
   "execution_count": null,
   "id": "ccf0a2ce",
   "metadata": {},
   "outputs": [],
   "source": [
    "# Write your code here..."
   ]
  },
  {
   "cell_type": "markdown",
   "id": "41bd2d38",
   "metadata": {},
   "source": [
    "### Task 4: Estimate Accelerations\n",
    "\n",
    "Now that you've estimated velocities, you can use them to estimate how the instantaneous velocity of the picket fence changes over time - that is, its acceleration.\n",
    "\n",
    "In step 3, each velocity $v_k$ was calculated as an average over a time interval of the form $[t_k,t_{k+1}]$. We can treat this as a velocity recorded at the midpoint of the interval. That is, we treat this velocity as though it were recorded at the time $\\tau_k$, defined as:\n",
    "\n",
    "$$\n",
    "\\tau_k := \\frac{t_k + t_{k+1}}{2}\n",
    "$$\n",
    "\n",
    "To estimate the acceleration between two consecutive velocities, we need to look at their differences. That is, we must compute:\n",
    "\n",
    "$$\n",
    "a_k = \\frac{v_{k+1} - v_k}{\\tau_{k+1} - \\tau_k}\n",
    "$$\n",
    "\n",
    "This gives an estimate of the average acceleration between the times $\\tau_k$ and $\\tau_{k+1}$. For each trial, you must now compute all such acceleration values, and then compute the average acceleration across the trial:\n",
    "\n",
    "$$\\overline{a}^{(j)} = \\frac{1}{M_j} \\sum_{k=1}^{M_j} a_k$$\n",
    "where $M_j$ is the number of acceleration values in trial $j$ (which is one less than the number of velocities).\n"
   ]
  },
  {
   "cell_type": "code",
   "execution_count": null,
   "id": "4c478269",
   "metadata": {},
   "outputs": [],
   "source": [
    "# Write your code here..."
   ]
  },
  {
   "cell_type": "markdown",
   "id": "52a518c9",
   "metadata": {},
   "source": [
    "### Task 5: Estimate $g$\n",
    "\n",
    "To obtain a final estimate of the gravitational acceleration, we must now average the acceleration values computed across all trials.\n",
    "\n",
    "As in Step 4, let $\\overline{a}^{(j)}$ be the average acceleration for trial $j$, and let $N$ be the total number of trials. Then you must compute your final estimate of $g$, given by:\n",
    "\n",
    "$$\n",
    "\\hat{g} = \\frac{1}{N} \\sum_{j=1}^{N} \\overline{a}^{(j)}\n",
    "$$\n",
    "\n",
    "This value, $\\hat{g}$, represents your best overall estimate of the acceleration due to gravity based on the experimental data. "
   ]
  },
  {
   "cell_type": "code",
   "execution_count": null,
   "id": "e344ae2e",
   "metadata": {},
   "outputs": [],
   "source": [
    "# Write your code here..."
   ]
  }
 ],
 "metadata": {
  "kernelspec": {
   "display_name": "Python 3 (ipykernel)",
   "language": "python",
   "name": "python3"
  },
  "language_info": {
   "codemirror_mode": {
    "name": "ipython",
    "version": 3
   },
   "file_extension": ".py",
   "mimetype": "text/x-python",
   "name": "python",
   "nbconvert_exporter": "python",
   "pygments_lexer": "ipython3",
   "version": "3.9.13"
  }
 },
 "nbformat": 4,
 "nbformat_minor": 5
}
