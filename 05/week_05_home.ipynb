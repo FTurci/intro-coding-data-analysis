{
 "cells": [
  {
   "cell_type": "markdown",
   "id": "41123a99",
   "metadata": {},
   "source": [
    "# Week 5: Consolidation"
   ]
  },
  {
   "cell_type": "markdown",
   "id": "b13deb82",
   "metadata": {},
   "source": [
    "We've now reached the fifth week of SCIF10002! \n",
    "\n",
    "This marks the end of the *basics* section of the course. Over the next few weeks, we'll begin shifting our focus away from Python's built-in features and towards powerful external packages, such as `numpy`, `matplotlib` and `pandas`, that will no doubt be invaluable in your future studies and professional work.\n",
    "\n",
    "To wrap up this section of the course, we will apply the skills we've learned so far to a set of applied challenges. This will give you an opportunity to consolidate your understanding and get a feel for the kinds of coding tasks you may encounter beyond the classroom."
   ]
  },
  {
   "cell_type": "markdown",
   "id": "5c2a96ab",
   "metadata": {},
   "source": [
    "### Table of Contents"
   ]
  },
  {
   "cell_type": "markdown",
   "id": "8ef742df",
   "metadata": {},
   "source": [
    "\n",
    " - [**Welcome Page**](./week_05_home.ipynb)\n",
    "   - [Today's Material](#Today's-Material)\n",
    "   - [Guidance](#Guidance)\n",
    "   - [Getting Help](#Getting-Help)\n",
    "\n",
    " - [Challenge 1: Data Science](./week_05_data_science.ipynb)\n",
    " - [Challenge 2: Physics](./week_05_physics.ipynb)\n",
    " - [Challenge 3: Chemistry](./week_05_chemistry.ipynb)\n",
    " - [Slides](./week_05_slides.ipynb) ([Powerpoint](./Lecture5_Consolidation.pptx))"
   ]
  },
  {
   "cell_type": "markdown",
   "id": "962a6e12",
   "metadata": {},
   "source": [
    "## Today's Material"
   ]
  },
  {
   "cell_type": "markdown",
   "id": "97b3e094",
   "metadata": {},
   "source": [
    "For this week's class, we'll be doing something a little different from previous weeks.\n",
    "\n",
    "Below, you'll find three challenges. The challenges are organised by course; data science, chemistry and physics.\n",
    "\n",
    " - [Challenge 1: Data Science](./week_05_data_science.ipynb)\n",
    " - [Challenge 2: Physics](./week_05_physics.ipynb)\n",
    " - [Challenge 3: Chemistry](./week_05_chemistry.ipynb)\n",
    "\n",
    "Your goal is to attempt **at least one challenge**. Once you have read the `Guidance` section below, try the challenge for your own course. If you manage to finish the challenge for your course, move onto the challenges for the other courses. None of the challenge notebooks assume course-specific background knowledge.\n",
    "\n",
    " > **Important:** For this task, you may only use material covered in the previous 4 week's classes. To solve the challenge problems, you may use any content from the `beginner`, `intermediate`, or `advanced` notebooks. However, every challenge can be completed using only the material in the `beginner` notebooks, so don't worry if you haven't looked at the others. The tasks are designed to be accessible to everyone!\n",
    " \n",
    "**Please Note:** These challenges are designed to difficult! Do not worry if you are unable to complete a challenge in the time given. The important thing is that you are building resilience and practicing problem-solving skills - everything else is secondary!"
   ]
  },
  {
   "cell_type": "markdown",
   "id": "8cd0012e",
   "metadata": {},
   "source": [
    "## Guidance"
   ]
  },
  {
   "cell_type": "markdown",
   "id": "311cceff",
   "metadata": {},
   "source": [
    "You will find that the challenge problems this week are much more open-ended than those you have encountered in previous classes. At first, this might feel a bit intimidating, but please do not fret - you already have all the skills necessary to complete the tasks!\n",
    "\n",
    "Here are some general tips to help make the challenges feel less daunting:\n",
    "\n",
    "> **Plan before you code:** Before writing any code, try taking notes about the background material. Once you understand the background material, think about how you might approach the task by hand, and jot the steps you would perform down on paper.\n",
    "\n",
    "\n",
    "> **Clarify inputs and outputs:** When getting started, think about the following questions:\n",
    ">   - What information do I have before I start coding? *(These are likely my inputs.)*\n",
    ">   - What do I want my code to produce? *(This is my output.)*\n",
    "\n",
    "\n",
    "> **Look for structure and repetition:** When converting your thoughts to code, consider the below:\n",
    ">  - Which steps of the computation are repetitive? *(Think loops!)*\n",
    ">  - Which steps of the computation are self-contained? *(Perhaps, I should use a function for these...)*\n",
    "\n",
    "> **Divide and conquer:** Try to break the task down into smaller, more manageable chunks, and solve each piece one at a time before putting them together.\n",
    "\n",
    "> **Talk things through:** If you're struggling to get started, try talking the question through with a peer or class tutor. You might be surprised how much this helps to organise your thoughts!\n",
    "\n",
    "> **Use resources:** Don't be afraid to use google or Python documentation when you're thinking about the best way to implement a solution. Sometimes the act of googling alone can help spark new ideas.\n",
    "\n",
    "> **Trust your own process:** Try to avoid using AI when deciding how to structure your code. You will find it much easier to understand and refine your work if the structure comes from your own reasoning.\n",
    " \n",
    " \n",
    "Above all, remember that coding can be hard! At times, it might feel like you're running into the same problem over and over without making much progress. If you feel this way, don't worry - this is a perfectly normal part of the process. If you keep trying, you will get there!"
   ]
  },
  {
   "cell_type": "markdown",
   "id": "a4800477",
   "metadata": {},
   "source": [
    "## Getting Help"
   ]
  },
  {
   "cell_type": "markdown",
   "id": "c915fcde",
   "metadata": {},
   "source": [
    "As always, to get more help you can view the [Python API](https://docs.python.org/3/library/) or the [W3 schools series on Python](https://www.w3schools.com/python/). Another way to get help if you are ever unsure what a function is doing is to use the`help` function in the Python terminal like so:"
   ]
  },
  {
   "cell_type": "code",
   "execution_count": null,
   "id": "77259b8a",
   "metadata": {},
   "outputs": [],
   "source": [
    "help(print)"
   ]
  },
  {
   "cell_type": "markdown",
   "id": "5bce3001",
   "metadata": {},
   "source": [
    "In class, you can ask for help from the lecturer, demonstrators and your peers around you. We advise you do not ask AI for help unless you are really stuck."
   ]
  }
 ],
 "metadata": {
  "kernelspec": {
   "display_name": "Python 3 (ipykernel)",
   "language": "python",
   "name": "python3"
  },
  "language_info": {
   "codemirror_mode": {
    "name": "ipython",
    "version": 3
   },
   "file_extension": ".py",
   "mimetype": "text/x-python",
   "name": "python",
   "nbconvert_exporter": "python",
   "pygments_lexer": "ipython3",
   "version": "3.9.13"
  }
 },
 "nbformat": 4,
 "nbformat_minor": 5
}
