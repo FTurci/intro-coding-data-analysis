{
 "cells": [
  {
   "cell_type": "markdown",
   "id": "56975a29",
   "metadata": {
    "slideshow": {
     "slide_type": "slide"
    }
   },
   "source": [
    "# Introduction to Coding and Data Analysis for Scientists\n",
    "\n",
    "## Week 5: Consolidation"
   ]
  },
  {
   "cell_type": "markdown",
   "id": "8959e671",
   "metadata": {
    "slideshow": {
     "slide_type": "slide"
    }
   },
   "source": [
    "## Today's Lecture\n",
    "\n",
    " - Lecture 5: Consolidation\n",
    "   - Recap: The Course So Far\n",
    "   - Tackling Difficult Problems\n",
    "   - A Worked Example\n",
    "   - Practical"
   ]
  },
  {
   "cell_type": "markdown",
   "id": "b50b24ea",
   "metadata": {
    "slideshow": {
     "slide_type": "slide"
    }
   },
   "source": [
    "## Recap: The Course So Far\n",
    "\n",
    " - Over the last 4 weeks, we've covered the basics of Python\n",
    " - We've looked at:\n",
    "    - Datatypes\n",
    "    - Conditional Logic\n",
    "    - Loops\n",
    "    - Functions"
   ]
  },
  {
   "cell_type": "code",
   "execution_count": null,
   "id": "c7ed5737",
   "metadata": {
    "slideshow": {
     "slide_type": "fragment"
    }
   },
   "outputs": [],
   "source": [
    "# -----------------------------------\n",
    "# Data Types\n",
    "# -----------------------------------\n",
    "x= 7         # an integer \n",
    "y= \"hello\"   # a string of text \n",
    "z= True      # a boolean (true/false) \n",
    "# -----------------------------------\n",
    "\n",
    "\n",
    "# -----------------------------------\n",
    "# Conditional Statements\n",
    "# -----------------------------------\n",
    "number = 5\n",
    "\n",
    "my_boolean = number > 0\n",
    "\n",
    "if my_boolean:\n",
    "    print(\"Positive number\")\n",
    "# -----------------------------------\n",
    "\n",
    "\n",
    "# -----------------------------------\n",
    "# While Loops\n",
    "# -----------------------------------\n",
    "number = 5\n",
    "\n",
    "my_boolean = number > 0\n",
    "\n",
    "while my_boolean:\n",
    "    number = number - 1\n",
    "    my_boolean = number > 0\n",
    "    print(\"number is \" + str(number))\n",
    "# -----------------------------------\n",
    "\n",
    "\n",
    "# -----------------------------------\n",
    "# For Loops\n",
    "# -----------------------------------\n",
    "numbers = [1, 2, 3, 4, 5]\n",
    "for n in numbers:\n",
    "    print(n)\n",
    "# -----------------------------------\n",
    "\n",
    "\n",
    "# -----------------------------------\n",
    "# Functions\n",
    "# -----------------------------------\n",
    "# This is a function:\n",
    "def print_double_and_add_one(x):\n",
    "    # Double x and add 1\n",
    "    y = x * 2 + 1\n",
    "    print(y)\n",
    "# -----------------------------------"
   ]
  },
  {
   "cell_type": "markdown",
   "id": "de7ef7a4",
   "metadata": {
    "slideshow": {
     "slide_type": "slide"
    }
   },
   "source": [
    "## Recap: The Course So Far\n",
    "\n",
    " - Before moving on to the next parts of the course...\n",
    "    - `NumPy`, `Pandas` and `Matplotlib`\n",
    " - ... this week we are going to do some \"consolidation challenges\"\n",
    "    - Using what we have learnt to tackle the kinds of tasks you might encounter in the real world"
   ]
  },
  {
   "cell_type": "markdown",
   "id": "9202ea1f",
   "metadata": {
    "slideshow": {
     "slide_type": "slide"
    }
   },
   "source": [
    "## Aside: Dictionaries\n",
    "\n",
    " - Before we dive into today's work, there is one concept we'd like to revisit in more detail\n",
    " - A dictionary, or `dict`, is a data type in Python\n",
    "   - It allows us to store `value`s under `key`s\n",
    " - Think of a real-life dictionary\n",
    "   - You look up a word (the `key`)\n",
    "   - You read its definition (the `value`)\n",
    " - In the same way, a Python `dict` lets you\n",
    "   - You look up a `key`\n",
    "   - Get back the `value` associated with it\n",
    "\n",
    "\n",
    "<img src=\"./images/dict.png\" alt=\"Welcome page for the unit on Blackboard\" style=\"display:block;margin-left:auto;margin-right:auto;width:60%\"/>"
   ]
  },
  {
   "cell_type": "code",
   "execution_count": null,
   "id": "184a77b6",
   "metadata": {
    "slideshow": {
     "slide_type": "fragment"
    }
   },
   "outputs": [],
   "source": [
    "# Define a dictionary with two key-value pairs\n",
    "my_dict = {\n",
    "    \"apple\": \"a sweet red or green fruit\",\n",
    "    \"book\": \"a set of written or printed pages bound together\"\n",
    "}\n",
    "\n",
    "# Look up the value for the key 'apple'\n",
    "print(my_dict[\"apple\"])"
   ]
  },
  {
   "cell_type": "markdown",
   "id": "8b831279",
   "metadata": {
    "slideshow": {
     "slide_type": "slide"
    }
   },
   "source": [
    "## Aside: Dictionaries\n",
    "\n",
    " - New values can be added to the dictionary using the syntax\n",
    "\n",
    "   - `my_dict[key] = value`\n"
   ]
  },
  {
   "cell_type": "code",
   "execution_count": null,
   "id": "7fd9edbd",
   "metadata": {
    "slideshow": {
     "slide_type": "fragment"
    }
   },
   "outputs": [],
   "source": [
    "# Existing dictionary\n",
    "my_dict = {\n",
    "    \"apple\": \"a sweet red or green fruit\",\n",
    "    \"book\": \"a set of written or printed pages bound together\"\n",
    "}\n",
    "\n",
    "# Add a new key-value pair\n",
    "my_dict[\"chair\"] = \"a piece of furniture for sitting\"\n",
    "\n",
    "# Print the value for the key 'chair'\n",
    "print(my_dict[\"chair\"])"
   ]
  },
  {
   "cell_type": "markdown",
   "id": "18223b43",
   "metadata": {
    "slideshow": {
     "slide_type": "slide"
    }
   },
   "source": [
    "## Aside: Dictionaries\n",
    "\n",
    " - And keys and values can be any datatype you like \n",
    "\n",
    "   - They don't have to be strings!\n"
   ]
  },
  {
   "cell_type": "code",
   "execution_count": null,
   "id": "89921501",
   "metadata": {
    "slideshow": {
     "slide_type": "fragment"
    }
   },
   "outputs": [],
   "source": [
    "# Dictionary with different key and value types\n",
    "my_dict = {\n",
    "    1: \"one\",\n",
    "    \"fruit\": [\"apple\", \"banana\", \"cherry\"],\n",
    "    3.14: \"pi\"\n",
    "}\n",
    "\n",
    "# Print the value for the key \"fruit\"\n",
    "print(my_dict[\"fruit\"])\n",
    "\n",
    "# Print the value for the key 3.14\n",
    "print(my_dict[3.14])"
   ]
  },
  {
   "cell_type": "markdown",
   "id": "32e76c1c",
   "metadata": {
    "slideshow": {
     "slide_type": "slide"
    }
   },
   "source": [
    "## Aside: Dictionaries\n",
    "\n",
    " - Dictionaries will be crucial to some of today's challenges as well as throughout the rest of this course\n",
    " - If you are unsure about these please take the time to read over:\n",
    "\n",
    "   - `Week 1's intermediate notebook`\n",
    "     `Section: Sets and Dictionaries`\n",
    " - You can do this either in today's class or over the week 6 break"
   ]
  },
  {
   "cell_type": "markdown",
   "id": "659106f8",
   "metadata": {
    "slideshow": {
     "slide_type": "slide"
    }
   },
   "source": [
    "## Tackling Difficult Problems\n",
    "\n",
    " - Today, we're going to be looking at some challenge problems\n",
    " - These problems may feel a little more open-ended than you are used to\n",
    "   - This can be a little daunting at first\n",
    "   - But do not worry...\n",
    "   - You already have all the skills necessary to complete the tasks!\n",
    " - When faced with a difficult coding problem, here's some general tips to help you get started out"
   ]
  },
  {
   "cell_type": "markdown",
   "id": "73d38950",
   "metadata": {
    "slideshow": {
     "slide_type": "slide"
    }
   },
   "source": [
    "## Tackling Difficult Problems\n",
    "\n",
    " - **Plan before you code**\n",
    "\n",
    "   - Before you start coding, grab a pen and paper and try to solve the problem by hand!\n",
    "\n",
    " - **Clarify inputs and outputs**\n",
    "\n",
    "   - When getting started think about what you have and what you need – these are probably your inputs and outputs\n",
    " - **Look for structure and repetition**\n",
    "\n",
    "   - When you convert your thoughts to code, ask yourself which parts of the code are repetitive or self-contained"
   ]
  },
  {
   "cell_type": "markdown",
   "id": "ea1aa806",
   "metadata": {
    "slideshow": {
     "slide_type": "slide"
    }
   },
   "source": [
    "## Tackling Difficult Problems\n",
    "\n",
    " - **Divide and Conquer**\n",
    "\n",
    "   - Try to break the task down into smaller chunks where possible!\n",
    " - **Talk things through**\n",
    "\n",
    "   - If you are struggling to get started, talk through the problem with a friend or peer\n",
    " - **Use Resources**\n",
    "\n",
    "   - Googling and looking up documentation are key coding skills\n",
    " - **Trust your own process**\n",
    "\n",
    "   - Try to avoid using AI to make structural decisions about your code\n"
   ]
  },
  {
   "cell_type": "markdown",
   "id": "c391b1e4",
   "metadata": {
    "slideshow": {
     "slide_type": "slide"
    }
   },
   "source": [
    "## Tackling Difficult Problems\n",
    "\n",
    "\n",
    " - Above all, remember…\n",
    "\n",
    "   - Coding can be hard!\n",
    "\n",
    " - It can feel like you are running into the same problems over and over again sometimes\n",
    "\n",
    "   - This is a normal part of the process\n",
    " - If you keep trying *you will get there*\n"
   ]
  },
  {
   "cell_type": "markdown",
   "id": "22fb42a3",
   "metadata": {
    "slideshow": {
     "slide_type": "slide"
    }
   },
   "source": [
    "## A Worked Example\n",
    "\n",
    "\n",
    " - Let's go through an example together to see these principles in action:\n",
    " \n",
    " > **Question:** Write some code which, for a given positive integer $n$, finds the largest prime number that is less than or equal to $n$.\n",
    " \n",
    " - Principles:\n",
    "   - Plan before you code\n",
    "   - Clarify inputs and outputs \n",
    "   - Look for structure and repetition\n",
    "   - Divide and conquer\n",
    "   - Talk things through\n",
    "   - Trust your own process"
   ]
  },
  {
   "cell_type": "code",
   "execution_count": null,
   "id": "f132e905",
   "metadata": {
    "slideshow": {
     "slide_type": "fragment"
    }
   },
   "outputs": [],
   "source": [
    "# Write your code here..."
   ]
  },
  {
   "cell_type": "markdown",
   "id": "2b8b580b",
   "metadata": {
    "slideshow": {
     "slide_type": "slide"
    }
   },
   "source": [
    "## Practical\n",
    "\n",
    " - We now move over to Python\n",
    " - Please open [week_05_home.ipynb](./week_05_home.ipynb)\n",
    " - For the rest of today, you must work through a Python notebook\n",
    " - This week is a little different...\n",
    " - Please choose the challenge according to your course\n",
    "   - [Chemistry Challenge](week_05_chemistry.ipynb)\n",
    "   - [Data Science Challenge](week_05_data_science.ipynb)\n",
    "   - [Physics Challenge](week_05_physics.ipynb)"
   ]
  }
 ],
 "metadata": {
  "celltoolbar": "Slideshow",
  "kernelspec": {
   "display_name": "Python 3 (ipykernel)",
   "language": "python",
   "name": "python3"
  },
  "language_info": {
   "codemirror_mode": {
    "name": "ipython",
    "version": 3
   },
   "file_extension": ".py",
   "mimetype": "text/x-python",
   "name": "python",
   "nbconvert_exporter": "python",
   "pygments_lexer": "ipython3",
   "version": "3.9.13"
  }
 },
 "nbformat": 4,
 "nbformat_minor": 5
}
