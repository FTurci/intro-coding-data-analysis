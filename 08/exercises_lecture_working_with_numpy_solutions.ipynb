{
 "cells": [
  {
   "cell_type": "markdown",
   "id": "2e162467",
   "metadata": {},
   "source": [
    "# Exercises - Working with NumPy"
   ]
  },
  {
   "cell_type": "markdown",
   "id": "ecf3ad44",
   "metadata": {},
   "source": [
    "### Exercise 1: Basic Indexing\n",
    "Create a 1D NumPy array `arr` of integers from 10 to 19. Access the element at index 3."
   ]
  },
  {
   "cell_type": "code",
   "execution_count": 2,
   "id": "63465cbb",
   "metadata": {
    "tags": [
     "sol"
    ]
   },
   "outputs": [
    {
     "data": {
      "text/plain": [
       "13"
      ]
     },
     "execution_count": 2,
     "metadata": {},
     "output_type": "execute_result"
    }
   ],
   "source": [
    "import numpy as np\n",
    "arr = np.arange(10, 20)\n",
    "arr[3]"
   ]
  },
  {
   "cell_type": "markdown",
   "id": "c8002ea2",
   "metadata": {},
   "source": [
    "### Exercise 2: Slicing\n",
    "Slice the array `arr` to get elements from index 2 to 6 included."
   ]
  },
  {
   "cell_type": "code",
   "execution_count": 3,
   "id": "5cc0384e",
   "metadata": {
    "tags": [
     "sol"
    ]
   },
   "outputs": [
    {
     "data": {
      "text/plain": [
       "array([12, 13, 14, 15, 16])"
      ]
     },
     "execution_count": 3,
     "metadata": {},
     "output_type": "execute_result"
    }
   ],
   "source": [
    "arr = np.arange(10, 20)\n",
    "arr[2:7]"
   ]
  },
  {
   "cell_type": "markdown",
   "id": "42a96f61",
   "metadata": {},
   "source": [
    "### Exercise 3: Step Slicing\n",
    "Use slicing with a step to get every second element from index 1 to 9."
   ]
  },
  {
   "cell_type": "code",
   "execution_count": 4,
   "id": "b32125f7",
   "metadata": {
    "tags": [
     "sol"
    ]
   },
   "outputs": [
    {
     "data": {
      "text/plain": [
       "array([11, 13, 15, 17, 19])"
      ]
     },
     "execution_count": 4,
     "metadata": {},
     "output_type": "execute_result"
    }
   ],
   "source": [
    "arr = np.arange(10, 20)\n",
    "arr[1:10:2]"
   ]
  },
  {
   "cell_type": "markdown",
   "id": "94aeda6e",
   "metadata": {},
   "source": [
    "### Exercise 4: Copy vs View\n",
    "Demonstrate that slicing creates a view, not a copy, by modifying a slice and showing the original array changes."
   ]
  },
  {
   "cell_type": "code",
   "execution_count": 5,
   "id": "393f3d03",
   "metadata": {
    "tags": [
     "sol"
    ]
   },
   "outputs": [
    {
     "data": {
      "text/plain": [
       "array([10, 11, 99, 99, 99, 15, 16, 17, 18, 19])"
      ]
     },
     "execution_count": 5,
     "metadata": {},
     "output_type": "execute_result"
    }
   ],
   "source": [
    "arr = np.arange(10, 20)\n",
    "slice_view = arr[2:5]\n",
    "slice_view[:] = 99\n",
    "arr"
   ]
  },
  {
   "cell_type": "markdown",
   "id": "7cc137e7",
   "metadata": {},
   "source": [
    "### Exercise 5: Copying Arrays\n",
    "Use `.copy()` to create a slice that doesn't affect the original array. In particular, select only the elements from index 2 to 5 and assign 99 to all of them. Show that the original array remains unchanged."
   ]
  },
  {
   "cell_type": "code",
   "execution_count": 6,
   "id": "c70cd7b8",
   "metadata": {
    "tags": [
     "sol"
    ]
   },
   "outputs": [
    {
     "data": {
      "text/plain": [
       "array([10, 11, 12, 13, 14, 15, 16, 17, 18, 19])"
      ]
     },
     "execution_count": 6,
     "metadata": {},
     "output_type": "execute_result"
    }
   ],
   "source": [
    "arr = np.arange(10, 20)\n",
    "slice_copy = arr[2:5].copy()\n",
    "slice_copy[:] = 99\n",
    "arr"
   ]
  },
  {
   "cell_type": "markdown",
   "id": "5362861c",
   "metadata": {},
   "source": [
    "### Exercise 6: Generating sequences and Boolean indexing\n",
    "\n",
    "Generate a NumPy sequence of 100 integers from 0 to 99. Use Boolean indexing to select only the even numbers from this array."
   ]
  },
  {
   "cell_type": "code",
   "execution_count": 8,
   "id": "d1ba664a",
   "metadata": {
    "tags": [
     "sol"
    ]
   },
   "outputs": [
    {
     "data": {
      "text/plain": [
       "array([ 0,  2,  4,  6,  8, 10, 12, 14, 16, 18, 20, 22, 24, 26, 28, 30, 32,\n",
       "       34, 36, 38, 40, 42, 44, 46, 48, 50, 52, 54, 56, 58, 60, 62, 64, 66,\n",
       "       68, 70, 72, 74, 76, 78, 80, 82, 84, 86, 88, 90, 92, 94, 96, 98])"
      ]
     },
     "execution_count": 8,
     "metadata": {},
     "output_type": "execute_result"
    }
   ],
   "source": [
    "arr = np.arange(0, 100)\n",
    "even_numbers = arr[arr % 2 == 0]\n",
    "even_numbers\n"
   ]
  },
  {
   "cell_type": "markdown",
   "id": "09e0e4bd",
   "metadata": {},
   "source": [
    "### Exercise 8: Random Array Generation\n",
    "\n",
    "Random numbers from arbitrary distributions are in fact generated through the transformation of uniformly distributed random numbers.\n",
    "\n",
    "The trick is the following:\n",
    "\n",
    "- calculate the cumulative distribution function (CDF) of the desired distribution\n",
    "- calculate the inverse of the CDF (also known as the quantile function), which maps probabilities (values between 0 and 1) to values of the random variable\n",
    "- sample a uniformly distributed random number between 0 and 1 and use the the inverse CDF to read off the value of the random variable.\n",
    "\n",
    "\n",
    "Let's take the example of the exponential distribution. This is defined by the following probability density function (PDF):\n",
    "\n",
    "$$\n",
    "f(x) = \\lambda e^{-\\lambda x}\n",
    "$$\n",
    "with mean $1/\\lambda$ and standard deviation $1/\\lambda$. \n",
    "\n",
    "The CDF of the exponential distribution is given by:\n",
    "\n",
    "$$F(x) = 1 - e^{-\\lambda x}\n",
    "$$\n",
    "\n",
    "So its inverse is:\n",
    "$$F^{-1}(p) = -\\frac{1}{\\lambda} \\ln(1 - p)$$\n",
    "\n",
    "So in the following cell:\n",
    "\n",
    "- define a random number generator `rng` with a fixed seed 10\n",
    "- sample 1000 uniformly distributed random numbers between 0 and 1\n",
    "- use the inverse CDF to transform them into exponentially distributed random numbers with mean  30.0\n",
    "- calculate the mean and standard deviation of the resulting array.\n",
    "- compare this with the results obtained using `rng.exponential`.\n"
   ]
  },
  {
   "cell_type": "code",
   "execution_count": 13,
   "id": "2c4e8090",
   "metadata": {
    "tags": [
     "sol"
    ]
   },
   "outputs": [
    {
     "name": "stdout",
     "output_type": "stream",
     "text": [
      "Direct method using the inverse CDF: mean=30.68, std=31.96\n",
      "rng.exponential: mean=30.19, std=30.78\n"
     ]
    }
   ],
   "source": [
    "# Define random number generator with fixed seed\n",
    "rng = np.random.default_rng(10)\n",
    "\n",
    "# Sample 1000 uniformly distributed random numbers between 0 and 1\n",
    "uniform_samples = rng.uniform(0, 1, 1000)\n",
    "\n",
    "# Exponential distribution parameters\n",
    "mean = 30.0\n",
    "lmbda = 1 / mean\n",
    "\n",
    "# Use inverse CDF to transform to exponential distribution\n",
    "exp_samples_inv = -np.log(1 - uniform_samples) / lmbda\n",
    "\n",
    "# Calculate mean and standard deviation\n",
    "mean_inv = exp_samples_inv.mean()\n",
    "std_inv = exp_samples_inv.std()\n",
    "\n",
    "# Compare with rng.exponential\n",
    "exp_samples_builtin = rng.exponential(mean, 1000)\n",
    "mean_builtin = exp_samples_builtin.mean()\n",
    "std_builtin = exp_samples_builtin.std()\n",
    "\n",
    "print(f\"Direct method using the inverse CDF: mean={mean_inv:.2f}, std={std_inv:.2f}\")\n",
    "print(f\"rng.exponential: mean={mean_builtin:.2f}, std={std_builtin:.2f}\")\n"
   ]
  },
  {
   "cell_type": "markdown",
   "id": "d65347e6",
   "metadata": {},
   "source": [
    "## Exercise 9: Problem solving with NumPy\n",
    "\n",
    "Consider the following problem:\n",
    "\n",
    "> A panoramic wheel (a Ferris wheel) with a radius of 10 meters rotates anti-clockwise at a constant speed of 2 revolutions per minute. A passenger is seated in a car at the edge of the wheel. **Calculate the trajectory of the passenger with respect to the center of the wheel for the duration of 30 seconds, with a time resolution of 2 seconds, assuming they start at the rightmost point of the wheel.**\n",
    "\n",
    "The problem is a two-dimensional problem. The passenger has coordinates $x(t), y(t)$ and is performing uniform rotational motion, with angular velocity $\\omega$ and radius $R$. \n",
    "\n",
    "The angle formed at which the passenger is located is $\\theta(t)$ and simply evolves as \n",
    "\n",
    "$$\\theta(t) = \\omega t +\\theta_0$$\n",
    "\n",
    "where $\\theta_0$ is the initial angle ($\\theta_0=0$ in our case).\n",
    "\n",
    "\n",
    "Hence, the trajectory is expressed by \n",
    "\n",
    "$$\n",
    "\\begin{align}\n",
    "x(t) & = R\\cos\\theta(t) = R \\cos{\\omega t}+x_0\\\\\n",
    "y(t) & = R\\sin\\theta(t)  = R \\sin{\\omega t}+y_0\n",
    "\\end{align}\n",
    "$$\n",
    "\n",
    "\n",
    "So, we have all the theoretical knowledge that we need to solve the problem. How can we translate this into code?\n",
    "\n",
    "The first approach is via using vanilla Python"
   ]
  },
  {
   "cell_type": "code",
   "execution_count": 16,
   "id": "7b5c84f4",
   "metadata": {},
   "outputs": [
    {
     "data": {
      "image/png": "[encoded data removed]",
      "text/plain": [
       "<Figure size 640x480 with 1 Axes>"
      ]
     },
     "metadata": {},
     "output_type": "display_data"
    }
   ],
   "source": [
    "import math\n",
    "R = 10.0 #in metres\n",
    "omega = 2.0*2*math.pi/60. # in radians per second\n",
    "x0 = R # in metres\n",
    "y0 = 0 # in metres\n",
    "dt = 2.0 # in seconds\n",
    "duration = 20.0 #in seconds\n",
    "num_iterations  = int(duration/dt)\n",
    "x, y = [], []\n",
    "t = 0\n",
    "for _ in range(num_iterations):\n",
    "    x.append(R*math.cos(omega*t)+x0)\n",
    "    y.append(R*math.sin(omega*t)+y0)\n",
    "    t += dt \n",
    "\n",
    "# plotting, ignore the details for now sicne we will cover this in a later lecture\n",
    "import matplotlib.pyplot as plt\n",
    "plt.scatter(x,y)\n",
    "plt.axis(\"equal\")\n",
    "plt.show()"
   ]
  },
  {
   "cell_type": "markdown",
   "id": "9807862e",
   "metadata": {},
   "source": [
    "The question now is: can you simpify this code by using NumPy? Your focus should be on **avoiding for loops** and using NumPy's array operations instead."
   ]
  },
  {
   "cell_type": "code",
   "execution_count": 18,
   "id": "c3aee235",
   "metadata": {
    "tags": [
     "sol"
    ]
   },
   "outputs": [
    {
     "data": {
      "text/plain": [
       "(-10.77054980770496,\n",
       " 10.989073800366903,\n",
       " -6.669006096755103,\n",
       " 10.736372527513106)"
      ]
     },
     "execution_count": 18,
     "metadata": {},
     "output_type": "execute_result"
    },
    {
     "data": {
      "image/png": "[encoded data removed]",
      "text/plain": [
       "<Figure size 640x480 with 1 Axes>"
      ]
     },
     "metadata": {},
     "output_type": "display_data"
    }
   ],
   "source": [
    "# solution\n",
    "import numpy as np\n",
    "R = 10.0\n",
    "# numpy also contains all the useful mathematical constants\n",
    "omega = 2.0*2*np.pi/60.\n",
    "theta0 = 0\n",
    "dt = 2.0\n",
    "duration = 20.0\n",
    "\n",
    "# using numpy arrays, the for loop is replaced by the creation of an array\n",
    "t = np.arange(0,duration,dt) \n",
    "# from the array t, we can generate any other array, for example  by multiplying by a scalar\n",
    "theta = omega*t+theta0\n",
    "# now theta is another array, and we can apply a numpy function, such as np.cos\n",
    "x = R*np.cos(theta)\n",
    "y = R*np.sin(theta)\n",
    "\n",
    "# plotting, ignore the details for now\n",
    "import matplotlib.pyplot as plt\n",
    "plt.scatter(x,y)\n",
    "plt.axis(\"equal\")"
   ]
  },
  {
   "cell_type": "code",
   "execution_count": null,
   "id": "5cfc3af2",
   "metadata": {},
   "outputs": [],
   "source": []
  }
 ],
 "metadata": {
  "kernelspec": {
   "display_name": "3.11.1",
   "language": "python",
   "name": "python3"
  },
  "language_info": {
   "codemirror_mode": {
    "name": "ipython",
    "version": 3
   },
   "file_extension": ".py",
   "mimetype": "text/x-python",
   "name": "python",
   "nbconvert_exporter": "python",
   "pygments_lexer": "ipython3",
   "version": "3.11.1"
  }
 },
 "nbformat": 4,
 "nbformat_minor": 5
}
