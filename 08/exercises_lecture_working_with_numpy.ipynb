{
 "cells": [
  {
   "cell_type": "markdown",
   "id": "2e162467",
   "metadata": {},
   "source": [
    "# Exercises - Working with NumPy"
   ]
  },
  {
   "cell_type": "markdown",
   "id": "ecf3ad44",
   "metadata": {},
   "source": [
    "### Exercise 1: Basic Indexing\n",
    "Create a 1D NumPy array `arr` of integers from 10 to 19. Access the element at index 3."
   ]
  },
  {
   "cell_type": "code",
   "execution_count": null,
   "id": "63465cbb",
   "metadata": {
    "tags": [
     "sol"
    ]
   },
   "outputs": [],
   "source": [
    "# Your code here"
   ]
  },
  {
   "cell_type": "markdown",
   "id": "c8002ea2",
   "metadata": {},
   "source": [
    "### Exercise 2: Slicing\n",
    "Slice the array `arr` to get elements from index 2 to 6 included."
   ]
  },
  {
   "cell_type": "code",
   "execution_count": null,
   "id": "5cc0384e",
   "metadata": {
    "tags": [
     "sol"
    ]
   },
   "outputs": [],
   "source": [
    "# Your code here"
   ]
  },
  {
   "cell_type": "markdown",
   "id": "42a96f61",
   "metadata": {},
   "source": [
    "### Exercise 3: Step Slicing\n",
    "Use slicing with a step to get every second element from index 1 to 9."
   ]
  },
  {
   "cell_type": "code",
   "execution_count": null,
   "id": "b32125f7",
   "metadata": {
    "tags": [
     "sol"
    ]
   },
   "outputs": [],
   "source": [
    "# Your code here"
   ]
  },
  {
   "cell_type": "markdown",
   "id": "94aeda6e",
   "metadata": {},
   "source": [
    "### Exercise 4: Copy vs View\n",
    "Demonstrate that slicing creates a view, not a copy, by modifying a slice and showing the original array changes."
   ]
  },
  {
   "cell_type": "code",
   "execution_count": null,
   "id": "393f3d03",
   "metadata": {
    "tags": [
     "sol"
    ]
   },
   "outputs": [],
   "source": [
    "# Your code here"
   ]
  },
  {
   "cell_type": "markdown",
   "id": "7cc137e7",
   "metadata": {},
   "source": [
    "### Exercise 5: Copying Arrays\n",
    "Use `.copy()` to create a slice that doesn't affect the original array. In particular, select only the elements from index 2 to 5 and assign 99 to all of them. Show that the original array remains unchanged."
   ]
  },
  {
   "cell_type": "code",
   "execution_count": null,
   "id": "c70cd7b8",
   "metadata": {
    "tags": [
     "sol"
    ]
   },
   "outputs": [],
   "source": [
    "# Your code here"
   ]
  },
  {
   "cell_type": "markdown",
   "id": "5362861c",
   "metadata": {},
   "source": [
    "### Exercise 6: Generating sequences and Boolean indexing\n",
    "\n",
    "Generate a NumPy sequence of 100 integers from 0 to 99. Use Boolean indexing to select only the even numbers from this array."
   ]
  },
  {
   "cell_type": "code",
   "execution_count": null,
   "id": "d1ba664a",
   "metadata": {
    "tags": [
     "sol"
    ]
   },
   "outputs": [],
   "source": [
    "# Your code here"
   ]
  },
  {
   "cell_type": "markdown",
   "id": "09e0e4bd",
   "metadata": {},
   "source": [
    "### Exercise 8: Random Array Generation\n",
    "\n",
    "Random numbers from arbitrary distributions are in fact generated through the transformation of uniformly distributed random numbers.\n",
    "\n",
    "The trick is the following:\n",
    "\n",
    "- calculate the cumulative distribution function (CDF) of the desired distribution\n",
    "- calculate the inverse of the CDF (also known as the quantile function), which maps probabilities (values between 0 and 1) to values of the random variable\n",
    "- sample a uniformly distributed random number between 0 and 1 and use the the inverse CDF to read off the value of the random variable.\n",
    "\n",
    "\n",
    "Let's take the example of the exponential distribution. This is defined by the following probability density function (PDF):\n",
    "\n",
    "$$\n",
    "f(x) = \\lambda e^{-\\lambda x}\n",
    "$$\n",
    "with mean $1/\\lambda$ and standard deviation $1/\\lambda$. \n",
    "\n",
    "The CDF of the exponential distribution is given by:\n",
    "\n",
    "$$F(x) = 1 - e^{-\\lambda x}\n",
    "$$\n",
    "\n",
    "So its inverse is:\n",
    "$$F^{-1}(p) = -\\frac{1}{\\lambda} \\ln(1 - p)$$\n",
    "\n",
    "So in the following cell:\n",
    "\n",
    "- define a random number generator `rng` with a fixed seed 10\n",
    "- sample 1000 uniformly distributed random numbers between 0 and 1\n",
    "- use the inverse CDF to transform them into exponentially distributed random numbers with mean  30.0\n",
    "- calculate the mean and standard deviation of the resulting array.\n",
    "- compare this with the results obtained using `rng.exponential`.\n"
   ]
  },
  {
   "cell_type": "code",
   "execution_count": null,
   "id": "2c4e8090",
   "metadata": {
    "tags": [
     "sol"
    ]
   },
   "outputs": [],
   "source": [
    "# Your code here"
   ]
  },
  {
   "cell_type": "markdown",
   "id": "d65347e6",
   "metadata": {},
   "source": [
    "## Exercise 9: Problem solving with NumPy\n",
    "\n",
    "Consider the following problem:\n",
    "\n",
    "> A panoramic wheel (a Ferris wheel) with a radius of 10 meters rotates anti-clockwise at a constant speed of 2 revolutions per minute. A passenger is seated in a car at the edge of the wheel. **Calculate the trajectory of the passenger with respect to the center of the wheel for the duration of 30 seconds, with a time resolution of 2 seconds, assuming they start at the rightmost point of the wheel.**\n",
    "\n",
    "The problem is a two-dimensional problem. The passenger has coordinates $x(t), y(t)$ and is performing uniform rotational motion, with angular velocity $\\omega$ and radius $R$. \n",
    "\n",
    "The angle formed at which the passenger is located is $\\theta(t)$ and simply evolves as \n",
    "\n",
    "$$\\theta(t) = \\omega t +\\theta_0$$\n",
    "\n",
    "where $\\theta_0$ is the initial angle ($\\theta_0=0$ in our case).\n",
    "\n",
    "\n",
    "Hence, the trajectory is expressed by \n",
    "\n",
    "$$\n",
    "\\begin{align}\n",
    "x(t) & = R\\cos\\theta(t) = R \\cos{\\omega t}+x_0\\\\\n",
    "y(t) & = R\\sin\\theta(t)  = R \\sin{\\omega t}+y_0\n",
    "\\end{align}\n",
    "$$\n",
    "\n",
    "\n",
    "So, we have all the theoretical knowledge that we need to solve the problem. How can we translate this into code?\n",
    "\n",
    "The first approach is via using vanilla Python"
   ]
  },
  {
   "cell_type": "code",
   "execution_count": 16,
   "id": "7b5c84f4",
   "metadata": {},
   "outputs": [
    {
     "data": {
      "image/png": "[encoded data removed]",
      "text/plain": [
       "<Figure size 640x480 with 1 Axes>"
      ]
     },
     "metadata": {},
     "output_type": "display_data"
    }
   ],
   "source": [
    "import math\n",
    "R = 10.0 #in metres\n",
    "omega = 2.0*2*math.pi/60. # in radians per second\n",
    "x0 = R # in metres\n",
    "y0 = 0 # in metres\n",
    "dt = 2.0 # in seconds\n",
    "duration = 20.0 #in seconds\n",
    "num_iterations  = int(duration/dt)\n",
    "x, y = [], []\n",
    "t = 0\n",
    "for _ in range(num_iterations):\n",
    "    x.append(R*math.cos(omega*t)+x0)\n",
    "    y.append(R*math.sin(omega*t)+y0)\n",
    "    t += dt \n",
    "\n",
    "# plotting, ignore the details for now sicne we will cover this in a later lecture\n",
    "import matplotlib.pyplot as plt\n",
    "plt.scatter(x,y)\n",
    "plt.axis(\"equal\")\n",
    "plt.show()"
   ]
  },
  {
   "cell_type": "markdown",
   "id": "9807862e",
   "metadata": {},
   "source": [
    "The question now is: can you simpify this code by using NumPy? Your focus should be on **avoiding for loops** and using NumPy's array operations instead."
   ]
  },
  {
   "cell_type": "code",
   "execution_count": null,
   "id": "c3aee235",
   "metadata": {
    "tags": [
     "sol"
    ]
   },
   "outputs": [],
   "source": [
    "# Your code here"
   ]
  },
  {
   "cell_type": "code",
   "execution_count": null,
   "id": "5cfc3af2",
   "metadata": {},
   "outputs": [],
   "source": []
  }
 ],
 "metadata": {
  "kernelspec": {
   "display_name": "3.11.1",
   "language": "python",
   "name": "python3"
  },
  "language_info": {
   "codemirror_mode": {
    "name": "ipython",
    "version": 3
   },
   "file_extension": ".py",
   "mimetype": "text/x-python",
   "name": "python",
   "nbconvert_exporter": "python",
   "pygments_lexer": "ipython3",
   "version": "3.11.1"
  }
 },
 "nbformat": 4,
 "nbformat_minor": 5
}
