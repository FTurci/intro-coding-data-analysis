{
 "cells": [
  {
   "cell_type": "markdown",
   "id": "f65d20c2",
   "metadata": {},
   "source": [
    "# Working with Arrays in NumPy: Indexing and Random Data Generation\n",
    "\n",
    "\n",
    "NumPy is a powerful library for numerical computing in Python, providing efficient multi-dimensional array operations and a wide range of mathematical functions. With NumPy, you can perform fast element-wise computations, advanced indexing, slicing, and generate random data for simulations and analysis.\n",
    "\n",
    "This notebook illustrates array indexing, boolean arrays, generating sequences using `np.arange` and `np.linspace`, and generating random samples with NumPy's random number generator."
   ]
  },
  {
   "cell_type": "markdown",
   "id": "0a077601",
   "metadata": {},
   "source": [
    "## Array indexing, slicing, views and copies\n",
    "\n",
    "Indexing in NumPy allows you to access and modify individual elements or groups of elements within an array. You can use integer indices, slices, and even boolean arrays to select data efficiently. For example:\n",
    "\n",
    "- **Integer Indexing:** Select a single element by its position.\n",
    "- **Slicing:** Extract a range of elements.\n",
    "- **Boolean Indexing:** Filter elements based on a condition.\n"
   ]
  },
  {
   "cell_type": "markdown",
   "id": "ac2936ab",
   "metadata": {},
   "source": [
    "### Integer indexing\n",
    "\n",
    "We have already seen that the lements of an array are idnexed similarly to lists. The syntax simply requires you to enter the integer index of the element you want to access. For example, if you have an array `arr`, you can access the element at index 1 using `arr[1]`. You can also slice arrays using the same syntax as lists, such as `arr[1:4]` to get elements from index 1 to 3.\n"
   ]
  },
  {
   "cell_type": "code",
   "execution_count": 1,
   "id": "77ddcc5d",
   "metadata": {},
   "outputs": [
    {
     "name": "stdout",
     "output_type": "stream",
     "text": [
      "Array: [10 20 30 40 50]\n",
      "Element at index 1: 20\n"
     ]
    }
   ],
   "source": [
    "import numpy as np\n",
    "\n",
    "arr = np.array([10, 20, 30, 40, 50])\n",
    "print(\"Array:\", arr)\n",
    "print(\"Element at index 1:\", arr[1])"
   ]
  },
  {
   "cell_type": "markdown",
   "id": "27d19f8a",
   "metadata": {},
   "source": [
    "### Slicing\n",
    "\n",
    "**Slicing** allows you to extract a portion of an array by specifying a start index, an end index, and an optional step. The syntax is similar to that used for lists in Python. For example, `arr[1:4]` retrieves elements from index 1 to 3 (the end index is exclusive).\n",
    "\n"
   ]
  },
  {
   "cell_type": "code",
   "execution_count": 2,
   "id": "ce64d43f",
   "metadata": {},
   "outputs": [
    {
     "name": "stdout",
     "output_type": "stream",
     "text": [
      "Slice from index 1 to 3: [20 30 40]\n"
     ]
    }
   ],
   "source": [
    "\n",
    "print(\"Slice from index 1 to 3:\", arr[1:4])"
   ]
  },
  {
   "cell_type": "markdown",
   "id": "2904cc21",
   "metadata": {},
   "source": [
    "### Advanced Slicing Techniques\n",
    "\n",
    "NumPy slicing can be extended beyond basic start and end indices:\n",
    "\n",
    "- **Step Size:** Use a third parameter to specify the step, e.g., `arr[::2]` selects every other element.\n",
    "- **Negative Indices:** Negative values index from the end, e.g., `arr[-3:]` gets the last three elements.\n",
    "- **Reverse Slicing:** Use a negative step to reverse an array, e.g., `arr[::-1]`.\n",
    "\n"
   ]
  },
  {
   "cell_type": "code",
   "execution_count": 67,
   "id": "af6448ec",
   "metadata": {},
   "outputs": [
    {
     "name": "stdout",
     "output_type": "stream",
     "text": [
      "Every other element: [1 3 5]\n",
      "Last three elements: [4 5 6]\n",
      "Reversed array: [6 5 4 3 2 1]\n",
      "All elements: [1 2 3 4 5 6]\n"
     ]
    }
   ],
   "source": [
    "# Step size: select every other element\n",
    "print(\"Every other element:\", arr[::2])\n",
    "\n",
    "# Negative indices: last three elements\n",
    "print(\"Last three elements:\", arr[-3:])\n",
    "\n",
    "# Reverse slicing: reverse the array\n",
    "print(\"Reversed array:\", arr[::-1])\n",
    "\n",
    "# Selecting all elements\n",
    "print(\"All elements:\", arr[:])"
   ]
  },
  {
   "cell_type": "markdown",
   "id": "9595580d",
   "metadata": {},
   "source": [
    "\n",
    "Slicing creates **views**, not copies, so modifying a slice affects the original array. Use `arr.copy()` to create a copy if needed.\n",
    "\n",
    "A **view** is a new array object that looks at the same data as the original array. Changes made to a view will affect the original array, since they share the same underlying data. For example, `arr[1:4]` returns a view of `arr`, not a separate copy."
   ]
  },
  {
   "cell_type": "code",
   "execution_count": 5,
   "id": "e245ca48",
   "metadata": {},
   "outputs": [
    {
     "name": "stdout",
     "output_type": "stream",
     "text": [
      "Original array before modification: [1 2 3 4 5 6]\n",
      "Modified slice_view: [99  4  5]\n",
      "Original array after modification: [ 1  2 99  4  5  6]\n"
     ]
    }
   ],
   "source": [
    "# Demonstrating that slicing creates a view, not a copy\n",
    "slice_view = arr[2:5]\n",
    "print(\"Original array before modification:\", arr)\n",
    "slice_view[0] = 99  # Modify the view\n",
    "print(\"Modified slice_view:\", slice_view)\n",
    "print(\"Original array after modification:\", arr)  # arr is also changed"
   ]
  },
  {
   "cell_type": "markdown",
   "id": "97e2117e",
   "metadata": {},
   "source": [
    "Slices can be programmaticaly generated using the `slice` function, which allows you to create a slice object that can be reused. For example, `s = slice(1, 4)` creates a slice object that can be used as `arr[s]` to get the same result as `arr[1:4]`."
   ]
  },
  {
   "cell_type": "code",
   "execution_count": 8,
   "id": "9d655e1d",
   "metadata": {},
   "outputs": [
    {
     "name": "stdout",
     "output_type": "stream",
     "text": [
      "Using slice(1, 4, 2) on arr: [2 4]\n"
     ]
    }
   ],
   "source": [
    "# Creating an independent copy of a slice\n",
    "example_slice = slice(1, 4, 2)\n",
    "print(\"Using slice(1, 4, 2) on arr:\", arr[example_slice])"
   ]
  },
  {
   "cell_type": "markdown",
   "id": "13473cb6",
   "metadata": {},
   "source": [
    "To create an **independent copy** of an array (rather than a view), use the `copy()` method. For example, `arr_copy = arr[1:4].copy()` creates a new array with its own data, so changes to `arr_copy` will not affect the original `arr`. This is useful when you want to modify a subset of an array without altering the original data."
   ]
  },
  {
   "cell_type": "code",
   "execution_count": 6,
   "id": "f8a2bb73",
   "metadata": {},
   "outputs": [
    {
     "name": "stdout",
     "output_type": "stream",
     "text": [
      "arr_copy: [100   4   5]\n",
      "Original arr: [ 1  2 99  4  5  6]\n"
     ]
    }
   ],
   "source": [
    "# Creating an independent copy of a slice\n",
    "arr_copy = arr[2:5].copy()\n",
    "arr_copy[0] = 100  # Modify the copy\n",
    "print(\"arr_copy:\", arr_copy)\n",
    "print(\"Original arr:\", arr)  # arr remains unchanged"
   ]
  },
  {
   "cell_type": "markdown",
   "id": "1268bd15",
   "metadata": {},
   "source": [
    "### Boolean Indexing\n",
    "\n",
    "Boolean indexing allows you to select elements from an array based on a condition. When you apply a condition to a NumPy array, it returns a **boolean** (an array that contains only True/False values ) array indicating which elements satisfy the condition. You can then use this boolean array to filter the original array, extracting only the elements that meet the criteria. This technique is powerful for data selection and analysis.\n"
   ]
  },
  {
   "cell_type": "code",
   "execution_count": 12,
   "id": "8bce6baa",
   "metadata": {},
   "outputs": [
    {
     "name": "stdout",
     "output_type": "stream",
     "text": [
      "Original array: [1 2 3 4 5 6]\n",
      "Boolean mask for threshold 3: [False False False  True  True  True]\n",
      "Filtered values: [4 5 6]\n"
     ]
    }
   ],
   "source": [
    "arr = np.array([1, 2, 3, 4, 5, 6])\n",
    "threshold = 3\n",
    "bool_mask = arr > threshold\n",
    "print(\"Original array:\", arr)\n",
    "print(f\"Boolean mask for threshold {threshold}:\", bool_mask)\n",
    "print(\"Filtered values:\", arr[bool_mask])"
   ]
  },
  {
   "cell_type": "markdown",
   "id": "01791a15",
   "metadata": {},
   "source": [
    "### Using `np.where` for conditional selection\n",
    "\n",
    "The `np.where` function in NumPy is a powerful tool for conditional selection and element-wise operations. It allows you to choose values from arrays based on a condition, returning indices or constructing new arrays.\n",
    "\n",
    "- **Basic usage:**  \n",
    "    `np.where(condition)` returns the indices where the condition is `True`.\n",
    "\n",
    "\n"
   ]
  },
  {
   "cell_type": "code",
   "execution_count": 34,
   "id": "bf564c74",
   "metadata": {},
   "outputs": [
    {
     "data": {
      "text/plain": [
       "(array([3, 4, 5]),)"
      ]
     },
     "execution_count": 34,
     "metadata": {},
     "output_type": "execute_result"
    }
   ],
   "source": [
    "np.where(arr > threshold)"
   ]
  },
  {
   "cell_type": "markdown",
   "id": "16c6d363",
   "metadata": {},
   "source": [
    "`np.where(arr > threshold)` returns a tuple because, for 1D arrays, it provides the indices where the condition is `True`. In NumPy, the output is always a tuple of arrays—one for each dimension of the input array. For a 1D array, it's a single-element tuple containing the indices. For higher dimensions, it returns a tuple with arrays for each axis. This consistent tuple format makes it easy to handle multi-dimensional indexing.\n",
    "\n",
    "So, for 1D arrays as the ones considered up to now, we should get the indices by extracting the first element of the tuple returned by `np.where`"
   ]
  },
  {
   "cell_type": "code",
   "execution_count": 35,
   "id": "c800ab7b",
   "metadata": {},
   "outputs": [
    {
     "data": {
      "text/plain": [
       "array([3, 4, 5])"
      ]
     },
     "execution_count": 35,
     "metadata": {},
     "output_type": "execute_result"
    }
   ],
   "source": [
    "np.where(arr > threshold)[0]"
   ]
  },
  {
   "cell_type": "markdown",
   "id": "0ffc481f",
   "metadata": {},
   "source": [
    "\n",
    "- **Element-wise selection:**  \n",
    "    `np.where(condition, x, y)` returns elements from `x` where the condition is `True`, and from `y` where it is `False`. Here the result is an array of the same shape as `x` and `y`, containing values from `x` where the condition is met, and from `y` otherwise. This is useful for creating new arrays based on conditions without using loops.\n",
    "\n",
    "\n",
    "\n"
   ]
  },
  {
   "cell_type": "code",
   "execution_count": 33,
   "id": "de0e3f8f",
   "metadata": {},
   "outputs": [
    {
     "name": "stdout",
     "output_type": "stream",
     "text": [
      "[10 20  3  4  5]\n"
     ]
    }
   ],
   "source": [
    "a  = np.array([1, 2, 3, 4, 5])\n",
    "b = np.array([-1,-2, -3, - 4, -5])\n",
    "c = np.array([10, 20, 30, 40, 50])\n",
    "\n",
    "result = np.where(a > 2, x, y)\n",
    "print(result)"
   ]
  },
  {
   "cell_type": "markdown",
   "id": "dfe7ab56",
   "metadata": {},
   "source": [
    "\n",
    "\n",
    "This creates a new array where each element is `100` if the condition is met, otherwise `0`."
   ]
  },
  {
   "cell_type": "markdown",
   "id": "96deae7c",
   "metadata": {},
   "source": [
    "## Function to generate numerical arrays\n",
    "\n",
    "NumPy provides automated methods for generating numerical sequences, which are essential for simulations, sampling, and creating structured data. \n",
    "\n",
    "### Generating sequences\n",
    "\n",
    "The two most used functions for generating  ordered numerical sequences in NumPy are `np.arange` and `np.linspace`.\n",
    "\n",
    "- **`np.arange(start, stop, step)`**: Generates an array of evenly spaced values within a specified range. The `start` value is inclusive, while the `stop` value is exclusive. The `step` parameter defines the spacing between values.\n",
    "  \n",
    "  Example: `np.arange(0, 10, 2)` produces `[0, 2, 4, 6, 8]`.\n",
    "\n",
    "- **`np.linspace(start, stop, num)`**: Creates an array of `num` evenly spaced values between `start` and `stop`, inclusive. This is useful for generating a specific number of points in a range.\n",
    "\n",
    "\n",
    "\n"
   ]
  },
  {
   "cell_type": "code",
   "execution_count": 13,
   "id": "d6155430",
   "metadata": {},
   "outputs": [
    {
     "name": "stdout",
     "output_type": "stream",
     "text": [
      "np.arange(0, 10, 2): [0 2 4 6 8]\n",
      "np.linspace(0, 1, 5): [0.   0.25 0.5  0.75 1.  ]\n"
     ]
    }
   ],
   "source": [
    "print(\"np.arange(0, 10, 2):\", np.arange(0, 10, 2))\n",
    "print(\"np.linspace(0, 1, 5):\", np.linspace(0, 1, 5))"
   ]
  },
  {
   "cell_type": "markdown",
   "id": "977cff44",
   "metadata": {},
   "source": [
    "Most importantly, these functions can be used to create arrays of any kinds of numerical data, including integers and floating-point numbers. "
   ]
  },
  {
   "cell_type": "code",
   "execution_count": null,
   "id": "22309971",
   "metadata": {},
   "outputs": [
    {
     "data": {
      "text/plain": [
       "array([0, 2, 4, 6, 8])"
      ]
     },
     "execution_count": 14,
     "metadata": {},
     "output_type": "execute_result"
    }
   ],
   "source": [
    "# integers\n",
    "np.arange(0, 10, 2)  # Creates an array with values from 0 to 10 with a step of 2"
   ]
  },
  {
   "cell_type": "code",
   "execution_count": 16,
   "id": "958bc3f9",
   "metadata": {},
   "outputs": [
    {
     "data": {
      "text/plain": [
       "array([0. , 0.2, 0.4, 0.6, 0.8])"
      ]
     },
     "execution_count": 16,
     "metadata": {},
     "output_type": "execute_result"
    }
   ],
   "source": [
    "# floating-point numbers\n",
    "np.arange(0.0, 1.0, 0.2)  # Creates an array with values from 0.0 to 1.0 with a step of 0.2"
   ]
  },
  {
   "cell_type": "code",
   "execution_count": 23,
   "id": "f878b133",
   "metadata": {},
   "outputs": [
    {
     "data": {
      "text/plain": [
       "array([0.+0.j, 2.+0.j, 4.+0.j, 6.+0.j, 8.+0.j])"
      ]
     },
     "execution_count": 23,
     "metadata": {},
     "output_type": "execute_result"
    }
   ],
   "source": [
    "# complex numbers, by using the data type specifier `dtype=complex`\n",
    "np.arange(0, 10, 2, dtype=complex)  # Creates an array with complex numbers from 0 to 10 with a step of 2\n"
   ]
  },
  {
   "cell_type": "markdown",
   "id": "88a7c07b",
   "metadata": {},
   "source": [
    "Notice that `linspace` is useful when we know the start and end value and the specific number of points we want to generate, while `arange` is useful when we know the start and end value and the step size between the points."
   ]
  },
  {
   "cell_type": "markdown",
   "id": "e0744211",
   "metadata": {},
   "source": [
    "## Generating filled arrays\n",
    "\n",
    "NumPy provides functions to create arrays filled with specific values, such as zeros, ones, or a constant value. These functions are useful for initializing arrays before performing computations.\n",
    "\n",
    "The main functions for generating filled arrays are:\n",
    "- **`np.zeros(shape)`**: Creates an array filled with zeros, where `shape` specifies the dimensions of the array.\n",
    "- **`np.ones(shape)`**: Creates an array filled with ones.\n",
    "- **`np.full(shape, fill_value)`**: Creates an array filled with a specified value (`fill_value`), where `shape` defines the dimensions of the array.   \n",
    "- **`np.empty(shape)`**: Creates an uninitialized array with the specified shape. The values in this array are not set to any particular value, so they may contain random data.\n",
    "\n",
    "There are also functions that create arrays with the same shape and type as an existing array, which can be useful for initializing arrays that will be used in computations:\n",
    "\n",
    "- **`np.zeros_like(array)`**: Creates an array of zeros with the same shape and type as the input array.\n",
    "- **`np.ones_like(array)`**: Creates an array of ones with the same shape and type as the input array.\n",
    "- **`np.full_like(array, fill_value)`**: Creates an array filled with a specified value, with the same shape and type as the input array."
   ]
  },
  {
   "cell_type": "code",
   "execution_count": 26,
   "id": "ef6d4b1a",
   "metadata": {},
   "outputs": [
    {
     "name": "stdout",
     "output_type": "stream",
     "text": [
      "Zeros array: [0 0 0 0 0 0]\n",
      "Ones array: [1 1 1 1 1 1]\n",
      "Full array (filled with 7): [7 7 7 7 7 7]\n",
      "An empty array:\n",
      " [0. 0. 0. 0. 0.]\n"
     ]
    }
   ],
   "source": [
    "# Examples using filled array generation functions\n",
    "\n",
    "# Create a 1D array of zeros with the same shape as arr\n",
    "zeros_arr = np.zeros_like(arr)\n",
    "print(\"Zeros array:\", zeros_arr)\n",
    "\n",
    "# Create a 1D array of ones with the same shape as arr\n",
    "ones_arr = np.ones_like(arr)\n",
    "print(\"Ones array:\", ones_arr)\n",
    "\n",
    "# Create a 1D array filled with the value 7, same shape as arr\n",
    "full_arr = np.full_like(arr, 7)\n",
    "print(\"Full array (filled with 7):\", full_arr)\n",
    "\n",
    "# Create an uninitialized array (values may be random, or zeros)\n",
    "empty_2d = np.empty(5)\n",
    "print(\"An empty array:\\n\", empty_2d)"
   ]
  },
  {
   "cell_type": "markdown",
   "id": "2d8bb6b8",
   "metadata": {},
   "source": [
    "## Random Data Generation\n",
    "\n",
    "Random data generation is essential for simulations, statistical modeling, and testing algorithms. \n",
    "\n",
    "For example, you might want to generate random samples from a normal distribution to simulate real-world data or create random datasets for testing purposes. Or you may want to simulate the effect of measurement errors in your data analysis. Or you may want to sub-sample a large dataset randomly to take a representative sample without bias.\n",
    "\n",
    "To do all this, one needs methods to sample numbers that possess the statistical properties of the desired distribution, such as uniform, normal, or binomial distributions.\n",
    "\n",
    "Strictly speaking (classical) computers are **deterministic machines**, meaning they follow a set of rules and produce the same output for the same input every time. We have therefore to use algorithms to produce sequences of numbers that mimic the properties of random numbers.\n",
    "\n",
    "These are called **pseudo-random numbers**. Pseudo-random number generators (PRNGs) use algorithms to produce sequences of numbers that appear random but are actually deterministic.\n",
    "\n",
    "A simple and classic example of a pseudo-random number generator is the **Linear Congruential Generator (LCG)**. The LCG produces a sequence of numbers using the recurrence relation:\n",
    "\n",
    "$$x_{n+1} = (a \\times  x_{n} + c)\\,\\mathrm{mod}\\, m$$\n",
    "\n",
    "where  \n",
    "- $x_n$ is the current value,  \n",
    "- $a$ is the multiplier,  \n",
    "- $c$ is the increment,  \n",
    "- $m$ is the modulus.\n",
    "\n",
    "In *vanilla* Python this looks like the following custom function\n"
   ]
  },
  {
   "cell_type": "code",
   "execution_count": 36,
   "id": "222336c2",
   "metadata": {},
   "outputs": [],
   "source": [
    "def lcg(seed, a=1664525, c=1013904223, m=2**32, size=10):\n",
    "    nums = []\n",
    "    x = seed\n",
    "    for _ in range(size):\n",
    "        x = (a * x + c) % m\n",
    "        nums.append(x)\n",
    "    return nums\n"
   ]
  },
  {
   "cell_type": "code",
   "execution_count": 39,
   "id": "d27ea65a",
   "metadata": {},
   "outputs": [
    {
     "name": "stdout",
     "output_type": "stream",
     "text": [
      "LCG sequence: [1083814273, 378494188, 2479403867, 955863294, 1613448261]\n"
     ]
    }
   ],
   "source": [
    "# Example usage:\n",
    "lcg_sequence = lcg(seed=42, size=5)\n",
    "print(\"LCG sequence:\", lcg_sequence)\n"
   ]
  },
  {
   "cell_type": "markdown",
   "id": "d3b55520",
   "metadata": {},
   "source": [
    "\n",
    "\n",
    "\n",
    "This will generate a sequence of pseudo-random integers. The choice of parameters (`a`, `c`, `m`) affects the quality and period of the generator.\n"
   ]
  },
  {
   "cell_type": "code",
   "execution_count": null,
   "id": "160e702e",
   "metadata": {},
   "outputs": [
    {
     "name": "stdout",
     "output_type": "stream",
     "text": [
      "LCG sequence with short period: [8, 11, 10, 5, 12, 15, 14, 9, 0, 3, 2, 13, 4, 7, 6, 1, 8, 11, 10, 5]\n"
     ]
    }
   ],
   "source": [
    "# Example of LCG with a short period by choosing small modulus\n",
    "short_period_seq = lcg(seed=1,  a=5, c=3, m=16, size=20)\n",
    "print(\"LCG sequence with short period:\", short_period_seq)"
   ]
  },
  {
   "cell_type": "markdown",
   "id": "d9933c9b",
   "metadata": {},
   "source": [
    "The **seed** is crucial: it is the initial value that starts the algorithm to determin the subsequent values in the sequence. By setting the seed, you can ensure that the sequence is **reproducible**, meaning that running the same code with the same seed will produce the same sequence of numbers every time."
   ]
  },
  {
   "cell_type": "markdown",
   "id": "8d5f571c",
   "metadata": {},
   "source": [
    "In numpy, we do not need to implement our own LCG, as it provides a built-in random number generator that is based on the Mersenne Twister algorithm, which is a widely used and efficient pseudo-random numbwer generator.\n",
    "\n",
    "What we do instead is to use the `numpy.random` **sub-module**, which provides a wide range of functions for generating random numbers from various distributions, including uniform, normal, and binomial distributions.\n",
    "\n",
    "\n",
    "The standard way to to use it is the following:\n",
    "\n",
    "- first, one initialises a new kind of object called a **random number generator** (RNG) using `np.random.default_rng()`.  This is a `numpy` object capable of generating random numbers from various distributions. It allows us in particular to set the **seed** and therefore ensure reproducibility."
   ]
  },
  {
   "cell_type": "code",
   "execution_count": 42,
   "id": "271a97da",
   "metadata": {},
   "outputs": [],
   "source": [
    "rng = np.random.default_rng(seed=123)"
   ]
  },
  {
   "cell_type": "markdown",
   "id": "4a776905",
   "metadata": {},
   "source": [
    "We can do this at any point in our code, but it is a good practice to do it at the beginning of our script or notebook, so that we can ensure that all random numbers generated in the script are reproducible. Putting the generator elsewhere (for example, inside a function) could lead to unexpected results, as the generator would be re-initialised each time the function is called.\n",
    "\n",
    "Once we have a generator we can access any of its method to sample numbers from various distributions\n",
    "\n",
    "For example:\n",
    "\n"
   ]
  },
  {
   "cell_type": "markdown",
   "id": "386d9746",
   "metadata": {},
   "source": [
    "\n",
    "### Integers\n",
    "\n",
    "To sample uniformly distributed integers, we can use the `integers` method of the generator. This method allows us to specify a range and the number of integers to generate.\n"
   ]
  },
  {
   "cell_type": "code",
   "execution_count": 45,
   "id": "b4c252e3",
   "metadata": {},
   "outputs": [
    {
     "data": {
      "text/plain": [
       "array([22, 25, 18, 33, 17])"
      ]
     },
     "execution_count": 45,
     "metadata": {},
     "output_type": "execute_result"
    }
   ],
   "source": [
    "rng.integers(0, 100, size=5)  # 5 random integers between 0 and 100"
   ]
  },
  {
   "cell_type": "markdown",
   "id": "5c50bbb9",
   "metadata": {},
   "source": [
    "### [0-1) uniform floats\n",
    "\n",
    "To sample uniformly distributed floats between 0 and 1, we can use the `random` method of the generator. This method generates random floats in the range [0.0, 1.0) (which means 0 included and 1 excluded)."
   ]
  },
  {
   "cell_type": "code",
   "execution_count": null,
   "id": "107db6c9",
   "metadata": {},
   "outputs": [
    {
     "name": "stdout",
     "output_type": "stream",
     "text": [
      "3.88 μs ± 59.5 ns per loop (mean ± std. dev. of 7 runs, 100,000 loops each)\n"
     ]
    }
   ],
   "source": [
    "rng.random(1000)"
   ]
  },
  {
   "cell_type": "markdown",
   "id": "4f0202f7",
   "metadata": {},
   "source": [
    "Alternatively, we can use the `uniform` method to sample uniformly distributed floats in a specified range. This method allows us to specify the lower and upper bounds of the range, as well as the number of samples to generate."
   ]
  },
  {
   "cell_type": "code",
   "execution_count": 47,
   "id": "570ca928",
   "metadata": {},
   "outputs": [
    {
     "name": "stdout",
     "output_type": "stream",
     "text": [
      "4.49 μs ± 52.5 ns per loop (mean ± std. dev. of 7 runs, 100,000 loops each)\n"
     ]
    }
   ],
   "source": [
    "rng.uniform(0,1,1000)"
   ]
  },
  {
   "cell_type": "markdown",
   "id": "fd79092b",
   "metadata": {},
   "source": [
    "### Normal distribution\n",
    "\n",
    "To sample from a normal distribution, we can use the `normal` method of the generator. This method allows us to specify the mean and standard deviation of the distribution, as well as the number of samples to generate. The generated samples will follow a normal (Gaussian) distribution with the specified parameters."
   ]
  },
  {
   "cell_type": "code",
   "execution_count": 57,
   "id": "ee113bd2",
   "metadata": {},
   "outputs": [],
   "source": [
    "normal_rv = rng.normal(loc=0, scale=4, size=10000)  # 10000 samples from a normal distribution with mean 0 and std dev 1"
   ]
  },
  {
   "cell_type": "code",
   "execution_count": 58,
   "id": "86c8f354",
   "metadata": {},
   "outputs": [
    {
     "data": {
      "text/plain": [
       "0.018734992168438356"
      ]
     },
     "execution_count": 58,
     "metadata": {},
     "output_type": "execute_result"
    }
   ],
   "source": [
    "# check that the sample mean and standard deviation are close to the specified values \n",
    "\n",
    "normal_rv.mean()"
   ]
  },
  {
   "cell_type": "code",
   "execution_count": 59,
   "id": "681b74d4",
   "metadata": {},
   "outputs": [
    {
     "data": {
      "text/plain": [
       "3.9298520633358205"
      ]
     },
     "execution_count": 59,
     "metadata": {},
     "output_type": "execute_result"
    }
   ],
   "source": [
    "normal_rv.std()"
   ]
  },
  {
   "cell_type": "markdown",
   "id": "dbaa46a2",
   "metadata": {},
   "source": [
    "## Sampling a siingle value \n",
    "\n",
    "If we only want to sample a single  value, we can simply not specify the `size` parameter, or set it to `1`. This will return a single value sampled from the specified distribution."
   ]
  },
  {
   "cell_type": "code",
   "execution_count": 61,
   "id": "038e83f7",
   "metadata": {},
   "outputs": [
    {
     "data": {
      "text/plain": [
       "44"
      ]
     },
     "execution_count": 61,
     "metadata": {},
     "output_type": "execute_result"
    }
   ],
   "source": [
    "rng.integers(0,100) # run this multiple times to observe the random nature of the output"
   ]
  },
  {
   "cell_type": "markdown",
   "id": "30a8cb07",
   "metadata": {},
   "source": [
    "However, this can sometimes be more computationally costly than generating a larger sample and then selecting a single value from it. "
   ]
  },
  {
   "cell_type": "code",
   "execution_count": 66,
   "id": "fa4ebbab",
   "metadata": {},
   "outputs": [
    {
     "name": "stdout",
     "output_type": "stream",
     "text": [
      "Time without preallocation: 0.9190 seconds\n",
      "Time with preallocation: 0.0675 seconds\n"
     ]
    }
   ],
   "source": [
    "import time\n",
    "\n",
    "# Timing a for loop that generates a random integer in each iteration\n",
    "start_time = time.time()\n",
    "steps = 1000000\n",
    "for _ in range(steps):\n",
    "    # use a random value\n",
    "    val = 2*rng.integers(0, 100)\n",
    "elapsed_no_prealloc = time.time() - start_time\n",
    "\n",
    "# Timing a for loop that uses preallocated random integers\n",
    "preallocated = rng.integers(0, 100, size=steps)\n",
    "start_time = time.time()\n",
    "for u in preallocated:\n",
    "    val = 2*u  # use the preallocated value\n",
    "elapsed_prealloc = time.time() - start_time\n",
    "\n",
    "print(f\"Time without preallocation: {elapsed_no_prealloc:.4f} seconds\")\n",
    "print(f\"Time with preallocation: {elapsed_prealloc:.4f} seconds\")"
   ]
  },
  {
   "cell_type": "markdown",
   "id": "cdd05aae",
   "metadata": {},
   "source": [
    "This is a good example of the tradeoff between memory usage and computational efficiency: in modern machines, memory is quite cheap, so it is often more efficient to preallocate a larger array and then sample from it, rather than generating a single value at a time.\n",
    "\n",
    "A good size for preallocated numbers depends on your use case and available memory. Typical choices are:\n",
    "\n",
    "- Small tasks: `100` to `1,000` elements\n",
    "- Medium tasks: `10,000` to `100,000` elements\n",
    "- Large tasks: `1,000,000` or more elements\n",
    "\n",
    "For most data analysis or simulation tasks, starting with `100,000` elements is practical and efficient. Always ensure the size fits within your system's memory limits."
   ]
  },
  {
   "cell_type": "markdown",
   "id": "547f9e36",
   "metadata": {},
   "source": []
  },
  {
   "cell_type": "markdown",
   "id": "18756de0",
   "metadata": {},
   "source": []
  }
 ],
 "metadata": {
  "kernelspec": {
   "display_name": "3.11.1",
   "language": "python",
   "name": "python3"
  },
  "language_info": {
   "codemirror_mode": {
    "name": "ipython",
    "version": 3
   },
   "file_extension": ".py",
   "mimetype": "text/x-python",
   "name": "python",
   "nbconvert_exporter": "python",
   "pygments_lexer": "ipython3",
   "version": "3.11.1"
  }
 },
 "nbformat": 4,
 "nbformat_minor": 5
}
