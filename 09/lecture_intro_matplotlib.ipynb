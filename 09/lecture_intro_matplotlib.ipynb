{
 "cells": [
  {
   "cell_type": "markdown",
   "metadata": {},
   "source": [
    "# Plotting with `matplotlib`"
   ]
  },
  {
   "cell_type": "markdown",
   "metadata": {},
   "source": [
    "One way to plot a graph in Python is to use the `matplotlib` package. \n",
    "\n",
    "Matplotlib is a powerful and widely-used Python library for creating static, animated, and interactive visualizations. It provides a flexible framework for generating a wide variety of plots and charts, making it a popular choice for data analysis and scientific research. With matplotlib, you can customize every aspect of your figures, from colors and styles to labels and legends.\n"
   ]
  },
  {
   "cell_type": "markdown",
   "metadata": {},
   "source": [
    "\n",
    "We start by importing the `pyplot` sub-module from `matplotlib`.\n",
    "\n",
    "The most widespread convention is to use the shorthand `plt` to refer to this package with the `as` syntax and so we can import this in the following way:"
   ]
  },
  {
   "cell_type": "code",
   "execution_count": 1,
   "metadata": {},
   "outputs": [],
   "source": [
    "import matplotlib.pyplot as plt"
   ]
  },
  {
   "cell_type": "markdown",
   "metadata": {},
   "source": [
    "## Figure and Axes\n",
    "\n",
    "There are two main interfaces for plotting using `matplotlib`.\n",
    "\n",
    " - The first is to use Pyplot (`plt`) to create a plot directly e.g. using `plt.plot()`. This is the type of syntax you may see often when looking online. This way of interacting with and plotting data was created to replicate the functionality of an alternative, and common programming language called MATLAB, which a lot of early Python adopters were familiar with.\n",
    "\n",
    " - The second, more modern way to create plots is to use the *object-oriented* approach where the figure is created first and then explicitly referenced when creating a plot. One way to do this is by calling the `subplots()` function to create a `Figure` (the canvas) and an `Axes` (the x-y axes) object which can then be used for plotting.\n",
    "\n",
    "```python\n",
    "fig, ax = plt.subplots()\n",
    "```"
   ]
  },
  {
   "cell_type": "markdown",
   "metadata": {},
   "source": [
    "We can plot using the `ax` object directly using whichever type of graph we want to create e.g. \n",
    " - for a simple line graph we can use the [`plot()` function](https://matplotlib.org/stable/api/_as_gen/matplotlib.axes.Axes.plot.html)\n",
    " - for a scatter graph we can use the [`scatter()` function](https://matplotlib.org/stable/api/_as_gen/matplotlib.axes.Axes.scatter.html).\n",
    " - for a 1D histogram we can the [`hist()` function](https://matplotlib.org/stable/api/_as_gen/matplotlib.axes.Axes.hist.html)\n",
    " \n",
    "You can also add multiple graphs to the same set of Axes to plot sets of data on top of each other:"
   ]
  },
  {
   "cell_type": "code",
   "execution_count": 2,
   "metadata": {},
   "outputs": [],
   "source": [
    "import numpy as np\n",
    "from numpy import random\n",
    "\n",
    "rng = random.default_rng(seed=124)\n",
    "\n",
    "x = np.arange(1, 56, 5)\n",
    "y1 = x**2\n",
    "y2 = x**2 + rng.normal(size=len(x))*100 # Add random noise to our scatter points"
   ]
  },
  {
   "cell_type": "code",
   "execution_count": 3,
   "metadata": {},
   "outputs": [
    {
     "data": {
      "text/plain": [
       "<matplotlib.collections.PathCollection at 0x2bdbd8b4a30>"
      ]
     },
     "execution_count": 3,
     "metadata": {},
     "output_type": "execute_result"
    },
    {
     "data": {
      "image/png": "[encoded data removed]",
      "text/plain": [
       "<Figure size 432x288 with 1 Axes>"
      ]
     },
     "metadata": {
      "needs_background": "light"
     },
     "output_type": "display_data"
    }
   ],
   "source": [
    "fig, ax = plt.subplots()\n",
    "ax.plot(x, y1)      # Plot line plot\n",
    "ax.scatter(x, y2)   # Plot scatter plot as well"
   ]
  },
  {
   "cell_type": "markdown",
   "metadata": {},
   "source": [
    "You may notice that unlike other Python you have been writing, in Jupyter notebooks you should keep your plotting code together in one code cell as this will immediately be displayed when the code cell is run.\n",
    "\n",
    "To create another plot in a new cell you can create new `Figure` and `Axes` objects using the same names `fig`, `ax` or name them something different if you'd prefer."
   ]
  },
  {
   "cell_type": "markdown",
   "metadata": {},
   "source": [
    "Matplotlib sample plots - https://matplotlib.org/3.3.3/tutorials/introductory/sample_plots.html"
   ]
  },
  {
   "cell_type": "markdown",
   "metadata": {},
   "source": [
    "#### Aside: subplots\n",
    "\n",
    "You may ask why the function for creating a new plot is called `subplots()`. By default, this function allows you to create one plot on one figure, which is usually what you want for an initial plot. However, it is possible to use the `subplots()` function to *create multiple plots on the same figure*. One way to do this is by specifying the number of rows (nrows) and number of columns (ncols) you want when using the `subplots()` function. Note that this will pass back an *array of Axes* objects rather than just one which you can then use to plot.\n",
    "\n",
    "We won't explore this further, but for more details on how this is done have a look at the [subplots demo](https://matplotlib.org/stable/gallery/subplots_axes_and_figures/subplots_demo.html)."
   ]
  },
  {
   "cell_type": "markdown",
   "metadata": {},
   "source": [
    "---"
   ]
  },
  {
   "cell_type": "markdown",
   "metadata": {},
   "source": [
    "### Exercise A"
   ]
  },
  {
   "cell_type": "markdown",
   "metadata": {},
   "source": [
    "For this exercise, we have created some random sample data which we can plot. Here we have created several numpy arrays each 100 elements long (based on `num_points`)."
   ]
  },
  {
   "cell_type": "code",
   "execution_count": 4,
   "metadata": {},
   "outputs": [],
   "source": [
    "from numpy import random\n",
    "\n",
    "rng = random.default_rng(seed=68)\n",
    "num_points = 100\n",
    "\n",
    "x_range = np.linspace(0.0, 1.0, num_points)\n",
    "\n",
    "random_sample1 = rng.normal(0.1, 0.5, size=num_points)\n",
    "random_sample2 = rng.random(num_points)"
   ]
  },
  {
   "cell_type": "markdown",
   "metadata": {},
   "source": [
    "1. Create a scatter plot of `x_range` versus `random_sample1`.\n",
    "\n",
    " - *Start by creating your Figure and Axes objects (fig, ax) using the subplots function*\n",
    " - *Use the scatter method to plot your data using your Axes object*"
   ]
  },
  {
   "cell_type": "code",
   "execution_count": 5,
   "metadata": {},
   "outputs": [],
   "source": [
    "### ADD CODE HERE\n"
   ]
  },
  {
   "cell_type": "markdown",
   "metadata": {},
   "source": [
    "2. Create a line plot of `x_range` versus `random_sample2`\n",
    "\n",
    " - *As before, start by creating your Figure and Axes objects (fig, ax) using the subplots function*\n",
    " - *Use the plot method to plot your data using your Axes object*"
   ]
  },
  {
   "cell_type": "code",
   "execution_count": 6,
   "metadata": {},
   "outputs": [],
   "source": [
    "### ADD CODE HERE\n"
   ]
  },
  {
   "cell_type": "markdown",
   "metadata": {},
   "source": [
    "---"
   ]
  },
  {
   "cell_type": "markdown",
   "metadata": {},
   "source": [
    "## Annotating and adding features"
   ]
  },
  {
   "cell_type": "markdown",
   "metadata": {},
   "source": [
    "As well as plotting you can, and should, add additional information to your plot as appropriate. For instance, you can:\n",
    "\n",
    "- change the style, colour etc. of your initial plot (e.g. see examples within [matplotlib decoration](fun_matplotlib_decoration.ipynb))\n",
    "- add additional features such as axis labels, legend etc.\n",
    "\n",
    "The code below demonstrates how we could customise the plot above using these inputs:"
   ]
  },
  {
   "cell_type": "markdown",
   "metadata": {},
   "source": [
    "### 1. Using more of the available plotting options\n",
    "\n"
   ]
  },
  {
   "cell_type": "code",
   "execution_count": 7,
   "metadata": {},
   "outputs": [
    {
     "data": {
      "text/plain": [
       "<matplotlib.collections.PathCollection at 0x2bdbe0708e0>"
      ]
     },
     "execution_count": 7,
     "metadata": {},
     "output_type": "execute_result"
    },
    {
     "data": {
      "image/png": "[encoded data removed]",
      "text/plain": [
       "<Figure size 576x288 with 1 Axes>"
      ]
     },
     "metadata": {
      "needs_background": "light"
     },
     "output_type": "display_data"
    }
   ],
   "source": [
    "fig, ax = plt.subplots(figsize=(8, 4))\n",
    "\n",
    "ax.plot(x, y1, color=\"slategrey\", linestyle=\"--\")\n",
    "ax.scatter(x, y2, color=\"indianred\", marker='+', s=60)"
   ]
  },
  {
   "cell_type": "markdown",
   "metadata": {},
   "source": [
    "We can include more inputs for both our `subplots` function and our plotting functions such as `plot()` and `scatter()`:\n",
    "\n",
    "- For the `subplots()` initial step we specified the figure size, `figsize`, as an input. This is set using a tuple of (width, height) in inches.\n",
    "- For the [`plot` function](https://matplotlib.org/stable/api/_as_gen/matplotlib.pyplot.plot.html) we set:\n",
    "  - the colour to be a named colour called \"slategrey\" using the `color` input\n",
    "  - the style of the line to be dashed, using \"--\" and the `linestyle` input\n",
    "- For the [`scatter` function](https://matplotlib.org/3.3.3/api/_as_gen/matplotlib.axes.Axes.scatter.html) we set:\n",
    "  - the colour to be a named colour called \"indianred\" using the `color` input\n",
    "  - the marker shape to a cross shape, using \"+\" and the `marker` input\n",
    "  - size to be 60 (area of the marker) using the `s` input\n",
    "\n",
    "For in-built options see:\n",
    "- Colours - https://matplotlib.org/stable/gallery/color/named_colors.html\n",
    "- Line style - https://matplotlib.org/stable/gallery/lines_bars_and_markers/linestyles.html\n",
    "- Markers - https://matplotlib.org/api/markers_api.html"
   ]
  },
  {
   "cell_type": "markdown",
   "metadata": {},
   "source": [
    "### 2. Setting properties on the plot"
   ]
  },
  {
   "cell_type": "code",
   "execution_count": 8,
   "metadata": {},
   "outputs": [
    {
     "data": {
      "text/plain": [
       "(0.0, 52.0)"
      ]
     },
     "execution_count": 8,
     "metadata": {},
     "output_type": "execute_result"
    },
    {
     "data": {
      "image/png": "[encoded data removed]",
      "text/plain": [
       "<Figure size 576x288 with 1 Axes>"
      ]
     },
     "metadata": {
      "needs_background": "light"
     },
     "output_type": "display_data"
    }
   ],
   "source": [
    "fig, ax = plt.subplots(figsize=(8, 4))\n",
    "\n",
    "ax.plot(x, y1, color=\"slategrey\", linestyle=\"--\")\n",
    "ax.scatter(x, y2, color=\"indianred\", marker='+', s=60)\n",
    "\n",
    "### ADDED x and y labels and an x limit\n",
    "ax.set_xlabel(\"x\")\n",
    "ax.set_ylabel(\"y\")\n",
    "ax.set_xlim(0, 52)"
   ]
  },
  {
   "cell_type": "markdown",
   "metadata": {},
   "source": [
    "Here we set additional parameters for the plot - the x and y labels and an x limit. We have done this by calling the relevant functions (e.g. `set_xlabel`, `set_ylim`) on our `ax` variable.\n",
    "\n",
    "For some examples of different `Axes` functions of this type see:\n",
    "- Axes - labels and limits - https://matplotlib.org/stable/api/axes_api.html#axis-labels-title-and-legend\n",
    "- Axes - tick labels - https://matplotlib.org/stable/api/axes_api.html#ticks-and-tick-labels"
   ]
  },
  {
   "cell_type": "markdown",
   "metadata": {},
   "source": [
    "### 3. Additional labelling - legend"
   ]
  },
  {
   "cell_type": "code",
   "execution_count": 9,
   "metadata": {},
   "outputs": [
    {
     "data": {
      "text/plain": [
       "<matplotlib.legend.Legend at 0x2bdbe151580>"
      ]
     },
     "execution_count": 9,
     "metadata": {},
     "output_type": "execute_result"
    },
    {
     "data": {
      "image/png": "[encoded data removed]",
      "text/plain": [
       "<Figure size 576x288 with 1 Axes>"
      ]
     },
     "metadata": {
      "needs_background": "light"
     },
     "output_type": "display_data"
    }
   ],
   "source": [
    "fig, ax = plt.subplots(figsize=(8, 4))\n",
    "\n",
    "### Added labels for each of the plots\n",
    "ax.plot(x, y1, color=\"slategrey\", linestyle=\"--\", label=\"Fitted line\")  # label input added when plotting\n",
    "ax.scatter(x, y2, color=\"indianred\", marker='+', s=60, label=\"Measurements\")  # label input added when plotting\n",
    "\n",
    "ax.set_xlabel(\"x\")\n",
    "ax.set_ylabel(\"y\")\n",
    "ax.set_xlim(0, 52)\n",
    "\n",
    "### Asked for a legend to be displayed\n",
    "ax.legend()"
   ]
  },
  {
   "cell_type": "markdown",
   "metadata": {},
   "source": [
    "A legend can be created using the `.legend()` function (method) and this will use the `label` value supplied when creating each plot. If `ax.legend()` is not included then, even if a `label` variable is specified, no legend will be added to the plot.\n",
    "\n",
    "See:\n",
    " - legend function - https://matplotlib.org/stable/api/_as_gen/matplotlib.axes.Axes.legend.html"
   ]
  },
  {
   "cell_type": "markdown",
   "metadata": {},
   "source": [
    "## Other plot types\n",
    "\n",
    "We can also apply similiar principles to other plot types. We can generate some more random data to look at this. Here we have created two normal distributions containing different numbers of points."
   ]
  },
  {
   "cell_type": "code",
   "execution_count": 10,
   "metadata": {},
   "outputs": [],
   "source": [
    "# Create random numbers (normal distribution) to plot\n",
    "from numpy import random\n",
    "\n",
    "rng = random.default_rng(seed=68)\n",
    "number_of_points_1 = 5000\n",
    "number_of_points_2 = 500\n",
    "\n",
    "x_rand1 = rng.normal(size=number_of_points_1)\n",
    "x_rand2 = rng.normal(size=number_of_points_2)"
   ]
  },
  {
   "cell_type": "markdown",
   "metadata": {},
   "source": [
    "We could create a simple plot using the `subplots` function and the [`hist()` function](https://matplotlib.org/stable/api/_as_gen/matplotlib.pyplot.hist.html):"
   ]
  },
  {
   "cell_type": "code",
   "execution_count": 11,
   "metadata": {},
   "outputs": [
    {
     "data": {
      "text/plain": [
       "(array([ 10.,  30.,  66., 103.,  93.,  93.,  55.,  40.,   7.,   3.]),\n",
       " array([-2.48175617, -1.9278922 , -1.37402822, -0.82016424, -0.26630026,\n",
       "         0.28756372,  0.8414277 ,  1.39529168,  1.94915565,  2.50301963,\n",
       "         3.05688361]),\n",
       " <BarContainer object of 10 artists>)"
      ]
     },
     "execution_count": 11,
     "metadata": {},
     "output_type": "execute_result"
    },
    {
     "data": {
      "image/png": "[encoded data removed]",
      "text/plain": [
       "<Figure size 432x288 with 1 Axes>"
      ]
     },
     "metadata": {
      "needs_background": "light"
     },
     "output_type": "display_data"
    }
   ],
   "source": [
    "fig, ax = plt.subplots()\n",
    "\n",
    "ax.hist(x_rand1)\n",
    "ax.hist(x_rand2)"
   ]
  },
  {
   "cell_type": "markdown",
   "metadata": {},
   "source": [
    "Using the exact same data we could update our plot using relevant inputs for our `hist` function and setting values on our axis:"
   ]
  },
  {
   "cell_type": "code",
   "execution_count": 12,
   "metadata": {},
   "outputs": [
    {
     "data": {
      "text/plain": [
       "<matplotlib.legend.Legend at 0x2bdbe252a60>"
      ]
     },
     "execution_count": 12,
     "metadata": {},
     "output_type": "execute_result"
    },
    {
     "data": {
      "image/png": "[encoded data removed]",
      "text/plain": [
       "<Figure size 432x288 with 1 Axes>"
      ]
     },
     "metadata": {
      "needs_background": "light"
     },
     "output_type": "display_data"
    }
   ],
   "source": [
    "fig, ax = plt.subplots()\n",
    "\n",
    "# Create an explicit range to use for our histogram bins\n",
    "bins = np.arange(-3, 3, 0.2)\n",
    "\n",
    "# Include colour, transparency (alpha), plot type (density) inputs as well as a label\n",
    "ax.hist(x_rand1, color=\"skyblue\", alpha=0.7, bins=bins, density=True, label=\"Sample 1\")\n",
    "ax.hist(x_rand2, color=\"tan\", alpha=0.7, bins=bins, density=True, label=\"Sample 2\")\n",
    "\n",
    "# Update plotting area to label and set axes limits\n",
    "ax.set_xlabel(\"y\")\n",
    "ax.set_ylabel(\"Number in x\")\n",
    "ax.set_xlim(-3, 3)\n",
    "ax.set_ylim(0, 0.5)\n",
    "\n",
    "# Add legend to the plot (uses labels defined above)\n",
    "ax.legend()"
   ]
  },
  {
   "cell_type": "markdown",
   "metadata": {},
   "source": [
    "For our histogram, in addition to options we used for our scatter and line plot, we have set more options available to us:\n",
    " - `alpha` - This allows us to make our data partially transparent to better view overlapping data\n",
    " - `bins` - We defined and included an input for the bin sizes rather than using the default\n",
    " - `density` - This is a plot type we can set which normalised our data for the different datasets. This can be useful if you are comparing datasets which have different sample sizes."
   ]
  },
  {
   "cell_type": "markdown",
   "metadata": {},
   "source": [
    "In general, you will need to look at the specific documentation for each of the the plot types to see what options are available."
   ]
  },
  {
   "cell_type": "markdown",
   "metadata": {},
   "source": [
    "## Anatomy of a figure\n",
    "\n",
    "This is a [summary image](https://matplotlib.org/examples/showcase/anatomy.html) to show the make up (anatomy) of a plot in matplotlib.\n",
    "\n",
    "<img src=\"images/Anatomy_plot_matplotlib.png\" alt=\"Matplotlib Plot\" style=\"display:block;margin-left:auto;margin-right:auto;width:40%\"/>\n",
    "\n",
    "You can see some features we have described above such as \"Figure\", \"Axes\", \"x axis label\", \"y axis label\", \"legend\". But you can also see how our inputs have influenced other aspects of the plot e.g. \"Major tick\", \"Minor tick\", \"Major tick label\", \"Minor tick label\", which were updated when we set the limits on the x and y axes, and \"Markers\" from our scatter plot which updated the marker style and colour.\n",
    "\n",
    "Becoming familiar with this terminology when applied to a matplotlib figure allows you to put a name to any part of the plot you wish to modify and to dig into the features offered for how to update these plots. "
   ]
  },
  {
   "cell_type": "markdown",
   "metadata": {},
   "source": [
    "---"
   ]
  },
  {
   "cell_type": "markdown",
   "metadata": {},
   "source": [
    "### Exercise B\n",
    "\n",
    "1. Create a scatter plot with the same data from Exercise A showing `x_range` versus `random_sample1` adding or setting the following features:\n",
    " - changing the [marker](https://matplotlib.org/api/markers_api.html) and [colour](https://matplotlib.org/stable/gallery/color/named_colors.html)\n",
    " - setting appropriate x and y labels\n",
    " \n",
    "*Remember, you always need to recreate your fig and ax objects using the subplots function to create a new plot using Jupyter notebooks*"
   ]
  },
  {
   "cell_type": "code",
   "execution_count": 13,
   "metadata": {},
   "outputs": [],
   "source": [
    "### ADD CODE HERE (copy code from Exercise A1 to start)\n"
   ]
  },
  {
   "cell_type": "markdown",
   "metadata": {},
   "source": [
    "2. Create a histogram plot overlaying data from `random_sample1` and `random_sample2`. \n",
    "\n",
    " - Experiment with different inputs to see if you can improve the default plot (e.g. setting the bin size, including transparency, changing the colours etc.)\n",
    " - *You can also look at the [`hist()` function documentation](https://matplotlib.org/stable/api/_as_gen/matplotlib.pyplot.hist.html) for more inputs to try e.g. `histtype`.*"
   ]
  },
  {
   "cell_type": "code",
   "execution_count": 15,
   "metadata": {},
   "outputs": [],
   "source": [
    "### ADD CODE HERE\n"
   ]
  },
  {
   "cell_type": "markdown",
   "metadata": {},
   "source": [
    "**Extra.** Create a plot containing both a scatter plot for `x_range` versus `random_sample1` AND a line plot for `x_range` versus `random_sample2`. Add or set the following features:\n",
    " - changing the [line style](https://matplotlib.org/stable/gallery/lines_bars_and_markers/linestyles.html) and colour\n",
    " - setting a title for your plot\n",
    "\n",
    "*Hint: Look at \"set_\" commands within https://matplotlib.org/stable/api/axes_api.html#axis-labels-title-and-legend*"
   ]
  },
  {
   "cell_type": "code",
   "execution_count": 14,
   "metadata": {},
   "outputs": [],
   "source": [
    "### ADD CODE HERE\n"
   ]
  },
  {
   "cell_type": "markdown",
   "metadata": {},
   "source": [
    "---"
   ]
  },
  {
   "cell_type": "markdown",
   "metadata": {},
   "source": [
    "*Extended: Pick an interesting plot from the [matplotlib gallery](https://matplotlib.org/gallery/index.html) and see if you replicate some of the additional features for these plots.*"
   ]
  },
  {
   "cell_type": "markdown",
   "metadata": {},
   "source": [
    "---"
   ]
  },
  {
   "cell_type": "markdown",
   "metadata": {},
   "source": [
    "You can now proceed with the remaining exercises\n",
    "\n",
    "- [Exercise C](exercises_plotting_data_from_file.ipynb) - Plotting data from a file\n",
    "- [A fun session](fun_matplotlib_decoration.ipynb) - Using matplotlib to create a fun plot"
   ]
  }
 ],
 "metadata": {
  "kernelspec": {
   "display_name": "Python 3 (ipykernel)",
   "language": "python",
   "name": "python3"
  },
  "language_info": {
   "codemirror_mode": {
    "name": "ipython",
    "version": 3
   },
   "file_extension": ".py",
   "mimetype": "text/x-python",
   "name": "python",
   "nbconvert_exporter": "python",
   "pygments_lexer": "ipython3",
   "version": "3.9.13"
  }
 },
 "nbformat": 4,
 "nbformat_minor": 4
}
