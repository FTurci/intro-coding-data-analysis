{
 "cells": [
  {
   "cell_type": "markdown",
   "metadata": {},
   "source": [
    "# Answers \n",
    "\n",
    "# Creating a mask containing a circle\n",
    "\n",
    "## Pair programming: part 1"
   ]
  },
  {
   "cell_type": "markdown",
   "metadata": {},
   "source": [
    "### Exercise A\n",
    "\n",
    "Create a 100 x 100 square grid containing a circle. The centre of the circle should be at position `x = 40`, `y = 50` and have a radius of 10. Call your output `circular_mask`."
   ]
  },
  {
   "cell_type": "markdown",
   "metadata": {},
   "source": [
    "*Break this idea down into the different steps:*\n",
    " - *Start by creating an array - how could you create an array of the right shape?*\n",
    " - *How would you turn the equation above into code?*\n",
    " - *How would you evaluate one (x, y) position to start with?*\n",
    " - *How do you move on to evaluate every position?*\n",
    " - *...*\n",
    "\n",
    "**Important note**: For `numpy` remember that the axes are opposite to what you would expect for an x-y grid - they store data as *row-major* meaning you access the row as the first index (y) and the column as the second index (x). This means position `arr[1, 0]` would be at position (0, 1) in x, y co-ordinates rather than (1, 0) as you may expect.\n",
    "\n",
    "When completed, you can use the plotting code below to show your mask. This uses a `matplotlib` function called `imshow` ([documentation](https://matplotlib.org/stable/api/_as_gen/matplotlib.pyplot.imshow.html); [example from image gallery](https://matplotlib.org/stable/gallery/images_contours_and_fields/image_demo.html)) which can plot your 2D data on a grid."
   ]
  },
  {
   "cell_type": "code",
   "execution_count": 8,
   "metadata": {},
   "outputs": [],
   "source": [
    "# ADD CODE HERE\n",
    "import numpy as np\n",
    "\n",
    "n  = 100\n",
    "circular_mask = np.zeros((n,n))\n",
    "x0, y0 = 40,50\n",
    "radius = 10\n",
    "rows, cols = np.indices(circular_mask.shape)\n",
    "\n",
    "circular_mask = ((rows-y0)**2+(cols-x0)**2)<=radius**2\n",
    "\n"
   ]
  },
  {
   "cell_type": "code",
   "execution_count": 9,
   "metadata": {},
   "outputs": [
    {
     "data": {
      "text/plain": [
       "<matplotlib.image.AxesImage at 0x1154b2f90>"
      ]
     },
     "execution_count": 9,
     "metadata": {},
     "output_type": "execute_result"
    },
    {
     "data": {
      "image/png": "[encoded data removed]",
      "text/plain": [
       "<Figure size 600x320 with 1 Axes>"
      ]
     },
     "metadata": {},
     "output_type": "display_data"
    }
   ],
   "source": [
    "### UNCOMMENT THIS CODE TO PLOT YOUR MASK WHEN COMPLETED\n",
    "\n",
    "import matplotlib.pyplot as plt\n",
    "\n",
    "fig, ax = plt.subplots(figsize=(6, 3.2))\n",
    "\n",
    "ax.set_title('Circular Mask')\n",
    "ax.imshow(circular_mask,cmap=\"bone\",origin=\"lower\") # Setting colourmap (cmap) and the position of 0,0 (origin) on the plot"
   ]
  },
  {
   "cell_type": "markdown",
   "metadata": {},
   "source": [
    "---"
   ]
  },
  {
   "cell_type": "markdown",
   "metadata": {},
   "source": [
    "*Extended*:\n",
    "\n",
    "1. Consider how you could create a mask for a rectangle rather than a circle (or a square)\n"
   ]
  },
  {
   "cell_type": "code",
   "execution_count": 17,
   "metadata": {},
   "outputs": [
    {
     "data": {
      "text/plain": [
       "<matplotlib.image.AxesImage at 0x11796c050>"
      ]
     },
     "execution_count": 17,
     "metadata": {},
     "output_type": "execute_result"
    },
    {
     "data": {
      "image/png": "[encoded data removed]",
      "text/plain": [
       "<Figure size 640x480 with 1 Axes>"
      ]
     },
     "metadata": {},
     "output_type": "display_data"
    }
   ],
   "source": [
    "# 10 by 20 rectangle from x0,y0\n",
    "Lx = 10\n",
    "Ly= 20\n",
    "mask = (rows-y0>0) & (rows-y0<Ly)  & (cols-x0>0) & (cols-x0<Lx)\n",
    "plt.imshow(mask,cmap=\"bone\",origin=\"lower\")\n"
   ]
  }
 ],
 "metadata": {
  "kernelspec": {
   "display_name": "Python 3",
   "language": "python",
   "name": "python3"
  },
  "language_info": {
   "codemirror_mode": {
    "name": "ipython",
    "version": 3
   },
   "file_extension": ".py",
   "mimetype": "text/x-python",
   "name": "python",
   "nbconvert_exporter": "python",
   "pygments_lexer": "ipython3",
   "version": "3.11.1"
  }
 },
 "nbformat": 4,
 "nbformat_minor": 4
}
