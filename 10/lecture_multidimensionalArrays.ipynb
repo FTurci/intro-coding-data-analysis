{
 "cells": [
  {
   "cell_type": "markdown",
   "metadata": {},
   "source": [
    "# Multi-dimensional arrays"
   ]
  },
  {
   "cell_type": "markdown",
   "metadata": {},
   "source": [
    "A `numpy.ndarray` is the more complete term for a `numpy` `array` object. Up until this point we have mainly been dealing with and using one dimensional arrays. Numpy arrays (unlike lists) have the concept of shape whicih means they can be multi-dimensional. This means they can represent a grid (2D), a cuboid (3D) and so forth."
   ]
  },
  {
   "cell_type": "markdown",
   "metadata": {},
   "source": [
    "The code below generates a `numpy.array` object containing random numbers. This is a 2D array with a 3 x 3 shape:"
   ]
  },
  {
   "cell_type": "code",
   "execution_count": 2,
   "metadata": {},
   "outputs": [],
   "source": [
    "from numpy import random\n",
    "\n",
    "rng = random.default_rng(seed=24)"
   ]
  },
  {
   "cell_type": "code",
   "execution_count": 3,
   "metadata": {},
   "outputs": [
    {
     "name": "stdout",
     "output_type": "stream",
     "text": [
      "(3, 3)\n",
      "[[0.33026884 0.40517732 0.57473782]\n",
      " [0.50639977 0.56421251 0.56968731]\n",
      " [0.87411653 0.08643046 0.74247527]]\n"
     ]
    }
   ],
   "source": [
    "import numpy as np\n",
    "\n",
    "shape = (3,3)\n",
    "array1 = rng.random(shape)\n",
    "print(array1.shape)\n",
    "print(array1)"
   ]
  },
  {
   "cell_type": "markdown",
   "metadata": {},
   "source": [
    "We can select one element from this array using the following syntax. We still use square brackets and pass an index value but now we can pass values for each dimension seperated by a comma (`,`). This index is selecting the third column within the second row:"
   ]
  },
  {
   "cell_type": "code",
   "execution_count": 3,
   "metadata": {},
   "outputs": [
    {
     "name": "stdout",
     "output_type": "stream",
     "text": [
      "0.5696873105084019\n"
     ]
    }
   ],
   "source": [
    "print(array1[1, 2])"
   ]
  },
  {
   "cell_type": "markdown",
   "metadata": {},
   "source": [
    "Using slicing (*Start:Stop*) syntax you can select an entire dimension at once by omitting both the Start and Stop values and just using `:`. You can see how this works if you try the slice with just the Start or just the Stop e.g."
   ]
  },
  {
   "cell_type": "code",
   "execution_count": 4,
   "metadata": {},
   "outputs": [
    {
     "name": "stdout",
     "output_type": "stream",
     "text": [
      "[[0.33026884 0.40517732 0.57473782]\n",
      " [0.50639977 0.56421251 0.56968731]]\n",
      "[[0.87411653 0.08643046 0.74247527]]\n"
     ]
    }
   ],
   "source": [
    "print(array1[:2])\n",
    "print(array1[2:])"
   ]
  },
  {
   "cell_type": "markdown",
   "metadata": {},
   "source": [
    "Not including a Start index includes values from the beginning of the array/list etc. up to (but not including) the Stop.\n",
    "\n",
    "Not including a Stop index reads from the Start to the end of the array/list etc.\n",
    "\n",
    "So just using `:` with no Start or Stop selects all elements for that dimension.\n",
    "\n",
    "This following syntax returns first row (first row, every column):"
   ]
  },
  {
   "cell_type": "code",
   "execution_count": 5,
   "metadata": {},
   "outputs": [
    {
     "name": "stdout",
     "output_type": "stream",
     "text": [
      "[0.33026884 0.40517732 0.57473782]\n"
     ]
    }
   ],
   "source": [
    "print(array1[0,:])"
   ]
  },
  {
   "cell_type": "markdown",
   "metadata": {},
   "source": [
    "And this would return the first column (every row, first column):"
   ]
  },
  {
   "cell_type": "code",
   "execution_count": 6,
   "metadata": {},
   "outputs": [
    {
     "name": "stdout",
     "output_type": "stream",
     "text": [
      "[0.33026884 0.50639977 0.87411653]\n"
     ]
    }
   ],
   "source": [
    "print(array1[:,0])"
   ]
  },
  {
   "cell_type": "markdown",
   "metadata": {},
   "source": [
    "`numpy` `array` objects store data in **row-major** order. Essentially this means for a 2D index this would be the equivalent of [y, x] rather than [x, y]."
   ]
  },
  {
   "cell_type": "markdown",
   "metadata": {},
   "source": [
    "## Basic properties of multi-dimensional arrays\n",
    "\n",
    "### Shape\n",
    "\n",
    "The **shape** of a multi-dimensional array is a tuple that describes the size of each dimension. For example, a 2D array with 3 rows and 4 columns has a shape of `(3, 4)`. You can access the shape of an array using the `.shape` attribute.\n",
    "\n",
    "We can use many of the array initialisation functions we haver seen for 1d arrays also to create multi-dimensional arrays. For example, we can use `np.zeros` to create a 2D array of zeros, or `np.ones` to create a 2D array of ones. We can also use `np.random.rand` to create a 2D array of random numbers.\n"
   ]
  },
  {
   "cell_type": "code",
   "execution_count": 29,
   "metadata": {},
   "outputs": [],
   "source": [
    "array_of_zeros = np.zeros(shape=(2, 3)) # 2 rows, 3 columns"
   ]
  },
  {
   "cell_type": "code",
   "execution_count": 30,
   "metadata": {},
   "outputs": [
    {
     "data": {
      "text/plain": [
       "array([[1., 1., 1.],\n",
       "       [1., 1., 1.]])"
      ]
     },
     "execution_count": 30,
     "metadata": {},
     "output_type": "execute_result"
    }
   ],
   "source": [
    "np.ones_like(array_of_zeros)"
   ]
  },
  {
   "cell_type": "markdown",
   "metadata": {},
   "source": [
    "\n",
    "### Axis and Rank\n",
    "\n",
    "A multi-dimensional array has multiple dimensions, each of which can be thought of as an **axis**. The number of dimensions is called the **rank** of the array. For example, a 2D array has a rank of 2, while a 3D array has a rank of 3. It is accessible via the `.ndim` attribute.\n",
    "\n",
    "We typically call a rank 2 array a **matrix**. A rank 3 array (or higher) is often called a **tensor**. "
   ]
  },
  {
   "cell_type": "code",
   "execution_count": 42,
   "metadata": {},
   "outputs": [
    {
     "data": {
      "text/plain": [
       "array([[-0.33946233, -0.18964537,  0.14947564,  0.01279953,  0.12842501],\n",
       "       [ 0.13937462,  0.74823306, -0.82713908,  0.48495054,  0.64073453]])"
      ]
     },
     "execution_count": 42,
     "metadata": {},
     "output_type": "execute_result"
    }
   ],
   "source": [
    "rng = random.default_rng(seed=24)\n",
    "random_matrix = rng.uniform(-1,1,size=(2,5)) # random floats between -1 and 1, 2 rows, 5 columns\n",
    "random_matrix"
   ]
  },
  {
   "cell_type": "code",
   "execution_count": 43,
   "metadata": {},
   "outputs": [
    {
     "data": {
      "text/plain": [
       "2"
      ]
     },
     "execution_count": 43,
     "metadata": {},
     "output_type": "execute_result"
    }
   ],
   "source": [
    "random_matrix.ndim # two dimensions, rank 2, a matrix\n"
   ]
  },
  {
   "cell_type": "code",
   "execution_count": null,
   "metadata": {},
   "outputs": [
    {
     "data": {
      "text/plain": [
       "array([[[0, 2, 1, 1],\n",
       "        [2, 2, 0, 0],\n",
       "        [1, 2, 0, 1]],\n",
       "\n",
       "       [[2, 0, 1, 0],\n",
       "        [0, 1, 1, 0],\n",
       "        [0, 1, 0, 1]]])"
      ]
     },
     "execution_count": 45,
     "metadata": {},
     "output_type": "execute_result"
    }
   ],
   "source": [
    "random_tensor = rng.integers(0,3,size=(2,3,4)) # random integes in [0,3), 2x3x4 tensor\n",
    "random_tensor"
   ]
  },
  {
   "cell_type": "code",
   "execution_count": 44,
   "metadata": {},
   "outputs": [
    {
     "data": {
      "text/plain": [
       "3"
      ]
     },
     "execution_count": 44,
     "metadata": {},
     "output_type": "execute_result"
    }
   ],
   "source": [
    "random_tensor.ndim"
   ]
  },
  {
   "cell_type": "markdown",
   "metadata": {},
   "source": [
    "We can perform operations along specific axes of a multi-dimensional array. For example, we can sum all the elements along a specific axis using the `np.sum` function with the `axis` parameter."
   ]
  },
  {
   "cell_type": "code",
   "execution_count": 48,
   "metadata": {},
   "outputs": [
    {
     "data": {
      "text/plain": [
       "array([[0, 0],\n",
       "       [1, 0],\n",
       "       [1, 1]])"
      ]
     },
     "execution_count": 48,
     "metadata": {},
     "output_type": "execute_result"
    }
   ],
   "source": [
    "small_matrix = rng.integers(0,2,size=(3,2)) \n",
    "small_matrix"
   ]
  },
  {
   "cell_type": "code",
   "execution_count": 49,
   "metadata": {},
   "outputs": [
    {
     "data": {
      "text/plain": [
       "array([2, 1])"
      ]
     },
     "execution_count": 49,
     "metadata": {},
     "output_type": "execute_result"
    }
   ],
   "source": [
    "small_matrix.sum(axis=0) # sum along the first axis (rows)"
   ]
  },
  {
   "cell_type": "code",
   "execution_count": null,
   "metadata": {},
   "outputs": [
    {
     "data": {
      "text/plain": [
       "array([0, 1, 2])"
      ]
     },
     "execution_count": 50,
     "metadata": {},
     "output_type": "execute_result"
    }
   ],
   "source": [
    "small_matrix.sum(axis=1) # sum along the second axis (columns), can you explain the resulting shape?"
   ]
  },
  {
   "cell_type": "markdown",
   "metadata": {},
   "source": [
    "One can do the same also with useful statistical descriptors such as `np.mean`, `np.std`, etc."
   ]
  },
  {
   "cell_type": "code",
   "execution_count": 52,
   "metadata": {},
   "outputs": [
    {
     "data": {
      "text/plain": [
       "array([0.66666667, 0.33333333])"
      ]
     },
     "execution_count": 52,
     "metadata": {},
     "output_type": "execute_result"
    }
   ],
   "source": [
    "np.mean(small_matrix, axis=0) # mean along the first axis (rows)"
   ]
  },
  {
   "cell_type": "markdown",
   "metadata": {},
   "source": [
    "### Slicing\n",
    "\n",
    "Slicing works similarly to 1D arrays, but you can slice along multiple axes. For example, you can slice a 2D array to get a submatrix or a specific row or column."
   ]
  },
  {
   "cell_type": "code",
   "execution_count": 53,
   "metadata": {},
   "outputs": [
    {
     "data": {
      "text/plain": [
       "array([0, 1, 1])"
      ]
     },
     "execution_count": 53,
     "metadata": {},
     "output_type": "execute_result"
    }
   ],
   "source": [
    "small_matrix[:, 0] # all rows, first column"
   ]
  },
  {
   "cell_type": "code",
   "execution_count": 54,
   "metadata": {},
   "outputs": [
    {
     "data": {
      "text/plain": [
       "array([[0, 0],\n",
       "       [1, 0]])"
      ]
     },
     "execution_count": 54,
     "metadata": {},
     "output_type": "execute_result"
    }
   ],
   "source": [
    "small_matrix[:2,:] # first two rows, all columns"
   ]
  },
  {
   "cell_type": "code",
   "execution_count": 55,
   "metadata": {},
   "outputs": [
    {
     "data": {
      "text/plain": [
       "array([[1],\n",
       "       [1],\n",
       "       [0]])"
      ]
     },
     "execution_count": 55,
     "metadata": {},
     "output_type": "execute_result"
    }
   ],
   "source": [
    "small_matrix[::-1,:1]"
   ]
  },
  {
   "cell_type": "markdown",
   "metadata": {},
   "source": [
    "### Reshaping and flattening\n",
    "\n",
    "The last example show an inetresting case: we extracted a single column from the matrix, but it is still a 2D array with shape `(3, 1)`."
   ]
  },
  {
   "cell_type": "code",
   "execution_count": 57,
   "metadata": {},
   "outputs": [
    {
     "name": "stdout",
     "output_type": "stream",
     "text": [
      "shape (3, 1)\n",
      "rank 2\n"
     ]
    }
   ],
   "source": [
    "selection = small_matrix[::-1,:1]\n",
    "\n",
    "print(\"shape\", selection.shape)\n",
    "print(\"rank\", selection.ndim)"
   ]
  },
  {
   "cell_type": "markdown",
   "metadata": {},
   "source": [
    "What if we wanted a truly 1d array (rank 1)? We need to **reshape** the array. \n",
    "\n",
    "We can use the `np.reshape` function to change the shape of an array without changing its data. For example, we can reshape a 2D array into a 1D array or vice versa.\n",
    "\n",
    "Reshape takes a tuple of the new shape as an argument. If you want to flatten an array (convert it to a 1D array), you can use `-1` as one of the dimensions, which tells NumPy to infer the size of that dimension based on the total number of elements."
   ]
  },
  {
   "cell_type": "code",
   "execution_count": null,
   "metadata": {},
   "outputs": [
    {
     "name": "stdout",
     "output_type": "stream",
     "text": [
      "reshaped shape (3,)\n",
      "reshaped rank 1\n",
      "reshaped selection [0 1 1]\n"
     ]
    }
   ],
   "source": [
    "selection = small_matrix[::-1,:1]\n",
    "reshaped_selection = selection.reshape((3,))  # reshape to a 1D array excplicitly\n",
    "print(\"reshaped shape\", reshaped_selection.shape)\n",
    "print(\"reshaped rank\", reshaped_selection.ndim)\n",
    "print(\"reshaped selection\", reshaped_selection)"
   ]
  },
  {
   "cell_type": "code",
   "execution_count": 70,
   "metadata": {},
   "outputs": [
    {
     "name": "stdout",
     "output_type": "stream",
     "text": [
      "reshaped shape (3,)\n",
      "reshaped rank 1\n",
      "reshaped selection [0 1 1]\n"
     ]
    }
   ],
   "source": [
    "#same code as above, but with inferred shape\n",
    "selection = small_matrix[::-1,:1]\n",
    "reshaped_selection = selection.reshape(-1)  # infererd shape\n",
    "print(\"reshaped shape\", reshaped_selection.shape)\n",
    "print(\"reshaped rank\", reshaped_selection.ndim)\n",
    "print(\"reshaped selection\", reshaped_selection)"
   ]
  },
  {
   "cell_type": "markdown",
   "metadata": {},
   "source": [
    "Another way to cast a multi-dimensional array to a 1D array is to use the `np.ravel()` function, which returns a flattened view of the array (not a copy)."
   ]
  },
  {
   "cell_type": "code",
   "execution_count": 92,
   "metadata": {},
   "outputs": [
    {
     "name": "stdout",
     "output_type": "stream",
     "text": [
      "Original matrix:\n",
      " [[3 4 0]\n",
      " [2 1 6]]\n",
      "Flattened view: [3 4 0 2 1 6]\n"
     ]
    }
   ],
   "source": [
    "a_matrix = rng.integers(0,10,size=(2,3)) # random integers in [0,10), 2x3 matrix\n",
    "print(\"Original matrix:\\n\", a_matrix)\n",
    "ravelled_view = a_matrix.ravel()\n",
    "print(\"Flattened view:\", ravelled_view)  # flatten the array to a 1D array"
   ]
  },
  {
   "cell_type": "markdown",
   "metadata": {},
   "source": [
    "If we modify the view, we modify the original array as well."
   ]
  },
  {
   "cell_type": "code",
   "execution_count": 91,
   "metadata": {},
   "outputs": [
    {
     "name": "stdout",
     "output_type": "stream",
     "text": [
      "Modified view: [100   7   8   1   0   7]\n",
      "Original array: [[1 6 5]\n",
      " [4 7 4]]\n"
     ]
    }
   ],
   "source": [
    "ravelled_view[0] = 100  # modify the view\n",
    "print(\"Modified view:\", ravelled_view)  # the view is modified\n",
    "print(\"Original array:\", a_matrix)  # the original array is modified as well"
   ]
  },
  {
   "cell_type": "markdown",
   "metadata": {},
   "source": [
    "To obtain a completely independent flattened copy of the array, you can use the `np.flatten()` method, which returns a copy of the array in a 1D format."
   ]
  },
  {
   "cell_type": "code",
   "execution_count": 90,
   "metadata": {},
   "outputs": [
    {
     "name": "stdout",
     "output_type": "stream",
     "text": [
      "The original:\n",
      " [[1 6 5]\n",
      " [4 7 4]]\n",
      "Flattened: [1 6 5 4 7 4]\n",
      "Flattened after modification: [100   6   5   4   7   4]\n",
      "The original:\n",
      " [[1 6 5]\n",
      " [4 7 4]]\n"
     ]
    }
   ],
   "source": [
    "a_matrix = rng.integers(0,10,size=(2,3)) # random integers in [0,10), 2x3 matrix\n",
    "print(\"The original:\\n\",a_matrix)\n",
    "flattened_copy = a_matrix.flatten()\n",
    "print(\"Flattened:\",flattened_copy)  # flatten the array to a 1D array\n",
    "flattened_copy[0] = 100  # modify the copy\n",
    "print(\"Flattened after modification:\",flattened_copy)  # the copy is modified\n",
    "print(\"The original:\\n\",a_matrix)  # the original array is not modified"
   ]
  },
  {
   "cell_type": "markdown",
   "metadata": {},
   "source": [
    "We can also do the opposite and increase the rank of an array by reshaping it. For example, we can reshape a 1D array into a 2D array with one column or one row."
   ]
  },
  {
   "cell_type": "code",
   "execution_count": 95,
   "metadata": {},
   "outputs": [
    {
     "name": "stdout",
     "output_type": "stream",
     "text": [
      "One-dimensional array: [7 7 8 1 5]\n",
      "Reshaped array:\n",
      " [[7]\n",
      " [7]\n",
      " [8]\n",
      " [1]\n",
      " [5]]\n"
     ]
    }
   ],
   "source": [
    "one_dimensional_array = rng.integers(0,10,size=(5,))  # random integers in [0,10), 1D array\n",
    "print(\"One-dimensional array:\", one_dimensional_array)\n",
    "reshaped_array = one_dimensional_array.reshape((5,1))  # reshape to a  2D array with one column\n",
    "print(\"Reshaped array:\\n\", reshaped_array)"
   ]
  },
  {
   "cell_type": "markdown",
   "metadata": {},
   "source": [
    "### Broadcasting\n",
    "\n",
    "Combining arrays of different shapes is possible in NumPy using a feature called **broadcasting**. Broadcasting allows NumPy to perform operations on arrays of different shapes by automatically expanding the smaller array to match the shape of the larger one."
   ]
  },
  {
   "cell_type": "code",
   "execution_count": 93,
   "metadata": {},
   "outputs": [
    {
     "name": "stdout",
     "output_type": "stream",
     "text": [
      "Matrix:\n",
      " [[1 2 3]\n",
      " [4 5 6]]\n",
      "Vector: [10 20 30]\n",
      "Result of broadcasting:\n",
      " [[11 22 33]\n",
      " [14 25 36]]\n"
     ]
    }
   ],
   "source": [
    "# Minimal broadcasting example: rank 2 (matrix) with rank 1 (vector)\n",
    "matrix = np.array([[1, 2, 3],\n",
    "                   [4, 5, 6]])\n",
    "vector = np.array([10, 20, 30])\n",
    "\n",
    "# Broadcasting addition: vector is added to each row of the matrix\n",
    "result = matrix + vector\n",
    "print(\"Matrix:\\n\", matrix)\n",
    "print(\"Vector:\", vector)\n",
    "print(\"Result of broadcasting:\\n\", result)"
   ]
  },
  {
   "cell_type": "markdown",
   "metadata": {},
   "source": [
    "You can reshape a 1D array to a column or row vector and use broadcasting to expand it into a large table. For example, to create a table where each row is the original 1D array, or each column is the original array:\n"
   ]
  },
  {
   "cell_type": "code",
   "execution_count": null,
   "metadata": {},
   "outputs": [
    {
     "name": "stdout",
     "output_type": "stream",
     "text": [
      "One-dimensional array: [1. 2. 3. 4. 5.]\n",
      "Broadcasted Table:\n",
      " [[ 1.  2.  3.  4.  5.]\n",
      " [ 2.  4.  6.  8. 10.]\n",
      " [ 3.  6.  9. 12. 15.]\n",
      " [ 4.  8. 12. 16. 20.]\n",
      " [ 5. 10. 15. 20. 25.]]\n"
     ]
    }
   ],
   "source": [
    "one_dimensional_array = np.linspace(1, 5, num=5)  # create a 1D array with 5 elements\n",
    "print(\"One-dimensional array:\", one_dimensional_array)\n",
    "# Expand one_dimensional_array to a table with 5 rows and 5 columns\n",
    "row_vector = one_dimensional_array.reshape(1, -1)  # shape (1, 5)\n",
    "column_vector = one_dimensional_array.reshape(-1, 1)  # shape (5, 1)\n",
    "\n",
    "# Broadcasting to create a table\n",
    "table = column_vector + row_vector\n",
    "print(\"BroadcastedTable:\\n\",table)\n"
   ]
  },
  {
   "cell_type": "markdown",
   "metadata": {},
   "source": [
    "## Two-dimensional arrays as matrices: some linear algebra\n",
    "\n",
    "Two-dimensional arrays are often used to represent matrices or images. In a matrix, each element can be accessed using two indices: \n",
    "- one for the row \n",
    "- one for the column. \n",
    "\n",
    "\n",
    "A matrix is a rectangular array of numbers, symbols, or expressions arranged in rows and columns and is an essential concept in **linear algebra**.\n",
    "\n",
    "For examplle, let's consider the simple system of simultaneous equations:\n",
    "\n",
    "$$ \\begin{align*}\n",
    "2x + 3y +z &= 5 \\\\\n",
    "4x - y &= 1 \\\\\n",
    "2y +z &= 3\n",
    "\\end{align*} $$\n",
    "\n",
    "This can be represented in matrix form as:\n",
    "$$ \\begin{bmatrix}\n",
    "2 & 3 &1  \\\\\n",
    "4 & -1 &0 \\\\\n",
    "0 & 2 &1\n",
    "\\end{bmatrix}\n",
    "\\begin{bmatrix}\n",
    "x \\\\\n",
    "y \\\\\n",
    "z\n",
    "\\end{bmatrix}\n",
    "=\n",
    "\\begin{bmatrix}5 \\\\\n",
    "1\\\\\n",
    "3\n",
    "\\end{bmatrix} $$   \n",
    "\n",
    "And if we call $A$ the matrix of coefficients, $\\mathbf{x}$ the vector of variables, and $b$ the vector of constants, we can write this as:\n",
    "$$ A \\mathbf{x} = \\mathbf{b} $$\n",
    "\n",
    "where $$A = \\begin{bmatrix}\n",
    "2 & 3 &1  \\\\\n",
    "4 & -1 &0 \\\\\n",
    "0 & 2 &1\n",
    "\\end{bmatrix}, \\quad\n",
    "\\mathbf{x} = \\begin{bmatrix}\n",
    "x \\\\\n",
    "y\\\\\n",
    "z\n",
    "\\end{bmatrix}, \\quad\n",
    "\\mathbf{b} = \\begin{bmatrix}\n",
    "5 \\\\\n",
    "1\\\\\n",
    "3\n",
    "\\end{bmatrix} $$            "
   ]
  },
  {
   "cell_type": "markdown",
   "metadata": {},
   "source": [
    "A key result of linear algebra is that if $A$ is invertible, we can solve for $\\mathbf{x}$ by multiplying both sides of the equation by the inverse of $A$:\n",
    "$$ \\mathbf{x} = A^{-1} \\mathbf{b} $$\n",
    "\n",
    "where $A^{-1}$ is the inverse of matrix $A$.\n",
    "\n",
    "NumPy has a dedicated linear algebra submodule called `numpy.linalg` that provides functions for performing various linear algebra operations, including matrix inversion, solving systems of equations, and computing eigenvalues and eigenvectors.\n",
    "\n"
   ]
  },
  {
   "cell_type": "code",
   "execution_count": 10,
   "metadata": {},
   "outputs": [
    {
     "name": "stdout",
     "output_type": "stream",
     "text": [
      "Matrix A:\n",
      " [[ 2  3  1]\n",
      " [ 4 -1  0]\n",
      " [ 0  2  1]]\n",
      "Vector b:\n",
      " [[5]\n",
      " [1]\n",
      " [3]]\n"
     ]
    }
   ],
   "source": [
    "A = np.array([[2, 3,1], [4, -1,0],[0,2,1]])\n",
    "b = np.array([[5], [1], [3]]) # we use double brackets to create a column vector\n",
    "print(\"Matrix A:\\n\", A)\n",
    "print(\"Vector b:\\n\", b)"
   ]
  },
  {
   "cell_type": "markdown",
   "metadata": {},
   "source": [
    "The linear algebra submodule has a function called `solve` which can be used to solve the above equation efficiently:"
   ]
  },
  {
   "cell_type": "code",
   "execution_count": 11,
   "metadata": {},
   "outputs": [
    {
     "data": {
      "text/plain": [
       "array([[0.5],\n",
       "       [1. ],\n",
       "       [1. ]])"
      ]
     },
     "execution_count": 11,
     "metadata": {},
     "output_type": "execute_result"
    }
   ],
   "source": [
    "x = np.linalg.solve(A, b)\n",
    "\n",
    "x"
   ]
  },
  {
   "cell_type": "markdown",
   "metadata": {},
   "source": [
    "But we can use numpy to verify that this is correct. We can use the symbol `@` to perform matrix multiplication in numpy. "
   ]
  },
  {
   "cell_type": "code",
   "execution_count": 12,
   "metadata": {},
   "outputs": [
    {
     "data": {
      "text/plain": [
       "array([[5.],\n",
       "       [1.],\n",
       "       [3.]])"
      ]
     },
     "execution_count": 12,
     "metadata": {},
     "output_type": "execute_result"
    }
   ],
   "source": [
    "A @ x"
   ]
  },
  {
   "cell_type": "markdown",
   "metadata": {},
   "source": [
    "We can also directly calculate the inverse of a matrix using the `inv` function from the `numpy.linalg` and use it to solve the equation"
   ]
  },
  {
   "cell_type": "code",
   "execution_count": 18,
   "metadata": {},
   "outputs": [
    {
     "data": {
      "text/plain": [
       "array([[0.5],\n",
       "       [1. ],\n",
       "       [1. ]])"
      ]
     },
     "execution_count": 18,
     "metadata": {},
     "output_type": "execute_result"
    }
   ],
   "source": [
    "x = np.linalg.inv(A) @ b\n",
    "\n",
    "x"
   ]
  },
  {
   "cell_type": "markdown",
   "metadata": {},
   "source": [
    "All the most common linear algebra operations are available in the `numpy.linalg` submodule:\n",
    "\n",
    "- tranpose"
   ]
  },
  {
   "cell_type": "code",
   "execution_count": 16,
   "metadata": {},
   "outputs": [
    {
     "data": {
      "text/plain": [
       "array([[5, 1, 3]])"
      ]
     },
     "execution_count": 16,
     "metadata": {},
     "output_type": "execute_result"
    }
   ],
   "source": [
    "b.T"
   ]
  },
  {
   "cell_type": "markdown",
   "metadata": {},
   "source": [
    "- scalar (dot) product (which takes two vectors and returns a scalar)"
   ]
  },
  {
   "cell_type": "code",
   "execution_count": 17,
   "metadata": {},
   "outputs": [
    {
     "data": {
      "text/plain": [
       "array([[35]])"
      ]
     },
     "execution_count": 17,
     "metadata": {},
     "output_type": "execute_result"
    }
   ],
   "source": [
    "np.dot(b.T,b)"
   ]
  },
  {
   "cell_type": "markdown",
   "metadata": {},
   "source": [
    "- cross product"
   ]
  },
  {
   "cell_type": "code",
   "execution_count": 24,
   "metadata": {},
   "outputs": [
    {
     "data": {
      "text/plain": [
       "array([[0, 0, 0]])"
      ]
     },
     "execution_count": 24,
     "metadata": {},
     "output_type": "execute_result"
    }
   ],
   "source": [
    "np.cross(b.T, b.T) #takes row vectors and returns a row vector"
   ]
  },
  {
   "cell_type": "markdown",
   "metadata": {},
   "source": [
    "Linear algebra applications are beyond the scope of this course (so, there will be **no assessment of these**), but they are widely used in various fields such as physics, computer science, and engineering. For example, they are essential in computer graphics for transformations, in machine learning for optimization, and in physics for solving systems of equations. So it is important for you to know that all these can be implemented efficiently using numpy."
   ]
  },
  {
   "cell_type": "markdown",
   "metadata": {},
   "source": [
    "## Matrices as images\n",
    "\n",
    "A two-dimensional table of numbers can also be used to represent an image. Each number in the table corresponds to a pixel in the image, and the value of the number represents the color or intensity of that pixel.\n",
    "\n",
    "`matplotlib` provides a convenient way to visualize 2D arrays as images. The `matshow` function can be used to display a 2D matrix as an image, where the values in the array are mapped to colors."
   ]
  },
  {
   "cell_type": "code",
   "execution_count": 26,
   "metadata": {},
   "outputs": [
    {
     "data": {
      "text/plain": [
       "<matplotlib.colorbar.Colorbar at 0x10cd2f350>"
      ]
     },
     "execution_count": 26,
     "metadata": {},
     "output_type": "execute_result"
    },
    {
     "data": {
      "image/png": "[encoded data removed]",
      "text/plain": [
       "<Figure size 480x480 with 2 Axes>"
      ]
     },
     "metadata": {},
     "output_type": "display_data"
    }
   ],
   "source": [
    "import matplotlib.pyplot as plt\n",
    "plt.matshow(A)\n",
    "plt.colorbar()"
   ]
  }
 ],
 "metadata": {
  "kernelspec": {
   "display_name": "3.11.1",
   "language": "python",
   "name": "python3"
  },
  "language_info": {
   "codemirror_mode": {
    "name": "ipython",
    "version": 3
   },
   "file_extension": ".py",
   "mimetype": "text/x-python",
   "name": "python",
   "nbconvert_exporter": "python",
   "pygments_lexer": "ipython3",
   "version": "3.11.1"
  }
 },
 "nbformat": 4,
 "nbformat_minor": 4
}
