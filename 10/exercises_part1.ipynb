{
 "cells": [
  {
   "cell_type": "markdown",
   "metadata": {},
   "source": [
    "# Creating a mask containing a circle\n",
    "\n",
    "## Pair programming: part 1"
   ]
  },
  {
   "cell_type": "markdown",
   "metadata": {},
   "source": [
    "As part of this activity you have been split into pairs/threes and are being asked to create code together using a technique called *pair programming*.\n",
    "\n",
    "For this exercise, one of you will be writing the code (the **driver**) and the others will be directing and advising on what should be written (the **navigator(s)**) with lots of discussion in between. Decide between yourselves who would like each role to start with. For the second exercise  you will swap some of your roles but carry on working together in the same pairs/threes."
   ]
  },
  {
   "cell_type": "markdown",
   "metadata": {},
   "source": [
    "## How a mask could be used\n",
    "\n",
    "In this workbook, we want you to create a mask. By this we mean a square (or rectangular) grid of zeros (0s) and ones (1s) with values of 1 in the positions you want to keep and values of 0 in the positions you don't. This mask could then be applied to another image for example:\n",
    "\n",
    "<img src=\"images/Picture-before-mask.png\" alt=\"Picture before mask\" style=\"float:left;display:block;margin-left:auto;margin-right:auto;width:20%;padding-left:20%;padding-right:10%\"/>\n",
    "<img src=\"images/Picture-with-mask.png\" alt=\"Picture before mask\" style=\"float:left;display:block;margin-left:auto;margin-right:auto;width:20%;padding-left:10%;padding-right:20%\"/>"
   ]
  },
  {
   "cell_type": "markdown",
   "metadata": {},
   "source": [
    "Within the mask the edge would look something like this:\n",
    "\n",
    "<img src=\"images/Zoom_in_edge_mask.png\" alt=\"Zoom in on edge of circle mask\" style=\"display:block;margin-left:auto;margin-right:auto;width:20%\"/>\n",
    "\n",
    "where the thin green line represents the edge of where the real circle would be."
   ]
  },
  {
   "cell_type": "markdown",
   "metadata": {},
   "source": [
    "## Circle within a square\n",
    "\n",
    "The mask we want you to create should represent a circle (defined within the grid). The equation governing the edge of a circle is:\n",
    "\n",
    "$$ (x-x_0)^2 + (y-y_0)^2 = r^2 $$\n",
    "\n",
    "where\n",
    "\n",
    " - $x$, $y$ are the x, y positions within the grid\n",
    " - $x_0$, $y_0$ are the centre of the circle\n",
    " - $r$ is the radius\n",
    "\n",
    "For example, for a circle with radius of 2 with a centre point of (4, 3), if we looked at position (5, 4), then this would be inside that circle since:\n",
    "\n",
    "$$\\sqrt{((5 - 4)^2 + (4 - 3)^2)}$$\n",
    "$$ = \\sqrt{1^2 + 1^2} = \\sqrt{1 + 1} = \\sqrt{2} = 1.41$$\n",
    "\n",
    "which is less than the radius of 2."
   ]
  },
  {
   "cell_type": "markdown",
   "metadata": {},
   "source": [
    "---"
   ]
  },
  {
   "cell_type": "markdown",
   "metadata": {},
   "source": [
    "### Exercise A\n",
    "\n",
    "Create a 100 x 100 square grid containing a circle. The centre of the circle should be at position `x = 40`, `y = 50` and have a radius of 10. Call your output `circular_mask`."
   ]
  },
  {
   "cell_type": "markdown",
   "metadata": {},
   "source": [
    "*Break this idea down into the different steps:*\n",
    " - *Start by creating an array - how could you create an array of the right shape?*\n",
    " - *How would you turn the equation above into code?*\n",
    " - *How would you evaluate one (x, y) position to start with?*\n",
    " - *How do you move on to evaluate every position?*\n",
    " - *...*\n",
    "\n",
    "**Important note**: For `numpy` remember that the axes are opposite to what you would expect for an x-y grid - they store data as *row-major* meaning you access the row as the first index (y) and the column as the second index (x). This means position `arr[1, 0]` would be at position (0, 1) in x, y co-ordinates rather than (1, 0) as you may expect.\n",
    "\n",
    "When completed, you can use the plotting code below to show your mask. This uses a `matplotlib` function called `imshow` ([documentation](https://matplotlib.org/stable/api/_as_gen/matplotlib.pyplot.imshow.html); [example from image gallery](https://matplotlib.org/stable/gallery/images_contours_and_fields/image_demo.html)) which can plot your 2D data on a grid."
   ]
  },
  {
   "cell_type": "code",
   "execution_count": 1,
   "metadata": {},
   "outputs": [],
   "source": [
    "# ADD CODE HERE\n",
    "\n",
    "\n"
   ]
  },
  {
   "cell_type": "code",
   "execution_count": 2,
   "metadata": {},
   "outputs": [],
   "source": [
    "### UNCOMMENT THIS CODE TO PLOT YOUR MASK WHEN COMPLETED\n",
    "#\n",
    "#import matplotlib.pyplot as plt\n",
    "#\n",
    "#fig, ax = plt.subplots(figsize=(6, 3.2))\n",
    "#\n",
    "#ax.set_title('Circular Mask')\n",
    "#ax.imshow(circular_mask,cmap=\"bone\",origin=\"lower\") # Setting colourmap (cmap) and the position of 0,0 (origin) on the plot"
   ]
  },
  {
   "cell_type": "markdown",
   "metadata": {},
   "source": [
    "Take time to discuss this but if you are really stuck, there is a [hint notebook](hint1_mask.ipynb) available which shows how you would create a mask for a square rather than a circle as an example of how you could approach this."
   ]
  },
  {
   "cell_type": "markdown",
   "metadata": {},
   "source": [
    "---"
   ]
  },
  {
   "cell_type": "markdown",
   "metadata": {},
   "source": [
    "*Extended*:\n",
    "\n",
    "1. Consider how you could create a mask for a rectangle rather than a circle (or a square)\n",
    "\n",
    "*More complex*:\n",
    "\n",
    "2. What are some other ways a mask could created using the features of `numpy`?\n",
    " - Look other numpy (`np`) functions e.g.\n",
    "    - `meshgrid()` - [link](https://numpy.org/doc/stable/reference/generated/numpy.meshgrid.html) (or `ogrid()` - [link](https://numpy.org/doc/stable/reference/generated/numpy.ogrid.html))\n",
    "    - `where()` - [link](https://numpy.org/doc/stable/reference/generated/numpy.where.html) functions.\n",
    " - Look at the more complex ways that `numpy.array` objects can be indexed - [indexing multi-dimensional arrays](https://numpy.org/doc/stable/user/basics.indexing.html#indexing-multi-dimensional-arrays)\n",
    " - Consider how values can be assigned to whole sections of an array directly."
   ]
  },
  {
   "cell_type": "markdown",
   "metadata": {},
   "source": [
    "---"
   ]
  }
 ],
 "metadata": {
  "kernelspec": {
   "display_name": "Python 3 (ipykernel)",
   "language": "python",
   "name": "python3"
  },
  "language_info": {
   "codemirror_mode": {
    "name": "ipython",
    "version": 3
   },
   "file_extension": ".py",
   "mimetype": "text/x-python",
   "name": "python",
   "nbconvert_exporter": "python",
   "pygments_lexer": "ipython3",
   "version": "3.9.13"
  }
 },
 "nbformat": 4,
 "nbformat_minor": 4
}
