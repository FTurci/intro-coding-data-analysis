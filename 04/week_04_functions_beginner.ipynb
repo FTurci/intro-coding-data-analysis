{
 "cells": [
  {
   "cell_type": "markdown",
   "id": "bd1aa9e9",
   "metadata": {},
   "source": [
    "# Beginner: Defining Functions"
   ]
  },
  {
   "cell_type": "markdown",
   "id": "9bc4e046",
   "metadata": {},
   "source": [
    "### Table of Contents\n",
    "\n",
    " - [Welcome Page](./week_04_home.ipynb)\n",
    "\n",
    " - [**Beginner: Defining Functions**](./week_04_functions_beginner.ipynb)\n",
    "   - [What is a Function?](#What-is-a-Function?)\n",
    "   - [Anatomy of a Function](#Anatomy-of-a-Function)\n",
    "   - [Inputs and Outputs](#Inputs-and-Outputs)\n",
    "   - [Variable Scope](#Variable-Scope)\n",
    "   - [Exercises](#Exercises)\n",
    " - [Intermediate: Flexible Inputs and Outputs](./week_04_functions_intermediate.ipynb)\n",
    " - [Advanced: Lambda Functions and Functional Programming](./week_04_functions_advanced.ipynb)\n",
    " - [Slides](./week_04_slides.ipynb) ([Powerpoint](./Lecture4_Functions.pptx))"
   ]
  },
  {
   "cell_type": "markdown",
   "id": "784099b2",
   "metadata": {},
   "source": [
    "## What is a Function?"
   ]
  },
  {
   "cell_type": "markdown",
   "id": "37cc6b50",
   "metadata": {},
   "source": [
    "Functions are a handy way of parceling up your code, making it easier to reuse, share, and organize. You can think of a function as a block of \"pre-prepared\" code that you might want to run again and again.\n",
    "\n",
    "You've already used a lot of functions without realizing it - for instance:\n",
    "\n",
    " - `print()` to display text\n",
    "\n",
    " - `\"hello\".split()` to split strings\n",
    "\n",
    " - `str()`, `int()`, and `float()` to convert between types\n",
    "\n",
    "Anything that looks like a name followed by round brackets `()` is usually a function in Python."
   ]
  },
  {
   "cell_type": "markdown",
   "id": "4f42a01e",
   "metadata": {},
   "source": [
    "To understand why functions are useful, suppose we were writing some code, and it ended up looking something like this:"
   ]
  },
  {
   "cell_type": "code",
   "execution_count": null,
   "id": "a81c3c25",
   "metadata": {},
   "outputs": [],
   "source": [
    "k = 3\n",
    "y = k * 2 + 1\n",
    "print(y)\n",
    "\n",
    "print(\"Doing something else here...\")\n",
    "\n",
    "m = 10 + k\n",
    "z = m * 2 + 1\n",
    "print(z)\n",
    "\n",
    "print(\"Sum of numbers:\", sum([1, 2, 3]))\n",
    "\n",
    "w = 2 * 2 + 1\n",
    "print(w)"
   ]
  },
  {
   "cell_type": "markdown",
   "id": "15630e55",
   "metadata": {},
   "source": [
    "In this program there are several places where we are doing the same operation: doubling a number, adding one, and then printing the result.\n",
    "\n",
    "We can't use a loop here, since the overall program is not simply repeating over and over, but it is clear that this calculation is repetitive. This is the kind of situation where functions are useful."
   ]
  },
  {
   "cell_type": "markdown",
   "id": "ee1c925e",
   "metadata": {},
   "source": [
    "We can put the repeated logic into a function and give it a name. In Python, functions are created using the `def` keyword, followed by the function name, a pair of parentheses, and a colon. The code inside the function is indented:"
   ]
  },
  {
   "cell_type": "code",
   "execution_count": null,
   "id": "a2b6abaf",
   "metadata": {},
   "outputs": [],
   "source": [
    "# This is a function:\n",
    "def print_double_and_add_one(x):\n",
    "    \n",
    "    # Double x and add 1\n",
    "    y = x * 2 + 1\n",
    "    print(y)\n",
    "\n",
    "# This is not part of the function,\n",
    "# because the code is no longer indented\n",
    "k = 3\n",
    "print_double_and_add_one(k)"
   ]
  },
  {
   "cell_type": "markdown",
   "id": "4f3da571",
   "metadata": {},
   "source": [
    " > **Note:** Much like `if` statements and loops, indentation is very important for functions. Whilst in other languages such as `Matlab` there are keywords signifying when a function ends (such as `end`); in Python the only way to tell which code is and is not inside a function is through indentation. In short, make sure your indentation is present and consistent! Also, don't forget the colon after the `def` expression!"
   ]
  },
  {
   "cell_type": "markdown",
   "id": "1734e4ee",
   "metadata": {},
   "source": [
    "Now we can call our function whenever we need that same operation, without having to repeat the calculation each time:"
   ]
  },
  {
   "cell_type": "code",
   "execution_count": null,
   "id": "bafe8ee3",
   "metadata": {},
   "outputs": [],
   "source": [
    "k = 3\n",
    "print_double_and_add_one(k)\n",
    "\n",
    "print(\"Doing something else here...\")\n",
    "\n",
    "m = 10 + k\n",
    "print_double_and_add_one(m)\n",
    "\n",
    "print(\"Sum of numbers:\", sum([1, 2, 3]))\n",
    "\n",
    "print_double_and_add_one(2)"
   ]
  },
  {
   "cell_type": "markdown",
   "id": "93b7983d",
   "metadata": {},
   "source": [
    "This version of the program behaves exactly the same, but the repeated calculation is written only once, inside the function. If we ever needed to change the logic (for example, triple the number instead of double it), we would only have to update the function (instead of updating the three lines it was used on one by one)."
   ]
  },
  {
   "cell_type": "markdown",
   "id": "217d6317",
   "metadata": {},
   "source": [
    "## Anatomy of a Function"
   ]
  },
  {
   "cell_type": "markdown",
   "id": "42361a2d",
   "metadata": {},
   "source": [
    "Let's break down the basic syntax of a function.\n",
    "\n",
    "The first line always begins with the `def` keyword and ends with a colon `:`. These tell Python where the function starts.\n",
    "\n",
    "\n",
    " > <pre>\n",
    " > <b>`def` keyword</b>        <b>colon</b>\n",
    " >   ↓                    ↓\n",
    " > <b>def</b> my_function(inputs)<b>:</b>\n",
    " >     print(\"Code inside function\")\n",
    " >     \n",
    " > print(\"Code outside function\")\n",
    " > </pre>\n",
    "\n",
    "After `def`, we choose a name for the function. In this case, it's `my_function`. This is the name we will later use to \"call\" (i.e. run) the function.\n",
    "\n",
    " > <pre>\n",
    " >       <b>name of function</b>\n",
    " >            ↓\n",
    " > def<b> my_function</b>(inputs):\n",
    " >     print(\"Code inside function\")\n",
    " >     \n",
    " > print(\"Code outside function\")\n",
    " > </pre>\n",
    "\n",
    "Next, inside the round brackets `()`, we specify the `inputs` to the function. These are the variables or values that the function will use when it runs.\n",
    "\n",
    " > <pre>\n",
    " >       <b>inputs to the function</b>\n",
    " >                  ↓\n",
    " > def my_function<b>(inputs)</b>:\n",
    " >     print(\"Code inside function\")\n",
    " >     \n",
    " > print(\"Code outside function\")\n",
    " > </pre>\n",
    "\n",
    "The indented block of code that follows is called the body of the function. This code does not run until the function is called.\n",
    "\n",
    "\n",
    "> <pre>\n",
    "> def my_function(inputs):\n",
    ">    <b>print(\"Code inside function\") ← body of the function</b>\n",
    ">    \n",
    "> print(\"Code outside function\")\n",
    "> </pre>\n",
    "\n",
    "\n",
    "Finally, any code that is not indented is *outside* the function and will run as normal when the program is executed.\n",
    "\n",
    " > <pre>\n",
    " > def my_function(inputs):\n",
    " >     print(\"Code inside function\")\n",
    " >     \n",
    " > <b>print(\"Code outside function\") ← this code will run as normal</b>\n",
    " > </pre>\n",
    "\n",
    "Don't worry if this seems a little confusing for now, we will see lots of examples in the next few sections."
   ]
  },
  {
   "cell_type": "markdown",
   "id": "9b11c4c5",
   "metadata": {},
   "source": [
    "## Inputs and Outputs"
   ]
  },
  {
   "cell_type": "markdown",
   "id": "41984c50",
   "metadata": {},
   "source": [
    "You can think of a function a bit like a *black box*: you put some inputs into it, the function runs some code, and it gives you a result.\n",
    "\n",
    "For example, the `print_double_and_add_one` function we saw earlier took in a number `x`, doubled it, added one, and printed the result.\n",
    "\n",
    "Up until now, our functions have only printed things. But often we want a function to return a result that we can use later in our program. This is done with the `return` keyword."
   ]
  },
  {
   "cell_type": "code",
   "execution_count": null,
   "id": "93113d46",
   "metadata": {},
   "outputs": [],
   "source": [
    "def double_and_add_one(x): \n",
    "    # Double x and add 1\n",
    "    y = x * 2 + 1\n",
    "    \n",
    "    # Return y as an output\n",
    "    return y      # we could also write return(y)"
   ]
  },
  {
   "cell_type": "code",
   "execution_count": null,
   "id": "c06cc037",
   "metadata": {},
   "outputs": [],
   "source": [
    "# Test the function\n",
    "k = 3 \n",
    "m = double_and_add_one(k)\n",
    "print(m)"
   ]
  },
  {
   "cell_type": "markdown",
   "id": "7ffe2e7a",
   "metadata": {},
   "source": [
    "Notice how this function doesn't print the result directly. Instead, it returns it. We then stored the result in `m` and printed it afterwards.\n",
    "\n",
    " > **Test your understanding:** Try changing the value of `k` above. What do you think will happen when you do this?\n",
    " \n",
    "  > **Note:** We can also write `return(y)` instead of `return y`. Both are valid and do exactly the same thing.\n",
    "\n",
    "Once a `return` statement is reached, the function ends immediately. Any code written after it will not be executed. For instance:"
   ]
  },
  {
   "cell_type": "code",
   "execution_count": null,
   "id": "9956c9cb",
   "metadata": {},
   "outputs": [],
   "source": [
    "def add_one_to_x(x):\n",
    "\n",
    "    print(\"This will be printed when the function is called.\")\n",
    "    \n",
    "    return x + 1\n",
    "\n",
    "    print(\"This will never be printed.\")\n",
    "    \n",
    "# Run the function\n",
    "z = add_one_to_x(3)\n",
    "print(z)"
   ]
  },
  {
   "cell_type": "markdown",
   "id": "0ae569fb",
   "metadata": {},
   "source": [
    "A function doesn't just have to have one input. Multiple inputs to a function can be specified like so:"
   ]
  },
  {
   "cell_type": "code",
   "execution_count": null,
   "id": "457edbc8",
   "metadata": {},
   "outputs": [],
   "source": [
    "def add_together_and_square(x, y):\n",
    "    z = (x + y) ** 2\n",
    "    return z"
   ]
  },
  {
   "cell_type": "markdown",
   "id": "f6c7d5fa",
   "metadata": {},
   "source": [
    " > **Test your understanding:** Write some code which *calls* this function on the values `x=3` and `y=2`. Predict what output your code will give, and check your answer by running the code."
   ]
  },
  {
   "cell_type": "code",
   "execution_count": null,
   "id": "a277f34a",
   "metadata": {},
   "outputs": [],
   "source": [
    "# Write your code here..."
   ]
  },
  {
   "cell_type": "markdown",
   "id": "5220ba1f",
   "metadata": {},
   "source": [
    "Multiple outputs can also be returned like so:"
   ]
  },
  {
   "cell_type": "code",
   "execution_count": null,
   "id": "1b5ba3d4",
   "metadata": {},
   "outputs": [],
   "source": [
    "def double_and_add_one_and_two(x):\n",
    "    y = x * 2 + 1\n",
    "    z = x * 2 + 2\n",
    "    return y, z\n",
    "\n",
    "a, b = double_and_add_one_and_two(3)\n",
    "print(a, b)"
   ]
  },
  {
   "cell_type": "markdown",
   "id": "24456cdc",
   "metadata": {},
   "source": [
    "If we don't want all the outputs, we can ignore one with the underscore `_`:"
   ]
  },
  {
   "cell_type": "code",
   "execution_count": null,
   "id": "3b7d7429",
   "metadata": {},
   "outputs": [],
   "source": [
    "m, _ = double_and_add_one_and_two(5)\n",
    "print(m)"
   ]
  },
  {
   "cell_type": "markdown",
   "id": "ca5a1e7b",
   "metadata": {},
   "source": [
    "Functions can also be written with no inputs or outputs at all. For example:"
   ]
  },
  {
   "cell_type": "code",
   "execution_count": null,
   "id": "4ec6c22c",
   "metadata": {},
   "outputs": [],
   "source": [
    "def say_hello():\n",
    "    print(\"Hello there!\")\n",
    "\n",
    "say_hello()"
   ]
  },
  {
   "cell_type": "markdown",
   "id": "e02c8254",
   "metadata": {},
   "source": [
    "Input arguments are named, meaning you can call the function on inputs by using their names, rather than by using the order they were defined in. For example:"
   ]
  },
  {
   "cell_type": "code",
   "execution_count": null,
   "id": "50a907b9",
   "metadata": {},
   "outputs": [],
   "source": [
    "def exponentiation(base, exponent):\n",
    "    return base ** exponent\n",
    "\n",
    "# These will give the same result\n",
    "print(exponentiation(2, 3))\n",
    "print(exponentiation(base=2, exponent=3))\n",
    "print(exponentiation(exponent=3, base=2))"
   ]
  },
  {
   "cell_type": "markdown",
   "id": "e10c394c",
   "metadata": {},
   "source": [
    "You can also specify default values for inputs so that if an input is not entered, the function will assume it takes some predefined value. For example:"
   ]
  },
  {
   "cell_type": "code",
   "execution_count": null,
   "id": "3f363815",
   "metadata": {},
   "outputs": [],
   "source": [
    "def print_arguments(a=1, b=2, c=3):\n",
    "    print('First argument: ', a)\n",
    "    print('Second argument:', b)\n",
    "    print('Third argument: ', c)"
   ]
  },
  {
   "cell_type": "code",
   "execution_count": null,
   "id": "ab107a41",
   "metadata": {},
   "outputs": [],
   "source": [
    "print('---------------------------')\n",
    "print_arguments()\n",
    "print('---------------------------')\n",
    "print_arguments(3)\n",
    "print('---------------------------')\n",
    "print_arguments(3,4)\n",
    "print('---------------------------')\n",
    "print_arguments(3,4,5)\n",
    "print('---------------------------')"
   ]
  },
  {
   "cell_type": "markdown",
   "id": "088a8f2d",
   "metadata": {},
   "source": [
    "## Variable Scope"
   ]
  },
  {
   "cell_type": "markdown",
   "id": "b2436c1e",
   "metadata": {},
   "source": [
    "When we create variables inside a function, those variables only exist *inside* the function. The region of the program where a variable can be used is called the *scope* of the variable.\n",
    "\n",
    "For example:"
   ]
  },
  {
   "cell_type": "code",
   "execution_count": null,
   "id": "a797dbdd",
   "metadata": {},
   "outputs": [],
   "source": [
    "def double_and_add_one(x):\n",
    "    output_variable = x * 2 + 1   # output_variable is created inside the function\n",
    "    return output_variable\n",
    "\n",
    "result = double_and_add_one(3)\n",
    "print(result)\n",
    "\n",
    "# This will give an error because output_variable does not exist \n",
    "# outside the function\n",
    "print(output_variable)"
   ]
  },
  {
   "cell_type": "markdown",
   "id": "12ff263d",
   "metadata": {},
   "source": [
    "The variable `output_variable` is created inside the function, so it only exists while the function is running. Once the function finishes, `output_variable` disappears.\n",
    "\n",
    "Variables created inside a function are called *local variables*. They can't be accessed outside of the function.\n",
    "\n",
    "On the other hand, variables created outside of a function are called *global variables*, and they can be used inside functions (though usually it's better practice to pass them in as inputs)."
   ]
  },
  {
   "cell_type": "code",
   "execution_count": null,
   "id": "96357207",
   "metadata": {},
   "outputs": [],
   "source": [
    "global_var = 10   # global variable\n",
    "\n",
    "def multiply_by_global_var(x):\n",
    "    return x * global_var\n",
    "\n",
    "print(multiply_by_global_var(3))   # This works because global_var is defined outside\n"
   ]
  },
  {
   "cell_type": "markdown",
   "id": "02d033d9",
   "metadata": {},
   "source": [
    "In general, it's good practice to:\n",
    "\n",
    " - Use function inputs and outputs rather than relying on global variables.\n",
    " - Give your variables clear names so you don't accidentally confuse a local variable with a global one."
   ]
  },
  {
   "cell_type": "markdown",
   "id": "131e9b8e",
   "metadata": {},
   "source": [
    "## Exercises"
   ]
  },
  {
   "cell_type": "markdown",
   "id": "d921f554",
   "metadata": {},
   "source": [
    "**Question 1:** Below is a simple function with two inputs."
   ]
  },
  {
   "cell_type": "code",
   "execution_count": null,
   "id": "4a8b3b5e",
   "metadata": {},
   "outputs": [],
   "source": [
    "def my_simple_function(x=2,y=1):\n",
    "    \n",
    "    print(x, y)"
   ]
  },
  {
   "cell_type": "markdown",
   "id": "9d6756a5",
   "metadata": {},
   "source": [
    "What do you think will be printed when each of the following is run?\n",
    "\n",
    " - `my_simple_function(3,4)`\n",
    " - `my_simple_function(y=3,x=4)`\n",
    " - `my_simple_function(y=4)`\n",
    " - `my_simple_function()`\n",
    " - `my_simple_function(x=3)`\n",
    " \n",
    "Explain your results and verify your answers by running the code."
   ]
  },
  {
   "cell_type": "markdown",
   "id": "2dea9714",
   "metadata": {},
   "source": [
    "**Question 2:** Write a function that takes a string `my_string` as input and returns the number of uppercase letters it contains. For example, if the input is `\"this Is mY string\"`, the function should return `2`. \n",
    "\n",
    "*Hint: Recall from [week 3](../03/week_03_loops_beginner.ipynb) that a string is an iterable object. This means that you can iterate over the characters in a string using `for character in my_string:`. You may also wish to use the [`upper`](https://www.geeksforgeeks.org/python/python-string-upper/) function.*"
   ]
  },
  {
   "cell_type": "code",
   "execution_count": null,
   "id": "a6b2d461",
   "metadata": {},
   "outputs": [],
   "source": [
    "# Write your code here..."
   ]
  },
  {
   "cell_type": "markdown",
   "id": "5496e645",
   "metadata": {},
   "source": [
    "**Question 3:**  In physics, energy can take different forms. In this question, you will write two functions to calculate kinetic and potential energy.\n",
    "\n",
    " - The first, `calculate_kinetic_energy`, should take `mass` (in kg) and `velocity` (in m/s) as inputs and return the kinetic energy, `E_k`, computed using the formula $E_{K} = \\frac{1}{2}mv^2$. For example, if the mass is `2` kg and velocity is `10` m/s, the function should return `100.0`.\n",
    " - The second, `calculate_potential_energy`, should take `mass` (in kg), `height` (in m), and `gravity` (in m/s²) as inputs and return the gravitational potential energy, `E_p`, computed using the formula $E_{P} = mgh$. For example, if mass is `1` kg, height is `50` m, and gravity is `9.8` m/s², the function should return 490.0."
   ]
  },
  {
   "cell_type": "code",
   "execution_count": null,
   "id": "82cde921",
   "metadata": {},
   "outputs": [],
   "source": [
    "# Write your code here..."
   ]
  },
  {
   "cell_type": "markdown",
   "id": "d30d16ee",
   "metadata": {},
   "source": [
    "**Question 4:** Your task in this question is to write code which models the behaviour of a ball falling from rest. \n",
    "\n",
    "To begin, you must create a list of time points from `0` to `5` seconds in increments of `0.1` seconds. For every time point, you must then compute the velocity of the ball, using $v = gt$ ($g = 9.8$ m/s²), and the height of the ball using $h = h_0 - \\frac12gt^2$ (where $h_0 = 100$ m is the initial height from which it is dropped). You must record the values in three lists named `times`, `velocities`, and `heights`. "
   ]
  },
  {
   "cell_type": "code",
   "execution_count": null,
   "id": "449051f0",
   "metadata": {},
   "outputs": [],
   "source": [
    "# Write your code here..."
   ]
  },
  {
   "cell_type": "markdown",
   "id": "1b7ee087",
   "metadata": {},
   "source": [
    "Next, you must use the functions you wrote in *Question 3* to calculate the kinetic and potential energy at each time and store the results in lists called `kinetic_energy` and `potential_energy`."
   ]
  },
  {
   "cell_type": "code",
   "execution_count": null,
   "id": "ad875d9d",
   "metadata": {},
   "outputs": [],
   "source": [
    "# Write your code here..."
   ]
  },
  {
   "cell_type": "markdown",
   "id": "c7b5509e",
   "metadata": {},
   "source": [
    "Once you have created the lists named `times`, `kinetic_energy` and `potential_energy`, you can run the below code, which should create a plot of the two forms of energy against time. Try to describe what these plots are telling you. Are the energies increasing or decreasing over time? How do you explain their behaviour?"
   ]
  },
  {
   "cell_type": "code",
   "execution_count": null,
   "id": "f862db56",
   "metadata": {},
   "outputs": [],
   "source": [
    "import os\n",
    "os.chdir('/home/jovyan/intro-coding-data-analysis.git/04/src')\n",
    "\n",
    "from plot import *\n",
    "\n",
    "plot_energy_over_time(times, kinetic_energy, potential_energy)"
   ]
  },
  {
   "cell_type": "markdown",
   "id": "ca6e5557",
   "metadata": {},
   "source": [
    "> **Note:** Don't worry if you are unsure what the `import` and `from` keywords are doing in the above code. For now, you can think of these as a way of loading in pre-written functions such as the `plot_energy_over_time` function. You'll have plenty of opportunities to practice and understand these features of Python as the course goes on."
   ]
  },
  {
   "cell_type": "markdown",
   "id": "785c5b96",
   "metadata": {},
   "source": [
    "**Question 5:** The below code will load a function called `time` which you can run as `time()`. See if you can work out what this function does (you may have to look online)."
   ]
  },
  {
   "cell_type": "code",
   "execution_count": null,
   "id": "87888fe6",
   "metadata": {},
   "outputs": [],
   "source": [
    "# This loads a function called time\n",
    "from time import time\n",
    "\n",
    "# Let's run the function\n",
    "time()"
   ]
  },
  {
   "cell_type": "markdown",
   "id": "750391ea",
   "metadata": {},
   "source": [
    "**Question 6:** Often in speech-to-text processing, spoken audio is transcribed as text. This can produce long strings of English sentences that have been automatically generated from speech. One common problem is that people often use filler words such as `\"um\"`, `\"uh\"`, `\"uhm\"`, `\"er\"`, and `\"err\"`. \n",
    "\n",
    "Write a function `remove_filler` which takes in a string containing transcribed speech and returns a new string with the same speech but with the filler words listed above removed. For instance, given the text\n",
    "\n",
    "```\"Um I was, uh, going to the store but uhm I er forgot.\"```\n",
    "\n",
    "your function should return\n",
    "\n",
    "```\"I was, going to the store but I forgot.\"```"
   ]
  },
  {
   "cell_type": "code",
   "execution_count": null,
   "id": "80a0c830",
   "metadata": {},
   "outputs": [],
   "source": [
    "# Write your code here..."
   ]
  },
  {
   "cell_type": "markdown",
   "id": "9a596ac3",
   "metadata": {},
   "source": [
    "*Hint: You may want to consider the [`split`](https://www.w3schools.com/python/ref_string_split.asp) function for strings for this problem.*"
   ]
  },
  {
   "cell_type": "markdown",
   "id": "02a07eae",
   "metadata": {},
   "source": [
    "**Question 7:** Consider the following badly written code that uses both a global and a local variable with the same name, `x`. When you run the code, you'll notice that the two `print` statements output different values. By performing your own research online if necessary, see if you can explain why the value printed inside the function differs from the value printed outside the function."
   ]
  },
  {
   "cell_type": "code",
   "execution_count": null,
   "id": "1b4c7102",
   "metadata": {},
   "outputs": [],
   "source": [
    "x = 10\n",
    "\n",
    "def my_function():\n",
    "    x = 20\n",
    "    print(x)\n",
    "    \n",
    "my_function()\n",
    "print(x)"
   ]
  },
  {
   "cell_type": "markdown",
   "id": "f6220953",
   "metadata": {},
   "source": [
    "**Question 8:** The $n$th Fibonnaci number, $F(n)$, is defined by the following recurrence relation;\n",
    "\n",
    "$F(0)=0, F(1)=1$ and $F(n)=F(n-1)+F(n-2)$ for $n>1$\n",
    "\n",
    "Write a function `Fibonnaci` which takes in a list of integers `[x1,x2,...,xk]` of arbitrary length and returns their corresponding fibonnaci numbers, i.e. `[F(x1),F(x2),...,F(xk)]`."
   ]
  },
  {
   "cell_type": "code",
   "execution_count": null,
   "id": "4d3d418a",
   "metadata": {},
   "outputs": [],
   "source": [
    "# Here is some example input\n",
    "example_input = [3,1,2,7]\n",
    "\n",
    "# And it's expected output\n",
    "expected_output = [2,1,1,13]\n",
    "\n",
    "# Write your function here\n",
    "def Fibonnaci(input_list):\n",
    "    \n",
    "    # ...\n",
    "    \n",
    "\n",
    "\n",
    "# Check your answer against this expected output\n",
    "print(Fibonnaci(example_input))\n",
    "print(expected_output)"
   ]
  },
  {
   "cell_type": "markdown",
   "id": "b50fa4c0",
   "metadata": {},
   "source": [
    "**Question 9:** The [\"Look and Say\"](https://en.wikipedia.org/wiki/Look-and-say_sequence) sequence is a sequence of integers defined in the following way.\n",
    "\n",
    " - The first member of the \"Look and Say\" sequence is 1, i.e. $l(1) = 1$.\n",
    " - To generate a member of the sequence from the previous member, read the digits of the previous member, counting the number of digits in groups of the same digit. For example:\n",
    "   - 1 is read off as \"one 1\" or 11 ($l(2) = 11$).\n",
    "   - 11 is read off as \"two 1s\" or 21 ($l(3) = 21$).\n",
    "   - 21 is read off as \"one 2, then one 1\" or 1211 ($l(4) = 1211$).\n",
    "   - 1211 is read off as \"one 1, one 2, then two 1s\" or 111221 ($l(5) = 111221$).\n",
    "   - 111221 is read off as \"three 1s, two 2s, then one 1\" or 312211 ($l(6) = 312211$).\n",
    "\n",
    "Write a function which, given the kth integer from the look and say sequence, $l(k)$, computes the (k+1)th integer in the sequence, $l(k+1)$. *Hint: The `str` function may be helpful for this task!*"
   ]
  },
  {
   "cell_type": "code",
   "execution_count": null,
   "id": "43b16c17",
   "metadata": {},
   "outputs": [],
   "source": [
    "# This function must take in a look and say number, l(k),\n",
    "# and return the next number in the sequence, l(k+1).\n",
    "def next_las(las_k):\n",
    "    \n",
    "    # Write your function here\n",
    "\n",
    "    \n",
    "# Test - to check your answer try it on the examples listed above\n",
    "print(next_las(1))\n",
    "print(next_las(11))\n",
    "print(next_las(21))\n",
    "print(next_las(1211))\n",
    "print(next_las(111221))"
   ]
  },
  {
   "cell_type": "markdown",
   "id": "27b3de19",
   "metadata": {},
   "source": [
    "**Question 10:** Using your function from Question 9, now write a function `las_k` which given an integer, $k$, returns the kth look and say number, $l(k)$. Give 3 reasons why you think it may be useful to lay out your code in functions in this way. "
   ]
  },
  {
   "cell_type": "code",
   "execution_count": null,
   "id": "b67cfa1e",
   "metadata": {},
   "outputs": [],
   "source": [
    "# Write your code here..."
   ]
  }
 ],
 "metadata": {
  "kernelspec": {
   "display_name": "Python 3 (ipykernel)",
   "language": "python",
   "name": "python3"
  },
  "language_info": {
   "codemirror_mode": {
    "name": "ipython",
    "version": 3
   },
   "file_extension": ".py",
   "mimetype": "text/x-python",
   "name": "python",
   "nbconvert_exporter": "python",
   "pygments_lexer": "ipython3",
   "version": "3.9.13"
  }
 },
 "nbformat": 4,
 "nbformat_minor": 5
}
