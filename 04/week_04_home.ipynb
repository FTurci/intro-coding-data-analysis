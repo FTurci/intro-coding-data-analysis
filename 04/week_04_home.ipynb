{
 "cells": [
  {
   "cell_type": "markdown",
   "id": "7a13726c",
   "metadata": {},
   "source": [
    "# Functions"
   ]
  },
  {
   "cell_type": "markdown",
   "id": "62700227",
   "metadata": {},
   "source": [
    "Welcome back to the fourth week of the SCIF10002 course. This week we shall be looking at `function`s!"
   ]
  },
  {
   "cell_type": "markdown",
   "id": "8a259216",
   "metadata": {},
   "source": [
    "### Table of Contents"
   ]
  },
  {
   "cell_type": "markdown",
   "id": "5889b9d0",
   "metadata": {},
   "source": [
    "\n",
    " - [**Welcome Page**](./week_04_home.ipynb)\n",
    "   - [Today's Material](#Today's-Material)\n",
    "   - [Getting Help](#Getting-Help)\n",
    "\n",
    " - [Beginner: Defining Functions](./week_04_functions_beginner.ipynb)\n",
    " - [Intermediate: Flexible Inputs and Outputs](./week_04_functions_intermediate.ipynb)\n",
    " - [Advanced: Lambda Functions and Functional Programming](./week_04_functions_advanced.ipynb)\n",
    " - [Slides](./week_04_slides.ipynb) ([Powerpoint](./Lecture4_Functions.pptx))"
   ]
  },
  {
   "cell_type": "markdown",
   "id": "3d79c65b",
   "metadata": {},
   "source": [
    "## Today's Material"
   ]
  },
  {
   "cell_type": "markdown",
   "id": "1e0f3204",
   "metadata": {},
   "source": [
    "In this week's class, you should start to notice how the core skills we've been building over the past few weeks begin to come together. Our focus will be on organizing code into well-structured, clearly delineated blocks called `function`s. As in the previous two classes, this week you have a choice of working through one of three notebooks.\n",
    "\n",
    "> **Important:** For today, please **choose just one of the options below**. You’ll have many opportunities to revisit the other concepts later in the course, so focus on building confidence with the Beginner material before tackling more advanced work."
   ]
  },
  {
   "cell_type": "markdown",
   "id": "89ac630d",
   "metadata": {},
   "source": [
    "#### Option 1: Beginner\n",
    "\n",
    "If you are not very familiar with `function`s in Python, or would like some practice, today you should work through the `Defining Functions` notebook below:\n",
    "\n",
    "- [Beginner: Defining Functions](./week_04_functions_beginner.ipynb)\n",
    "\n",
    "This notebook introduces what functions are and shows you how to create them in Python. Be sure to read the explanations carefully and try each exercise along the way!"
   ]
  },
  {
   "cell_type": "markdown",
   "id": "5029ee4d",
   "metadata": {},
   "source": [
    "#### Option 2: Intermediate\n",
    "\n",
    "This week's intermediate notebook is intended only for those who are already confident with the material in the  [beginner](./week_04_functions_beginner.ipynb) notebook. lease ensure that you are able to complete the exercises in the [beginner](./week_04_functions_beginner.ipynb) notebook before attempting this option. The intermediate material for this week is given below:\n",
    "\n",
    " - [Intermediate: Flexible Inputs and Outputs](./week_04_functions_intermediate.ipynb)\n",
    "\n",
    "This notebook will build on your understanding of functions by introducing positional-only and keyword-only arguments, the use of arbitrary arguments, functions with multiple return values, and the concept of a recursive function."
   ]
  },
  {
   "cell_type": "markdown",
   "id": "dad7e71a",
   "metadata": {},
   "source": [
    "#### Option 3: Advanced\n",
    "\n",
    "If you already have solid experience with Python programming, start by reviewing the exercises in the following notebooks to confirm that you're fully comfortable with the fundamentals:\n",
    "\n",
    "- [Beginner: Defining Functions](./week_04_functions_beginner.ipynb)  \n",
    "- [Intermediate: Flexible Inputs and Outputs](./week_04_functions_intermediate.ipynb)\n",
    "\n",
    "Once you feel confident with these concepts, proceed to the advanced material:\n",
    "\n",
    "- [Advanced: Lambda Functions and Functional Programming](./week_04_functions_advanced.ipynb)\n",
    "\n",
    "In this notebook, you'll be introduced to the `lambda` operator and the idea of a *higher-order function* - a function that takes other functions as input. You will then explore three widely used higher-order functions: `map`, `filter`, and `reduce`. These functions are especially useful when it comes to writing clear and concise code."
   ]
  },
  {
   "cell_type": "markdown",
   "id": "649c5ce5",
   "metadata": {},
   "source": [
    "## Getting Help"
   ]
  },
  {
   "cell_type": "markdown",
   "id": "ad2ba044",
   "metadata": {},
   "source": [
    "There is a lot to remember when first learning Python. To get more help see the [Python API](https://docs.python.org/3/library/). Another useful link is the [W3 schools series on Python](https://www.w3schools.com/python/) which is very good, especially for new users. Another way to get help if you are ever unsure what a function is doing is to use the`help` function in the Python terminal like so:"
   ]
  },
  {
   "cell_type": "code",
   "execution_count": null,
   "id": "f2f76be4",
   "metadata": {},
   "outputs": [],
   "source": [
    "help(print)"
   ]
  },
  {
   "cell_type": "markdown",
   "id": "7854fdf2",
   "metadata": {},
   "source": [
    "In class, you can ask for help from the lecturer, demonstrators and your peers around you. We advise you do not ask AI for help unless you are really stuck."
   ]
  }
 ],
 "metadata": {
  "kernelspec": {
   "display_name": "Python 3 (ipykernel)",
   "language": "python",
   "name": "python3"
  },
  "language_info": {
   "codemirror_mode": {
    "name": "ipython",
    "version": 3
   },
   "file_extension": ".py",
   "mimetype": "text/x-python",
   "name": "python",
   "nbconvert_exporter": "python",
   "pygments_lexer": "ipython3",
   "version": "3.9.13"
  }
 },
 "nbformat": 4,
 "nbformat_minor": 5
}
