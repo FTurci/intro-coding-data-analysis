{
 "cells": [
  {
   "cell_type": "markdown",
   "id": "b09ad00f",
   "metadata": {
    "slideshow": {
     "slide_type": "slide"
    }
   },
   "source": [
    "# Introduction to Coding and Data Analysis for Scientists\n",
    "\n",
    "## Week 4: Functions"
   ]
  },
  {
   "attachments": {},
   "cell_type": "markdown",
   "id": "2aea2d58",
   "metadata": {
    "slideshow": {
     "slide_type": "slide"
    }
   },
   "source": [
    "## Today's Lecture\n",
    "\n",
    " - Lecture 4: Functions\n",
    "   - Recap: For and While Loops\n",
    "   - Functions\n",
    "   - Inputs and Outputs\n",
    "   - Practical"
   ]
  },
  {
   "attachments": {},
   "cell_type": "markdown",
   "id": "cb2e68a1",
   "metadata": {
    "slideshow": {
     "slide_type": "slide"
    }
   },
   "source": [
    "## Important: Assessed Coursework 1\n",
    "\n",
    " - The first assignment has been released!\n",
    "   - Released `Wednesday 8th October` at `12:00PM`\n",
    "   - Due `Wednesday 22nd October` at `12:00PM`\n",
    " - This is assessed (`15%` of your grade!)\n",
    " - Submission is via `Noteable`\n",
    " - You can submit as many times as you like up until the submission date"
   ]
  },
  {
   "attachments": {},
   "cell_type": "markdown",
   "id": "2eec061a",
   "metadata": {
    "slideshow": {
     "slide_type": "slide"
    }
   },
   "source": [
    "## Noteable Submission\n",
    "\n",
    " - Download using the Assignments tab on `noteable`\n",
    " - Press `Fetch` and click on the assignment\n",
    " - Fill your answers in and `Validate`\n",
    " - Once done, save your answers and `Submit`\n",
    " - Feedback will be available when you see the `(view feedback)` option"
   ]
  },
  {
   "attachments": {},
   "cell_type": "markdown",
   "id": "675992d6",
   "metadata": {
    "slideshow": {
     "slide_type": "slide"
    }
   },
   "source": [
    "## Recap: `for` and `while` loops\n",
    "\n",
    " - Loops can be used to simplify repetitive computation\n",
    "   - Last week, we saw an example where we wanted to print the square of each item in this list"
   ]
  },
  {
   "cell_type": "code",
   "execution_count": null,
   "id": "64b47f61",
   "metadata": {
    "slideshow": {
     "slide_type": "fragment"
    }
   },
   "outputs": [],
   "source": [
    "my_list = [1,5,8,3,2,2,4]"
   ]
  },
  {
   "cell_type": "markdown",
   "id": "8a58b186",
   "metadata": {},
   "source": [
    " - We could write code like this..."
   ]
  },
  {
   "cell_type": "code",
   "execution_count": null,
   "id": "6bcab115",
   "metadata": {
    "slideshow": {
     "slide_type": "fragment"
    }
   },
   "outputs": [],
   "source": [
    "number_squared = my_list[0]**2\n",
    "print(number_squared)\n",
    "\n",
    "number_squared = my_list[1]**2\n",
    "print(number_squared)\n",
    "\n",
    "number_squared = my_list[2]**2\n",
    "print(number_squared)\n",
    "\n",
    "number_squared = my_list[3]**2\n",
    "print(number_squared)\n",
    "\n",
    "number_squared = my_list[4]**2\n",
    "print(number_squared)\n",
    "\n",
    "number_squared = my_list[5]**2\n",
    "print(number_squared)\n",
    "\n",
    "number_squared = my_list[6]**2\n",
    "print(number_squared)"
   ]
  },
  {
   "cell_type": "markdown",
   "id": "bef5b734",
   "metadata": {
    "slideshow": {
     "slide_type": "slide"
    }
   },
   "source": [
    "## Recap: `for` and `while` loops"
   ]
  },
  {
   "cell_type": "markdown",
   "id": "7728bd50",
   "metadata": {},
   "source": [
    " - Loops let us do all this automatically!"
   ]
  },
  {
   "cell_type": "code",
   "execution_count": null,
   "id": "0bc40e24",
   "metadata": {
    "slideshow": {
     "slide_type": "fragment"
    }
   },
   "outputs": [],
   "source": [
    "# For Loop\n",
    "for num in my_list:\n",
    "    number_squared = num ** 2\n",
    "    print(number_squared)\n",
    "\n",
    "\n",
    "print('--------------')\n",
    "\n",
    "# While Loop\n",
    "i=0\n",
    "while i < len(my_list):\n",
    "    number_squared = my_list[i] ** 2\n",
    "    print(number_squared)\n",
    "    i += 1"
   ]
  },
  {
   "cell_type": "markdown",
   "id": "4deff6dc",
   "metadata": {
    "slideshow": {
     "slide_type": "slide"
    }
   },
   "source": [
    "## Motivation"
   ]
  },
  {
   "cell_type": "markdown",
   "id": "7320ef5b",
   "metadata": {
    "slideshow": {
     "slide_type": "fragment"
    }
   },
   "source": [
    " - Loops let you simplify code which repeats over and over again.\n",
    " - However, sometimes you have code that repeats itself in a less straightforward manner...\n",
    "   - Do some computation\n",
    "   - Run some other code\n",
    "   - Do the same computation again\n"
   ]
  },
  {
   "cell_type": "code",
   "execution_count": null,
   "id": "62c8395e",
   "metadata": {},
   "outputs": [],
   "source": [
    "k = 3\n",
    "y = k * 2 + 1\n",
    "print(y)\n",
    "\n",
    "print(\"Doing something else here...\")\n",
    "\n",
    "m = 10 + k\n",
    "z = m * 2 + 1\n",
    "print(z)\n",
    "\n",
    "print(\"Sum of numbers:\", sum([1, 2, 3]))\n",
    "\n",
    "w = 2 * 2 + 1\n",
    "print(w)"
   ]
  },
  {
   "cell_type": "markdown",
   "id": "eb9e38e8",
   "metadata": {
    "slideshow": {
     "slide_type": "fragment"
    }
   },
   "source": [
    " - In such cases, you might want to use a `function`\n",
    " - You can think of a function as a block of pre-prepared code that you might want to run over and over again."
   ]
  },
  {
   "cell_type": "markdown",
   "id": "ef768c4d",
   "metadata": {
    "slideshow": {
     "slide_type": "slide"
    }
   },
   "source": [
    "## Functions"
   ]
  },
  {
   "cell_type": "markdown",
   "id": "77c548e3",
   "metadata": {
    "slideshow": {
     "slide_type": "fragment"
    }
   },
   "source": [
    " - Let's look at an example."
   ]
  },
  {
   "cell_type": "code",
   "execution_count": null,
   "id": "ce299280",
   "metadata": {
    "slideshow": {
     "slide_type": "fragment"
    }
   },
   "outputs": [],
   "source": [
    "# This is a function:\n",
    "def print_double_and_add_one(x):\n",
    "    \n",
    "    # Double x and add 1\n",
    "    y = x * 2 + 1\n",
    "    print(y)"
   ]
  },
  {
   "cell_type": "markdown",
   "id": "731717c6",
   "metadata": {
    "slideshow": {
     "slide_type": "fragment"
    }
   },
   "source": [
    "You can think of this as a black box\n",
    "\n",
    " - You put a variable `x` in\n",
    " - It doubles `x` and adds `1`\n",
    " - Then prints the result"
   ]
  },
  {
   "cell_type": "markdown",
   "id": "17ec68b1",
   "metadata": {
    "slideshow": {
     "slide_type": "slide"
    }
   },
   "source": [
    "## Functions"
   ]
  },
  {
   "cell_type": "markdown",
   "id": "12ef0c69",
   "metadata": {
    "slideshow": {
     "slide_type": "fragment"
    }
   },
   "source": [
    " - Suppose we now run this code after the function."
   ]
  },
  {
   "cell_type": "code",
   "execution_count": null,
   "id": "b2cebafc",
   "metadata": {
    "slideshow": {
     "slide_type": "fragment"
    }
   },
   "outputs": [],
   "source": [
    "# This is a function:\n",
    "def print_double_and_add_one(x):\n",
    "    \n",
    "    # Double x and add 1\n",
    "    y = x * 2 + 1\n",
    "    print(y)\n",
    "\n",
    "# This is not part of the function,\n",
    "# because the code is no longer indented\n",
    "k = 3\n",
    "print_double_and_add_one(k)"
   ]
  },
  {
   "cell_type": "markdown",
   "id": "ad74a7a4",
   "metadata": {
    "slideshow": {
     "slide_type": "fragment"
    }
   },
   "source": [
    " - This will run the code inside the function, but with `x` replaced by `k`. \n",
    "   - E.g. it will run:\n",
    "   \n",
    "```python\n",
    "y = k * 2 + 1\n",
    "print(y)\n",
    "```"
   ]
  },
  {
   "cell_type": "markdown",
   "id": "3a4d24f0",
   "metadata": {
    "slideshow": {
     "slide_type": "slide"
    }
   },
   "source": [
    "## Functions"
   ]
  },
  {
   "cell_type": "markdown",
   "id": "a57919ab",
   "metadata": {
    "slideshow": {
     "slide_type": "fragment"
    }
   },
   "source": [
    " - We can use this function to simplify the code from earlier!"
   ]
  },
  {
   "cell_type": "code",
   "execution_count": null,
   "id": "97442d2a",
   "metadata": {
    "slideshow": {
     "slide_type": "fragment"
    }
   },
   "outputs": [],
   "source": [
    "k = 3\n",
    "y = k * 2 + 1\n",
    "print(y)\n",
    "\n",
    "print(\"Doing something else here...\")\n",
    "\n",
    "m = 10 + k\n",
    "z = m * 2 + 1\n",
    "print(z)\n",
    "\n",
    "print(\"Sum of numbers:\", sum([1, 2, 3]))\n",
    "\n",
    "w = 2 * 2 + 1\n",
    "print(w)"
   ]
  },
  {
   "cell_type": "code",
   "execution_count": null,
   "id": "50bd5add",
   "metadata": {
    "slideshow": {
     "slide_type": "notes"
    }
   },
   "outputs": [],
   "source": [
    "# Should be replaced with:\n",
    "# --------------------------\n",
    "#\n",
    "# k = 3\n",
    "# print_double_and_add_one(k)\n",
    "#\n",
    "# print(\"Doing something else here...\")\n",
    "#\n",
    "# m = 10 + k\n",
    "# print_double_and_add_one(m)\n",
    "#\n",
    "# print(\"Sum of numbers:\", sum([1, 2, 3]))\n",
    "#\n",
    "# print_double_and_add_one(2)"
   ]
  },
  {
   "cell_type": "markdown",
   "id": "96528671",
   "metadata": {
    "slideshow": {
     "slide_type": "slide"
    }
   },
   "source": [
    "## Motivation"
   ]
  },
  {
   "cell_type": "markdown",
   "id": "8c3a7d6e",
   "metadata": {
    "slideshow": {
     "slide_type": "fragment"
    }
   },
   "source": [
    " - Functions are useful for a number of reasons\n",
    "   - Reduce repetitiveness in code\n",
    "   - Help organise code\n",
    "   - Easier to edit, maintain and debug\n",
    "   - Makes code easier to share\n",
    "   - Improve readability\n"
   ]
  },
  {
   "cell_type": "markdown",
   "id": "b3853c7d",
   "metadata": {
    "slideshow": {
     "slide_type": "slide"
    }
   },
   "source": [
    "## Inputs and Outputs"
   ]
  },
  {
   "cell_type": "markdown",
   "id": "86ce7571",
   "metadata": {
    "slideshow": {
     "slide_type": "fragment"
    }
   },
   "source": [
    " - Instead of printing the result of our function, we can return it\n",
    " - This means that the function will \"spit out\" the value of `y`, and we can save it using the `=` operator"
   ]
  },
  {
   "cell_type": "code",
   "execution_count": null,
   "id": "4f90bf44",
   "metadata": {},
   "outputs": [],
   "source": [
    "# This is a function:\n",
    "def print_double_and_add_one(x):\n",
    "    \n",
    "    # Double x and add 1\n",
    "    y = x * 2 + 1\n",
    "    return(y)                     # <-------------- Now returned!\n",
    "\n",
    "# This is not part of the function,\n",
    "# because the code is no longer indented\n",
    "k = 3\n",
    "z = print_double_and_add_one(k)\n",
    "print(z)"
   ]
  },
  {
   "cell_type": "markdown",
   "id": "fd8e43db",
   "metadata": {
    "slideshow": {
     "slide_type": "fragment"
    }
   },
   "source": [
    " - For this example:\n",
    "   - `x` is an `input`: A variable specified in the function definition\n",
    "   - `y` is an `output`: A variable given back using the `return` statement\n",
    " - You can have multiple inputs and outputs (we'll cover this in the practical)"
   ]
  },
  {
   "cell_type": "markdown",
   "id": "02958004",
   "metadata": {
    "slideshow": {
     "slide_type": "slide"
    }
   },
   "source": [
    "## Practical\n",
    "\n",
    " - We now move over to Python\n",
    " - Please open [week_04_home.ipynb](./week_04_home.ipynb)\n",
    " - For the rest of today, you must work through a Python notebook\n",
    " - You have a choice of one of three options\n",
    "   - [Option 1: Beginner - Defining Functions](week_04_functions_beginner.ipynb)\n",
    "   - [Option 2: Intermediate - Flexible Inputs and Outputs](week_04_functions_intermediate.ipynb)\n",
    "   - [Option 3: Advanced - Lambda Functions and Functional Programming](week_04_functions_advanced.ipynb)"
   ]
  }
 ],
 "metadata": {
  "celltoolbar": "Slideshow",
  "kernelspec": {
   "display_name": "Python 3 (ipykernel)",
   "language": "python",
   "name": "python3"
  },
  "language_info": {
   "codemirror_mode": {
    "name": "ipython",
    "version": 3
   },
   "file_extension": ".py",
   "mimetype": "text/x-python",
   "name": "python",
   "nbconvert_exporter": "python",
   "pygments_lexer": "ipython3",
   "version": "3.9.13"
  }
 },
 "nbformat": 4,
 "nbformat_minor": 5
}
