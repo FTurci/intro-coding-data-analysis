{
 "cells": [
  {
   "cell_type": "markdown",
   "id": "bd1aa9e9",
   "metadata": {},
   "source": [
    "# Intermediate: Flexible Inputs and Outputs"
   ]
  },
  {
   "cell_type": "markdown",
   "id": "9bc4e046",
   "metadata": {},
   "source": [
    "### Table of Contents\n",
    "\n",
    " - [Welcome Page](./week_04_home.ipynb)\n",
    "\n",
    " - [Beginner: Defining Functions](./week_04_functions_beginner.ipynb)\n",
    " - [**Intermediate: Flexible Inputs and Outputs**](./week_04_functions_intermediate.ipynb)\n",
    "    - [Parameters and Arguments](#Parameters-and-Arguments)\n",
    "    - [Arbitrary Positional and Keyword Arguments](#Arbitrary-Positional-and-Keyword-Arguments)\n",
    "    - [Positional-Only and Keyword-Only Arguments](#Positional-Only-and-Keyword-Only-Arguments)\n",
    "    - [Multiple Returns](#Multiple-Returns)\n",
    "    - [Recursion](#Recursion)\n",
    "    - [Exercises](#Exercises)\n",
    " - [Advanced: Lambda Functions and Functional Programming](./week_04_functions_advanced.ipynb)\n",
    " - [Slides](./week_04_slides.ipynb) ([Powerpoint](./Lecture4_Functions.pptx))"
   ]
  },
  {
   "cell_type": "markdown",
   "id": "0f8e96fd",
   "metadata": {},
   "source": [
    "## Parameters and Arguments"
   ]
  },
  {
   "cell_type": "markdown",
   "id": "f52306bf",
   "metadata": {},
   "source": [
    "In this week's [beginner notebook](./week_04_functions_beginner.ipynb), we introduced functions and described the values they take in and give out as *inputs* and *outputs*. In this notebook, we will use some more precise Python terminology for inputs: *parameters* and *arguments*.\n",
    "\n",
    " - A *parameter* is the variable listed in a function's definition. It acts as a placeholder that says \"this function expects a value here.\"\n",
    " - An *argument* is the actual value you provide when calling the function.\n",
    "\n",
    "For instance, consider the simple function below:"
   ]
  },
  {
   "cell_type": "code",
   "execution_count": null,
   "id": "593027b1",
   "metadata": {},
   "outputs": [],
   "source": [
    "def greet(name):      # here, `name` is a parameter\n",
    "    print(\"Hello,\", name)\n",
    "\n",
    "greet(\"Sofia\")        # here, \"Sofia\" is an argument"
   ]
  },
  {
   "cell_type": "markdown",
   "id": "6cab9206",
   "metadata": {},
   "source": [
    "In this case, `name` is the parameter. It is the label inside the function that will hold the input. `\"Sofia\"` is the argument. It is the concrete value we supply when calling the function.\n",
    "\n",
    "\n",
    "There are two main ways to pass arguments to a function in Python:\n",
    " - *Positional arguments* are matched to parameters by the order they appear.\n",
    " - *Keyword arguments* are matched to parameters by name, using the `parameter=value` syntax.\n",
    "\n",
    "To see what we mean here, consider the following example:"
   ]
  },
  {
   "cell_type": "code",
   "execution_count": null,
   "id": "662bfcae",
   "metadata": {},
   "outputs": [],
   "source": [
    "def make_greeting(greeting, name):\n",
    "    print(f\"{greeting}, {name}!\")\n",
    "\n",
    "# Using positional arguments (order matters)\n",
    "make_greeting(\"Hello\", \"Brad\")\n",
    "\n",
    "# Using keyword arguments (order does not matter)\n",
    "make_greeting(name=\"Liam\", greeting=\"Hi\")"
   ]
  },
  {
   "cell_type": "markdown",
   "id": "632359d4",
   "metadata": {},
   "source": [
    "The first call to `make_greeting` uses positional arguments. This means that arguments are assigned based on the order they are passed into the function. Here, `\"Hello\"` is matched to `greeting` and `\"Brad\"` is matched to `name` by position.\n",
    "\n",
    "The second call to `make_greeting` uses keyword arguments. This means that the arguments are matched by name, using the `parameter=value` syntax. Here, `\"Liam\"` goes to `name` and `\"Hi\"` goes to `greeting`, even though the order is reversed."
   ]
  },
  {
   "cell_type": "markdown",
   "id": "c0dc606c",
   "metadata": {},
   "source": [
    "In the first half of this notebook, we will look at the different kinds of parameters Python allows us to define, and how arguments can be passed to them in flexible ways."
   ]
  },
  {
   "cell_type": "markdown",
   "id": "50d9d2b4",
   "metadata": {},
   "source": [
    "## Arbitrary Positional and Keyword Arguments"
   ]
  },
  {
   "cell_type": "markdown",
   "id": "4ca232e5",
   "metadata": {},
   "source": [
    "Sometimes when coding you may want a function to allow an arbitrary number of inputs. This can be useful because it reduces repetition and makes your code cleaner.\n",
    "\n",
    "For example, consider the following repetitive code:"
   ]
  },
  {
   "cell_type": "code",
   "execution_count": null,
   "id": "5095057c",
   "metadata": {},
   "outputs": [],
   "source": [
    "def add_two_numbers(x, y):\n",
    "    return x + y\n",
    "\n",
    "def add_three_numbers(x, y, z):\n",
    "    return x + y + z\n",
    "\n",
    "def add_four_numbers(x, y, z, w):\n",
    "    return x + y + z + w\n",
    " \n",
    "print(add_two_numbers(8,1))            # 9\n",
    "print(add_three_numbers(1, 2, 3))      # 6\n",
    "print(add_four_numbers(4, 5, 6, 7))    # 22"
   ]
  },
  {
   "cell_type": "markdown",
   "id": "9d5b979e",
   "metadata": {},
   "source": [
    "This is not very efficient. It would be much easier if we could just write one function that sums *any* number of values. One way to do this is to pass a tuple:"
   ]
  },
  {
   "cell_type": "code",
   "execution_count": null,
   "id": "56889940",
   "metadata": {},
   "outputs": [],
   "source": [
    "def add_tuple_of_numbers(my_tuple):\n",
    "    total = 0\n",
    "    for number in my_tuple:\n",
    "        total = total + number\n",
    "    return total\n",
    "\n",
    "print(add_tuple_of_numbers((8,1)))          # 9\n",
    "print(add_tuple_of_numbers((1, 2, 3)))      # 6\n",
    "print(add_tuple_of_numbers((4, 5, 6, 7)))   # 22"
   ]
  },
  {
   "cell_type": "markdown",
   "id": "fb669fe6",
   "metadata": {},
   "source": [
    "This works, but notice that the function calls require two sets of round brackets, which, even for this simple example, is slightly clunky and could easily lead to mistakes.\n",
    "\n",
    "Python provides a cleaner way of writing the above code using the `*` operator. This collects all positional arguments into a single tuple inside the function like so:"
   ]
  },
  {
   "cell_type": "code",
   "execution_count": null,
   "id": "325dfe88",
   "metadata": {},
   "outputs": [],
   "source": [
    "def add_numbers(*my_tuple):\n",
    "    total = 0\n",
    "    for number in my_tuple:\n",
    "        total = total + number\n",
    "    return total\n",
    "\n",
    "print(add_numbers(8,1))            # 9             # Note the number of () brackets!!\n",
    "print(add_numbers(1, 2, 3))        # 6\n",
    "print(add_numbers(4, 5, 6, 7))     # 22"
   ]
  },
  {
   "cell_type": "markdown",
   "id": "ec0df668",
   "metadata": {},
   "source": [
    "The code inside the function is essentially the same, but now the function calls look much cleaner since we can pass in values directly without square brackets. \n",
    "\n",
    "By convention, when using the `*` operator to pass arbitrary positional arguments into a function, we name the tuple we pass in `args`, which stands for \"arguments\"."
   ]
  },
  {
   "cell_type": "code",
   "execution_count": null,
   "id": "4118787c",
   "metadata": {},
   "outputs": [],
   "source": [
    "def add_numbers(*args):\n",
    "    total = 0\n",
    "    for number in args:\n",
    "        total = total + number\n",
    "    return total\n",
    "\n",
    "print(add_numbers(8,1))            # 9\n",
    "print(add_numbers(1, 2, 3))        # 6\n",
    "print(add_numbers(4, 5, 6, 7))     # 22"
   ]
  },
  {
   "cell_type": "markdown",
   "id": "59cdf7b1",
   "metadata": {},
   "source": [
    "So far we have seen how to accept an arbitrary number of *positional* arguments. But what if we want to accept an arbitrary number of *keyword* arguments? \n",
    "\n",
    "Imagine we tried to write separate functions for describing a person:"
   ]
  },
  {
   "cell_type": "code",
   "execution_count": null,
   "id": "a49d89a2",
   "metadata": {},
   "outputs": [],
   "source": [
    "def describe_person_by_name(name):\n",
    "    print(\"This person's name is \" + str(name) + \".\")\n",
    "    print(\"\")\n",
    "\n",
    "def describe_person_by_age(age):\n",
    "    print(\"This person's age is \" + str(age) + \".\")\n",
    "    print(\"\")\n",
    "\n",
    "def describe_person_by_name_and_age(name, age):\n",
    "    print(\"This person's name is \" + str(name) + \".\")\n",
    "    print(\"This person's age is \" + str(age) + \".\")\n",
    "    print(\"\")\n",
    "\n",
    "def describe_person_by_name_and_age_and_job(name, age, job):\n",
    "    print(\"This person's name is \" + str(name) + \".\")\n",
    "    print(\"This person's age is \" + str(age) + \".\")\n",
    "    print(\"This person's job is \" + str(job) + \".\")\n",
    "    print(\"\")\n",
    "\n",
    "# Example function calls\n",
    "describe_person_by_name(\"Elliot\")\n",
    "describe_person_by_age(27)\n",
    "describe_person_by_name_and_age_and_job(\"Elliot\", 27, \"doctor\")"
   ]
  },
  {
   "cell_type": "markdown",
   "id": "217b6f2d",
   "metadata": {},
   "source": [
    "This code is pretty repetitive and messy. One way we could imagine simplifying this code is by using `if` statements and a dictionary, like so:"
   ]
  },
  {
   "cell_type": "code",
   "execution_count": null,
   "id": "c0c0c8fa",
   "metadata": {},
   "outputs": [],
   "source": [
    "def describe_person_by_dict(my_dict):\n",
    "    \n",
    "    if \"name\" in my_dict:\n",
    "        print(\"This person's name is \" + str(my_dict[\"name\"]))\n",
    "        \n",
    "    if \"age\" in my_dict:\n",
    "        print(\"This person's age is \" + str(my_dict[\"age\"]))\n",
    "        \n",
    "    if \"job\" in my_dict:\n",
    "        print(\"This person's job is \" + str(my_dict[\"job\"]))\n",
    "        \n",
    "    print(\"\")\n",
    "\n",
    "# Example function calls\n",
    "describe_person_by_dict({\"name\":\"Elliot\"})\n",
    "describe_person_by_dict({\"age\":27})\n",
    "describe_person_by_dict({\"name\":\"Elliot\", \n",
    "                         \"age\":27, \n",
    "                         \"job\":\"doctor\"})"
   ]
  },
  {
   "cell_type": "markdown",
   "id": "7e0be5a7",
   "metadata": {},
   "source": [
    "This works, but again the code feel awkward because we now have to write out a dictionary whenever we call the function.\n",
    "\n",
    "Python provides a cleaner way of writing the above code the `**` operator. This gathers all keyword arguments into a dictionary inside the function:"
   ]
  },
  {
   "cell_type": "code",
   "execution_count": null,
   "id": "0b7661f4",
   "metadata": {},
   "outputs": [],
   "source": [
    "def describe_person(**my_dict):\n",
    "    \n",
    "    if \"name\" in my_dict:\n",
    "        print(\"This person's name is \" + str(my_dict[\"name\"]))\n",
    "        \n",
    "    if \"age\" in my_dict:\n",
    "        print(\"This person's age is \" + str(my_dict[\"age\"]))\n",
    "        \n",
    "    if \"job\" in my_dict:\n",
    "        print(\"This person's job is \" + str(my_dict[\"job\"]))\n",
    "        \n",
    "    print(\"\")\n",
    "\n",
    "\n",
    "# Example function calls\n",
    "describe_person(name=\"Elliot\")\n",
    "describe_person(age=27)\n",
    "describe_person(name=\"Elliot\", age=27, job=\"doctor\")"
   ]
  },
  {
   "cell_type": "markdown",
   "id": "e2320234",
   "metadata": {},
   "source": [
    "Instead of naming the dictionary `my_dict` like in the above code, by convention we use tend to use the name `kwargs`, which is short for \"*keyword arguments*\"."
   ]
  },
  {
   "cell_type": "code",
   "execution_count": null,
   "id": "8cc64fd0",
   "metadata": {},
   "outputs": [],
   "source": [
    "def describe_person(**kwargs):\n",
    "    \n",
    "    if \"name\" in kwargs:\n",
    "        print(\"This person's name is \" + str(kwargs[\"name\"]))\n",
    "        \n",
    "    if \"age\" in kwargs:\n",
    "        print(\"This person's age is \" + str(kwargs[\"age\"]))\n",
    "        \n",
    "    if \"job\" in kwargs:\n",
    "        print(\"This person's job is \" + str(kwargs[\"job\"]))\n",
    "        \n",
    "    print(\"\")\n",
    "    \n",
    "\n",
    "# Example function calls\n",
    "describe_person(name=\"Elliot\")\n",
    "describe_person(age=27)\n",
    "describe_person(name=\"Elliot\", age=27, job=\"doctor\")"
   ]
  },
  {
   "cell_type": "markdown",
   "id": "86971d53",
   "metadata": {},
   "source": [
    "In the same way that we can write a function which takes as input both a tuple and a dictionary, such as below:"
   ]
  },
  {
   "cell_type": "code",
   "execution_count": null,
   "id": "b2b23f6b",
   "metadata": {},
   "outputs": [],
   "source": [
    "def demo_function_with_tuple_and_dict(my_tuple, my_dict):\n",
    "    print(\"Tuple:\", my_tuple)\n",
    "    print(\"Dictionary:\", my_dict)\n",
    "\n",
    "demo_function_with_tuple_and_dict((1, 2, 3), {\"name\":\"Alice\", \"age\":30})"
   ]
  },
  {
   "cell_type": "markdown",
   "id": "528a6c56",
   "metadata": {},
   "source": [
    "We can instead write a function that takes both arbitrary positional arguments and arbitrary keyword arguments, using `*args` and `**kwargs`:"
   ]
  },
  {
   "cell_type": "code",
   "execution_count": null,
   "id": "30535efd",
   "metadata": {},
   "outputs": [],
   "source": [
    "def demo_function(*args, **kwargs):\n",
    "    print(\"Positional arguments:\", args)\n",
    "    print(\"Keyword arguments:\", kwargs)\n",
    "\n",
    "demo_function(1, 2, 3, name=\"Alice\", age=30)\n"
   ]
  },
  {
   "cell_type": "markdown",
   "id": "2ea20940",
   "metadata": {},
   "source": [
    "## Positional-Only and Keyword-Only Arguments"
   ]
  },
  {
   "cell_type": "markdown",
   "id": "2d257818",
   "metadata": {},
   "source": [
    "So far, we have seen that function arguments in Python can normally be passed either by position or by keyword:"
   ]
  },
  {
   "cell_type": "code",
   "execution_count": null,
   "id": "5f8c4e57",
   "metadata": {},
   "outputs": [],
   "source": [
    "def multiply(x, y):\n",
    "    return x * y\n",
    "\n",
    "print(multiply(2, 3))        # by position\n",
    "print(multiply(x=2, y=3))    # by keyword"
   ]
  },
  {
   "cell_type": "markdown",
   "id": "241c88c0",
   "metadata": {},
   "source": [
    "Both calls work the same way. But sometimes we want more control. Python gives us two special symbols for this:\n",
    "\n",
    " - `/` means everything to the left of it must be positional-only.\n",
    " - `*` means everything to the right of it must be keyword-only.\n",
    " \n",
    "So you can think of `/` and `*` as markers in the parameter list that divide it into three possible regions:\n",
    "\n",
    "``` my_function(a,b,/,c,d,e,f)```\n",
    "\n",
    "Here, we have that:\n",
    "\n",
    " - `a` and `b` are *positional-only* parameters.\n",
    " - `c` and `d` can be specified using *position or keyword*.\n",
    " - `e` and `f` are *keyword-only* parameters.\n",
    " \n",
    "Let's, look at some examples. The below function will take positional arguments only:"
   ]
  },
  {
   "cell_type": "code",
   "execution_count": null,
   "id": "db0ac76e",
   "metadata": {},
   "outputs": [],
   "source": [
    "def power(x, y, /):\n",
    "    return x ** y\n",
    "\n",
    "print(power(2, 3))       # This code will run\n",
    "print(power(x=2, y=3))   # This code will error\n"
   ]
  },
  {
   "cell_type": "markdown",
   "id": "28809508",
   "metadata": {},
   "source": [
    "Here, `x` and `y` are to the left of `/`, so they can only be given by position."
   ]
  },
  {
   "cell_type": "markdown",
   "id": "5a85f64e",
   "metadata": {},
   "source": [
    "Similarly, this example will accept keyword arguments only:"
   ]
  },
  {
   "cell_type": "code",
   "execution_count": null,
   "id": "e850be0a",
   "metadata": {},
   "outputs": [],
   "source": [
    "def introduce(*, name, age):\n",
    "    print(f\"My name is {name} and I am {age} years old.\")\n",
    "\n",
    "introduce(name=\"Alice\", age=30)   #  This will work\n",
    "introduce(\"Alice\", 30)            # This will error\n"
   ]
  },
  {
   "cell_type": "markdown",
   "id": "eb2116d0",
   "metadata": {},
   "source": [
    "Here, `name` and `age` are to the right of `*`, so they must be given as keywords."
   ]
  },
  {
   "cell_type": "markdown",
   "id": "a727e52e",
   "metadata": {},
   "source": [
    "We can allow a function to have a mix of all three types of parameters (positional-only, keyword or positional, or keyword-only) as follows:"
   ]
  },
  {
   "cell_type": "code",
   "execution_count": null,
   "id": "06f4691e",
   "metadata": {},
   "outputs": [],
   "source": [
    "def demo(a, b, /, c, d, *, e, f):\n",
    "    print(a, b, c, d, e, f)\n",
    "\n",
    "demo(1, 2, 3, d=4, e=5, f=6) "
   ]
  },
  {
   "cell_type": "markdown",
   "id": "14db11fc",
   "metadata": {},
   "source": [
    " > **Test your Understanding:** Without writing code, consider the following expressions:\n",
    " >\n",
    " > - `demo(1, 2, c=3, d=4, e=5, f=6)`\n",
    " > - `demo(a=1, 2, 5, e=3, d=4, f=6)`\n",
    " > - `demo(1, 2, c=5, e=3, d=4, f=6)`\n",
    " > - `demo(1, 2, d=3, 4, e=5, f=6)`\n",
    " >\n",
    " > What do you think each of the above will print and why? Will any of them error? If so, which?"
   ]
  },
  {
   "cell_type": "markdown",
   "id": "31ca4f0b",
   "metadata": {},
   "source": [
    "## Multiple Returns"
   ]
  },
  {
   "cell_type": "markdown",
   "id": "d8bcd8d3",
   "metadata": {},
   "source": [
    "So far, we've spent time looking at how you can flexibly specify arguments for functions. Now let's shift focus slightly and look at another useful trick when writing functions: *multiple return statements*.\n",
    "\n",
    "Normally, a function ends when it reaches a `return` statement. But functions can also contain more than one `return`, which allows us to stop the function and send back a result as soon as we know what that result should be."
   ]
  },
  {
   "cell_type": "markdown",
   "id": "2ad9416d",
   "metadata": {},
   "source": [
    "Here's a simple example:"
   ]
  },
  {
   "cell_type": "code",
   "execution_count": null,
   "id": "3d270ee7",
   "metadata": {},
   "outputs": [],
   "source": [
    "def classify_score(score):\n",
    "    \n",
    "    if score < 50:\n",
    "        return \"Fail\"\n",
    "    \n",
    "    if score < 70:\n",
    "        return \"Pass\"\n",
    "    \n",
    "    return \"Distinction\"\n",
    "\n",
    "print(classify_score(40))   # \"Fail\"\n",
    "print(classify_score(65))   # \"Pass\"\n",
    "print(classify_score(85))   # \"Distinction\"\n"
   ]
  },
  {
   "cell_type": "markdown",
   "id": "1fa5f283",
   "metadata": {},
   "source": [
    "The function stops running the moment it hits a `return`. To understand why this feature might be useful, consider the below code which computes the length of each string in a list."
   ]
  },
  {
   "cell_type": "code",
   "execution_count": null,
   "id": "d5c1c67a",
   "metadata": {},
   "outputs": [],
   "source": [
    "def get_string_lengths(my_list):\n",
    "    \n",
    "    # Empty variables to store results\n",
    "    result = None\n",
    "    result_list = []\n",
    "\n",
    "    # If we have no strings, the result should report taht\n",
    "    if len(my_list)==0:\n",
    "        result = \"List was empty\"\n",
    "        \n",
    "    # Otherwise let's look through the list\n",
    "    else:\n",
    "        \n",
    "        # Loop through list\n",
    "        for string in my_list:\n",
    "            \n",
    "            # If the list isn't a string, we need to record that\n",
    "            if not isinstance(string, str):\n",
    "                result = \"List had entries which weren't strings\"\n",
    "                \n",
    "            # Otherwise let's record the length of the strings\n",
    "            else:\n",
    "                result_list.append(len(string))\n",
    "\n",
    "    # Check if we had anything go wrong\n",
    "    if result is None:\n",
    "        result = result_list\n",
    "\n",
    "    # Return the result\n",
    "    return result\n",
    "\n",
    "print(get_string_lengths([]))\n",
    "print(get_string_lengths([\"list\", \"of\", \"words\"]))\n",
    "print(get_string_lengths([\"not\", \"all\", 3, \"words\"]))"
   ]
  },
  {
   "cell_type": "markdown",
   "id": "0d297a1b",
   "metadata": {},
   "source": [
    "This works, but it's a bit cumbersome as we are keeping track of the `result` variable throughout. We can simplify this code substantially using multiple `return` statements:"
   ]
  },
  {
   "cell_type": "code",
   "execution_count": null,
   "id": "ea097e21",
   "metadata": {},
   "outputs": [],
   "source": [
    "def get_string_lengths(my_list):\n",
    "    \n",
    "    # Empty variables to store results\n",
    "    result_list = []\n",
    "\n",
    "    # If we have no strings, the result should report taht\n",
    "    if len(my_list)==0:\n",
    "        return \"List was empty\"\n",
    "\n",
    "    # Loop through list\n",
    "    for string in my_list:\n",
    "            \n",
    "        # If the list isn't a string, we need to record that\n",
    "        if not isinstance(string, str):\n",
    "            \n",
    "            return \"List had entries which weren't words\"\n",
    "        \n",
    "        # Otherwise let's record the length of the strings\n",
    "        result_list.append(len(string))\n",
    "\n",
    "    # Return the result\n",
    "    return result_list\n",
    "\n",
    "print(get_string_lengths([]))\n",
    "print(get_string_lengths([\"list\", \"of\", \"words\"]))\n",
    "print(get_string_lengths([\"not\", \"all\", 3, \"words\"]))"
   ]
  },
  {
   "cell_type": "markdown",
   "id": "477111de",
   "metadata": {},
   "source": [
    "Now the logic is much cleaner:\n",
    "\n",
    " - If the list is `empty`, `return` immediately.\n",
    " - If we find a bad entry, `return` immediately.\n",
    " - Otherwise, `return` the processed list.\n",
    " \n",
    "The key idea here is that a `return` statement ends the function immediately. Everything after it is skipped. You can think of it as if Python is automatically wrapping everything after a `return` in an invisible `else`.\n",
    "\n",
    "This often makes your functions shorter, easier to read, and can help spot errors and bugs."
   ]
  },
  {
   "cell_type": "markdown",
   "id": "7ad39dc5",
   "metadata": {},
   "source": [
    "## Recursion"
   ]
  },
  {
   "cell_type": "markdown",
   "id": "5fbd96b9",
   "metadata": {},
   "source": [
    "Another useful feature of the Python programming language is that it allows *recursion*. A *recursive function* is a function that calls itself. For example:"
   ]
  },
  {
   "cell_type": "code",
   "execution_count": null,
   "id": "d09b7a6c",
   "metadata": {},
   "outputs": [],
   "source": [
    "def countdown(n):\n",
    "    if n == 0:\n",
    "        print(\"Blast off!\")\n",
    "    else:\n",
    "        print(n)\n",
    "        countdown(n - 1)\n",
    "\n",
    "countdown(5)"
   ]
  },
  {
   "cell_type": "markdown",
   "id": "844daf01",
   "metadata": {},
   "source": [
    "In this example, the function `countdown` calls itself with a smaller number each time. Eventually, it reaches the base case (`n == 0`) and stops."
   ]
  },
  {
   "cell_type": "markdown",
   "id": "f180f47f",
   "metadata": {},
   "source": [
    " > **Test your Understanding:** See if you can modify the above so that, instead of counting down to zero, it counts up to 10 and then prints `Blast off!`."
   ]
  },
  {
   "cell_type": "markdown",
   "id": "ec5fbe50",
   "metadata": {},
   "source": [
    "Recursion can be useful for problems that can be broken down into smaller versions of the same problem, such as:\n",
    "\n",
    " - searching through folders and files,\n",
    " - working with tree-like data structures,\n",
    " - or classic mathematical problems like factorials."
   ]
  },
  {
   "cell_type": "markdown",
   "id": "4ac1a3b1",
   "metadata": {},
   "source": [
    "## Exercises"
   ]
  },
  {
   "cell_type": "markdown",
   "id": "f5734091",
   "metadata": {},
   "source": [
    "**Question 1:** Consider the below function."
   ]
  },
  {
   "cell_type": "code",
   "execution_count": null,
   "id": "02002ac0",
   "metadata": {},
   "outputs": [],
   "source": [
    "def printing_function(a, b, *args, **kwargs):\n",
    "    print(\"a:\", a)\n",
    "    print(\"b:\", b)\n",
    "    print(\"args:\", args)\n",
    "    print(\"kwargs:\", kwargs)"
   ]
  },
  {
   "cell_type": "markdown",
   "id": "5d50b1db",
   "metadata": {},
   "source": [
    "Without running any code, predict what will happen when you run the following function calls:\n",
    "\n",
    " - `printing_function(1, 2)`\n",
    " - `printing_function(1, 2, 3, 4)`\n",
    " - `printing_function(1, 2, x=10, y=20)`\n",
    " - `printing_function(1, 2, 3, 4, x=10, y=20)`\n",
    "\n",
    "Do you think the function will error for any of the above inputs? If so, which? Verify your answers by running the code.\n",
    "\n",
    "*Hint: Consider what would happen if you had instead passed `my_tuple` and `my_dict` into the function, like we did in the section on [arbitrary positional and keyword arguments](Arbitrary-Positional-and-Keyword-Arguments).*"
   ]
  },
  {
   "cell_type": "markdown",
   "id": "5ee98868",
   "metadata": {},
   "source": [
    "**Question 2:** Write a function, `sumstrings` which takes in an arbitrary number of arguments, each a string which represents an integer between 1 and 10 (e.g. `one`, `two`, `three`,... `ten`), and returns the sum of the strings in numeric form. e.g. `sumstrings('ten', 'five', 'eight')` should return the integer 23. \n",
    "\n",
    "*Make it so that your function inputs are not case sensitive. I.e. an input of 'ten' should be treated the same as 'tEn', 'TEn', 'TEN', etc.*"
   ]
  },
  {
   "cell_type": "code",
   "execution_count": null,
   "id": "2500046f",
   "metadata": {},
   "outputs": [],
   "source": [
    "# Write your answer here..."
   ]
  },
  {
   "cell_type": "markdown",
   "id": "106f4212",
   "metadata": {},
   "source": [
    "**Question 3:** Below is a function containing an `if` statement. The function has one input and one output."
   ]
  },
  {
   "cell_type": "code",
   "execution_count": null,
   "id": "6da5b8a7",
   "metadata": {},
   "outputs": [],
   "source": [
    "def function_with_if(a=1):\n",
    "    \n",
    "    # If a is greater than zero, return 1\n",
    "    if a > 0:\n",
    "        print('Here is a print statement.')\n",
    "        return(1)\n",
    "    \n",
    "    # If a is equal to zero, return 0\n",
    "    elif a == 0:\n",
    "        return(0)\n",
    "    \n",
    "    # Return -1\n",
    "    print('Here is another print statement.')\n",
    "    return(-1)"
   ]
  },
  {
   "cell_type": "markdown",
   "id": "169181e2",
   "metadata": {},
   "source": [
    "What do you think will be printed when you run each of the following commands?\n",
    "\n",
    " - `function_with_if(-1)`\n",
    " - `function_with_if(0)`\n",
    " - `function_with_if(1)`\n",
    " - `function_with_if()`\n",
    "\n",
    "Explain your answers and verify them by running the code."
   ]
  },
  {
   "cell_type": "markdown",
   "id": "1d61bfd4",
   "metadata": {},
   "source": [
    "**Question 4:** Consider the following function, which takes in a positive integer:"
   ]
  },
  {
   "cell_type": "code",
   "execution_count": null,
   "id": "6fb7c14e",
   "metadata": {},
   "outputs": [],
   "source": [
    "def mystery_function(my_integer):\n",
    "    \n",
    "    for i in range(2, my_integer):\n",
    "        \n",
    "        if my_integer % i == 0:\n",
    "            return False\n",
    "        \n",
    "    return True"
   ]
  },
  {
   "cell_type": "markdown",
   "id": "fb952f66",
   "metadata": {},
   "source": [
    "Before running the code, try to work out what this function is supposed to do. You may wish to consider the following questions:\n",
    "\n",
    " - What values of `i` will the loop check?\n",
    " - What does the expression `my_integer % i` mean?\n",
    " - Under what condition does the function return `False`?\n",
    "\n",
    "Test the function on several inputs, such as `2`, `7`, `9`, `15`, `17`. Based on your tests, describe in plain English what this function is trying to check."
   ]
  },
  {
   "cell_type": "markdown",
   "id": "a91e9b49",
   "metadata": {},
   "source": [
    "**Question 5:** Consider the following recursive function:"
   ]
  },
  {
   "cell_type": "code",
   "execution_count": null,
   "id": "5a375159",
   "metadata": {},
   "outputs": [],
   "source": [
    "def another_mystery_function(word):\n",
    "    if word == \"\":\n",
    "        return \"\"\n",
    "    else:\n",
    "        return mystery(word[1:]) + word[0]"
   ]
  },
  {
   "cell_type": "markdown",
   "id": "0fe4127b",
   "metadata": {},
   "source": [
    "Run this function on a few different inputs (e.g. `\"hello\"`, `\"Python\"`) and try to work out what the function is doing. Once you understand the logic of the function, try rewriting the function using a loop."
   ]
  }
 ],
 "metadata": {
  "kernelspec": {
   "display_name": "Python 3 (ipykernel)",
   "language": "python",
   "name": "python3"
  },
  "language_info": {
   "codemirror_mode": {
    "name": "ipython",
    "version": 3
   },
   "file_extension": ".py",
   "mimetype": "text/x-python",
   "name": "python",
   "nbconvert_exporter": "python",
   "pygments_lexer": "ipython3",
   "version": "3.9.13"
  }
 },
 "nbformat": 4,
 "nbformat_minor": 5
}
