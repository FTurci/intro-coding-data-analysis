{
 "cells": [
  {
   "cell_type": "markdown",
   "id": "0c389c29",
   "metadata": {},
   "source": [
    "# Functions : Solutions"
   ]
  },
  {
   "cell_type": "markdown",
   "id": "fec42047",
   "metadata": {},
   "source": [
    "This notebook contains the solutions to the week 4 `Beginner`, `Intermediate` and `Advanced` exercises."
   ]
  },
  {
   "cell_type": "markdown",
   "id": "dc341af3",
   "metadata": {},
   "source": [
    "### Table of Contents\n",
    "\n",
    " - [Welcome Page](./week_04_home.ipynb)\n",
    "\n",
    " - [Beginner: Defining Functions](./week_04_functions_beginner.ipynb)\n",
    " - [Intermediate: Flexible Inputs and Outputs](./week_04_functions_intermediate.ipynb)\n",
    " - [Advanced: Lambda Functions and Functional Programming](./week_04_functions_advanced.ipynb)\n",
    "\n",
    " - [**Solutions**](./week_04_solutions_demonstrator_version.ipynb)\n",
    "     - [Beginner: Defining Functions](#Beginner:-Defining-Functions)\n",
    "     - [Intermediate: Flexible Inputs and Outputs](#Intermediate:-Flexible-Inputs-and-Outputs)\n",
    "     - [Advanced: Lambda Functions and Functional Programming](#Advanced:-Lambda-Functions-and-Functional-Programming)\n",
    " - [Slides](./week_04_slides.ipynb) ([Powerpoint](./Lecture4_Functions.pptx))"
   ]
  },
  {
   "cell_type": "markdown",
   "id": "ac602e4b",
   "metadata": {},
   "source": [
    "## Beginner: Defining Functions"
   ]
  },
  {
   "cell_type": "markdown",
   "id": "fa7f8539",
   "metadata": {},
   "source": [
    "**Question 1:** Running the code gives the following output.\n",
    "\n",
    "```\n",
    "3 4\n",
    "4 3\n",
    "2 4\n",
    "2 1\n",
    "3 1\n",
    "```\n",
    "\n",
    "In the first line, the inputs are assigned according to the order they were read in, so that `x=3` and `y=4`. In the second line, they are assigned according to the keyword/variable names given, so that `x=4` and `y=3`. In the third line, `x` takes the default value of `2` whilst `y=4`. In the fourth line, both default values `x=2` and `y=1` are used. And in the final line, `y` takes the default value of `1` while `x=3`."
   ]
  },
  {
   "cell_type": "code",
   "execution_count": null,
   "id": "8fd85f16",
   "metadata": {},
   "outputs": [],
   "source": [
    "def my_simple_function(x=2,y=1):\n",
    "    \n",
    "    print(x, y)\n",
    "    \n",
    "my_simple_function(3,4)\n",
    "my_simple_function(y=3,x=4)\n",
    "my_simple_function(y=4)\n",
    "my_simple_function()\n",
    "my_simple_function(x=3)"
   ]
  },
  {
   "cell_type": "markdown",
   "id": "59eb18b0",
   "metadata": {},
   "source": [
    " > **Demonstrator Notes:** The aim of this question is to get students thinking about how inputs are entered into functions. Please try to prevent students from running the code before they have attempted to answer the question, as the goal is for them to reason it out first."
   ]
  },
  {
   "cell_type": "markdown",
   "id": "85c577ab",
   "metadata": {},
   "source": [
    "**Question 2:** An answer to this question is provided below."
   ]
  },
  {
   "cell_type": "code",
   "execution_count": null,
   "id": "a6cdefa5",
   "metadata": {},
   "outputs": [],
   "source": [
    "def count_uppercase(my_string):\n",
    "    count = 0\n",
    "    for ch in my_string:\n",
    "        if ch != ch.lower(): \n",
    "            count += 1\n",
    "    return count\n",
    "\n",
    "# Example\n",
    "print(count_uppercase(\"this Is mY string\"))"
   ]
  },
  {
   "cell_type": "markdown",
   "id": "8776c86f",
   "metadata": {},
   "source": [
    " > **Demonstrator Notes:** A useful sanity check for this question is to ask students whether their function works correctly on strings that include punctuation. An easy, and subtle, mistake to make here is to write `if ch == ch.upper():` instead of `if ch != ch.lower():`. The difference matters because for non-alphabetic characters (like punctuation), `ch.upper()` and `ch.lower()` are both equal to `ch` itself."
   ]
  },
  {
   "cell_type": "markdown",
   "id": "c5fc92e4",
   "metadata": {},
   "source": [
    "**Question 3:** The functions for this question are given below."
   ]
  },
  {
   "cell_type": "code",
   "execution_count": null,
   "id": "a460258b",
   "metadata": {},
   "outputs": [],
   "source": [
    "def calculate_kinetic_energy(mass, velocity):\n",
    "    \n",
    "  \"\"\"\n",
    "  Calculates the kinetic energy of an object.\n",
    "\n",
    "  Args:\n",
    "    mass: The mass of the object in kilograms (kg).\n",
    "    velocity: The velocity of the object in meters per second (m/s).\n",
    "\n",
    "  Returns:\n",
    "    The kinetic energy of the object in joules (J).\n",
    "  \"\"\"\n",
    "  return 0.5 * mass * velocity**2\n",
    "\n",
    "\n",
    "def calculate_potential_energy(mass, height, gravity):\n",
    "    \n",
    "  \"\"\"\n",
    "  Calculates the potential energy of an object.\n",
    "\n",
    "  Args:\n",
    "    mass: The mass of the object in kilograms (kg).\n",
    "    height: The height of the object in meters (m).\n",
    "    gravity: The acceleration due to gravity in meters per second squared (m/s^2).\n",
    "\n",
    "  Returns:\n",
    "    The potential energy of the object in joules (J).\n",
    "  \"\"\"\n",
    "  return mass * gravity * height"
   ]
  },
  {
   "cell_type": "markdown",
   "id": "d7144232",
   "metadata": {},
   "source": [
    " > **Demonstrator Notes:** Please be mindful that many students may not have studied Physics for several years, so might be uncomfortable with the terms *kinetic energy* and *potential energy*. Make sure the student is comfortable with the context of the question before moving into the coding explanation."
   ]
  },
  {
   "cell_type": "markdown",
   "id": "7328b36f",
   "metadata": {},
   "source": [
    "**Question 4:** A sample answer for this question is given below:"
   ]
  },
  {
   "cell_type": "code",
   "execution_count": null,
   "id": "ddf6ee25",
   "metadata": {},
   "outputs": [],
   "source": [
    "# ---------- Question 4 sample answer ----------\n",
    "g = 9.8          # m/s^2\n",
    "h0 = 100.0       # m\n",
    "dt = 0.1         # s\n",
    "t_max = 5.0      # s\n",
    "\n",
    "# 1.  Build the time axis\n",
    "times = []\n",
    "for i in range(int(t_max / dt) + 1):\n",
    "    times.append(i * dt)\n",
    "\n",
    "# 2.  Compute velocities and heights\n",
    "velocities = []\n",
    "for t in times:\n",
    "    velocities.append(g * t)\n",
    "\n",
    "heights = []\n",
    "for t in times:\n",
    "    heights.append(h0 - 0.5 * g * t**2)\n",
    "\n",
    "# 3.  Compute energies (assuming the functions from Q3 are available)\n",
    "kinetic_energy = []\n",
    "for v in velocities:\n",
    "    kinetic_energy.append(calculate_kinetic_energy(mass=1.0, velocity=v))\n",
    "\n",
    "potential_energy = []\n",
    "for h in heights:\n",
    "    potential_energy.append(calculate_potential_energy(mass=1.0, height=h, gravity=g))"
   ]
  },
  {
   "cell_type": "code",
   "execution_count": null,
   "id": "3e2b9350",
   "metadata": {},
   "outputs": [],
   "source": [
    "import os\n",
    "os.chdir('/home/jovyan/intro-coding-data-analysis.git/04/src')\n",
    "\n",
    "from plot import *\n",
    "\n",
    "plot_energy_over_time(times, kinetic_energy, potential_energy)"
   ]
  },
  {
   "cell_type": "markdown",
   "id": "3c9a03f1",
   "metadata": {},
   "source": [
    " > **Demonstrator Notes:** For many students, this may be their first exposure to the `import` and `from` keywords, as well as the `os` package. They also won't have encountered plotting yet. If students ask about these topics, you're welcome to give a brief explanation if you like, but it's also fine to tell them that these will be covered in detail later in the course if it is easier."
   ]
  },
  {
   "cell_type": "markdown",
   "id": "e3ba0ace",
   "metadata": {},
   "source": [
    "**Question 5:** The `time()` function gives the number of seconds passed since epoch (the point where time begins, e.g. `January 1, 1970, 00:00:00 UTC` is epoch on unix systems). Some suggested code to show students for this question is given below."
   ]
  },
  {
   "cell_type": "code",
   "execution_count": null,
   "id": "e42eabf3",
   "metadata": {},
   "outputs": [],
   "source": [
    "# The time function can be imported like so\n",
    "from time import time\n",
    "\n",
    "# We can see it's documentation here\n",
    "help(time)\n",
    "\n",
    "# It can be used to time code in seconds e.g.\n",
    "t1 = time()\n",
    "for i in range(100):\n",
    "    print(i)\n",
    "t2 = time()\n",
    "\n",
    "print(\"Printing the numbers 1-100 took \", t2-t1, \" seconds.\")"
   ]
  },
  {
   "cell_type": "markdown",
   "id": "1e6ad652",
   "metadata": {},
   "source": [
    " > **Demonstrator Notes:** See notes on Question 4."
   ]
  },
  {
   "cell_type": "markdown",
   "id": "ec896e65",
   "metadata": {},
   "source": [
    "**Question 6:** An example answer for this question is given below."
   ]
  },
  {
   "cell_type": "code",
   "execution_count": null,
   "id": "1f70807a",
   "metadata": {},
   "outputs": [],
   "source": [
    "def remove_filler(text):\n",
    "    fillers = [\"um\", \"uh\", \"uhm\", \"er\", \"err\"]\n",
    "    words = text.split()  # split the string into words\n",
    "    result_words = []\n",
    "\n",
    "    for word in words:\n",
    "        # Check if the word (lowercased) is a filler\n",
    "        if word.lower() not in fillers:\n",
    "            result_words.append(word)\n",
    "\n",
    "    # Join the words back into a string\n",
    "    return \" \".join(result_words)\n",
    "\n",
    "\n",
    "# Example usage\n",
    "text = \"Um I was, uh, going to the store but uhm I er forgot.\"\n",
    "print(remove_filler(text))"
   ]
  },
  {
   "cell_type": "markdown",
   "id": "768a86b9",
   "metadata": {},
   "source": [
    " > **Demonstrator Notes:** It is expected that many students will have forgotten the `split` function from week 1. Please encourage them to look up documentation where possible, rather than giving the answer directly."
   ]
  },
  {
   "cell_type": "markdown",
   "id": "112b174b",
   "metadata": {},
   "source": [
    "**Question 7:** If you write a function which redefines a global variable, then inside the function, Python makes a new local variable `x` when you assign `x = 20`. That local version is separate from the global version `x = 10`. So inside you see `20`, and outside you still see `10`."
   ]
  },
  {
   "cell_type": "markdown",
   "id": "2f53ebc4",
   "metadata": {},
   "source": [
    " > **Demonstrator Advice:** One way of explaining what is going on here is to show students the following code, where we have replaced the calls to `x` outside the function with `x_outer` and the code inside the function with `x_inner`."
   ]
  },
  {
   "cell_type": "code",
   "execution_count": null,
   "id": "5df72e8b",
   "metadata": {},
   "outputs": [],
   "source": [
    "x_outer = 10\n",
    "\n",
    "def my_function():\n",
    "    x_inner = 20\n",
    "    print(x_inner)\n",
    "    \n",
    "my_function()\n",
    "print(x_outer)"
   ]
  },
  {
   "cell_type": "markdown",
   "id": "6bbdc18c",
   "metadata": {},
   "source": [
    " > In this code it is pretty easy to predict what will be printed. Because the variables have different names, there is no ambiguity. Behind the scenes, this renaming is exactly what Python is doing when you redefine a global variable inside a function.  \n",
    " >\n",
    " > *However,* it must be stressed that this will only happen when you redefine the variable (e.g. write `x=...`) somewhere inside the function. For instance, if we comment out the `x=20` line from the original code, then the function will treat `x` as though it is `x_outer`, not `x_inner`!"
   ]
  },
  {
   "cell_type": "code",
   "execution_count": null,
   "id": "2bfd9563",
   "metadata": {},
   "outputs": [],
   "source": [
    "x = 10\n",
    "\n",
    "def my_function():\n",
    "    # x = 20\n",
    "    print(x)\n",
    "    \n",
    "my_function()\n",
    "print(x)"
   ]
  },
  {
   "cell_type": "markdown",
   "id": "3f9ee439",
   "metadata": {},
   "source": [
    "**Question 8:** Here is an example answer for this question."
   ]
  },
  {
   "cell_type": "code",
   "execution_count": null,
   "id": "e5cea34c",
   "metadata": {},
   "outputs": [],
   "source": [
    "# Here is some example input\n",
    "example_input = [3,1,2,7]\n",
    "\n",
    "# And it's expected output\n",
    "expected_output = [2,1,1,13]\n",
    "\n",
    "# Write your function here\n",
    "def Fibonnaci(input_list):\n",
    "    \n",
    "    # Initial output list\n",
    "    output_list = []\n",
    "    \n",
    "    for k in input_list:\n",
    "        \n",
    "        # If k is zero we add 0 to the list,\n",
    "        # and if k is one we add 1 to the list\n",
    "        if k==0 or k==1:\n",
    "            \n",
    "            output_list = output_list + [k]\n",
    "        \n",
    "        # Otherwise work out the fibonnaci numbers\n",
    "        # by summing the previous\n",
    "        else:\n",
    "            \n",
    "            # Fibonnaci two previous and one previous\n",
    "            fib_2prev = 0 \n",
    "            fib_1prev = 1\n",
    "            \n",
    "            # Current fibonnaci\n",
    "            fib_curr = 1\n",
    "            \n",
    "            # Initial j\n",
    "            j = 2\n",
    "            while j < k:\n",
    "                \n",
    "                # Update fib_curr and prevs\n",
    "                fib_2prev = fib_1prev\n",
    "                fib_1prev = fib_curr\n",
    "                fib_curr = fib_1prev + fib_2prev\n",
    "                \n",
    "                j = j + 1\n",
    "                \n",
    "            # Add the fibonnaci number output to the list\n",
    "            output_list = output_list + [fib_curr]\n",
    "    \n",
    "    return(output_list)\n",
    "\n",
    "\n",
    "# Check your answer against this expected output\n",
    "print(Fibonnaci(example_input))\n",
    "print(expected_output)"
   ]
  },
  {
   "cell_type": "markdown",
   "id": "d7ffe575",
   "metadata": {},
   "source": [
    " > **Demonstrator Notes:** This question is hard, and will be fairly challenging for most students. Please feel free to give them a bit more guidance when answering this one - one good place to start might be to have them compute the $n^{th}$ Fibonnaci number from the $(n-1)^{th}$ and $(n-2)^{th}$ Fibonacci numbers.\n",
    " >\n",
    " > It probably isn't a good idea to discuss code efficiency/making the code faster at this stage of the course. This question will already pose a large conceptual challenge for many students, and showing them how to rewrite the code to improve it further might feel like an extra layer of complexity. (The above code certainly isn't the most efficient!)."
   ]
  },
  {
   "cell_type": "markdown",
   "id": "77785dc0",
   "metadata": {},
   "source": [
    "**Question 9:** Example code for this question is given below:"
   ]
  },
  {
   "cell_type": "code",
   "execution_count": null,
   "id": "edd6273a",
   "metadata": {},
   "outputs": [],
   "source": [
    "def next_las(las_k):\n",
    "    \n",
    "    # It is useful to have the character as a string\n",
    "    # for this function\n",
    "    las_k_str = str(las_k)\n",
    "    \n",
    "    # We need a counter to see how many times an \n",
    "    # element has occurred\n",
    "    counter = 0\n",
    "    \n",
    "    # We need a string for the (k+1)th las number\n",
    "    las_kplusone_str = ''\n",
    "    \n",
    "    # Initialize previous look and say digit we saw\n",
    "    # to first digit\n",
    "    prev_las_k_char = las_k_str[0]\n",
    "    \n",
    "    # We loop through each character counting how\n",
    "    # many times it occurs\n",
    "    for las_k_char in las_k_str:\n",
    "        \n",
    "        # If the last digit we saw is the same as this one\n",
    "        if las_k_char == prev_las_k_char:\n",
    "            \n",
    "            # Increment the counter\n",
    "            counter = counter + 1\n",
    "        \n",
    "        # If we have seen a new digit \n",
    "        else:\n",
    "            \n",
    "            # We now need to add how many times we saw the\n",
    "            # last digit and the last digit itself to our \n",
    "            las_kplusone_str = las_kplusone_str + str(counter) + prev_las_k_char\n",
    "            \n",
    "            # Update the previous look and say character to our new character\n",
    "            prev_las_k_char = las_k_char\n",
    "            \n",
    "            # Reset the counter\n",
    "            counter = 1\n",
    "    \n",
    "    # We still need to add the last counter and digit\n",
    "    las_kplusone_str = las_kplusone_str + str(counter) + prev_las_k_char\n",
    "    \n",
    "    # Convert our string back to an integer\n",
    "    las_kplusone = int(las_kplusone_str)\n",
    "    \n",
    "    return(las_kplusone)"
   ]
  },
  {
   "cell_type": "markdown",
   "id": "145051cc",
   "metadata": {},
   "source": [
    " > **Demonstrator Notes:** This question is difficult and will need more guidance for many students. It is expected that many students will not think to use the `str` constructor to convert their numerical data into a string and many will not think to loop through the characters of string, treating it as an iterator (e.g. many may not think to write code of the form `for character in my_string:`). Beyond these syntax hints, try to encourage students who are struggling to first write how they would perform the computation by hand on paper, before they start coding. This is often a good starting point for explaining the logic and working out what they understand of the question."
   ]
  },
  {
   "cell_type": "markdown",
   "id": "1d04bb5d",
   "metadata": {},
   "source": [
    "**Question 10:** Code for this question can be found below"
   ]
  },
  {
   "cell_type": "code",
   "execution_count": null,
   "id": "b216643a",
   "metadata": {},
   "outputs": [],
   "source": [
    "# This function must take in an integer k and return the\n",
    "# kth look and say number, l(k).\n",
    "def get_las_k(k):\n",
    "    \n",
    "    # initial values\n",
    "    las_k = 1\n",
    "    k_current = 1\n",
    "    \n",
    "    # Loop through the las numbers getting the\n",
    "    # next number each time\n",
    "    while k_current < k:\n",
    "        \n",
    "        # Get next las\n",
    "        las_k = next_las(las_k)\n",
    "        \n",
    "        # increment current k\n",
    "        k_current = k_current + 1\n",
    "        \n",
    "    return(las_k)\n",
    "\n",
    "# Test your function here:\n",
    "print(get_las_k(1)) # This should give 1\n",
    "print(get_las_k(2)) # This should give 11\n",
    "print(get_las_k(5)) # This should give 111221"
   ]
  },
  {
   "cell_type": "markdown",
   "id": "e012ee47",
   "metadata": {},
   "source": [
    " > **Demonstrator Notes:** This question should be a little easier than the previous, but please do check that students are actually using the function from the previous question, rather than rewriting the code from scratch, or copy-pasting large chunks."
   ]
  },
  {
   "cell_type": "markdown",
   "id": "ad1e4596",
   "metadata": {},
   "source": [
    "## Intermediate: Flexible Inputs and Outputs"
   ]
  },
  {
   "cell_type": "markdown",
   "id": "ccaa70a0",
   "metadata": {},
   "source": [
    "**Question 1:** The output of the function calls are as follows:\n",
    "\n",
    "\n",
    "```python\n",
    "a: 1\n",
    "b: 2\n",
    "args: ()\n",
    "kwargs: {}\n",
    "---------------\n",
    "a: 1\n",
    "b: 2\n",
    "args: (3, 4)\n",
    "kwargs: {}\n",
    "---------------\n",
    "a: 1\n",
    "b: 2\n",
    "args: ()\n",
    "kwargs: {'x': 10, 'y': 20}\n",
    "---------------\n",
    "a: 1\n",
    "b: 2\n",
    "args: (3, 4)\n",
    "kwargs: {'x': 10, 'y': 20}\n",
    "```"
   ]
  },
  {
   "cell_type": "code",
   "execution_count": null,
   "id": "038e5866",
   "metadata": {},
   "outputs": [],
   "source": [
    "def printing_function(a, b, *args, **kwargs):\n",
    "    print(\"a:\", a)\n",
    "    print(\"b:\", b)\n",
    "    print(\"args:\", args)\n",
    "    print(\"kwargs:\", kwargs)\n",
    "    \n",
    "    \n",
    "printing_function(1, 2)\n",
    "print('---------------')\n",
    "printing_function(1, 2, 3, 4)\n",
    "print('---------------')\n",
    "printing_function(1, 2, x=10, y=20)\n",
    "print('---------------')\n",
    "printing_function(1, 2, 3, 4, x=10, y=20)"
   ]
  },
  {
   "cell_type": "markdown",
   "id": "dc78c879",
   "metadata": {},
   "source": [
    " > **Demonstrator Notes:** This question aims to build on the intuition students have built through the `Arbitrary Positional and Keyword Arguments` section of the notebook. Please encourage students to attempt the question before running the code to check their answer. If students are struggling with the conceptual aspects of this question, please do try to refer back to the notebook section where possible. \n",
    " > \n",
    " > When discussing the answers to this question, it is worth highlighting that, when we pass no arguments to `*args` and `**kwargs`, this is the same as passing in an empty list, `()`, or empty dictionary, `{}`, rather than passing no variables at all. This is a good discussion point - asking students why they think this is can help you to check their understanding of `*args` and `**kwargs`."
   ]
  },
  {
   "cell_type": "markdown",
   "id": "ba3a31c7",
   "metadata": {},
   "source": [
    "**Question 2:** An example answer for this question is given below:"
   ]
  },
  {
   "cell_type": "code",
   "execution_count": null,
   "id": "ebbe813c",
   "metadata": {},
   "outputs": [],
   "source": [
    "def sumstrings(*args):\n",
    "    \n",
    "    # Work out the running sum\n",
    "    runningsum = 0\n",
    "    \n",
    "    for arg in args:\n",
    "        \n",
    "        if arg.lower()==\"one\":\n",
    "            \n",
    "            runningsum = runningsum+1\n",
    "            \n",
    "        elif arg.lower()==\"two\":  \n",
    "            \n",
    "            runningsum = runningsum+2\n",
    "        \n",
    "        elif arg.lower()==\"three\":\n",
    "            \n",
    "            runningsum = runningsum+3\n",
    "            \n",
    "        if arg.lower()==\"four\":\n",
    "            \n",
    "            runningsum = runningsum+4\n",
    "            \n",
    "        if arg.lower()==\"five\":\n",
    "            \n",
    "            runningsum = runningsum+5\n",
    "            \n",
    "        if arg.lower()==\"six\":\n",
    "            \n",
    "            runningsum = runningsum+6\n",
    "            \n",
    "        if arg.lower()==\"seven\":\n",
    "            \n",
    "            runningsum = runningsum+7\n",
    "            \n",
    "        if arg.lower()==\"eight\":\n",
    "            \n",
    "            runningsum = runningsum+8\n",
    "\n",
    "        if arg.lower()==\"nine\":\n",
    "            \n",
    "            runningsum = runningsum+9\n",
    "            \n",
    "        if arg.lower()==\"ten\":\n",
    "            \n",
    "            runningsum = runningsum+10\n",
    "            \n",
    "    return(runningsum)\n",
    "\n",
    "print(sumstrings('one', 'one', 'nine',)) # This should give 11\n",
    "print(sumstrings('one', 'two', 'seVen',)) # This should give 10"
   ]
  },
  {
   "cell_type": "markdown",
   "id": "21eb6d1e",
   "metadata": {},
   "source": [
    " > **Demonstrator Notes:** This question is fairly straightforward. We are not expecting answers that are any more complex/streamlined than the above (although students are certainly welcome to try). Given the week 2 intermediate notebook, some students may use a `match` statement instead of an `if-elif-else`. This is perfectly fine as well."
   ]
  },
  {
   "cell_type": "markdown",
   "id": "9b65b517",
   "metadata": {},
   "source": [
    "**Question 3:** The expected output for this question is:\n",
    "\n",
    "```python\n",
    "Here is another print statement.\n",
    "----------------------------\n",
    "----------------------------\n",
    "Here is a print statement.\n",
    "----------------------------\n",
    "Here is a print statement.\n",
    "----------------------------\n",
    "```"
   ]
  },
  {
   "cell_type": "code",
   "execution_count": null,
   "id": "e8bbb894",
   "metadata": {},
   "outputs": [],
   "source": [
    "def function_with_if(a=1):\n",
    "    \n",
    "    # If a is greater than zero, return 1\n",
    "    if a > 0:\n",
    "        print('Here is a print statement.')\n",
    "        return(1)\n",
    "    \n",
    "    # If a is equal to zero, return 0\n",
    "    elif a == 0:\n",
    "        return(0)\n",
    "    \n",
    "    # Return -1\n",
    "    print('Here is another print statement.')\n",
    "    return(-1)\n",
    "\n",
    "function_with_if(-1)\n",
    "print('----------------------------')\n",
    "function_with_if(0)\n",
    "print('----------------------------')\n",
    "function_with_if(1)\n",
    "print('----------------------------')\n",
    "function_with_if()\n",
    "print('----------------------------')"
   ]
  },
  {
   "cell_type": "markdown",
   "id": "b90e1809",
   "metadata": {},
   "source": [
    " > **Demonstrator Notes:** This question is mainly to test the students logic and understanding of how Python handles functions with multiple `return` statements. A good case to focus on is the case `a==0`. Useful questions to ask students here include:  \n",
    " > - Why do you think nothing is printed when `a==0`? \n",
    " > - Will `print('Here is another print statement.')` be printed when `a==0`? \n",
    " > - Will `0` or `-1` be returned when `a==0`?"
   ]
  },
  {
   "cell_type": "markdown",
   "id": "fc570a58",
   "metadata": {},
   "source": [
    "**Question 4:** The code returns `True` if the integer is prime and `False` otherwise. The answers to the listed questions are as follows:\n",
    "\n",
    "\n",
    " - What values of `i` will the loop check?\n",
    " \n",
    "It will check all values between `2` and `my_integer-1`, inclusive. Given no prior knowledge, these are the values which could possibly be factors of `my_integer`.\n",
    " \n",
    " - What does the expression `my_integer % i` mean?\n",
    "\n",
    "This is the modulo operator, which we met in the Week 1 Beginner notebook. It gives the remainder obtained from dividing `my_integer` by `i`. If this expression equals zero, then `my_integer` is divisible by `i` (i.e. `i` is a factor of `my_integer`).\n",
    "\n",
    " - Under what condition does the function return `False`?\n",
    " \n",
    "The function returns `False` whenever we find an integer `i` (lying between `2` and `my_integer-1`) that is a factor of `my_integer`. In other words, it returns `False` when `my_integer` has a factor, that is when `my_integer` is not prime."
   ]
  },
  {
   "cell_type": "markdown",
   "id": "05838816",
   "metadata": {},
   "source": [
    " > **Demonstrator Notes:** The aim of this question is to get students thinking about how `return` statements can be used to end loops prematurely, a bit like a `break` statement. They will have met the `break` statement in the Week 3 intermediate notebook, but might not realise the connection here. When explaining the logic of this question, feel free to reference `break` statements to highlight the similarity, but make sure to point out that `return` not only stops the loop but also exits the entire function immediately. \n",
    " >\n",
    " > This question is also a good opportunity to get students to think about debugging code. It is expected that, when asked to work out what the code is doing, many students will try to dissect the code conceptually from first principles without running it. If you see students attempting to do this and struggling, encourage them to adopt a more pratical approach - e.g. suggest that they run the function for several different values of `my_integer` and see if they can guess the function's behaviour from the output. "
   ]
  },
  {
   "cell_type": "markdown",
   "id": "c5b40e33",
   "metadata": {},
   "source": [
    "**Question 5:** The `another_mystery_function` function takes in a string and reverses the order of the letters. The same thing can be done using, for example, the below loop:"
   ]
  },
  {
   "cell_type": "code",
   "execution_count": null,
   "id": "c694a051",
   "metadata": {},
   "outputs": [],
   "source": [
    "def another_mystery_function_loop_version(word):\n",
    "    reversed_word = \"\"\n",
    "    for char in word:\n",
    "        reversed_word = char + reversed_word\n",
    "    return reversed_word"
   ]
  },
  {
   "cell_type": "markdown",
   "id": "39dcd410",
   "metadata": {},
   "source": [
    " > **Demonstrator Notes:** Recursive functions can be difficult to explain on the spot. If a student asks for help, then by all means, feel free to go through step-by-step explaining what the code is doing if you feel you are able. However, if you do not feel confident doing this, you can instead encourage the student to identify the code's function by looking at various inputs and outputs and \"spotting the pattern\". The latter is still a good exercise in debugging code and a worthwhile use of the student's time."
   ]
  },
  {
   "cell_type": "markdown",
   "id": "8a542223",
   "metadata": {},
   "source": [
    "## Advanced: Lambda Functions and Functional Programming"
   ]
  },
  {
   "cell_type": "markdown",
   "id": "4294daec",
   "metadata": {},
   "source": [
    "**Question 1:** An answer to this question is given below:"
   ]
  },
  {
   "cell_type": "code",
   "execution_count": null,
   "id": "f20fa057",
   "metadata": {},
   "outputs": [],
   "source": [
    "# List of words\n",
    "words = ['footballs', 'Bilingual', 'computing', 'presentation', 'interconnect', 'to', 'be', \n",
    "         'investigation', 'ya', 'university', 'keyboard,', 'hi', 'my', 'background', \n",
    "         'be', 'no', 'in', 'up', 'sentenced', 'hi', 'an', 'Wireless!', 'painstaking', \n",
    "         'walrusses', 'apartment', 'to', 'blueberry', 'television?', 'participation', \n",
    "         'Us', 'phonebook', 'On', 'by', 'transformation!', 'it', 'announcement', 'You',\n",
    "         'determination', 'go', 'photography', 'of', 'if', 'independence', 'architecture', \n",
    "         'interpretation', 'us', 'an', 'do', 'by', 'generation', 'butterfly', 'playground', \n",
    "         'at', 'no', 'be', 'i', 'at', 'raincloud', 'found', 'an', 'identification', 'international', \n",
    "         'of', 'application', 'as', 'celebration', 'newspaper', 'on', 'to', 'implementation', \n",
    "         'basketball', 'on', 'documentation', 'yo', 'foundation', 'up', 'do', 'backpacks', 'as', \n",
    "         'ok', 'blackboard', 'it', 'qualification', 'We', 'or', 'us', 'in', 'grandfather', 'do', \n",
    "         'headphones', 'no', 'crosswalk', 'professional', 'the', 'snowflake.', 'consideration', \n",
    "         'Basketball', 'everywhere', 'cumbersome', 'as', 'we', 'it', 'communication', 'telephone', 'my',\n",
    "         'electricity', 'ok', 'secret', 'transportation', 'me', 'go', 'so', 'in', 'me', 'if', \n",
    "         'relationship', 'to', 'ok', 'happiness', 'adventure', 'chemistry', 'storybook',\n",
    "         'message.', 'accountability!', 'am', 'or', 'Well', 'availability', 'or', 'is', \n",
    "         'motorcycle', 'we', 'unbelievable', 'technology', 'At', 'yo', 'i', 'experience', \n",
    "         'Go',  'conversation?', 'no', 'watermelon', 'strawberry', 'done!', 'sunburned', \n",
    "         'we', 'or', 'examination', 'representation,', 'sunflower', 'adjective', \n",
    "         'a', 'in', 'me', 'of', 'so', 'establishment', 'magazines', 'knowledge']\n",
    "\n",
    "list(filter(lambda x: len(x) > 2 and len(x) < 9, words))"
   ]
  },
  {
   "cell_type": "markdown",
   "id": "7c637f85",
   "metadata": {},
   "source": [
    " > **Demonstrator Notes:** It might be useful to break this question down into the following steps:\n",
    " > 1. Write a (normal) function which checks if a string has between three and eight characters. If it does, the function should return `True`, otherwise it should return `False`.\n",
    " > 1. Try to condense this function to only take up a few lines.\n",
    " > 1. Convert this function to a `lambda` function.\n",
    " > 1. Insert this `lambda` function into a `filter` expression.\n",
    " >\n",
    " > Note it is easy to forget that the end result must be converted back to a `list` - it is very likely that at least some students will forget to do this and be confused by the object returned by the `filter` function."
   ]
  },
  {
   "cell_type": "markdown",
   "id": "03bc7294",
   "metadata": {},
   "source": [
    "**Question 2:** Example code for this question is given below:"
   ]
  },
  {
   "cell_type": "code",
   "execution_count": null,
   "id": "ab1dc00f",
   "metadata": {},
   "outputs": [],
   "source": [
    "people = [\n",
    "    {\"name\": \"Alice\",   \"age\": 25, \"city\": \"New York\"},\n",
    "    {\"name\": \"Bob\",     \"age\": 30, \"city\": \"Los Angeles\"},\n",
    "    {\"name\": \"Charlie\", \"age\": 35, \"city\": \"Chicago\"},\n",
    "    {\"name\": \"Diana\",   \"age\": 28, \"city\": \"Houston\"},\n",
    "    {\"name\": \"Ethan\",   \"age\": 22, \"city\": \"Phoenix\"},\n",
    "    {\"name\": \"Fatima\",  \"age\": 31, \"city\": \"Philadelphia\"},\n",
    "    {\"name\": \"George\",  \"age\": 27, \"city\": \"San Antonio\"},\n",
    "    {\"name\": \"Hannah\",  \"age\": 29, \"city\": \"San Diego\"},\n",
    "    {\"name\": \"Ivan\",    \"age\": 33, \"city\": \"Dallas\"},\n",
    "    {\"name\": \"Jasmine\", \"age\": 26, \"city\": \"San Jose\"},\n",
    "    {\"name\": \"Liam\",    \"age\": 32, \"city\": \"Jacksonville\"},\n",
    "    {\"name\": \"Maya\",    \"age\": 34, \"city\": \"San Francisco\"},\n",
    "    {\"name\": \"Noah\",    \"age\": 23, \"city\": \"Columbus\"},\n",
    "    {\"name\": \"Olivia\",  \"age\": 36, \"city\": \"Fort Worth\"},\n",
    "]\n",
    "\n",
    "names = list(map(lambda person: person[\"name\"], people))\n",
    "print(names)"
   ]
  },
  {
   "cell_type": "markdown",
   "id": "dc6c2c51",
   "metadata": {},
   "source": [
    " > **Demonstrator Notes:** As with *Question 1*, it might be useful to break this question down into the following steps:\n",
    " > 1. Write a (normal) function which returns the value of `\"name\"` from a dictionary.\n",
    " > 1. Convert this function to a `lambda` function.\n",
    " > 1. Insert this `lambda` function into a `map` expression.\n",
    " >\n",
    " > Again, it is easy to forget that the end result must be converted back to a `list` - it is very likely that at least some students will forget to do this and be confused by the object returned by the `map` function."
   ]
  },
  {
   "cell_type": "markdown",
   "id": "10b50a6e",
   "metadata": {},
   "source": [
    "**Question 3:** An example answer is provided below."
   ]
  },
  {
   "cell_type": "code",
   "execution_count": null,
   "id": "5ef73dfe",
   "metadata": {},
   "outputs": [],
   "source": [
    "def my_filter(f, g, my_iterable):\n",
    "    result = []\n",
    "    for x in my_iterable:\n",
    "        if f(x) ^ g(x):  # XOR: exactly one is True\n",
    "            result.append(x)\n",
    "    return result\n",
    "\n",
    "# Try testing your my_filter function using the below inputs\n",
    "f = lambda n: n % 2 == 0      # function checking if n is even\n",
    "g = lambda n: n > 0           # function checking if n is positive\n",
    "my_iterable = [-2, -1, 0, 1, 2, 3]\n",
    "\n",
    "print(my_filter(f, g, my_iterable))  # Should print [-2, 0, 1, 3]"
   ]
  },
  {
   "cell_type": "markdown",
   "id": "51a38e89",
   "metadata": {},
   "source": [
    " > **Demonstrator Notes:** The aim of this question is to give students practice writing higher-order functions and treating functions themselves as objects. Student's will likely need reminding that they can write `^` for *exclusive or*, as they have only briefly seen this operation in the week 1 beginner notebook. It is perfectly fine, and also a good exercise, to have them instead write out `f(x) ^ g(x)` as `(f(x) and not g(x)) or (g(x) and not f(x))` (it may also help to draw a [Venn diagram](https://www.researchgate.net/publication/230822602/figure/fig4/AS:669427104231424@1536615267039/Four-Venn-Diagrams-of-Boolean-Logic.png) for students who want to adopt this approach)."
   ]
  },
  {
   "cell_type": "markdown",
   "id": "aeba3f70",
   "metadata": {},
   "source": [
    "**Question 4:** The `reduce` expression here is performing [function composition](https://en.wikipedia.org/wiki/Function_composition) and the new function is being evaluated with `5` as input. In other words, if the expression is given a list of function $[f_1,...,f_n]$ then the output will be $(f_1 \\circ f_2 \\circ ... \\circ f_n)(5)=f_1(f_2(...f_n(5)...))$."
   ]
  },
  {
   "cell_type": "markdown",
   "id": "21f0006a",
   "metadata": {},
   "source": [
    " > **Demonstrator Notes:** For less mathematical students, avoid the phrase \"composition\". Instead, explain the idea in plain English. For example: \"*First, take the last function in the list and run it with the input `5`. Then take the result you get and plug it into the second-to-last function. Keep going like this, working backwards through the list.*\""
   ]
  },
  {
   "cell_type": "markdown",
   "id": "7a55f1e8",
   "metadata": {},
   "source": [
    "**Question 5:** This function computes the maximum value in a list. Behind the scenes, it is doing the following:\n",
    "\n",
    " - It first takes the first two elements, `3` and `1`, and applies the `lambda` function which returns the maximum of the two.\n",
    " - Next, it takes the result of the first step, in this case `3`, and the next element in the list `4`. Again it applies the `lambda` function which returns the maximum of the two.\n",
    " - It then repeats this process, each time comparing the current result with the next element of the list, and choosing the maximum of the two, until there are no elements left.\n",
    " - The final value produced is the largest value in the list.\n",
    " \n",
    "Another way of thinking about it is as doing the following:"
   ]
  },
  {
   "cell_type": "code",
   "execution_count": null,
   "id": "3f7fc75c",
   "metadata": {},
   "outputs": [],
   "source": [
    "# List of numbers\n",
    "nums = [3, 1, 4, 1, 5, 9, 2]\n",
    "\n",
    "# Give the lambda expression a name for clarity\n",
    "max_xy = lambda x, y: x if x > y else y\n",
    "\n",
    "# Repeatedly applying max_xy\n",
    "result1 = max_xy(nums[0],  nums[1])\n",
    "result2 = max_xy(result1,  nums[2])\n",
    "result3 = max_xy(result2,  nums[3])\n",
    "result4 = max_xy(result3,  nums[4])\n",
    "result5 = max_xy(result4,  nums[5])\n",
    "result6 = max_xy(result5,  nums[6])\n",
    "\n",
    "print(result6)"
   ]
  },
  {
   "cell_type": "markdown",
   "id": "6ee79397",
   "metadata": {},
   "source": [
    " > **Demonstrator Notes:** Although it might not seem like it on first viewing, this example is designed to be extremely similar to the example given in the `reduce` section of the notebook. If students are struggling with this, please direct them to this section first. "
   ]
  }
 ],
 "metadata": {
  "kernelspec": {
   "display_name": "Python 3 (ipykernel)",
   "language": "python",
   "name": "python3"
  },
  "language_info": {
   "codemirror_mode": {
    "name": "ipython",
    "version": 3
   },
   "file_extension": ".py",
   "mimetype": "text/x-python",
   "name": "python",
   "nbconvert_exporter": "python",
   "pygments_lexer": "ipython3",
   "version": "3.9.13"
  }
 },
 "nbformat": 4,
 "nbformat_minor": 5
}
