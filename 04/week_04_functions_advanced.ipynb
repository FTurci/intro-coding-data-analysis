{
 "cells": [
  {
   "cell_type": "markdown",
   "id": "bd1aa9e9",
   "metadata": {},
   "source": [
    "# Advanced: Lambda Functions and Functional Programming"
   ]
  },
  {
   "cell_type": "markdown",
   "id": "2ee2ee6c",
   "metadata": {},
   "source": [
    "\n",
    "\n",
    "Often you might think of a function as a sort of \"black-box\" which takes in inputs and spits out outputs. In this notebook, we will investigate a new way of thinking about functions - as objects themselves, just like integers and strings."
   ]
  },
  {
   "cell_type": "markdown",
   "id": "9bc4e046",
   "metadata": {},
   "source": [
    "### Table of Contents\n",
    "\n",
    " - [Welcome Page](./week_04_home.ipynb)\n",
    "\n",
    " - [Beginner: Defining Functions](./week_04_functions_beginner.ipynb)\n",
    " - [Intermediate: Flexible Inputs and Outputs](./week_04_functions_intermediate.ipynb)\n",
    " - [**Advanced: Lambda Functions and Functional Programming**](./week_04_functions_advanced.ipynb)\n",
    "    - [`lambda` Functions](#lambda-Functions)\n",
    "    - [Functions as Objects](#Functions-as-Objects)\n",
    "    - [`map`](#map)\n",
    "    - [`filter`](#filter)\n",
    "    - [`reduce`](#reduce)\n",
    "    - [Exercises](#Exercises)\n",
    " - [Slides](./week_04_slides.ipynb) ([Powerpoint](./Lecture4_Functions.pptx))"
   ]
  },
  {
   "cell_type": "markdown",
   "id": "1c758c30",
   "metadata": {},
   "source": [
    "## `lambda` Functions"
   ]
  },
  {
   "cell_type": "markdown",
   "id": "1f84c252",
   "metadata": {},
   "source": [
    "We'll begin today by considering a new kind of function: the `lambda` function. A lambda function is a way to create a function *\"on the fly\"* without using the def keyword. Because of this, they are sometimes called anonymous functions.\n",
    "\n",
    "The general syntax is:\n",
    "\n",
    "> ```lambda arguments: expression```\n",
    "\n",
    "For instance, consider the below function."
   ]
  },
  {
   "cell_type": "code",
   "execution_count": null,
   "id": "f0d002d0",
   "metadata": {},
   "outputs": [],
   "source": [
    "def my_function(x,y):\n",
    "    return(x*y)\n",
    "\n",
    "print(my_function(3,4))"
   ]
  },
  {
   "cell_type": "markdown",
   "id": "8d24c212",
   "metadata": {},
   "source": [
    "We can write exactly the same code using a `lambda` function as follows:"
   ]
  },
  {
   "cell_type": "code",
   "execution_count": null,
   "id": "618a6a6e",
   "metadata": {},
   "outputs": [],
   "source": [
    "my_function = lambda x,y: x*y\n",
    "print(my_function(3,4))"
   ]
  },
  {
   "cell_type": "markdown",
   "id": "a6f5441d",
   "metadata": {},
   "source": [
    "Notice a few things:\n",
    "\n",
    " - There is no `def` or `return` here.\n",
    " - The `return` is implicit: the result of the expression is what gets returned.\n",
    " - To use the function, we assigned it to a variable (here, `my_function`).\n",
    " \n",
    "Although we assigned the function to a variable here, we could have used it directly, like so:"
   ]
  },
  {
   "cell_type": "code",
   "execution_count": null,
   "id": "b52ec73d",
   "metadata": {},
   "outputs": [],
   "source": [
    "(lambda x,y: x*y)(3,4)"
   ]
  },
  {
   "cell_type": "markdown",
   "id": "0fa5ccdc",
   "metadata": {},
   "source": [
    "At first sight, this might not look very different from a normal function. The main reason to use lambda is when you want a small, throwaway function that you do not plan to reuse elsewhere.\n",
    "\n",
    "For example, instead of writing:"
   ]
  },
  {
   "cell_type": "code",
   "execution_count": null,
   "id": "8fd6cde4",
   "metadata": {},
   "outputs": [],
   "source": [
    "def add_one(x):\n",
    "    return x + 1\n",
    "\n",
    "print(add_one(10))"
   ]
  },
  {
   "cell_type": "markdown",
   "id": "a261b416",
   "metadata": {},
   "source": [
    "We can instead write:"
   ]
  },
  {
   "cell_type": "code",
   "execution_count": null,
   "id": "e7f1d213",
   "metadata": {},
   "outputs": [],
   "source": [
    "print((lambda x: x + 1)(10))"
   ]
  },
  {
   "cell_type": "markdown",
   "id": "111dd17b",
   "metadata": {},
   "source": [
    "Here we created the function and used it immediately, all in one line.\n",
    "\n",
    "There are, of course, limitations to the `lambda` syntax.\n",
    " - A `lambda` can only contain a single expression.\n",
    " - You cannot put multiple lines of logic, loops, or assignments inside.\n",
    "\n",
    "As a result, for more complicated computations, it is often preferable to use normal `def` functions. Nevertheless, the `lambda` syntax, and more broadly [the Lambda calculus](https://en.wikipedia.org/wiki/Lambda_calculus) upon which it's based, is a useful tool for writing quick and interpretable code."
   ]
  },
  {
   "cell_type": "markdown",
   "id": "58f31f0c",
   "metadata": {},
   "source": [
    "## Functions as Objects"
   ]
  },
  {
   "cell_type": "markdown",
   "id": "661aeaff",
   "metadata": {},
   "source": [
    "In the previous section, we wrote:"
   ]
  },
  {
   "cell_type": "code",
   "execution_count": null,
   "id": "0b5954d6",
   "metadata": {},
   "outputs": [],
   "source": [
    "my_function = lambda x, y: x * y"
   ]
  },
  {
   "cell_type": "markdown",
   "id": "b018cc55",
   "metadata": {},
   "source": [
    "At first this might seem unusual... we've taken a function and saved it into a variable! But in fact, behind the scenes, this is what we are always doing whenever we define a function. For example:"
   ]
  },
  {
   "cell_type": "code",
   "execution_count": null,
   "id": "a03210e4",
   "metadata": {},
   "outputs": [],
   "source": [
    "def my_function(x):\n",
    "    return 22 * x + 1\n",
    "\n",
    "print(my_function)\n",
    "\n",
    "my_function = lambda x: 22 * x + 1\n",
    "print(my_function)"
   ]
  },
  {
   "cell_type": "markdown",
   "id": "22164e0c",
   "metadata": {},
   "source": [
    "In both cases, we have created an *object* called `my_function`. That object happens to be a function, but it can still be treated like any other variable: it can be passed around, stored in data structures, or even overwritten."
   ]
  },
  {
   "cell_type": "markdown",
   "id": "9d997250",
   "metadata": {},
   "source": [
    "Because functions are objects, we can pass them into other functions. For instance, consider the below:"
   ]
  },
  {
   "cell_type": "code",
   "execution_count": null,
   "id": "f9c3e502",
   "metadata": {},
   "outputs": [],
   "source": [
    "def f(x):\n",
    "    return x ** 2\n",
    "\n",
    "def g(y):\n",
    "    return y + 2\n",
    "\n",
    "def run_on_input_of_five(my_func):\n",
    "    return \"The result of calling the function with input 5 was \" + str(my_func(5))\n",
    "\n",
    "print(run_on_input_of_five(f))\n",
    "print(run_on_input_of_five(g))"
   ]
  },
  {
   "cell_type": "markdown",
   "id": "7fd3a007",
   "metadata": {},
   "source": [
    "Here, we have defined two functions, `f` and `g`, but passed them into `run_on_input_of_five` as though they are variables.\n",
    "\n",
    "Note that `run_on_input_of_five` doesn't know in advance which function it will be given. It just accepts a function object as input and calls it with the argument `5`."
   ]
  },
  {
   "cell_type": "markdown",
   "id": "641512b0",
   "metadata": {},
   "source": [
    " > **Test your Understanding:** Write a function `h` such that:\n",
    " > \n",
    " >  - If it is given the input `5`, it returns the string `\"example output\"`.\n",
    " >  - For any other input, it returns the string `\"not 5\"`.\n",
    " > \n",
    " > What do you think will happen when you run `run_on_input_of_five(h)`? Verify your answer by running the command yourself."
   ]
  },
  {
   "cell_type": "markdown",
   "id": "0a7dea7d",
   "metadata": {},
   "source": [
    "Sometimes it is useful to refer to a function that takes other functions as input as a [**higher-order function**](https://en.wikipedia.org/wiki/Higher-order_function) (if you study category theory later on in other modules, you may also hear these referred to as *functionals*). Higher-order functions are extremely powerful, because they let us build general tools that work with any function we choose to give them."
   ]
  },
  {
   "cell_type": "markdown",
   "id": "e46bd808",
   "metadata": {},
   "source": [
    "In the following sections, we will look at some commonly used built-in higher-order functions in Python: `map`, `filter`, and `reduce`."
   ]
  },
  {
   "cell_type": "markdown",
   "id": "ff380035",
   "metadata": {},
   "source": [
    "## `map`"
   ]
  },
  {
   "cell_type": "markdown",
   "id": "e1a11a11",
   "metadata": {},
   "source": [
    "In the previous section, we saw that functions are objects, which means we can pass them as inputs to other functions. One popular higher-order function in Python is `map`.\n",
    "\n",
    "`map` takes as input a function and an iterable object (like a list), and applies the function to every element of the iterable. Its general form is:\n",
    "\n",
    "> ```map(function, iterable)```"
   ]
  },
  {
   "cell_type": "markdown",
   "id": "625b1de4",
   "metadata": {},
   "source": [
    "For example, suppose we want to square every number in a list. Normally we might write a loop:"
   ]
  },
  {
   "cell_type": "code",
   "execution_count": null,
   "id": "a183be1d",
   "metadata": {},
   "outputs": [],
   "source": [
    "# List of numbers\n",
    "numbers = [1, 2, 3, 4]\n",
    "\n",
    "# For loop squaring numbers\n",
    "squares = []\n",
    "for n in numbers:\n",
    "    squares.append(n ** 2)\n",
    "\n",
    "# Print result\n",
    "print(squares)  "
   ]
  },
  {
   "cell_type": "markdown",
   "id": "cc10d6cf",
   "metadata": {},
   "source": [
    "With `map`, we can do this more directly:"
   ]
  },
  {
   "cell_type": "code",
   "execution_count": null,
   "id": "dc11afb2",
   "metadata": {},
   "outputs": [],
   "source": [
    "# Function which squares numeric x\n",
    "def square(x):\n",
    "    return x ** 2\n",
    "\n",
    "# List of numbers\n",
    "numbers = [1, 2, 3, 4]\n",
    "\n",
    "# Apply square to each number\n",
    "squares = map(square, numbers)\n",
    "\n",
    "# Print the result\n",
    "print(list(squares))   "
   ]
  },
  {
   "cell_type": "markdown",
   "id": "6168e656",
   "metadata": {},
   "source": [
    "Note that `map` returns a special object, so we usually convert it into a `list` to see the results."
   ]
  },
  {
   "cell_type": "markdown",
   "id": "dd418187",
   "metadata": {},
   "source": [
    "Since `map` only needs a function once, it is common to use a `lambda` instead of defining a full function. For instance, we can rewrite our above code like so:"
   ]
  },
  {
   "cell_type": "code",
   "execution_count": null,
   "id": "e766f601",
   "metadata": {},
   "outputs": [],
   "source": [
    "# List of numbers\n",
    "numbers = [1, 2, 3, 4]\n",
    "\n",
    "# Square each number in numbers\n",
    "squares = map(lambda x: x ** 2, numbers)\n",
    "\n",
    "# Print the result\n",
    "print(list(squares))  "
   ]
  },
  {
   "cell_type": "markdown",
   "id": "e93be970",
   "metadata": {},
   "source": [
    "This is much shorter than the `for` loop approach and avoids wastefully creating a named function `square`."
   ]
  },
  {
   "cell_type": "markdown",
   "id": "57510c77",
   "metadata": {},
   "source": [
    "## `filter`"
   ]
  },
  {
   "cell_type": "markdown",
   "id": "ddf92b73",
   "metadata": {},
   "source": [
    "Another very common higher-order function in Python is filter. The filter function takes two inputs:\n",
    "\n",
    " - a function that decides whether to *keep* an item,\n",
    " - and an iterable (like a list).\n",
    "\n",
    "Its general form is:\n",
    "\n",
    " > ```filter(function, iterable)```\n",
    " \n",
    "The function we pass to `filter` must return either `True` or `False` for each item. If it returns `True`, the item is kept. If it returns `False`, the item is removed."
   ]
  },
  {
   "cell_type": "markdown",
   "id": "800bebe3",
   "metadata": {},
   "source": [
    "Let's look at an example. Suppose we want to keep only even numbers from a list. Using a loop, we might write:"
   ]
  },
  {
   "cell_type": "code",
   "execution_count": null,
   "id": "bff3311e",
   "metadata": {},
   "outputs": [],
   "source": [
    "# List of numbers\n",
    "numbers = [1, 2, 3, 4, 5, 6]\n",
    "\n",
    "# Loop through list recording only the even ones\n",
    "evens = []\n",
    "for n in numbers:\n",
    "    if n % 2 == 0:\n",
    "        evens.append(n)\n",
    "\n",
    "# Print the result\n",
    "print(evens)"
   ]
  },
  {
   "cell_type": "markdown",
   "id": "cb19bc1d",
   "metadata": {},
   "source": [
    "With `filter`, we can do this more directly:"
   ]
  },
  {
   "cell_type": "code",
   "execution_count": null,
   "id": "1522fc65",
   "metadata": {},
   "outputs": [],
   "source": [
    "# Function which checks if x is even\n",
    "def is_even(x):\n",
    "    return x % 2 == 0\n",
    "\n",
    "# List of numbers\n",
    "numbers = [1, 2, 3, 4, 5, 6]\n",
    "\n",
    "# Keep only the even numbers\n",
    "evens = filter(is_even, numbers)\n",
    "\n",
    "# Print the result\n",
    "print(list(evens))  "
   ]
  },
  {
   "cell_type": "markdown",
   "id": "04a5a6df",
   "metadata": {},
   "source": [
    "As with `map`, we can make this code even more concise by using a `lambda` function as follows:"
   ]
  },
  {
   "cell_type": "code",
   "execution_count": null,
   "id": "0cec5320",
   "metadata": {},
   "outputs": [],
   "source": [
    "# List of numbers\n",
    "numbers = [1, 2, 3, 4, 5, 6]\n",
    "\n",
    "# Keep only the even numbers\n",
    "evens = filter(lambda x: x % 2 == 0, numbers)\n",
    "\n",
    "# Print the result\n",
    "print(list(evens)) "
   ]
  },
  {
   "cell_type": "markdown",
   "id": "fd2b465e",
   "metadata": {},
   "source": [
    "## `reduce`"
   ]
  },
  {
   "cell_type": "markdown",
   "id": "a5214a6a",
   "metadata": {},
   "source": [
    "We have now seen two useful higher-order functions. `map` applied a function to every element of an iterable and returned the transformed results. `filter` applied a function to every element of an iterable and kept only those where the function returned `True`.\n",
    "\n",
    "The third higher-order function we will look at is `reduce`. Instead of working on elements one by one and producing a list, `reduce` applies a function over and over again to the elements of an iterable, each time using the previous result as one of the inputs. In this way, the entire iterable is \"*reduced*\" to a single value."
   ]
  },
  {
   "cell_type": "markdown",
   "id": "71a315c1",
   "metadata": {},
   "source": [
    "Unlike `map` and `filter`, `reduce` is not an in-built Python function. To use `reduce`, we must import it from Python's `functools` module:"
   ]
  },
  {
   "cell_type": "code",
   "execution_count": null,
   "id": "a962139d",
   "metadata": {},
   "outputs": [],
   "source": [
    "from functools import reduce"
   ]
  },
  {
   "cell_type": "markdown",
   "id": "996800a4",
   "metadata": {},
   "source": [
    " > **Note:** This is the first time in this course that we have used an `import` statement. Do not worry too much if you are not sure what this means yet. We will use this syntax a lot later on in the course."
   ]
  },
  {
   "cell_type": "markdown",
   "id": "e99393ca",
   "metadata": {},
   "source": [
    "The general form of the `reduce` function is:\n",
    "\n",
    " > ```reduce(function, iterable)```\n",
    " \n",
    "Here, the function must take two arguments. `reduce` will apply the function it step by step through the iterable. To understand this, let's look at an example."
   ]
  },
  {
   "cell_type": "markdown",
   "id": "d67277a2",
   "metadata": {},
   "source": [
    "Suppose we have a list of words and we want to join them into a single string with spaces in between. Using a `for` loop we might write:"
   ]
  },
  {
   "cell_type": "code",
   "execution_count": null,
   "id": "e4e61304",
   "metadata": {},
   "outputs": [],
   "source": [
    "# List of words\n",
    "words = [\"A\", \"list\", \"of\", \"some\", \"words\"]\n",
    "\n",
    "# Create the sentence\n",
    "sentence = words[0]\n",
    "for w in words[1:]:\n",
    "    sentence = sentence + \" \" + w\n",
    "\n",
    "# Print the result\n",
    "print(sentence)"
   ]
  },
  {
   "cell_type": "markdown",
   "id": "f9fb81ae",
   "metadata": {},
   "source": [
    "With `reduce`, we can write the same loop as follows:"
   ]
  },
  {
   "cell_type": "code",
   "execution_count": null,
   "id": "2585fd35",
   "metadata": {},
   "outputs": [],
   "source": [
    "# List of words\n",
    "words = [\"A\", \"list\", \"of\", \"some\", \"words\"]\n",
    "\n",
    "# Function to concatenate two inputs\n",
    "def my_concatenate(word1, word2):\n",
    "    return word1 + \" \" + word2\n",
    "\n",
    "# Create the sentence\n",
    "sentence = reduce(my_concatenate, words)\n",
    "\n",
    "# Print the result\n",
    "print(sentence)  "
   ]
  },
  {
   "cell_type": "markdown",
   "id": "28d301e3",
   "metadata": {},
   "source": [
    "Behind the scenes, `reduce` is doing the following:\n",
    "\n",
    " - It first takes the first two elements, `words[0]` and `words[1]`, and applies `my_concatenate` to produce a new string (let's call this `result1`).\n",
    " - Next, it takes `result1` together with the third element, `words[2]`, and applies `my_concatenate` again to produce `result2`.\n",
    " - It then repeats this process, each time combining the current result with the next element of the list, until there are no elements left.\n",
    " - The final value produced is returned as the overall output of `reduce`.\n",
    " \n",
    "In other words, it is doing the following:"
   ]
  },
  {
   "cell_type": "code",
   "execution_count": null,
   "id": "284b2879",
   "metadata": {},
   "outputs": [],
   "source": [
    "# Repeatedly applying my_concatenate\n",
    "result1 = my_concatenate(words[0], words[1])\n",
    "result2 = my_concatenate(result1,  words[2])\n",
    "result3 = my_concatenate(result2,  words[3])\n",
    "result4 = my_concatenate(result3,  words[4])\n",
    "\n",
    "print(result4)"
   ]
  },
  {
   "cell_type": "markdown",
   "id": "07a55bd8",
   "metadata": {},
   "source": [
    "As with the previous examples, we can simplify the above code using `lambda` functions. In this case, the code would become:"
   ]
  },
  {
   "cell_type": "code",
   "execution_count": null,
   "id": "128d72cc",
   "metadata": {},
   "outputs": [],
   "source": [
    "# List of words\n",
    "words = [\"A\", \"list\", \"of\", \"some\", \"words\"]\n",
    "\n",
    "# Create the sentence\n",
    "sentence = reduce(lambda x,y: x + \" \" + y, words)\n",
    "\n",
    "# Print the result\n",
    "print(sentence)  "
   ]
  },
  {
   "cell_type": "markdown",
   "id": "2952f5cf",
   "metadata": {},
   "source": [
    "## Exercises"
   ]
  },
  {
   "cell_type": "markdown",
   "id": "a6592bee",
   "metadata": {},
   "source": [
    "**Question 1:** Below you are given a very long list of strings. Using the `filter` function and a `lambda` expression, print all of the strings that contain between three and eight characters (inclusive)."
   ]
  },
  {
   "cell_type": "code",
   "execution_count": null,
   "id": "d4babeeb",
   "metadata": {},
   "outputs": [],
   "source": [
    "# List of words\n",
    "words = ['footballs', 'Bilingual', 'computing', 'presentation', 'interconnect', 'to', 'be', \n",
    "         'investigation', 'ya', 'university', 'keyboard,', 'hi', 'my', 'background', \n",
    "         'be', 'no', 'in', 'up', 'sentenced', 'hi', 'an', 'Wireless!', 'painstaking', \n",
    "         'walrusses', 'apartment', 'to', 'blueberry', 'television?', 'participation', \n",
    "         'Us', 'phonebook', 'On', 'by', 'transformation!', 'it', 'announcement', 'You',\n",
    "         'determination', 'go', 'photography', 'of', 'if', 'independence', 'architecture', \n",
    "         'interpretation', 'us', 'an', 'do', 'by', 'generation', 'butterfly', 'playground', \n",
    "         'at', 'no', 'be', 'i', 'at', 'raincloud', 'found', 'an', 'identification', 'international', \n",
    "         'of', 'application', 'as', 'celebration', 'newspaper', 'on', 'to', 'implementation', \n",
    "         'basketball', 'on', 'documentation', 'yo', 'foundation', 'up', 'do', 'backpacks', 'as', \n",
    "         'ok', 'blackboard', 'it', 'qualification', 'We', 'or', 'us', 'in', 'grandfather', 'do', \n",
    "         'headphones', 'no', 'crosswalk', 'professional', 'the', 'snowflake.', 'consideration', \n",
    "         'Basketball', 'everywhere', 'cumbersome', 'as', 'we', 'it', 'communication', 'telephone', 'my',\n",
    "         'electricity', 'ok', 'secret', 'transportation', 'me', 'go', 'so', 'in', 'me', 'if', \n",
    "         'relationship', 'to', 'ok', 'happiness', 'adventure', 'chemistry', 'storybook',\n",
    "         'message.', 'accountability!', 'am', 'or', 'Well', 'availability', 'or', 'is', \n",
    "         'motorcycle', 'we', 'unbelievable', 'technology', 'At', 'yo', 'i', 'experience', \n",
    "         'Go',  'conversation?', 'no', 'watermelon', 'strawberry', 'done!', 'sunburned', \n",
    "         'we', 'or', 'examination', 'representation,', 'sunflower', 'adjective', \n",
    "         'a', 'in', 'me', 'of', 'so', 'establishment', 'magazines', 'knowledge']\n",
    "\n",
    "# Write your code here..."
   ]
  },
  {
   "cell_type": "markdown",
   "id": "f51b42c9",
   "metadata": {},
   "source": [
    "**Question 2:** Below, you are given a list of dictionaries representing demographic data for several individuals:"
   ]
  },
  {
   "cell_type": "code",
   "execution_count": null,
   "id": "1eb8ca1f",
   "metadata": {},
   "outputs": [],
   "source": [
    "people = [\n",
    "    {\"name\": \"Alice\",   \"age\": 25, \"city\": \"New York\"},\n",
    "    {\"name\": \"Bob\",     \"age\": 30, \"city\": \"Los Angeles\"},\n",
    "    {\"name\": \"Charlie\", \"age\": 35, \"city\": \"Chicago\"},\n",
    "    {\"name\": \"Diana\",   \"age\": 28, \"city\": \"Houston\"},\n",
    "    {\"name\": \"Ethan\",   \"age\": 22, \"city\": \"Phoenix\"},\n",
    "    {\"name\": \"Fatima\",  \"age\": 31, \"city\": \"Philadelphia\"},\n",
    "    {\"name\": \"George\",  \"age\": 27, \"city\": \"San Antonio\"},\n",
    "    {\"name\": \"Hannah\",  \"age\": 29, \"city\": \"San Diego\"},\n",
    "    {\"name\": \"Ivan\",    \"age\": 33, \"city\": \"Dallas\"},\n",
    "    {\"name\": \"Jasmine\", \"age\": 26, \"city\": \"San Jose\"},\n",
    "    {\"name\": \"Liam\",    \"age\": 32, \"city\": \"Jacksonville\"},\n",
    "    {\"name\": \"Maya\",    \"age\": 34, \"city\": \"San Francisco\"},\n",
    "    {\"name\": \"Noah\",    \"age\": 23, \"city\": \"Columbus\"},\n",
    "    {\"name\": \"Olivia\",  \"age\": 36, \"city\": \"Fort Worth\"},\n",
    "]"
   ]
  },
  {
   "cell_type": "markdown",
   "id": "707bcc6a",
   "metadata": {},
   "source": [
    "Using the `map` function and an appropriate choice of `lambda` function, extract the `\"name\"` from each dictionary and return the result as a `list`."
   ]
  },
  {
   "cell_type": "code",
   "execution_count": null,
   "id": "051504a3",
   "metadata": {},
   "outputs": [],
   "source": [
    "# Write your code here..."
   ]
  },
  {
   "cell_type": "markdown",
   "id": "13b45a28",
   "metadata": {},
   "source": [
    "*Bonus: Using material from the recent advanced notebooks, can you think of an alternative way of extracting the same list of names from the `people` variable?*"
   ]
  },
  {
   "cell_type": "markdown",
   "id": "3624303b",
   "metadata": {},
   "source": [
    "**Question 3:** Write a function `my_filter` that takes as input two functions, `f` and `g` and an iterable `my_iterable`. Your function must return a `list` of all values in `my_iterable` for which *exactly one* of the functions `f` or `g` returns `True`."
   ]
  },
  {
   "cell_type": "code",
   "execution_count": null,
   "id": "419cbb02",
   "metadata": {},
   "outputs": [],
   "source": [
    "# Write your code here...\n",
    "\n",
    "# Try testing your my_filter function using the below inputs\n",
    "f = lambda n: n % 2 == 0      # function checking if n is even\n",
    "g = lambda n: n > 0           # function checking if n is positive\n",
    "my_iterable = [-2, -1, 0, 1, 2, 3]\n",
    "\n",
    "print(my_filter(f, g, my_iterable))  # Should print [-2, 0, 1, 3]"
   ]
  },
  {
   "cell_type": "markdown",
   "id": "b4f478ff",
   "metadata": {},
   "source": [
    "**Question 4:** Suppose the variable `function_list` is a list of lambda expressions, each of which takes a float as input and produces a float as output. For example:"
   ]
  },
  {
   "cell_type": "code",
   "execution_count": null,
   "id": "fda98522",
   "metadata": {},
   "outputs": [],
   "source": [
    "function_list = [\n",
    "    lambda x: x + 1,\n",
    "    lambda x: x * 2,\n",
    "    lambda x: x - 3\n",
    "]"
   ]
  },
  {
   "cell_type": "markdown",
   "id": "8b4c7f53",
   "metadata": {},
   "source": [
    "You are given the following line of code. Run this code and explain mathematically how the `result` was generated from the functions in `function_list`"
   ]
  },
  {
   "cell_type": "code",
   "execution_count": null,
   "id": "148c4efb",
   "metadata": {},
   "outputs": [],
   "source": [
    "result = reduce(lambda f, g: lambda x: f(g(x)), function_list)(5)\n",
    "print(result) "
   ]
  },
  {
   "cell_type": "markdown",
   "id": "23387bff",
   "metadata": {},
   "source": [
    "**Question 5:** `lambda` functions can also be combined with the `conditional` statement syntax we met in the [Week 2 advanced notebook](../02/week_02_booleans_and_conditionals_advanced.ipynb). By performing your own research, see if you can understand what the below code is doing.\n"
   ]
  },
  {
   "cell_type": "code",
   "execution_count": null,
   "id": "898670dd",
   "metadata": {},
   "outputs": [],
   "source": [
    "# List of numbers\n",
    "nums = [3, 1, 4, 1, 5, 9, 2]\n",
    "\n",
    "# Mystery output\n",
    "mystery_output = reduce(lambda x, y: x if x > y else y, nums)\n",
    "\n",
    "# Print result\n",
    "print(mystery_output)  "
   ]
  },
  {
   "cell_type": "markdown",
   "id": "4d21a9a6",
   "metadata": {},
   "source": [
    "Once you understand what the code is outputting, try to explain how it works. \n",
    "\n",
    "*Hint: Start by considering the `lambda` function `lambda x, y: x if x > y else y` - what does this return?*"
   ]
  }
 ],
 "metadata": {
  "kernelspec": {
   "display_name": "Python 3 (ipykernel)",
   "language": "python",
   "name": "python3"
  },
  "language_info": {
   "codemirror_mode": {
    "name": "ipython",
    "version": 3
   },
   "file_extension": ".py",
   "mimetype": "text/x-python",
   "name": "python",
   "nbconvert_exporter": "python",
   "pygments_lexer": "ipython3",
   "version": "3.9.13"
  }
 },
 "nbformat": 4,
 "nbformat_minor": 5
}
